{
 "cells": [
  {
   "cell_type": "markdown",
   "metadata": {},
   "source": [
    "# Creat parameter grid for slurm job arrays"
   ]
  },
  {
   "cell_type": "code",
   "execution_count": null,
   "metadata": {},
   "outputs": [],
   "source": [
    "# Scan by scan\n",
    "import pandas as pd\n",
    "i = 1\n",
    "param = []\n",
    "for rt_tol in [0, 0.25, 0.5, 1]:\n",
    "    for mz_tol in [0.05, 0.01, 0.005, 0.001, 0.0005, 0.0001]:\n",
    "        param.append((i, rt_tol, mz_tol))\n",
    "        i+=1\n",
    "param = pd.DataFrame(param, columns = ['ArrayTaskID', 'rt_tol', 'mz_tol'])\n",
    "param.to_csv('/mnt/cmnfs/proj/ORIGINS/protMSD/maxquant/array_scanbyscan.txt', sep = '\\t', index = False)"
   ]
  },
  {
   "cell_type": "code",
   "execution_count": 1,
   "metadata": {},
   "outputs": [],
   "source": [
    "# Scan by Scan\n",
    "import pandas as pd\n",
    "i = 1\n",
    "param = []\n",
    "for rt_tol in [0.25, 1, 2]:\n",
    "    for alpha in [0, 10, 100, 1000, 10000]:\n",
    "        param.append((i, rt_tol, alpha))\n",
    "        i+=1\n",
    "param = pd.DataFrame(param, columns = ['ArrayTaskID', 'rt_tol', 'alpha'])\n",
    "param.to_csv('/mnt/cmnfs/proj/ORIGINS/protMSD/maxquant/array_scanbyscan_rt_alpha.txt', sep = '\\t', index = False)"
   ]
  }
 ],
 "metadata": {
  "kernelspec": {
   "display_name": "base",
   "language": "python",
   "name": "python3"
  },
  "language_info": {
   "codemirror_mode": {
    "name": "ipython",
    "version": 3
   },
   "file_extension": ".py",
   "mimetype": "text/x-python",
   "name": "python",
   "nbconvert_exporter": "python",
   "pygments_lexer": "ipython3",
   "version": "3.10.12"
  },
  "orig_nbformat": 4
 },
 "nbformat": 4,
 "nbformat_minor": 2
}

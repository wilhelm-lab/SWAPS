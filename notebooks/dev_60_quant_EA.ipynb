{
 "cells": [
  {
   "cell_type": "code",
   "execution_count": 1,
   "metadata": {},
   "outputs": [],
   "source": [
    "from importlib import reload\n",
    "from IPython.core.interactiveshell import InteractiveShell\n",
    "%load_ext autoreload\n",
    "InteractiveShell.ast_node_interactivity = \"all\"\n",
    "import logging\n",
    "logging.basicConfig(\n",
    "    level=logging.INFO, format=\"%(asctime)s - %(name)s - %(levelname)s - %(message)s\"\n",
    ")"
   ]
  },
  {
   "cell_type": "code",
   "execution_count": 2,
   "metadata": {},
   "outputs": [
    {
     "name": "stderr",
     "output_type": "stream",
     "text": [
      "2024-07-09 22:19:23,446 - numexpr.utils - INFO - Note: NumExpr detected 32 cores but \"NUMEXPR_MAX_THREADS\" not set, so enforcing safe limit of 8.\n",
      "2024-07-09 22:19:23,447 - numexpr.utils - INFO - NumExpr defaulting to 8 threads.\n"
     ]
    }
   ],
   "source": [
    "import pandas as pd\n",
    "import numpy as np\n",
    "import os\n",
    "import sys\n",
    "\n",
    "module_path = os.path.abspath(os.path.join(\"..\"))\n",
    "if module_path not in sys.path:\n",
    "    sys.path.append(module_path)"
   ]
  },
  {
   "cell_type": "markdown",
   "metadata": {},
   "source": [
    "# Load Data"
   ]
  },
  {
   "cell_type": "code",
   "execution_count": 3,
   "metadata": {},
   "outputs": [
    {
     "name": "stderr",
     "output_type": "stream",
     "text": [
      "/tmp/ipykernel_1850590/1179936481.py:3: DtypeWarning: Columns (60,69) have mixed types. Specify dtype option on import or set low_memory=False.\n",
      "  matching_tenzer = pd.read_csv(\n",
      "/tmp/ipykernel_1850590/1179936481.py:7: DtypeWarning: Columns (60,69) have mixed types. Specify dtype option on import or set low_memory=False.\n",
      "  nomatching_tenzer = pd.read_csv(\n"
     ]
    }
   ],
   "source": [
    "import pandas as pd\n",
    "\n",
    "matching_tenzer = pd.read_csv(\n",
    "    \"/cmnfs/data/proteomics/timstof_hela_fractionation/Tenzer.matching_MaxQuant.txt/txt/evidence.txt\",\n",
    "    delimiter=\"\\t\",\n",
    ")\n",
    "nomatching_tenzer = pd.read_csv(\n",
    "    \"/cmnfs/data/proteomics/timstof_hela_fractionation/Tenzer.nomatching_MaxQuant.txt/txt/evidence.txt\",\n",
    "    delimiter=\"\\t\",\n",
    ")"
   ]
  },
  {
   "cell_type": "code",
   "execution_count": 4,
   "metadata": {},
   "outputs": [
    {
     "data": {
      "text/plain": [
       "HYE124A    156972\n",
       "HYE124B    148636\n",
       "Name: Experiment, dtype: int64"
      ]
     },
     "execution_count": 4,
     "metadata": {},
     "output_type": "execute_result"
    },
    {
     "data": {
      "text/plain": [
       "20180809_120min_200ms_WEHI25_brute20k_timsON_100ng_HYE124A_Slot1-7_1_891    53423\n",
       "20180809_120min_200ms_WEHI25_brute20k_timsON_100ng_HYE124A_Slot1-7_1_890    51913\n",
       "20180809_120min_200ms_WEHI25_brute20k_timsON_100ng_HYE124A_Slot1-7_1_892    51636\n",
       "20180809_120min_200ms_WEHI25_brute20k_timsON_100ng_HYE124B_Slot1-8_1_893    50027\n",
       "20180809_120min_200ms_WEHI25_brute20k_timsON_100ng_HYE124B_Slot1-8_1_894    49807\n",
       "20180809_120min_200ms_WEHI25_brute20k_timsON_100ng_HYE124B_Slot1-8_1_895    48802\n",
       "Name: Raw file, dtype: int64"
      ]
     },
     "execution_count": 4,
     "metadata": {},
     "output_type": "execute_result"
    }
   ],
   "source": [
    "matching_tenzer[\"Experiment\"].value_counts()\n",
    "matching_tenzer[\"Raw file\"].value_counts()"
   ]
  },
  {
   "cell_type": "code",
   "execution_count": 5,
   "metadata": {},
   "outputs": [
    {
     "data": {
      "text/plain": [
       "HYE124A    115699\n",
       "HYE124B    103668\n",
       "Name: Experiment, dtype: int64"
      ]
     },
     "execution_count": 5,
     "metadata": {},
     "output_type": "execute_result"
    },
    {
     "data": {
      "text/plain": [
       "20180809_120min_200ms_WEHI25_brute20k_timsON_100ng_HYE124A_Slot1-7_1_891    39811\n",
       "20180809_120min_200ms_WEHI25_brute20k_timsON_100ng_HYE124A_Slot1-7_1_890    39104\n",
       "20180809_120min_200ms_WEHI25_brute20k_timsON_100ng_HYE124A_Slot1-7_1_892    36784\n",
       "20180809_120min_200ms_WEHI25_brute20k_timsON_100ng_HYE124B_Slot1-8_1_893    34922\n",
       "20180809_120min_200ms_WEHI25_brute20k_timsON_100ng_HYE124B_Slot1-8_1_894    34754\n",
       "20180809_120min_200ms_WEHI25_brute20k_timsON_100ng_HYE124B_Slot1-8_1_895    33992\n",
       "Name: Raw file, dtype: int64"
      ]
     },
     "execution_count": 5,
     "metadata": {},
     "output_type": "execute_result"
    }
   ],
   "source": [
    "nomatching_tenzer[\"Experiment\"].value_counts()\n",
    "nomatching_tenzer[\"Raw file\"].value_counts()"
   ]
  },
  {
   "cell_type": "markdown",
   "metadata": {},
   "source": [
    "# Curate Raw file specific dictionary"
   ]
  },
  {
   "cell_type": "markdown",
   "metadata": {},
   "source": [
    "## Generate a reference dictionary from nomatching"
   ]
  },
  {
   "cell_type": "code",
   "execution_count": 15,
   "metadata": {},
   "outputs": [
    {
     "name": "stderr",
     "output_type": "stream",
     "text": [
      "2024-07-02 16:04:43,244 - utils.tools - INFO - Removing 273 decoys from experiment file, 219094 entries left.\n"
     ]
    }
   ],
   "source": [
    "import re\n",
    "import numpy as np\n",
    "from utils.tools import cleanup_maxquant\n",
    "\n",
    "nomatching_tenzer = cleanup_maxquant(\n",
    "    nomatching_tenzer, remove_decoys=True, how_duplicates=\"keep_all\"\n",
    ")\n",
    "unique_pcm_group = (\n",
    "    nomatching_tenzer.groupby(by=[\"Modified sequence\", \"Charge\"])\n",
    "    .agg(\n",
    "        {\n",
    "            \"Raw file\": \"nunique\",\n",
    "            \"Retention time\": [\"mean\", np.var, \"min\", \"max\"],\n",
    "            \"1/K0\": [\"mean\", np.var, \"min\", \"max\"],\n",
    "        }\n",
    "    )\n",
    "    .reset_index()\n",
    ")"
   ]
  },
  {
   "cell_type": "code",
   "execution_count": 16,
   "metadata": {},
   "outputs": [
    {
     "data": {
      "text/plain": [
       "MultiIndex([('Modified sequence',        ''),\n",
       "            (           'Charge',        ''),\n",
       "            (         'Raw file', 'nunique'),\n",
       "            (   'Retention time',    'mean'),\n",
       "            (   'Retention time',     'var'),\n",
       "            (   'Retention time',     'min'),\n",
       "            (   'Retention time',     'max'),\n",
       "            (             '1/K0',    'mean'),\n",
       "            (             '1/K0',     'var'),\n",
       "            (             '1/K0',     'min'),\n",
       "            (             '1/K0',     'max')],\n",
       "           )"
      ]
     },
     "execution_count": 16,
     "metadata": {},
     "output_type": "execute_result"
    },
    {
     "data": {
      "text/plain": [
       "Index(['Modified sequence', 'Charge', 'Raw file_nunique',\n",
       "       'Retention time_mean', 'Retention time_var', 'Retention time_min',\n",
       "       'Retention time_max', '1/K0_mean', '1/K0_var', '1/K0_min', '1/K0_max'],\n",
       "      dtype='object')"
      ]
     },
     "execution_count": 16,
     "metadata": {},
     "output_type": "execute_result"
    }
   ],
   "source": [
    "unique_pcm_group.columns\n",
    "unique_pcm_group.columns = unique_pcm_group.columns.map(\n",
    "    lambda x: x[0] if x[1] == \"\" else x[0] + \"_\" + x[1]\n",
    ")\n",
    "unique_pcm_group.columns"
   ]
  },
  {
   "cell_type": "code",
   "execution_count": 17,
   "metadata": {},
   "outputs": [
    {
     "data": {
      "text/plain": [
       "<Axes: >"
      ]
     },
     "execution_count": 17,
     "metadata": {},
     "output_type": "execute_result"
    },
    {
     "data": {
      "image/png": "[encoded data removed]",
      "text/plain": [
       "<Figure size 640x480 with 1 Axes>"
      ]
     },
     "metadata": {},
     "output_type": "display_data"
    }
   ],
   "source": [
    "unique_pcm_group[\"Raw file_nunique\"].hist(bins=6)"
   ]
  },
  {
   "cell_type": "code",
   "execution_count": 18,
   "metadata": {},
   "outputs": [
    {
     "data": {
      "text/plain": [
       "count    45224.000000\n",
       "mean         0.439931\n",
       "std         12.258674\n",
       "min          0.000000\n",
       "25%          0.006309\n",
       "50%          0.011033\n",
       "75%          0.019591\n",
       "max       1333.396440\n",
       "Name: Retention time_var, dtype: float64"
      ]
     },
     "execution_count": 18,
     "metadata": {},
     "output_type": "execute_result"
    }
   ],
   "source": [
    "unique_pcm_group[\"Retention time_var\"].describe()"
   ]
  },
  {
   "cell_type": "code",
   "execution_count": 19,
   "metadata": {},
   "outputs": [
    {
     "data": {
      "text/plain": [
       "count    45281.000000\n",
       "mean         0.000077\n",
       "std          0.000443\n",
       "min          0.000000\n",
       "25%          0.000002\n",
       "50%          0.000003\n",
       "75%          0.000005\n",
       "max          0.015218\n",
       "Name: 1/K0_var, dtype: float64"
      ]
     },
     "execution_count": 19,
     "metadata": {},
     "output_type": "execute_result"
    }
   ],
   "source": [
    "unique_pcm_group[\"1/K0_var\"].describe()"
   ]
  },
  {
   "cell_type": "markdown",
   "metadata": {},
   "source": [
    "## Merge to create raw file specific result"
   ]
  },
  {
   "cell_type": "code",
   "execution_count": 25,
   "metadata": {},
   "outputs": [],
   "source": [
    "# Filter entries from nomatching_tenzer for each Raw file\n",
    "raw_files = nomatching_tenzer[\"Raw file\"].unique()\n",
    "maxquant_result_path = \"/cmnfs/data/proteomics/timstof_hela_fractionation/\""
   ]
  },
  {
   "cell_type": "code",
   "execution_count": 26,
   "metadata": {},
   "outputs": [
    {
     "name": "stderr",
     "output_type": "stream",
     "text": [
      "2024-07-02 16:13:15,498 - utils.tools - INFO - Removing 0 decoys from experiment file, 39064 entries left.\n"
     ]
    },
    {
     "name": "stderr",
     "output_type": "stream",
     "text": [
      "2024-07-02 16:13:15,579 - utils.tools - INFO - Removing 1593 duplicate entries from experiment file, 37471 entries left.\n",
      "2024-07-02 16:13:17,127 - utils.tools - INFO - Removing 0 decoys from experiment file, 39763 entries left.\n",
      "2024-07-02 16:13:17,211 - utils.tools - INFO - Removing 1572 duplicate entries from experiment file, 38191 entries left.\n",
      "2024-07-02 16:13:18,763 - utils.tools - INFO - Removing 0 decoys from experiment file, 36734 entries left.\n",
      "2024-07-02 16:13:18,880 - utils.tools - INFO - Removing 1392 duplicate entries from experiment file, 35342 entries left.\n",
      "2024-07-02 16:13:20,328 - utils.tools - INFO - Removing 0 decoys from experiment file, 34871 entries left.\n",
      "2024-07-02 16:13:20,407 - utils.tools - INFO - Removing 1305 duplicate entries from experiment file, 33566 entries left.\n",
      "2024-07-02 16:13:21,788 - utils.tools - INFO - Removing 0 decoys from experiment file, 34709 entries left.\n",
      "2024-07-02 16:13:21,866 - utils.tools - INFO - Removing 1286 duplicate entries from experiment file, 33423 entries left.\n",
      "2024-07-02 16:13:23,238 - utils.tools - INFO - Removing 0 decoys from experiment file, 33953 entries left.\n",
      "2024-07-02 16:13:23,314 - utils.tools - INFO - Removing 1212 duplicate entries from experiment file, 32741 entries left.\n"
     ]
    }
   ],
   "source": [
    "for raw_file in raw_files:\n",
    "    df_raw_file = nomatching_tenzer[nomatching_tenzer[\"Raw file\"] == raw_file]\n",
    "    df_raw_file = cleanup_maxquant(df_raw_file)\n",
    "    df_raw_file.to_csv(\n",
    "        os.path.join(maxquant_result_path, f\"no_mbr_{raw_file}.txt\"),\n",
    "        index=False,\n",
    "        sep=\"\\t\",\n",
    "    )"
   ]
  },
  {
   "cell_type": "code",
   "execution_count": 23,
   "metadata": {},
   "outputs": [],
   "source": [
    "merged_df = pd.merge(\n",
    "    df_raw_file,\n",
    "    unique_pcm_group[\n",
    "        [\n",
    "            \"Modified sequence\",\n",
    "            \"Charge\",\n",
    "            \"Retention time_mean\",\n",
    "            \"Retention time_var\",\n",
    "            \"Retention time_min\",\n",
    "            \"Retention time_max\",\n",
    "            \"1/K0_mean\",\n",
    "            \"1/K0_var\",\n",
    "            \"1/K0_min\",\n",
    "            \"1/K0_max\",\n",
    "        ]\n",
    "    ],\n",
    "    how=\"outer\",\n",
    "    right_on=(\"Modified sequence\", \"Charge\"),\n",
    "    left_on=(\"Modified sequence\", \"Charge\"),\n",
    "    indicator=True,\n",
    "    # suffixes=(\"\", \"_y\"),\n",
    ")"
   ]
  },
  {
   "cell_type": "code",
   "execution_count": 5,
   "metadata": {},
   "outputs": [],
   "source": [
    "import pandas as pd\n",
    "\n",
    "lib = pd.read_csv(\n",
    "    \"/cmnfs/data/dia_PASEF_HeLa_dilution_series/DIA_NN_analysis/pro2-lib.tsv\",\n",
    "    sep=\"\\t\",\n",
    ")"
   ]
  },
  {
   "cell_type": "code",
   "execution_count": 8,
   "metadata": {},
   "outputs": [
    {
     "data": {
      "text/plain": [
       "Index(['FileName', 'PrecursorMz', 'ProductMz', 'Tr_recalibrated',\n",
       "       'IonMobility', 'transition_name', 'LibraryIntensity',\n",
       "       'transition_group_id', 'decoy', 'PeptideSequence', 'Proteotypic',\n",
       "       'QValue', 'PGQValue', 'Ms1ProfileCorr', 'ProteinGroup', 'ProteinName',\n",
       "       'Genes', 'FullUniModPeptideName', 'ModifiedPeptide', 'PrecursorCharge',\n",
       "       'PeptideGroupLabel', 'UniprotID', 'NTerm', 'CTerm', 'FragmentType',\n",
       "       'FragmentCharge', 'FragmentSeriesNumber', 'FragmentLossType',\n",
       "       'ExcludeFromAssay'],\n",
       "      dtype='object')"
      ]
     },
     "execution_count": 8,
     "metadata": {},
     "output_type": "execute_result"
    }
   ],
   "source": [
    "lib.columns"
   ]
  },
  {
   "cell_type": "code",
   "execution_count": 11,
   "metadata": {},
   "outputs": [
    {
     "data": {
      "text/plain": [
       "PeptideGroupLabel    156378\n",
       "PrecursorCharge           2\n",
       "dtype: int64"
      ]
     },
     "execution_count": 11,
     "metadata": {},
     "output_type": "execute_result"
    }
   ],
   "source": [
    "lib[[\"PeptideGroupLabel\", \"PrecursorCharge\"]].nunique()"
   ]
  }
 ],
 "metadata": {
  "kernelspec": {
   "display_name": "sbs",
   "language": "python",
   "name": "python3"
  },
  "language_info": {
   "codemirror_mode": {
    "name": "ipython",
    "version": 3
   },
   "file_extension": ".py",
   "mimetype": "text/x-python",
   "name": "python",
   "nbconvert_exporter": "python",
   "pygments_lexer": "ipython3",
   "version": "3.10.12"
  }
 },
 "nbformat": 4,
 "nbformat_minor": 2
}

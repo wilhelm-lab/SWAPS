{
 "cells": [
  {
   "cell_type": "code",
   "execution_count": 6,
   "metadata": {},
   "outputs": [],
   "source": [
    "# Notebook settings\n",
    "import logging\n",
    "from importlib import reload\n",
    "from IPython.core.interactiveshell import InteractiveShell\n",
    "\n",
    "InteractiveShell.ast_node_interactivity = \"all\"\n",
    "\n",
    "\n",
    "logging.basicConfig(\n",
    "    level=logging.DEBUG, format=\"%(asctime)s - %(name)s - %(levelname)s - %(message)s\"\n",
    ")"
   ]
  },
  {
   "cell_type": "code",
   "execution_count": 7,
   "metadata": {},
   "outputs": [],
   "source": [
    "# Default\n",
    "import pandas as pd\n",
    "import os\n",
    "import sys\n",
    "\n",
    "module_path = os.path.abspath(\n",
    "    \"/mnt/cmnfs/proj/ORIGINS/protMSD/maxquant/ScanByScan/\")\n",
    "if module_path not in sys.path:\n",
    "    sys.path.append(module_path)"
   ]
  },
  {
   "cell_type": "code",
   "execution_count": 8,
   "metadata": {},
   "outputs": [
    {
     "name": "stdout",
     "output_type": "stream",
     "text": [
      "/cmnfs/proj/ORIGINS/data/ecoli/ss/DDA/MQ/combined/txt/evidence_1_1_FilteredByClosestRT_transfer_RT_pred_filtered_withIso_expRTrange.pkl\n"
     ]
    }
   ],
   "source": [
    "# path to MaxQuant results (evidence.txt) of the same RAW file, used for constructing reference dictionary\n",
    "maxquant_file_dict = (\n",
    "    \"/cmnfs/proj/ORIGINS/data/ecoli/ss/DDA/MQ/combined/txt/\"\n",
    "    \"evidence_1_1_FilteredByClosestRT_transfer_RT_pred_filtered_withIso.pkl\"\n",
    ")\n",
    "maxquant_file_exp = (\n",
    "    \"/cmnfs/proj/ORIGINS/data/ecoli/ss/DDA/MQ/combined/txt/evidence_1.txt\"\n",
    ")\n",
    "maxquant_file_dict_expRT = maxquant_file_dict[:-4] + \"_expRTrange.pkl\"\n",
    "print(maxquant_file_dict_expRT)"
   ]
  },
  {
   "cell_type": "code",
   "execution_count": 9,
   "metadata": {},
   "outputs": [],
   "source": [
    "# Load maxquant result (reference)\n",
    "Maxquant_result_dict = pd.read_pickle(filepath_or_buffer=maxquant_file_dict)\n",
    "Maxquant_result_exp = pd.read_csv(\n",
    "    filepath_or_buffer=maxquant_file_exp, sep=\"\\t\")"
   ]
  },
  {
   "cell_type": "code",
   "execution_count": 10,
   "metadata": {},
   "outputs": [],
   "source": [
    "# prepare maxquant exp result\n",
    "Maxquant_result_exp_for_merge = Maxquant_result_exp[\n",
    "    [\n",
    "        \"Modified sequence\",\n",
    "        \"Charge\",\n",
    "        \"Retention time\",\n",
    "        \"Calibrated retention time start\",\n",
    "        \"Calibrated retention time finish\",\n",
    "    ]\n",
    "]\n",
    "Maxquant_result_exp_for_merge = (\n",
    "    Maxquant_result_exp_for_merge.groupby([\"Modified sequence\", \"Charge\"])\n",
    "    .agg(\n",
    "        {\n",
    "            \"Retention time\": \"median\",\n",
    "            \"Calibrated retention time start\": \"median\",\n",
    "            \"Calibrated retention time finish\": \"median\",\n",
    "        }\n",
    "    )\n",
    "    .reset_index()\n",
    ")"
   ]
  },
  {
   "cell_type": "code",
   "execution_count": 11,
   "metadata": {},
   "outputs": [
    {
     "data": {
      "text/plain": [
       "True"
      ]
     },
     "execution_count": 11,
     "metadata": {},
     "output_type": "execute_result"
    }
   ],
   "source": [
    "import numpy as np\n",
    "\n",
    "a = np.array([None, None, None])\n",
    "a[0] is None"
   ]
  },
  {
   "cell_type": "code",
   "execution_count": 12,
   "metadata": {},
   "outputs": [],
   "source": [
    "Maxquant_result_dict_exp_RT = pd.merge(\n",
    "    left=Maxquant_result_dict,\n",
    "    right=Maxquant_result_exp_for_merge,\n",
    "    on=[\"Modified sequence\", \"Charge\"],\n",
    "    suffixes=[None, \"_exp\"],\n",
    "    how=\"left\",\n",
    ")\n",
    "# Merge retention time result: if exp RT is not available, use predicted RT,\n",
    "# start time and end time from Maxquant exp and if not available from reference run\n",
    "Maxquant_result_dict_exp_RT[\"Retention time new\"] = Maxquant_result_dict_exp_RT[\n",
    "    \"Retention time_exp\"\n",
    "].fillna(Maxquant_result_dict_exp_RT[\"predicted_RT\"])\n",
    "Maxquant_result_dict_exp_RT[\"Retention time start\"] = Maxquant_result_dict_exp_RT[\n",
    "    \"Calibrated retention time start_exp\"\n",
    "].fillna(Maxquant_result_dict_exp_RT[\"Calibrated retention time start\"])\n",
    "Maxquant_result_dict_exp_RT[\"Retention time end\"] = Maxquant_result_dict_exp_RT[\n",
    "    \"Calibrated retention time finish_exp\"\n",
    "].fillna(Maxquant_result_dict_exp_RT[\"Calibrated retention time finish\"])\n",
    "Maxquant_result_dict_exp_RT.to_pickle(maxquant_file_dict_expRT)"
   ]
  }
 ],
 "metadata": {
  "kernelspec": {
   "display_name": "py310",
   "language": "python",
   "name": "python3"
  },
  "language_info": {
   "codemirror_mode": {
    "name": "ipython",
    "version": 3
   },
   "file_extension": ".py",
   "mimetype": "text/x-python",
   "name": "python",
   "nbconvert_exporter": "python",
   "pygments_lexer": "ipython3",
   "version": "3.10.12"
  }
 },
 "nbformat": 4,
 "nbformat_minor": 2
}

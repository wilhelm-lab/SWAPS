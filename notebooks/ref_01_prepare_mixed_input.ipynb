{
 "cells": [
  {
   "cell_type": "code",
   "execution_count": 8,
   "metadata": {},
   "outputs": [],
   "source": [
    "# Notebook settings\n",
    "from importlib import reload\n",
    "from IPython.core.interactiveshell import InteractiveShell\n",
    "InteractiveShell.ast_node_interactivity = \"all\"\n",
    "\n",
    "import logging\n",
    "logging.basicConfig(level=logging.DEBUG, format='%(asctime)s - %(name)s - %(levelname)s - %(message)s')"
   ]
  },
  {
   "cell_type": "code",
   "execution_count": 9,
   "metadata": {},
   "outputs": [],
   "source": [
    "# Default\n",
    "import os\n",
    "import sys\n",
    "module_path = os.path.abspath('/mnt/cmnfs/proj/ORIGINS/protMSD/maxquant/ScanByScan/')\n",
    "if module_path not in sys.path:\n",
    "    sys.path.append(module_path)\n",
    "import pandas as pd"
   ]
  },
  {
   "cell_type": "code",
   "execution_count": 10,
   "metadata": {},
   "outputs": [
    {
     "name": "stdout",
     "output_type": "stream",
     "text": [
      "/mnt/cmnfs/proj/ORIGINS/data/ecoli/HpHRP/MQ/100FDR_PSM_protein/combined/txt/evidence_1_FilteredByClosestRT_transfer_RT_pred_filtered_withIso_expRT.pkl\n"
     ]
    }
   ],
   "source": [
    "# path to MaxQuant results (evidence.txt) of the same RAW file, used for constructing reference dictionary\n",
    "maxquant_file_dict = '/mnt/cmnfs/proj/ORIGINS/data/ecoli/HpHRP/MQ/100FDR_PSM_protein/'\\\n",
    "    'combined/txt/evidence_1_FilteredByClosestRT_transfer_RT_pred_filtered_withIso.pkl' \n",
    "maxquant_file_exp = '/mnt/cmnfs/proj/ORIGINS/data/ecoli/ss/DDA/MQ/combined/txt/evidence_1.txt'\n",
    "maxquant_file_dict_expRT = maxquant_file_dict[:-4]+\"_expRT.pkl\"\n",
    "print(maxquant_file_dict_expRT)"
   ]
  },
  {
   "cell_type": "code",
   "execution_count": 11,
   "metadata": {},
   "outputs": [],
   "source": [
    "# Load maxquant result (reference)\n",
    "Maxquant_result_dict = pd.read_pickle(filepath_or_buffer=maxquant_file_dict)\n",
    "Maxquant_result_exp = pd.read_csv(filepath_or_buffer=maxquant_file_exp, sep='\\t')"
   ]
  },
  {
   "cell_type": "code",
   "execution_count": 12,
   "metadata": {},
   "outputs": [],
   "source": [
    "# prepare maxquant exp result\n",
    "Maxquant_result_exp_for_merge = Maxquant_result_exp[['Modified sequence', 'Charge', 'Retention time']]\n",
    "Maxquant_result_exp_for_merge = Maxquant_result_exp_for_merge.groupby(['Modified sequence', 'Charge']).\\\n",
    "    agg({'Retention time':'median'}).reset_index()"
   ]
  },
  {
   "cell_type": "code",
   "execution_count": 13,
   "metadata": {},
   "outputs": [],
   "source": [
    "Maxquant_result_dict_exp_RT = pd.merge(left=Maxquant_result_dict,\n",
    "                                       right=Maxquant_result_exp_for_merge,\n",
    "                                       on = ['Modified sequence', 'Charge'],\n",
    "                                       suffixes=[None, '_exp'],\n",
    "                                       how='left')\n",
    "Maxquant_result_dict_exp_RT['Retention time'] = Maxquant_result_dict_exp_RT['Retention time_exp']\n",
    "Maxquant_result_dict_exp_RT['Retention time new'] = Maxquant_result_dict_exp_RT['Retention time_exp'].\\\n",
    "    fillna(Maxquant_result_dict_exp_RT['predicted_RT'])\n",
    "Maxquant_result_dict_exp_RT.to_pickle(maxquant_file_dict_expRT)\n"
   ]
  }
 ],
 "metadata": {
  "kernelspec": {
   "display_name": "py310",
   "language": "python",
   "name": "python3"
  },
  "language_info": {
   "codemirror_mode": {
    "name": "ipython",
    "version": 3
   },
   "file_extension": ".py",
   "mimetype": "text/x-python",
   "name": "python",
   "nbconvert_exporter": "python",
   "pygments_lexer": "ipython3",
   "version": "3.10.12"
  }
 },
 "nbformat": 4,
 "nbformat_minor": 2
}

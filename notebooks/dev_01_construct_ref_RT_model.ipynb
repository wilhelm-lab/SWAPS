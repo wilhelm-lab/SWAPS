{
 "cells": [
  {
   "cell_type": "code",
   "execution_count": 20,
   "metadata": {},
   "outputs": [
    {
     "name": "stdout",
     "output_type": "stream",
     "text": [
      "The autoreload extension is already loaded. To reload it, use:\n",
      "  %reload_ext autoreload\n"
     ]
    }
   ],
   "source": [
    "import logging\n",
    "from IPython.core.interactiveshell import InteractiveShell\n",
    "%load_ext autoreload\n",
    "InteractiveShell.ast_node_interactivity = \"all\"\n",
    "\n",
    "logging.basicConfig(\n",
    "    level=logging.DEBUG, format=\"%(asctime)s - %(name)s - %(levelname)s - %(message)s\"\n",
    ")"
   ]
  },
  {
   "cell_type": "code",
   "execution_count": 21,
   "metadata": {},
   "outputs": [],
   "source": [
    "import sys\n",
    "import os\n",
    "\n",
    "module_path = os.path.abspath(os.path.join(\"..\"))\n",
    "if module_path not in sys.path:\n",
    "    sys.path.append(module_path)"
   ]
  },
  {
   "cell_type": "markdown",
   "metadata": {},
   "source": [
    "# Explore AlphaPeptDeep"
   ]
  },
  {
   "cell_type": "markdown",
   "metadata": {},
   "source": [
    "## Load models and data"
   ]
  },
  {
   "cell_type": "code",
   "execution_count": 13,
   "metadata": {},
   "outputs": [
    {
     "data": {
      "text/plain": [
       "708224"
      ]
     },
     "execution_count": 13,
     "metadata": {},
     "output_type": "execute_result"
    },
    {
     "data": {
      "text/plain": [
       "713452"
      ]
     },
     "execution_count": 13,
     "metadata": {},
     "output_type": "execute_result"
    }
   ],
   "source": [
    "from peptdeep.pretrained_models import ModelManager\n",
    "import torch\n",
    "\n",
    "device = str(torch.device(\"cuda:0\" if torch.cuda.is_available() else \"cpu\"))\n",
    "models = ModelManager()\n",
    "models.load_installed_models()\n",
    "\n",
    "rt_model = models.rt_model\n",
    "rt_model.get_parameter_num()\n",
    "\n",
    "ccs_model = models.ccs_model\n",
    "ccs_model.get_parameter_num()"
   ]
  },
  {
   "cell_type": "code",
   "execution_count": 6,
   "metadata": {},
   "outputs": [
    {
     "data": {
      "text/html": [
       "<div>\n",
       "<style scoped>\n",
       "    .dataframe tbody tr th:only-of-type {\n",
       "        vertical-align: middle;\n",
       "    }\n",
       "\n",
       "    .dataframe tbody tr th {\n",
       "        vertical-align: top;\n",
       "    }\n",
       "\n",
       "    .dataframe thead th {\n",
       "        text-align: right;\n",
       "    }\n",
       "</style>\n",
       "<table border=\"1\" class=\"dataframe\">\n",
       "  <thead>\n",
       "    <tr style=\"text-align: right;\">\n",
       "      <th></th>\n",
       "      <th>sequence</th>\n",
       "      <th>charge</th>\n",
       "      <th>rt</th>\n",
       "      <th>ccs</th>\n",
       "      <th>mobility</th>\n",
       "      <th>scan_num</th>\n",
       "      <th>raw_name</th>\n",
       "      <th>precursor_mz</th>\n",
       "      <th>score</th>\n",
       "      <th>proteins</th>\n",
       "      <th>genes</th>\n",
       "      <th>decoy</th>\n",
       "      <th>intensity</th>\n",
       "      <th>spec_idx</th>\n",
       "      <th>mods</th>\n",
       "      <th>mod_sites</th>\n",
       "      <th>nAA</th>\n",
       "      <th>rt_norm</th>\n",
       "    </tr>\n",
       "  </thead>\n",
       "  <tbody>\n",
       "    <tr>\n",
       "      <th>0</th>\n",
       "      <td>RLDFDYK</td>\n",
       "      <td>2</td>\n",
       "      <td>7.0780</td>\n",
       "      <td>349.06583</td>\n",
       "      <td>0.859103</td>\n",
       "      <td>2685</td>\n",
       "      <td>Hela2ug_lowflow_30min_1to37to42_NCE29to59_100m...</td>\n",
       "      <td>478.745442</td>\n",
       "      <td>83.265</td>\n",
       "      <td>Q99961;Q99962</td>\n",
       "      <td>SH3GL1;SH3GL2</td>\n",
       "      <td>0</td>\n",
       "      <td>85631.0</td>\n",
       "      <td>2684</td>\n",
       "      <td></td>\n",
       "      <td></td>\n",
       "      <td>7</td>\n",
       "      <td>0.251260</td>\n",
       "    </tr>\n",
       "    <tr>\n",
       "      <th>1</th>\n",
       "      <td>YHFLEER</td>\n",
       "      <td>2</td>\n",
       "      <td>6.4243</td>\n",
       "      <td>352.57886</td>\n",
       "      <td>0.868208</td>\n",
       "      <td>3170</td>\n",
       "      <td>Hela2ug_lowflow_30min_1to37to42_NCE29to59_100m...</td>\n",
       "      <td>497.243067</td>\n",
       "      <td>93.262</td>\n",
       "      <td>Q96I59</td>\n",
       "      <td>NARS2</td>\n",
       "      <td>0</td>\n",
       "      <td>29130.0</td>\n",
       "      <td>3169</td>\n",
       "      <td></td>\n",
       "      <td></td>\n",
       "      <td>7</td>\n",
       "      <td>0.228055</td>\n",
       "    </tr>\n",
       "    <tr>\n",
       "      <th>2</th>\n",
       "      <td>ECFYIPK</td>\n",
       "      <td>2</td>\n",
       "      <td>10.3380</td>\n",
       "      <td>361.38986</td>\n",
       "      <td>0.889433</td>\n",
       "      <td>2683</td>\n",
       "      <td>Hela2ug_lowflow_30min_1to37to42_NCE29to59_100m...</td>\n",
       "      <td>478.730946</td>\n",
       "      <td>84.359</td>\n",
       "      <td>Q16719</td>\n",
       "      <td>KYNU</td>\n",
       "      <td>0</td>\n",
       "      <td>317050.0</td>\n",
       "      <td>2682</td>\n",
       "      <td>Carbamidomethyl@C</td>\n",
       "      <td>2</td>\n",
       "      <td>7</td>\n",
       "      <td>0.366986</td>\n",
       "    </tr>\n",
       "    <tr>\n",
       "      <th>3</th>\n",
       "      <td>HFEEAFK</td>\n",
       "      <td>2</td>\n",
       "      <td>5.0897</td>\n",
       "      <td>349.33362</td>\n",
       "      <td>0.859103</td>\n",
       "      <td>2335</td>\n",
       "      <td>Hela2ug_lowflow_30min_1to37to42_NCE29to59_100m...</td>\n",
       "      <td>454.219060</td>\n",
       "      <td>89.369</td>\n",
       "      <td>O15381</td>\n",
       "      <td>NVL</td>\n",
       "      <td>0</td>\n",
       "      <td>19214.0</td>\n",
       "      <td>2334</td>\n",
       "      <td></td>\n",
       "      <td></td>\n",
       "      <td>7</td>\n",
       "      <td>0.180678</td>\n",
       "    </tr>\n",
       "    <tr>\n",
       "      <th>4</th>\n",
       "      <td>RLIELYK</td>\n",
       "      <td>2</td>\n",
       "      <td>7.5152</td>\n",
       "      <td>354.11597</td>\n",
       "      <td>0.871242</td>\n",
       "      <td>2517</td>\n",
       "      <td>Hela2ug_lowflow_30min_1to37to42_NCE29to59_100m...</td>\n",
       "      <td>467.789653</td>\n",
       "      <td>87.323</td>\n",
       "      <td>P37837</td>\n",
       "      <td>TALDO1</td>\n",
       "      <td>0</td>\n",
       "      <td>67838.0</td>\n",
       "      <td>2516</td>\n",
       "      <td></td>\n",
       "      <td></td>\n",
       "      <td>7</td>\n",
       "      <td>0.266780</td>\n",
       "    </tr>\n",
       "    <tr>\n",
       "      <th>...</th>\n",
       "      <td>...</td>\n",
       "      <td>...</td>\n",
       "      <td>...</td>\n",
       "      <td>...</td>\n",
       "      <td>...</td>\n",
       "      <td>...</td>\n",
       "      <td>...</td>\n",
       "      <td>...</td>\n",
       "      <td>...</td>\n",
       "      <td>...</td>\n",
       "      <td>...</td>\n",
       "      <td>...</td>\n",
       "      <td>...</td>\n",
       "      <td>...</td>\n",
       "      <td>...</td>\n",
       "      <td>...</td>\n",
       "      <td>...</td>\n",
       "      <td>...</td>\n",
       "    </tr>\n",
       "    <tr>\n",
       "      <th>37947</th>\n",
       "      <td>TALLDAAGVASLLTTAEVVVTEIPKEEKDPGMGAMGGMGGGMGGGMF</td>\n",
       "      <td>3</td>\n",
       "      <td>28.0820</td>\n",
       "      <td>774.07710</td>\n",
       "      <td>1.284555</td>\n",
       "      <td>73724</td>\n",
       "      <td>Hela2ug_lowflow_30min_1to37to42_NCE29to59_100m...</td>\n",
       "      <td>1508.732810</td>\n",
       "      <td>135.590</td>\n",
       "      <td>P10809</td>\n",
       "      <td>HSPD1</td>\n",
       "      <td>0</td>\n",
       "      <td>108950.0</td>\n",
       "      <td>73723</td>\n",
       "      <td></td>\n",
       "      <td></td>\n",
       "      <td>47</td>\n",
       "      <td>0.996876</td>\n",
       "    </tr>\n",
       "    <tr>\n",
       "      <th>37948</th>\n",
       "      <td>AASAAGAAGSAGGSSGAAGAAGGGAGAGTRPGDGGTASAGAAGPGAATK</td>\n",
       "      <td>4</td>\n",
       "      <td>6.3659</td>\n",
       "      <td>955.33980</td>\n",
       "      <td>1.188167</td>\n",
       "      <td>71103</td>\n",
       "      <td>Hela2ug_lowflow_30min_1to37to42_NCE29to59_100m...</td>\n",
       "      <td>918.185360</td>\n",
       "      <td>34.127</td>\n",
       "      <td>Q9UKY7</td>\n",
       "      <td>CDV3</td>\n",
       "      <td>0</td>\n",
       "      <td>24554.0</td>\n",
       "      <td>71102</td>\n",
       "      <td></td>\n",
       "      <td></td>\n",
       "      <td>49</td>\n",
       "      <td>0.225982</td>\n",
       "    </tr>\n",
       "    <tr>\n",
       "      <th>37949</th>\n",
       "      <td>AASAAGAAGSAGGSSGAAGAAGGGAGAGTRPGDGGTASAGAAGPGAATK</td>\n",
       "      <td>3</td>\n",
       "      <td>6.3659</td>\n",
       "      <td>670.65424</td>\n",
       "      <td>1.112133</td>\n",
       "      <td>71104</td>\n",
       "      <td>Hela2ug_lowflow_30min_1to37to42_NCE29to59_100m...</td>\n",
       "      <td>1223.911390</td>\n",
       "      <td>273.280</td>\n",
       "      <td>Q9UKY7</td>\n",
       "      <td>CDV3</td>\n",
       "      <td>0</td>\n",
       "      <td>1177200.0</td>\n",
       "      <td>71103</td>\n",
       "      <td></td>\n",
       "      <td></td>\n",
       "      <td>49</td>\n",
       "      <td>0.225982</td>\n",
       "    </tr>\n",
       "    <tr>\n",
       "      <th>37950</th>\n",
       "      <td>LAGDGVGAVNISVMNSTGGSSSGGGIGLTLGGTMGSNALSFSSSAG...</td>\n",
       "      <td>3</td>\n",
       "      <td>22.8740</td>\n",
       "      <td>773.16320</td>\n",
       "      <td>1.283077</td>\n",
       "      <td>73795</td>\n",
       "      <td>Hela2ug_lowflow_30min_1to37to42_NCE29to59_100m...</td>\n",
       "      <td>1523.425080</td>\n",
       "      <td>58.811</td>\n",
       "      <td>CON__P08729;P08729;CON__Q3KNV1</td>\n",
       "      <td>KRT7</td>\n",
       "      <td>0</td>\n",
       "      <td>105280.0</td>\n",
       "      <td>73794</td>\n",
       "      <td></td>\n",
       "      <td></td>\n",
       "      <td>51</td>\n",
       "      <td>0.811999</td>\n",
       "    </tr>\n",
       "    <tr>\n",
       "      <th>37951</th>\n",
       "      <td>SPVGSGAPQAAAPAPAAHVAGNPGGDAAPAATGTAAAASLATAAGS...</td>\n",
       "      <td>4</td>\n",
       "      <td>12.3640</td>\n",
       "      <td>1029.73800</td>\n",
       "      <td>1.281598</td>\n",
       "      <td>73697</td>\n",
       "      <td>Hela2ug_lowflow_30min_1to37to42_NCE29to59_100m...</td>\n",
       "      <td>1127.557560</td>\n",
       "      <td>146.510</td>\n",
       "      <td>P16989</td>\n",
       "      <td>YBX3</td>\n",
       "      <td>0</td>\n",
       "      <td>502530.0</td>\n",
       "      <td>73696</td>\n",
       "      <td></td>\n",
       "      <td></td>\n",
       "      <td>52</td>\n",
       "      <td>0.438907</td>\n",
       "    </tr>\n",
       "  </tbody>\n",
       "</table>\n",
       "<p>37952 rows × 18 columns</p>\n",
       "</div>"
      ],
      "text/plain": [
       "                                                sequence  charge       rt  \\\n",
       "0                                                RLDFDYK       2   7.0780   \n",
       "1                                                YHFLEER       2   6.4243   \n",
       "2                                                ECFYIPK       2  10.3380   \n",
       "3                                                HFEEAFK       2   5.0897   \n",
       "4                                                RLIELYK       2   7.5152   \n",
       "...                                                  ...     ...      ...   \n",
       "37947    TALLDAAGVASLLTTAEVVVTEIPKEEKDPGMGAMGGMGGGMGGGMF       3  28.0820   \n",
       "37948  AASAAGAAGSAGGSSGAAGAAGGGAGAGTRPGDGGTASAGAAGPGAATK       4   6.3659   \n",
       "37949  AASAAGAAGSAGGSSGAAGAAGGGAGAGTRPGDGGTASAGAAGPGAATK       3   6.3659   \n",
       "37950  LAGDGVGAVNISVMNSTGGSSSGGGIGLTLGGTMGSNALSFSSSAG...       3  22.8740   \n",
       "37951  SPVGSGAPQAAAPAPAAHVAGNPGGDAAPAATGTAAAASLATAAGS...       4  12.3640   \n",
       "\n",
       "              ccs  mobility  scan_num  \\\n",
       "0       349.06583  0.859103      2685   \n",
       "1       352.57886  0.868208      3170   \n",
       "2       361.38986  0.889433      2683   \n",
       "3       349.33362  0.859103      2335   \n",
       "4       354.11597  0.871242      2517   \n",
       "...           ...       ...       ...   \n",
       "37947   774.07710  1.284555     73724   \n",
       "37948   955.33980  1.188167     71103   \n",
       "37949   670.65424  1.112133     71104   \n",
       "37950   773.16320  1.283077     73795   \n",
       "37951  1029.73800  1.281598     73697   \n",
       "\n",
       "                                                raw_name  precursor_mz  \\\n",
       "0      Hela2ug_lowflow_30min_1to37to42_NCE29to59_100m...    478.745442   \n",
       "1      Hela2ug_lowflow_30min_1to37to42_NCE29to59_100m...    497.243067   \n",
       "2      Hela2ug_lowflow_30min_1to37to42_NCE29to59_100m...    478.730946   \n",
       "3      Hela2ug_lowflow_30min_1to37to42_NCE29to59_100m...    454.219060   \n",
       "4      Hela2ug_lowflow_30min_1to37to42_NCE29to59_100m...    467.789653   \n",
       "...                                                  ...           ...   \n",
       "37947  Hela2ug_lowflow_30min_1to37to42_NCE29to59_100m...   1508.732810   \n",
       "37948  Hela2ug_lowflow_30min_1to37to42_NCE29to59_100m...    918.185360   \n",
       "37949  Hela2ug_lowflow_30min_1to37to42_NCE29to59_100m...   1223.911390   \n",
       "37950  Hela2ug_lowflow_30min_1to37to42_NCE29to59_100m...   1523.425080   \n",
       "37951  Hela2ug_lowflow_30min_1to37to42_NCE29to59_100m...   1127.557560   \n",
       "\n",
       "         score                        proteins          genes  decoy  \\\n",
       "0       83.265                   Q99961;Q99962  SH3GL1;SH3GL2      0   \n",
       "1       93.262                          Q96I59          NARS2      0   \n",
       "2       84.359                          Q16719           KYNU      0   \n",
       "3       89.369                          O15381            NVL      0   \n",
       "4       87.323                          P37837         TALDO1      0   \n",
       "...        ...                             ...            ...    ...   \n",
       "37947  135.590                          P10809          HSPD1      0   \n",
       "37948   34.127                          Q9UKY7           CDV3      0   \n",
       "37949  273.280                          Q9UKY7           CDV3      0   \n",
       "37950   58.811  CON__P08729;P08729;CON__Q3KNV1           KRT7      0   \n",
       "37951  146.510                          P16989           YBX3      0   \n",
       "\n",
       "       intensity  spec_idx               mods mod_sites  nAA   rt_norm  \n",
       "0        85631.0      2684                                 7  0.251260  \n",
       "1        29130.0      3169                                 7  0.228055  \n",
       "2       317050.0      2682  Carbamidomethyl@C         2    7  0.366986  \n",
       "3        19214.0      2334                                 7  0.180678  \n",
       "4        67838.0      2516                                 7  0.266780  \n",
       "...          ...       ...                ...       ...  ...       ...  \n",
       "37947   108950.0     73723                                47  0.996876  \n",
       "37948    24554.0     71102                                49  0.225982  \n",
       "37949  1177200.0     71103                                49  0.225982  \n",
       "37950   105280.0     73794                                51  0.811999  \n",
       "37951   502530.0     73696                                52  0.438907  \n",
       "\n",
       "[37952 rows x 18 columns]"
      ]
     },
     "execution_count": 6,
     "metadata": {},
     "output_type": "execute_result"
    }
   ],
   "source": [
    "from alphabase.psm_reader import psm_reader_provider\n",
    "\n",
    "mq_reader = psm_reader_provider.get_reader(\"maxquant\")\n",
    "mq_reader.load(\n",
    "    \"/cmnfs/proj/ORIGINS/data/tims_ramp_time/combined/txt/evidence_100ms.txt\"\n",
    ")"
   ]
  },
  {
   "cell_type": "code",
   "execution_count": 8,
   "metadata": {},
   "outputs": [],
   "source": [
    "maxquant = pd.read_csv(\n",
    "    \"/cmnfs/proj/ORIGINS/data/tims_ramp_time/combined/txt/evidence_100ms.txt\", sep=\"\\t\"\n",
    ")"
   ]
  },
  {
   "cell_type": "code",
   "execution_count": 17,
   "metadata": {},
   "outputs": [],
   "source": [
    "test_df = pd.merge(\n",
    "    left=maxquant,\n",
    "    right=predict_df[[\"scan_num\", \"raw_name\", \"rt_pred\"]],\n",
    "    left_on=[\"MS/MS scan number\", \"Raw file\"],\n",
    "    right_on=[\"scan_num\", \"raw_name\"],\n",
    "    how=\"left\",\n",
    ")"
   ]
  },
  {
   "cell_type": "markdown",
   "metadata": {},
   "source": [
    "## Misc"
   ]
  },
  {
   "cell_type": "markdown",
   "metadata": {},
   "source": [
    "### Does RT normalization work as expected?"
   ]
  },
  {
   "cell_type": "code",
   "execution_count": 11,
   "metadata": {},
   "outputs": [
    {
     "data": {
      "text/plain": [
       "1.0"
      ]
     },
     "execution_count": 11,
     "metadata": {},
     "output_type": "execute_result"
    }
   ],
   "source": [
    "psm_df = mq_reader.psm_df\n",
    "lc_grad = psm_df[\"rt\"].max()\n",
    "psm_df[\"rt_norm_check\"] = psm_df[\"rt\"] / lc_grad\n",
    "(psm_df[\"rt_norm_check\"] == psm_df[\"rt_norm\"]).sum() / len(psm_df)"
   ]
  },
  {
   "cell_type": "code",
   "execution_count": 17,
   "metadata": {},
   "outputs": [],
   "source": [
    "from utils.metrics import RT_metrics\n",
    "\n",
    "lc_grad = mq_reader.psm_df[\"rt\"].max()\n",
    "\n",
    "\n",
    "def rescale_and_get_delta95(predict_df, lc_grad, obs_col, pred_col):\n",
    "    if pred_col == \"rt_pred_grad\":\n",
    "        predict_df[pred_col] = predict_df[\"rt_pred\"] * lc_grad\n",
    "\n",
    "    ori_rt_eval = RT_metrics(predict_df[obs_col], predict_df[pred_col])\n",
    "\n",
    "    return ori_rt_eval.CalcDeltaRTwidth()"
   ]
  },
  {
   "cell_type": "markdown",
   "metadata": {},
   "source": [
    "### Is CCS --> IM conversion accurate?"
   ]
  },
  {
   "cell_type": "code",
   "execution_count": null,
   "metadata": {},
   "outputs": [
    {
     "data": {
      "text/plain": [
       "2.255877937562545e-06"
      ]
     },
     "metadata": {},
     "output_type": "display_data"
    }
   ],
   "source": [
    "from alphabase.peptide.mobility import ccs_to_mobility_for_df\n",
    "\n",
    "psm_df[\"converted_mobility\"] = ccs_to_mobility_for_df(psm_df, \"ccs\")\n",
    "_rescale_and_get_delta95(\n",
    "    predict_df, lc_grad=lc_grad, obs_col=\"mobility\", pred_col=\"converted_mobility\"\n",
    ")"
   ]
  },
  {
   "cell_type": "markdown",
   "metadata": {},
   "source": [
    "yes it is."
   ]
  },
  {
   "cell_type": "markdown",
   "metadata": {},
   "source": [
    "## Original model"
   ]
  },
  {
   "cell_type": "code",
   "execution_count": 18,
   "metadata": {},
   "outputs": [
    {
     "data": {
      "text/plain": [
       "<Axes: xlabel='rt_pred', ylabel='rt_norm'>"
      ]
     },
     "execution_count": 18,
     "metadata": {},
     "output_type": "execute_result"
    },
    {
     "data": {
      "text/html": [
       "<div>\n",
       "<style scoped>\n",
       "    .dataframe tbody tr th:only-of-type {\n",
       "        vertical-align: middle;\n",
       "    }\n",
       "\n",
       "    .dataframe tbody tr th {\n",
       "        vertical-align: top;\n",
       "    }\n",
       "\n",
       "    .dataframe thead th {\n",
       "        text-align: right;\n",
       "    }\n",
       "</style>\n",
       "<table border=\"1\" class=\"dataframe\">\n",
       "  <thead>\n",
       "    <tr style=\"text-align: right;\">\n",
       "      <th></th>\n",
       "      <th>R_square</th>\n",
       "      <th>R</th>\n",
       "      <th>slope</th>\n",
       "      <th>intercept</th>\n",
       "      <th>test_num</th>\n",
       "    </tr>\n",
       "  </thead>\n",
       "  <tbody>\n",
       "    <tr>\n",
       "      <th>0</th>\n",
       "      <td>0.895856</td>\n",
       "      <td>0.946497</td>\n",
       "      <td>0.788631</td>\n",
       "      <td>0.014814</td>\n",
       "      <td>37952</td>\n",
       "    </tr>\n",
       "  </tbody>\n",
       "</table>\n",
       "</div>"
      ],
      "text/plain": [
       "   R_square         R     slope  intercept  test_num\n",
       "0  0.895856  0.946497  0.788631   0.014814     37952"
      ]
     },
     "execution_count": 18,
     "metadata": {},
     "output_type": "execute_result"
    },
    {
     "ename": "NameError",
     "evalue": "name 'rescale_and_get_delta95' is not defined",
     "output_type": "error",
     "traceback": [
      "\u001b[0;31m---------------------------------------------------------------------------\u001b[0m",
      "\u001b[0;31mNameError\u001b[0m                                 Traceback (most recent call last)",
      "Cell \u001b[0;32mIn[18], line 7\u001b[0m\n\u001b[1;32m      5\u001b[0m evaluate_linear_regression_plot(predict_df, x\u001b[38;5;241m=\u001b[39m\u001b[38;5;124m\"\u001b[39m\u001b[38;5;124mrt_pred\u001b[39m\u001b[38;5;124m\"\u001b[39m, y\u001b[38;5;241m=\u001b[39m\u001b[38;5;124m\"\u001b[39m\u001b[38;5;124mrt_norm\u001b[39m\u001b[38;5;124m\"\u001b[39m)\n\u001b[1;32m      6\u001b[0m evaluate_linear_regression(predict_df, x\u001b[38;5;241m=\u001b[39m\u001b[38;5;124m\"\u001b[39m\u001b[38;5;124mrt_pred\u001b[39m\u001b[38;5;124m\"\u001b[39m, y\u001b[38;5;241m=\u001b[39m\u001b[38;5;124m\"\u001b[39m\u001b[38;5;124mrt_norm\u001b[39m\u001b[38;5;124m\"\u001b[39m)\n\u001b[0;32m----> 7\u001b[0m \u001b[43mrescale_and_get_delta95\u001b[49m(\n\u001b[1;32m      8\u001b[0m     predict_df, lc_grad\u001b[38;5;241m=\u001b[39mlc_grad, obs_col\u001b[38;5;241m=\u001b[39m\u001b[38;5;124m\"\u001b[39m\u001b[38;5;124mrt\u001b[39m\u001b[38;5;124m\"\u001b[39m, pred_col\u001b[38;5;241m=\u001b[39m\u001b[38;5;124m\"\u001b[39m\u001b[38;5;124mrt_pred_grad\u001b[39m\u001b[38;5;124m\"\u001b[39m\n\u001b[1;32m      9\u001b[0m )\n",
      "\u001b[0;31mNameError\u001b[0m: name 'rescale_and_get_delta95' is not defined"
     ]
    }
   ],
   "source": [
    "psm_df = mq_reader.psm_df\n",
    "predict_df = rt_model.predict(psm_df)\n",
    "from peptdeep.utils import evaluate_linear_regression, evaluate_linear_regression_plot\n",
    "from prepare_dict.prepare_dict import _rescale_and_get_delta95\n",
    "\n",
    "evaluate_linear_regression_plot(predict_df, x=\"rt_pred\", y=\"rt_norm\")\n",
    "evaluate_linear_regression(predict_df, x=\"rt_pred\", y=\"rt_norm\")\n",
    "_rescale_and_get_delta95(\n",
    "    predict_df, lc_grad=lc_grad, obs_col=\"rt\", pred_col=\"rt_pred_grad\"\n",
    ")"
   ]
  },
  {
   "cell_type": "code",
   "execution_count": 27,
   "metadata": {},
   "outputs": [
    {
     "data": {
      "text/plain": [
       "<Axes: xlabel='mobility_pred', ylabel='mobility'>"
      ]
     },
     "execution_count": 27,
     "metadata": {},
     "output_type": "execute_result"
    },
    {
     "data": {
      "text/html": [
       "<div>\n",
       "<style scoped>\n",
       "    .dataframe tbody tr th:only-of-type {\n",
       "        vertical-align: middle;\n",
       "    }\n",
       "\n",
       "    .dataframe tbody tr th {\n",
       "        vertical-align: top;\n",
       "    }\n",
       "\n",
       "    .dataframe thead th {\n",
       "        text-align: right;\n",
       "    }\n",
       "</style>\n",
       "<table border=\"1\" class=\"dataframe\">\n",
       "  <thead>\n",
       "    <tr style=\"text-align: right;\">\n",
       "      <th></th>\n",
       "      <th>R_square</th>\n",
       "      <th>R</th>\n",
       "      <th>slope</th>\n",
       "      <th>intercept</th>\n",
       "      <th>test_num</th>\n",
       "    </tr>\n",
       "  </thead>\n",
       "  <tbody>\n",
       "    <tr>\n",
       "      <th>0</th>\n",
       "      <td>0.955002</td>\n",
       "      <td>0.977242</td>\n",
       "      <td>0.900643</td>\n",
       "      <td>0.094463</td>\n",
       "      <td>37952</td>\n",
       "    </tr>\n",
       "  </tbody>\n",
       "</table>\n",
       "</div>"
      ],
      "text/plain": [
       "   R_square         R     slope  intercept  test_num\n",
       "0  0.955002  0.977242  0.900643   0.094463     37952"
      ]
     },
     "execution_count": 27,
     "metadata": {},
     "output_type": "execute_result"
    },
    {
     "data": {
      "text/plain": [
       "0.05565508542473985"
      ]
     },
     "execution_count": 27,
     "metadata": {},
     "output_type": "execute_result"
    },
    {
     "data": {
      "image/png": "[encoded data removed]",
      "text/plain": [
       "<Figure size 640x480 with 1 Axes>"
      ]
     },
     "metadata": {},
     "output_type": "display_data"
    }
   ],
   "source": [
    "predict_df = ccs_model.predict(psm_df)\n",
    "from alphabase.peptide.mobility import ccs_to_mobility_bruker\n",
    "\n",
    "predict_df[\"mobility_pred\"] = ccs_to_mobility_for_df(predict_df, \"ccs_pred\")\n",
    "from peptdeep.utils import evaluate_linear_regression, evaluate_linear_regression_plot\n",
    "\n",
    "evaluate_linear_regression_plot(predict_df, x=\"mobility_pred\", y=\"mobility\")\n",
    "evaluate_linear_regression(predict_df, x=\"mobility_pred\", y=\"mobility\")\n",
    "_rescale_and_get_delta95(\n",
    "    predict_df, lc_grad=lc_grad, obs_col=\"mobility\", pred_col=\"mobility_pred\"\n",
    ")"
   ]
  },
  {
   "cell_type": "markdown",
   "metadata": {},
   "source": [
    "## KNN-based RT calibration"
   ]
  },
  {
   "cell_type": "code",
   "execution_count": 66,
   "metadata": {},
   "outputs": [],
   "source": [
    "from sklearn.neighbors import KNeighborsRegressor\n",
    "\n",
    "\n",
    "def adjust_rt_pred(train_df, test_df, x=\"rt_pred\", y=\"rt_norm\", target=\"rt_adjust\"):\n",
    "    model = KNeighborsRegressor(n_neighbors=3, weights=\"distance\")\n",
    "    model.fit(train_df[x].values.reshape((-1, 1)), train_df[y].values.reshape((-1, 1)))\n",
    "    test_df[target] = model.predict(test_df[x].values.reshape((-1, 1)))\n",
    "    return test_df\n",
    "\n",
    "\n",
    "import numpy as np\n",
    "import pandas as pd\n",
    "\n",
    "from sklearn.model_selection import train_test_split\n",
    "\n",
    "train_df, test_df = train_test_split(psm_df, test_size=0.1)"
   ]
  },
  {
   "cell_type": "code",
   "execution_count": 89,
   "metadata": {},
   "outputs": [
    {
     "data": {
      "text/plain": [
       "<Axes: xlabel='rt_adjust', ylabel='rt_norm'>"
      ]
     },
     "execution_count": 89,
     "metadata": {},
     "output_type": "execute_result"
    },
    {
     "data": {
      "text/html": [
       "<div>\n",
       "<style scoped>\n",
       "    .dataframe tbody tr th:only-of-type {\n",
       "        vertical-align: middle;\n",
       "    }\n",
       "\n",
       "    .dataframe tbody tr th {\n",
       "        vertical-align: top;\n",
       "    }\n",
       "\n",
       "    .dataframe thead th {\n",
       "        text-align: right;\n",
       "    }\n",
       "</style>\n",
       "<table border=\"1\" class=\"dataframe\">\n",
       "  <thead>\n",
       "    <tr style=\"text-align: right;\">\n",
       "      <th></th>\n",
       "      <th>R_square</th>\n",
       "      <th>R</th>\n",
       "      <th>slope</th>\n",
       "      <th>intercept</th>\n",
       "      <th>test_num</th>\n",
       "    </tr>\n",
       "  </thead>\n",
       "  <tbody>\n",
       "    <tr>\n",
       "      <th>0</th>\n",
       "      <td>0.949884</td>\n",
       "      <td>0.97462</td>\n",
       "      <td>0.975634</td>\n",
       "      <td>0.013592</td>\n",
       "      <td>3796</td>\n",
       "    </tr>\n",
       "  </tbody>\n",
       "</table>\n",
       "</div>"
      ],
      "text/plain": [
       "   R_square        R     slope  intercept  test_num\n",
       "0  0.949884  0.97462  0.975634   0.013592      3796"
      ]
     },
     "execution_count": 89,
     "metadata": {},
     "output_type": "execute_result"
    },
    {
     "name": "stdout",
     "output_type": "stream",
     "text": [
      "2024-08-22 16:36:52> Delta95: 6.403932805448772\n"
     ]
    },
    {
     "data": {
      "image/png": "[encoded data removed]",
      "text/plain": [
       "<Figure size 640x480 with 1 Axes>"
      ]
     },
     "metadata": {},
     "output_type": "display_data"
    }
   ],
   "source": [
    "predict_df = adjust_rt_pred(train_df, test_df)\n",
    "evaluate_linear_regression_plot(predict_df, x=\"rt_adjust\", y=\"rt_norm\")\n",
    "evaluate_linear_regression(predict_df, x=\"rt_adjust\", y=\"rt_norm\")\n",
    "logging.info(f\"Delta95: {rescale_and_get_delta95(predict_df, lc_grad=lc_grad)}\")"
   ]
  },
  {
   "cell_type": "markdown",
   "metadata": {},
   "source": [
    "## Transfer learning"
   ]
  },
  {
   "cell_type": "code",
   "execution_count": 94,
   "metadata": {},
   "outputs": [
    {
     "name": "stdout",
     "output_type": "stream",
     "text": [
      "2024-08-22 16:48:46> Training with fixed sequence length: 0\n"
     ]
    },
    {
     "name": "stderr",
     "output_type": "stream",
     "text": [
      "Epoch=1, nAA=9, batch=65, loss=0.0116: 100%|██████████| 44/44 [00:03<00:00, 11.07it/s] \n"
     ]
    },
    {
     "name": "stdout",
     "output_type": "stream",
     "text": [
      "[Training] Epoch=1, Mean Loss=0.010199120497474304\n"
     ]
    },
    {
     "name": "stderr",
     "output_type": "stream",
     "text": [
      "Epoch=2, nAA=43, batch=65, loss=0.0051: 100%|██████████| 44/44 [00:04<00:00, 10.79it/s]\n"
     ]
    },
    {
     "name": "stdout",
     "output_type": "stream",
     "text": [
      "[Training] Epoch=2, Mean Loss=0.010361430005958447\n"
     ]
    },
    {
     "name": "stderr",
     "output_type": "stream",
     "text": [
      "Epoch=3, nAA=39, batch=65, loss=0.0109: 100%|██████████| 44/44 [00:03<00:00, 11.64it/s]\n"
     ]
    },
    {
     "name": "stdout",
     "output_type": "stream",
     "text": [
      "[Training] Epoch=3, Mean Loss=0.010013206331775739\n"
     ]
    },
    {
     "name": "stderr",
     "output_type": "stream",
     "text": [
      "Epoch=4, nAA=9, batch=65, loss=0.0090: 100%|██████████| 44/44 [00:03<00:00, 11.61it/s] \n"
     ]
    },
    {
     "name": "stdout",
     "output_type": "stream",
     "text": [
      "[Training] Epoch=4, Mean Loss=0.009975790060483491\n"
     ]
    },
    {
     "name": "stderr",
     "output_type": "stream",
     "text": [
      "Epoch=5, nAA=26, batch=65, loss=0.0109: 100%|██████████| 44/44 [00:03<00:00, 11.66it/s]\n"
     ]
    },
    {
     "name": "stdout",
     "output_type": "stream",
     "text": [
      "[Training] Epoch=5, Mean Loss=0.009600169920864014\n"
     ]
    },
    {
     "data": {
      "text/plain": [
       "<Axes: xlabel='rt_pred', ylabel='rt_norm'>"
      ]
     },
     "execution_count": 94,
     "metadata": {},
     "output_type": "execute_result"
    },
    {
     "data": {
      "text/html": [
       "<div>\n",
       "<style scoped>\n",
       "    .dataframe tbody tr th:only-of-type {\n",
       "        vertical-align: middle;\n",
       "    }\n",
       "\n",
       "    .dataframe tbody tr th {\n",
       "        vertical-align: top;\n",
       "    }\n",
       "\n",
       "    .dataframe thead th {\n",
       "        text-align: right;\n",
       "    }\n",
       "</style>\n",
       "<table border=\"1\" class=\"dataframe\">\n",
       "  <thead>\n",
       "    <tr style=\"text-align: right;\">\n",
       "      <th></th>\n",
       "      <th>R_square</th>\n",
       "      <th>R</th>\n",
       "      <th>slope</th>\n",
       "      <th>intercept</th>\n",
       "      <th>test_num</th>\n",
       "    </tr>\n",
       "  </thead>\n",
       "  <tbody>\n",
       "    <tr>\n",
       "      <th>0</th>\n",
       "      <td>0.993765</td>\n",
       "      <td>0.996878</td>\n",
       "      <td>1.001238</td>\n",
       "      <td>0.001848</td>\n",
       "      <td>3796</td>\n",
       "    </tr>\n",
       "  </tbody>\n",
       "</table>\n",
       "</div>"
      ],
      "text/plain": [
       "   R_square         R     slope  intercept  test_num\n",
       "0  0.993765  0.996878  1.001238   0.001848      3796"
      ]
     },
     "execution_count": 94,
     "metadata": {},
     "output_type": "execute_result"
    },
    {
     "name": "stdout",
     "output_type": "stream",
     "text": [
      "2024-08-22 16:49:06> Testing Delta95: 0.7928445120155816\n",
      "2024-08-22 16:49:08> Training Delta95: 0.7353137023448939\n"
     ]
    },
    {
     "data": {
      "image/png": "[encoded data removed]",
      "text/plain": [
       "<Figure size 640x480 with 1 Axes>"
      ]
     },
     "metadata": {},
     "output_type": "display_data"
    }
   ],
   "source": [
    "rt_model.train(train_df, epoch=5, verbose=True, verbose_each_epoch=True)\n",
    "predict_df = rt_model.predict(test_df)\n",
    "predict_df[\"mobility_pred\"] = ccs_to_mobility_bruker(\n",
    "    predict_df[\"ccs_pred\"], predict_df[\"charge\"], predict_df[\"precursor_mz\"]\n",
    ")\n",
    "from peptdeep.utils import evaluate_linear_regression, evaluate_linear_regression_plot\n",
    "\n",
    "evaluate_linear_regression_plot(predict_df, x=\"mobility_pred\", y=\"mobility\")\n",
    "evaluate_linear_regression(predict_df, x=\"mobility_pred\", y=\"mobility\")\n",
    "rescale_and_get_delta95(\n",
    "    predict_df, lc_grad=lc_grad, obs_col=\"mobility\", pred_col=\"mobility_pred\"\n",
    ")\n",
    "logging.info(f\"Testing Delta95: {rescale_and_get_delta95(predict_df, lc_grad=lc_grad)}\")\n",
    "predict_train_df = rt_model.predict(train_df)\n",
    "logging.info(\n",
    "    f\"Training Delta95: {rescale_and_get_delta95(predict_train_df, lc_grad=lc_grad)}\"\n",
    ")"
   ]
  },
  {
   "cell_type": "code",
   "execution_count": 68,
   "metadata": {},
   "outputs": [
    {
     "data": {
      "text/plain": [
       "713452"
      ]
     },
     "execution_count": 68,
     "metadata": {},
     "output_type": "execute_result"
    },
    {
     "data": {
      "text/plain": [
       "<Axes: xlabel='mobility_pred', ylabel='mobility'>"
      ]
     },
     "execution_count": 68,
     "metadata": {},
     "output_type": "execute_result"
    },
    {
     "data": {
      "text/html": [
       "<div>\n",
       "<style scoped>\n",
       "    .dataframe tbody tr th:only-of-type {\n",
       "        vertical-align: middle;\n",
       "    }\n",
       "\n",
       "    .dataframe tbody tr th {\n",
       "        vertical-align: top;\n",
       "    }\n",
       "\n",
       "    .dataframe thead th {\n",
       "        text-align: right;\n",
       "    }\n",
       "</style>\n",
       "<table border=\"1\" class=\"dataframe\">\n",
       "  <thead>\n",
       "    <tr style=\"text-align: right;\">\n",
       "      <th></th>\n",
       "      <th>R_square</th>\n",
       "      <th>R</th>\n",
       "      <th>slope</th>\n",
       "      <th>intercept</th>\n",
       "      <th>test_num</th>\n",
       "    </tr>\n",
       "  </thead>\n",
       "  <tbody>\n",
       "    <tr>\n",
       "      <th>0</th>\n",
       "      <td>0.9568</td>\n",
       "      <td>0.978162</td>\n",
       "      <td>0.900501</td>\n",
       "      <td>0.094669</td>\n",
       "      <td>3796</td>\n",
       "    </tr>\n",
       "  </tbody>\n",
       "</table>\n",
       "</div>"
      ],
      "text/plain": [
       "   R_square         R     slope  intercept  test_num\n",
       "0    0.9568  0.978162  0.900501   0.094669      3796"
      ]
     },
     "execution_count": 68,
     "metadata": {},
     "output_type": "execute_result"
    },
    {
     "name": "stdout",
     "output_type": "stream",
     "text": [
      "2024-08-23 19:04:46> Testing Delta95: 0.05483285437590124\n",
      "2024-08-23 19:04:46> Training Delta95: 0.05577032980050045\n"
     ]
    }
   ],
   "source": [
    "ccs_model = models.ccs_model\n",
    "ccs_model.get_parameter_num()\n",
    "# ccs_model.train(train_df, epoch=10, verbose=True, verbose_each_epoch=True)\n",
    "predict_test_df = ccs_model.ccs_to_mobility_pred(test_df)\n",
    "# predict_test_df[\"mobility_pred\"] = ccs_to_mobility_for_df(test_df, \"ccs_pred\")\n",
    "evaluate_linear_regression_plot(predict_test_df, x=\"mobility_pred\", y=\"mobility\")\n",
    "evaluate_linear_regression(predict_test_df, x=\"mobility_pred\", y=\"mobility\")\n",
    "logging.info(\n",
    "    f\"Testing Delta95: {rescale_and_get_delta95(predict_test_df, lc_grad=lc_grad, obs_col='mobility', pred_col='mobility_pred')}\"\n",
    ")\n",
    "predict_train_df = ccs_model.ccs_to_mobility_pred(train_df)\n",
    "# predict_train_df[\"mobility_pred\"] = ccs_to_mobility_for_df(predict_train_df, \"ccs_pred\")\n",
    "logging.info(\n",
    "    f\"Training Delta95: {rescale_and_get_delta95(predict_train_df, lc_grad=lc_grad, obs_col='mobility', pred_col='mobility_pred')}\"\n",
    ")"
   ]
  },
  {
   "cell_type": "markdown",
   "metadata": {},
   "source": [
    "## Save and load models"
   ]
  },
  {
   "cell_type": "code",
   "execution_count": 50,
   "metadata": {},
   "outputs": [],
   "source": [
    "ccs_model.save(\"test/ccs_model\")"
   ]
  },
  {
   "cell_type": "code",
   "execution_count": 51,
   "metadata": {},
   "outputs": [],
   "source": [
    "ccs_loaded_model = models.ccs_model\n",
    "ccs_loaded_model.load(\"test/ccs_model\")"
   ]
  },
  {
   "cell_type": "markdown",
   "metadata": {},
   "source": [
    "# Construct dict DEV"
   ]
  },
  {
   "cell_type": "code",
   "execution_count": null,
   "metadata": {},
   "outputs": [],
   "source": [
    "from typing import Literal\n",
    "from alphabase.psm_reader import psm_reader_provider\n",
    "\n",
    "Logger = logging.getLogger(__name__)\n",
    "\n",
    "\n",
    "def prepare_alpha_train_test_df(\n",
    "    maxquant_path: str, train_frac: float, filter_dict: dict, random_state: int = 42\n",
    "):\n",
    "    # Load\n",
    "    mq_reader = psm_reader_provider.get_reader(\"maxquant\")\n",
    "    mq_reader.load(\n",
    "        maxquant_path,\n",
    "    )\n",
    "    psm_df = mq_reader.psm_df\n",
    "\n",
    "    # Filter\n",
    "    for key, value in filter_dict.items():\n",
    "        psm_df = psm_df[psm_df[key].isin(value)]\n",
    "        Logger.info(\n",
    "            \"psm_df size after filtering %s in %s: %s\", key, value, psm_df.shape\n",
    "        )\n",
    "\n",
    "    # Normalize RT\n",
    "    rt_max = psm_df[\"rt\"].max()\n",
    "    Logger.info(f\"Max RT used for normalization: {rt_max}\")\n",
    "    psm_df[\"rt_norm\"] = psm_df[\"rt\"] / rt_max\n",
    "\n",
    "    # Split\n",
    "    train_df, test_df = train_test_split(\n",
    "        psm_df, test_size=1 - train_frac, random_state=random_state\n",
    "    )\n",
    "\n",
    "    return train_df, test_df, rt_max\n",
    "\n",
    "\n",
    "def update_alpha_pept_deep_model(\n",
    "    pept_property: Literal[\"rt\", \"mobility\"],\n",
    "    train_df,\n",
    "    test_df,\n",
    "    save_dir: str,\n",
    "    epoch=10,\n",
    "):\n",
    "    # init model\n",
    "    models = ModelManager()\n",
    "    models.load_installed_models()\n",
    "    if pept_property == \"rt\":\n",
    "        model = models.rt_model\n",
    "    else:\n",
    "        model = models.ccs_model\n",
    "\n",
    "    # train\n",
    "    model.train(train_df, epoch=epoch, verbose=True, verbose_each_epoch=False)\n",
    "\n",
    "    # eval\n",
    "    if pept_property == \"mobility\":\n",
    "        predict_train_df = model.ccs_to_mobility_pred(train_df)\n",
    "        predict_test_df = model.ccs_to_mobility_pred(test_df)\n",
    "    else:\n",
    "        predict_train_df = model.predict(train_df)\n",
    "        predict_test_df = model.predict(test_df)\n",
    "    delta_95_train = rescale_and_get_delta95(\n",
    "        predict_train_df,\n",
    "        lc_grad=lc_grad,\n",
    "        obs_col=pept_property,\n",
    "        pred_col=f\"{pept_property}_pred\",\n",
    "    )\n",
    "    delta_95_test = rescale_and_get_delta95(\n",
    "        predict_test_df,\n",
    "        lc_grad=lc_grad,\n",
    "        obs_col=pept_property,\n",
    "        pred_col=f\"{pept_property}_pred\",\n",
    "    )\n",
    "    Logger.info(f\"Training Delta95: {delta_95_train}, Testing Delta95: {delta_95_test}\")\n",
    "\n",
    "    # save\n",
    "    save_model_name = os.path.join(save_dir, f\"{pept_property}_model\")\n",
    "    model.save(save_model_name)\n",
    "    return delta_95_test, save_model_name\n",
    "\n",
    "\n",
    "def dict_add_alpha_pept_pred(\n",
    "    model, dict_path, pept_property, lc_grad: float | None = None\n",
    "):\n",
    "    # load dict\n",
    "    dict = pd.read_csv(dict_path, sep=\"\\t\")\n",
    "    Logger.info(f\"dict size: {dict.shape}\")\n",
    "    mq_reader = psm_reader_provider.get_reader(\"maxquant\")\n",
    "    mq_reader.load(dict_path)\n",
    "    dict_for_pred = mq_reader.psm_df\n",
    "    Logger.info(f\"dict_for_pred size: {dict_for_pred.shape}\")\n",
    "\n",
    "    # predict\n",
    "    if pept_property == \"mobility\":\n",
    "        predict_df = model.ccs_to_mobility_pred(psm_df)\n",
    "    elif pept_property == \"rt\":\n",
    "        assert lc_grad is not None\n",
    "        predict_df = model.predict(psm_df)\n",
    "        predict_df[\"rt_pred_grad\"] = predict_df[\"rt_pred\"] * lc_grad\n",
    "\n",
    "    # merge\n",
    "    dict = pd.merge(\n",
    "        left=dict,\n",
    "        right=predict_df,\n",
    "        left_on=[\"MS/MS scan number\", \"Raw file\"],\n",
    "        right_on=[\"scan_number\", \"raw_file\"],\n",
    "        how=\"left\",\n",
    "    )\n",
    "    Logger.info(\n",
    "        \"Number of entries with empty prediction: %s\",\n",
    "        dict[pept_property + \"_pred\"].isna().sum(),\n",
    "    )\n",
    "    dict = dict.dropna(subset=[pept_property + \"_pred\"])\n",
    "    return dict"
   ]
  },
  {
   "cell_type": "markdown",
   "metadata": {},
   "source": [
    "# config for construct dict"
   ]
  },
  {
   "cell_type": "code",
   "execution_count": 22,
   "metadata": {},
   "outputs": [
    {
     "name": "stdout",
     "output_type": "stream",
     "text": [
      "2024-08-26 16:15:27> merge with cfg file /cmnfs/proj/ORIGINS/protMSD/maxquant/ScanByScan/utils/config_hela_120min_frac_100ms.yaml\n",
      "2024-08-26 16:15:27> ==================Load data==================\n",
      "2024-08-26 16:15:27> Importing data from /cmnfs/proj/ORIGINS/data/tims_ramp_time/Hela2ug_lowflow_30min_1to37to42_NCE29to59_100ms7R_RA2_1_2078.d\n",
      "2024-08-26 16:15:27> Using HDF import for /cmnfs/proj/ORIGINS/data/tims_ramp_time/Hela2ug_lowflow_30min_1to37to42_NCE29to59_100ms7R_RA2_1_2078.hdf\n",
      "2024-08-26 16:15:27> Successfully imported data from /cmnfs/proj/ORIGINS/data/tims_ramp_time/Hela2ug_lowflow_30min_1to37to42_NCE29to59_100ms7R_RA2_1_2078.d\n",
      "2024-08-26 16:15:27> No output directory provided, using the directory of the .d file\n",
      "2024-08-26 16:15:27> HDF file /cmnfs/proj/ORIGINS/data/tims_ramp_time/Hela2ug_lowflow_30min_1to37to42_NCE29to59_100ms7R_RA2_1_2078.d/Hela2ug_lowflow_30min_1to37to42_NCE29to59_100ms7R_RA2_1_2078.hdf already exists\n",
      "2024-08-26 16:15:27> Double check MS1 frame index range: 0 - 2465\n",
      "2024-08-26 16:15:27> Double check mobility values index range: 0 - 936\n"
     ]
    }
   ],
   "source": [
    "%autoreload 2\n",
    "import logging\n",
    "import os\n",
    "\n",
    "import time\n",
    "import fire\n",
    "\n",
    "import pandas as pd\n",
    "from datetime import datetime\n",
    "from utils.ims_utils import (\n",
    "    load_dotd_data,\n",
    "    export_im_and_ms1scans,\n",
    "    combine_3d_act_and_sum_int,\n",
    ")\n",
    "from utils.constants import exp_cols\n",
    "from utils.config import get_cfg_defaults\n",
    "from utils.singleton_swaps_optimization import swaps_optimization_cfg\n",
    "from optimization.inference import process_ims_frames_parallel, generate_id_partitions\n",
    "from result_analysis import result_analysis\n",
    "\n",
    "# from result_analysis import result_analysis\n",
    "from prepare_dict.prepare_dict import construct_dict\n",
    "\n",
    "# from result_analysis import result_analysis\n",
    "#config_path = \"/cmnfs/proj/ORIGINS/SWAPS_exp/tims_ramp_time/120min_libaray_100ms_20240822_131204_977633/config_deeperCNN.yaml\"\n",
    "config_path = '/cmnfs/proj/ORIGINS/protMSD/maxquant/ScanByScan/utils/config_hela_120min_frac_100ms.yaml'\n",
    "logging.basicConfig(\n",
    "    format=\"%(asctime)s - %(name)s - %(levelname)s - %(message)s\",\n",
    "    level=logging.INFO,\n",
    ")\n",
    "\n",
    "cfg = get_cfg_defaults(swaps_optimization_cfg)\n",
    "name_timestamp = datetime.now().strftime(\"%Y%m%d_%H%M%S_%f\")\n",
    "if config_path is not None:\n",
    "    cfg.merge_from_file(config_path)\n",
    "    logging.info(\"merge with cfg file %s\", config_path)\n",
    "if cfg.ADD_TIMESTAMP_TO_RESULT_PATH:\n",
    "    cfg.RESULT_PATH = cfg.RESULT_PATH + \"_\" + name_timestamp\n",
    "    cfg.ADD_TIMESTAMP_TO_RESULT_PATH = False  # in case of reuse of config file\n",
    "logging.info(\"==================Load data==================\")\n",
    "os.makedirs(cfg.RESULT_PATH, exist_ok=True)\n",
    "if cfg.N_CPU < 0:\n",
    "    cfg.N_CPU = int(os.getenv(\"SLURM_CPUS_PER_TASK\", 1))\n",
    "    logging.info(\"Number of CPUs: %s\", cfg.N_CPU)\n",
    "if cfg.OPTIMIZATION.N_BATCH < 0:\n",
    "    cfg.OPTIMIZATION.N_BATCH = cfg.N_CPU  # set batches as the same as N_CPU\n",
    "if cfg.DICT_PICKLE_PATH != \"\":\n",
    "    maxquant_result_ref = pd.read_pickle(filepath_or_buffer=cfg.DICT_PICKLE_PATH)\n",
    "else:\n",
    "    # Load data\n",
    "    data, hdf_file_name = load_dotd_data(\n",
    "        cfg.DATA_PATH, swaps_result_dir=cfg.EXPORT_DATA_HDF5_DIR\n",
    "    )\n",
    "\n",
    "    # Get the lowest level directory name with .d extension\n",
    "    dir_with_extension = os.path.basename(os.path.normpath(cfg.DATA_PATH))\n",
    "    if (\n",
    "        len(cfg.FILTER_EXP_BY_RAW_FILE) == 0\n",
    "    ):  # if not specified, get the lowest level directory name with .d extension, by default None\n",
    "        cfg.FILTER_EXP_BY_RAW_FILE.append(dir_with_extension.rstrip(\".d\"))\n",
    "\n",
    "    ms1scans, mobility_values_df = export_im_and_ms1scans(\n",
    "        data=data, swaps_result_dir=cfg.RESULT_PATH\n",
    "    )\n"
   ]
  },
  {
   "cell_type": "code",
   "execution_count": 23,
   "metadata": {},
   "outputs": [],
   "source": [
    "maxquant_result_exp = pd.read_csv(cfg.MQ_EXP_PATH, sep=\"\\t\", low_memory=False)\n",
    "maxquant_result_exp = maxquant_result_exp.loc[\n",
    "    maxquant_result_exp[\"Raw file\"].isin(cfg.FILTER_EXP_BY_RAW_FILE),\n",
    "    :,\n",
    "]"
   ]
  },
  {
   "cell_type": "code",
   "execution_count": 28,
   "metadata": {},
   "outputs": [],
   "source": [
    "from math import ceil\n",
    "\n",
    "im_idx_span = ceil(0.03 / mobility_values_df[\"mobility_values\"].diff().mean())"
   ]
  },
  {
   "cell_type": "code",
   "execution_count": 29,
   "metadata": {},
   "outputs": [],
   "source": [
    "cfg.PREPARE_DICT.IM_REF = \"ref\""
   ]
  },
  {
   "cell_type": "code",
   "execution_count": 40,
   "metadata": {},
   "outputs": [
    {
     "name": "stdout",
     "output_type": "stream",
     "text": [
      "2024-08-26 17:44:33> No GPU available, using CPU\n",
      "2024-08-26 17:44:35> RT index range: (0.0, 29.99395301666667)\n",
      "2024-08-26 17:44:35> IM index range: (0.8499923349815138, 1.3170480026992464)\n",
      "2024-08-26 17:44:35> Using existing RT model\n",
      "2024-08-26 17:44:36> mq_im_left_col or mq_im_right_col not given,                 IM index length required but not given,                     using peptide specific im length values\n",
      "2024-08-26 17:44:36> mq_im_left_col or mq_im_right_col not given,                 IM index length required but not given,                     using peptide specific im length values\n",
      "2024-08-26 17:44:36> Removing 189 decoys from file, 228532 entries left.\n",
      "2024-08-26 17:44:37> Removing 141093 duplicate entries from experiment file, 87439 entries left.\n",
      "2024-08-26 17:44:37> Removing 23 decoys from file, 38298 entries left.\n",
      "2024-08-26 17:44:37> Removing 506 duplicate entries from experiment file, 37792 entries left.\n",
      "2024-08-26 17:44:37> Maxquant_ref_df columns: Index(['Sequence', 'Length', 'Modifications', 'Modified sequence',\n",
      "       'Oxidation (M) Probabilities', 'Oxidation (M) Score Diffs',\n",
      "       'Acetyl (Protein N-term)', 'Oxidation (M)', 'Missed cleavages',\n",
      "       'Proteins', 'Leading proteins', 'Leading razor protein', 'Gene names',\n",
      "       'Protein names', 'Type', 'Raw file', 'Experiment', 'MS/MS m/z',\n",
      "       'Charge', 'm/z', 'Mass', 'Uncalibrated - Calibrated m/z [ppm]',\n",
      "       'Uncalibrated - Calibrated m/z [Da]', 'Mass error [ppm]',\n",
      "       'Mass error [Da]', 'Uncalibrated mass error [ppm]',\n",
      "       'Uncalibrated mass error [Da]', 'Max intensity m/z 0', 'Retention time',\n",
      "       'Retention length', 'Calibrated retention time',\n",
      "       'Calibrated retention time start', 'Calibrated retention time finish',\n",
      "       'Retention time calibration', 'Ion mobility index',\n",
      "       'Ion mobility length', '1/K0', '1/K0 length', 'Calibrated 1/K0', 'CCS',\n",
      "       'Calibrated CCS', 'CCS length', 'Match time difference',\n",
      "       'Match m/z difference', 'Match K0 difference', 'Match q-value',\n",
      "       'Match score', 'Number of data points', 'Number of scans',\n",
      "       'Number of isotopic peaks', 'PIF', 'Fraction of total spectrum',\n",
      "       'Base peak fraction', 'PEP', 'MS/MS count', 'MS/MS scan number',\n",
      "       'Score', 'Delta score', 'Combinatorics', 'Intensity', 'Reverse',\n",
      "       'Potential contaminant', 'id', 'Protein group IDs', 'Peptide ID',\n",
      "       'Mod. peptide ID', 'MS/MS IDs', 'Best MS/MS', 'Oxidation (M) site IDs',\n",
      "       'Taxonomy IDs', 'mobility_values_index_center_ref',\n",
      "       'mobility_values_center_ref', 'mobility_values_index_left_ref',\n",
      "       'mobility_values_index_right_ref'],\n",
      "      dtype='object')\n",
      "2024-08-26 17:44:38> Generating decoy\n",
      "2024-08-26 17:44:52> Number of decoys generated: 90261\n",
      "2024-08-26 17:44:52> Number of decoys after removing decoys identical to any targets: 90261, 0 are removed\n",
      "2024-08-26 17:45:01> Device: cpu\n",
      "2024-08-26 17:45:01> dict size: (180522, 92)\n",
      "2024-08-26 17:45:07> dict_for_pred size: (178723, 18)\n",
      "2024-08-26 17:46:06> Number of entries with empty prediction: 1799\n",
      "2024-08-26 17:46:06> dict size after dropping empty prediction: (178723, 93)\n",
      "2024-08-26 17:46:06> Using primarily ref IM for IM search range.\n",
      "2024-08-26 17:46:06> Delta IM index 95 left: 84.0, right: 88.0\n",
      "2024-08-26 17:46:34> Finish. Filtered prediction dataframe dimension: (178723, 112), columns: Index(['Sequence', 'Length', 'Modifications', 'Modified sequence',\n",
      "       'Oxidation (M) Probabilities', 'Oxidation (M) Score Diffs',\n",
      "       'Acetyl (Protein N-term)', 'Oxidation (M)', 'Missed cleavages',\n",
      "       'Proteins',\n",
      "       ...\n",
      "       'Time_minute_left_ref', 'MS1_frame_idx_left_ref',\n",
      "       'Time_minute_right_ref', 'MS1_frame_idx_right_ref', 'IsoMZ',\n",
      "       'IsoAbundance', 'mz_rank', 'mz_bin', 'mz_length', 'pept_batch_idx'],\n",
      "      dtype='object', length=112)\n"
     ]
    }
   ],
   "source": [
    "%autoreload 2\n",
    "from prepare_dict.prepare_dict import construct_dict    \n",
    "maxquant_result_ref = pd.read_csv(cfg.MQ_REF_PATH, sep=\"\\t\", low_memory=False)\n",
    "# TODO filter ref df if needed\n",
    "maxquant_result_ref, dict_pickle_path, cfg_prepare_dict = construct_dict(\n",
    "        cfg_prepare_dict=cfg.PREPARE_DICT,\n",
    "        filter_exp_by_raw_file=cfg.FILTER_EXP_BY_RAW_FILE,\n",
    "        maxquant_exp_path=cfg.MQ_EXP_PATH,\n",
    "        # maxquant_exp_df=maxquant_result_exp,\n",
    "        maxquant_ref_df=maxquant_result_ref,\n",
    "        result_dir=os.path.join(cfg.RESULT_PATH),\n",
    "        mobility_values_df=mobility_values_df,\n",
    "        rt_values_df=ms1scans,\n",
    "        random_seed=cfg.RANDOM_SEED,\n",
    "        n_blocks_by_pept=cfg.OPTIMIZATION.N_BLOCKS_BY_PEPT,\n",
    "    )\n"
   ]
  },
  {
   "cell_type": "markdown",
   "metadata": {},
   "source": [
    "## Sanity check for IM search idx left and right"
   ]
  },
  {
   "cell_type": "code",
   "execution_count": 33,
   "metadata": {},
   "outputs": [],
   "source": [
    "import pandas as pd\n",
    "\n",
    "pred_im_dict = pd.read_pickle(\n",
    "    \"/cmnfs/proj/ORIGINS/SWAPS_exp/tims_ramp_time/120min_libaray_100ms_20240825_123840_904723/maxquant_result_ref.pkl\"\n",
    ")\n",
    "mix_im_dict = pd.read_pickle(\n",
    "    \"/cmnfs/proj/ORIGINS/SWAPS_exp/tims_ramp_time/120min_libaray_100ms_20240822_131204_977633/maxquant_result_ref.pkl\"\n",
    ")"
   ]
  },
  {
   "cell_type": "code",
   "execution_count": 42,
   "metadata": {},
   "outputs": [],
   "source": [
    "import pandas as pd\n",
    "\n",
    "ref_im_dict = pd.read_pickle(\n",
    "    \"/cmnfs/proj/ORIGINS/SWAPS_exp/tims_ramp_time/120min_libaray_100ms_20240826_175342_706954/maxquant_result_ref.pkl\"\n",
    ")"
   ]
  },
  {
   "cell_type": "code",
   "execution_count": 9,
   "metadata": {},
   "outputs": [
    {
     "name": "stderr",
     "output_type": "stream",
     "text": [
      "/tmp/ipykernel_251747/146822392.py:3: SettingWithCopyWarning: \n",
      "A value is trying to be set on a copy of a slice from a DataFrame.\n",
      "Try using .loc[row_indexer,col_indexer] = value instead\n",
      "\n",
      "See the caveats in the documentation: https://pandas.pydata.org/pandas-docs/stable/user_guide/indexing.html#returning-a-view-versus-a-copy\n",
      "  dict[\"search_range\"] = dict[\"IM_search_idx_right\"] - dict[\"IM_search_idx_left\"]\n"
     ]
    },
    {
     "data": {
      "text/plain": [
       "count    37428.000000\n",
       "mean       429.996366\n",
       "std         70.067686\n",
       "min        145.000000\n",
       "25%        387.000000\n",
       "50%        478.000000\n",
       "75%        480.000000\n",
       "max        482.000000\n",
       "Name: search_range, dtype: float64"
      ]
     },
     "execution_count": 9,
     "metadata": {},
     "output_type": "execute_result"
    }
   ],
   "source": [
    "dict = pred_im_dict\n",
    "dict = dict.loc[(dict[\"source\"] == \"exp\") & (dict[\"Decoy\"] == 0)]\n",
    "dict[\"search_range\"] = dict[\"IM_search_idx_right\"] - dict[\"IM_search_idx_left\"]\n",
    "dict[\"search_range\"].describe()"
   ]
  },
  {
   "cell_type": "code",
   "execution_count": 10,
   "metadata": {},
   "outputs": [
    {
     "data": {
      "text/html": [
       "<div>\n",
       "<style scoped>\n",
       "    .dataframe tbody tr th:only-of-type {\n",
       "        vertical-align: middle;\n",
       "    }\n",
       "\n",
       "    .dataframe tbody tr th {\n",
       "        vertical-align: top;\n",
       "    }\n",
       "\n",
       "    .dataframe thead th {\n",
       "        text-align: right;\n",
       "    }\n",
       "</style>\n",
       "<table border=\"1\" class=\"dataframe\">\n",
       "  <thead>\n",
       "    <tr style=\"text-align: right;\">\n",
       "      <th></th>\n",
       "      <th>Sequence</th>\n",
       "      <th>Length</th>\n",
       "      <th>Modifications</th>\n",
       "      <th>Modified sequence</th>\n",
       "      <th>Oxidation (M) Probabilities</th>\n",
       "      <th>Oxidation (M) Score Diffs</th>\n",
       "      <th>Acetyl (Protein N-term)</th>\n",
       "      <th>Oxidation (M)</th>\n",
       "      <th>Missed cleavages</th>\n",
       "      <th>Proteins</th>\n",
       "      <th>...</th>\n",
       "      <th>MS1_frame_idx_left_ref</th>\n",
       "      <th>Time_minute_right_ref</th>\n",
       "      <th>MS1_frame_idx_right_ref</th>\n",
       "      <th>IsoMZ</th>\n",
       "      <th>IsoAbundance</th>\n",
       "      <th>mz_rank</th>\n",
       "      <th>mz_bin</th>\n",
       "      <th>mz_length</th>\n",
       "      <th>pept_batch_idx</th>\n",
       "      <th>search_range</th>\n",
       "    </tr>\n",
       "  </thead>\n",
       "  <tbody>\n",
       "  </tbody>\n",
       "</table>\n",
       "<p>0 rows × 122 columns</p>\n",
       "</div>"
      ],
      "text/plain": [
       "Empty DataFrame\n",
       "Columns: [Sequence, Length, Modifications, Modified sequence, Oxidation (M) Probabilities, Oxidation (M) Score Diffs, Acetyl (Protein N-term), Oxidation (M), Missed cleavages, Proteins, Leading proteins, Leading razor protein, Gene names, Protein names, Type, Raw file, Experiment, MS/MS m/z, Charge, m/z, Mass, Uncalibrated - Calibrated m/z [ppm], Uncalibrated - Calibrated m/z [Da], Mass error [ppm], Mass error [Da], Uncalibrated mass error [ppm], Uncalibrated mass error [Da], Max intensity m/z 0, Retention time, Retention length, Calibrated retention time, Calibrated retention time start, Calibrated retention time finish, Retention time calibration, Ion mobility index, Ion mobility length, 1/K0, 1/K0 length, Calibrated 1/K0, CCS, Calibrated CCS, CCS length, Match time difference, Match m/z difference, Match K0 difference, Match q-value, Match score, Number of data points, Number of scans, Number of isotopic peaks, PIF, Fraction of total spectrum, Base peak fraction, PEP, MS/MS count, MS/MS scan number, Score, Delta score, Combinatorics, Intensity, Reverse, Potential contaminant, id, Protein group IDs, Peptide ID, Mod. peptide ID, MS/MS IDs, Best MS/MS, Oxidation (M) site IDs, Taxonomy IDs, mobility_values_index_center_ref, mobility_values_center_ref, mobility_values_index_left_ref, mobility_values_index_right_ref, source, MS/MS scan numbers, MS3 scan numbers, Taxonomy names, Mass deficit, Time_minute_center_exp, MS1_frame_idx_center_exp, Time_minute_left_exp, MS1_frame_idx_left_exp, Time_minute_right_exp, MS1_frame_idx_right_exp, mobility_values_index_center_exp, mobility_values_center_exp, mobility_values_index_left_exp, mobility_values_index_right_exp, TD pair id, Decoy, _merge, rt_pred, predicted_RT, mobility_pred, mobility_pred_left, mobility_pred_right, mobility_values_index_center_pred, mobility_values_center_pred, mobility_values_index_left_pred, ...]\n",
       "Index: []\n",
       "\n",
       "[0 rows x 122 columns]"
      ]
     },
     "execution_count": 10,
     "metadata": {},
     "output_type": "execute_result"
    }
   ],
   "source": [
    "dict.loc[\n",
    "    (\n",
    "        ~dict[\"mobility_values_index_left_exp\"].isna()\n",
    "        & ~dict[\"mobility_values_index_left_ref\"].isna()\n",
    "    )\n",
    "]"
   ]
  },
  {
   "cell_type": "code",
   "execution_count": 8,
   "metadata": {},
   "outputs": [
    {
     "name": "stderr",
     "output_type": "stream",
     "text": [
      "/tmp/ipykernel_251747/275869916.py:3: SettingWithCopyWarning: \n",
      "A value is trying to be set on a copy of a slice from a DataFrame.\n",
      "Try using .loc[row_indexer,col_indexer] = value instead\n",
      "\n",
      "See the caveats in the documentation: https://pandas.pydata.org/pandas-docs/stable/user_guide/indexing.html#returning-a-view-versus-a-copy\n",
      "  dict[\"search_range\"] = dict[\"IM_search_idx_right\"] - dict[\"IM_search_idx_left\"]\n"
     ]
    },
    {
     "data": {
      "text/plain": [
       "count    37792.000000\n",
       "mean       502.420856\n",
       "std         89.416574\n",
       "min        296.000000\n",
       "25%        431.000000\n",
       "50%        545.000000\n",
       "75%        580.000000\n",
       "max        580.000000\n",
       "Name: search_range, dtype: float64"
      ]
     },
     "execution_count": 8,
     "metadata": {},
     "output_type": "execute_result"
    }
   ],
   "source": [
    "dict = mix_im_dict\n",
    "dict = dict.loc[(dict[\"source\"] == \"exp\") & (dict[\"Decoy\"] == 0)]\n",
    "dict[\"search_range\"] = dict[\"IM_search_idx_right\"] - dict[\"IM_search_idx_left\"]\n",
    "dict[\"search_range\"].describe()"
   ]
  },
  {
   "cell_type": "code",
   "execution_count": 17,
   "metadata": {},
   "outputs": [],
   "source": [
    "maxquant_result_120 = pd.read_csv(cfg.MQ_REF_PATH, sep=\"\\t\", low_memory=False)\n",
    "maxquant_result_120 = maxquant_result_120.drop_duplicates(\n",
    "    subset=[\"Modified sequence\", \"Charge\"], keep=\"first\"\n",
    ")"
   ]
  },
  {
   "cell_type": "code",
   "execution_count": 18,
   "metadata": {},
   "outputs": [],
   "source": [
    "maxquant_result_merge = pd.merge(\n",
    "    maxquant_result_exp,\n",
    "    maxquant_result_120,\n",
    "    on=[\"Modified sequence\", \"Charge\"],\n",
    "    how=\"inner\",\n",
    "    suffixes=(\"_exp\", \"_120\"),\n",
    ")"
   ]
  },
  {
   "cell_type": "code",
   "execution_count": 19,
   "metadata": {},
   "outputs": [
    {
     "data": {
      "text/plain": [
       "0.025822950770867048"
      ]
     },
     "execution_count": 19,
     "metadata": {},
     "output_type": "execute_result"
    }
   ],
   "source": [
    "from utils.metrics import RT_metrics\n",
    "\n",
    "im_metrics = RT_metrics(\n",
    "    maxquant_result_merge[\"1/K0_exp\"],\n",
    "    maxquant_result_merge[\"1/K0_120\"],\n",
    ")\n",
    "im_metrics.CalcDeltaRTwidth()"
   ]
  },
  {
   "cell_type": "code",
   "execution_count": 11,
   "metadata": {},
   "outputs": [],
   "source": [
    "exp = maxquant_result_ref.loc[\n",
    "    (maxquant_result_ref[\"source\"] == \"exp\") & (maxquant_result_ref[\"Decoy\"] == 0)\n",
    "]"
   ]
  },
  {
   "cell_type": "code",
   "execution_count": 13,
   "metadata": {},
   "outputs": [
    {
     "data": {
      "text/plain": [
       "0.9909426098108368"
      ]
     },
     "execution_count": 13,
     "metadata": {},
     "output_type": "execute_result"
    },
    {
     "data": {
      "text/plain": [
       "0.9868013252110719"
      ]
     },
     "execution_count": 13,
     "metadata": {},
     "output_type": "execute_result"
    }
   ],
   "source": [
    "(exp[\"IM_search_idx_left\"] <= exp[\"mobility_values_index_left_exp\"]).sum() / exp.shape[\n",
    "    0\n",
    "]\n",
    "(\n",
    "    exp[\"IM_search_idx_right\"] >= exp[\"mobility_values_index_right_exp\"]\n",
    ").sum() / exp.shape[0]"
   ]
  },
  {
   "cell_type": "code",
   "execution_count": 14,
   "metadata": {},
   "outputs": [
    {
     "data": {
      "text/plain": [
       "Decoy\n",
       "True     2732\n",
       "False    1828\n",
       "Name: count, dtype: int64"
      ]
     },
     "execution_count": 14,
     "metadata": {},
     "output_type": "execute_result"
    }
   ],
   "source": [
    "maxquant_result_ref.loc[\n",
    "    maxquant_result_ref[\"IM_search_idx_center\"] == 0, \"Decoy\"\n",
    "].value_counts()"
   ]
  },
  {
   "cell_type": "code",
   "execution_count": 22,
   "metadata": {},
   "outputs": [
    {
     "name": "stdout",
     "output_type": "stream",
     "text": [
      "2024-08-23 21:31:30> Double check MS1 frame index range: 0 - 2465\n",
      "2024-08-23 21:31:30> Double check mobility values index range: 0 - 936\n"
     ]
    }
   ],
   "source": [
    "maxquant_result_ref = pd.read_csv(cfg.MQ_REF_PATH, sep=\"\\t\", low_memory=False)\n",
    "# TODO filter ref df if needed\n",
    "\n",
    "ms1scans, mobility_values_df = export_im_and_ms1scans(\n",
    "    data=data, swaps_result_dir=cfg.RESULT_PATH\n",
    ")"
   ]
  },
  {
   "cell_type": "code",
   "execution_count": 26,
   "metadata": {},
   "outputs": [
    {
     "name": "stdout",
     "output_type": "stream",
     "text": [
      "2024-08-23 21:39:58> RT index range: (0.0, 29.99395301666667)\n",
      "2024-08-23 21:39:58> IM index range: (0.8499923349815138, 1.3170480026992464)\n",
      "2024-08-23 21:39:58> Using existing RT model\n",
      "2024-08-23 21:39:58> Using existing IM model\n",
      "2024-08-23 21:39:58> IM index length not given, using peptide specific im length values: 0         40\n",
      "1         99\n",
      "2        133\n",
      "3         57\n",
      "4         70\n",
      "        ... \n",
      "38316     24\n",
      "38317     36\n",
      "38318     79\n",
      "38319     90\n",
      "38320    210\n",
      "Name: Ion mobility length, Length: 38321, dtype: int64\n",
      "2024-08-23 21:39:59> IM index length not given, using peptide specific im length values: 0         10\n",
      "1         25\n",
      "2         24\n",
      "3         24\n",
      "4         30\n",
      "          ..\n",
      "228716    10\n",
      "228717    10\n",
      "228718    12\n",
      "228719    13\n",
      "228720    13\n",
      "Name: Ion mobility length, Length: 228721, dtype: int64\n",
      "2024-08-23 21:39:59> Removing 189 decoys from file, 228532 entries left.\n",
      "2024-08-23 21:39:59> Removing 23 decoys from file, 38298 entries left.\n",
      "2024-08-23 21:39:59> Removing 506 duplicate entries from experiment file, 37792 entries left.\n",
      "2024-08-23 21:40:00> Generating decoy\n",
      "2024-08-23 21:40:14> Number of decoys generated: 90261\n",
      "2024-08-23 21:40:14> Number of decoys after removing decoys identical to any targets: 90261, 0 are removed\n",
      "2024-08-23 21:40:23> dict size: (180522, 92)\n",
      "2024-08-23 21:40:29> dict_for_pred size: (178723, 18)\n",
      "2024-08-23 21:41:27> Number of entries with empty prediction: 1799\n",
      "2024-08-23 21:41:28> dict size after dropping empty prediction: (178723, 93)\n",
      "2024-08-23 21:41:28> dict size: (178723, 94)\n",
      "2024-08-23 21:41:34> dict_for_pred size: (178723, 18)\n",
      "2024-08-23 21:42:32> Number of entries with empty prediction: 0\n",
      "2024-08-23 21:42:33> dict size after dropping empty prediction: (178723, 95)\n",
      "2024-08-23 21:43:03> Finish. Filtered prediction dataframe dimension: (178723, 113), columns: Index(['Sequence', 'Length', 'Modifications', 'Modified sequence',\n",
      "       'Oxidation (M) Probabilities', 'Oxidation (M) Score Diffs',\n",
      "       'Acetyl (Protein N-term)', 'Oxidation (M)', 'Missed cleavages',\n",
      "       'Proteins',\n",
      "       ...\n",
      "       'Time_minute_left_ref', 'MS1_frame_idx_left_ref',\n",
      "       'Time_minute_right_ref', 'MS1_frame_idx_right_ref', 'IsoMZ',\n",
      "       'IsoAbundance', 'mz_rank', 'mz_bin', 'mz_length', 'pept_batch_idx'],\n",
      "      dtype='object', length=113)\n",
      "2024-08-23 21:43:03> Finished dictionary preparation and saved config to /cmnfs/proj/ORIGINS/SWAPS_exp/tims_ramp_time/120min_libaray_100ms_20240823_205303_377541/config_20240823_205303_377541.yaml\n"
     ]
    }
   ],
   "source": [
    "%autoreload 2\n",
    "from prepare_dict.prepare_dict import construct_dict\n",
    "if cfg.DICT_PICKLE_PATH != \"\":\n",
    "    maxquant_result_ref = pd.read_pickle(filepath_or_buffer=cfg.DICT_PICKLE_PATH)\n",
    "else:\n",
    "    device_alpha = \"gpu\"\n",
    "    maxquant_result_ref, dict_pickle_path, cfg_prepare_dict = construct_dict(\n",
    "        cfg_prepare_dict=cfg.PREPARE_DICT,\n",
    "        filter_exp_by_raw_file=cfg.FILTER_EXP_BY_RAW_FILE,\n",
    "        maxquant_exp_path=cfg.MQ_EXP_PATH,\n",
    "        # maxquant_exp_df=maxquant_result_exp,\n",
    "        maxquant_ref_df=maxquant_result_ref,\n",
    "        result_dir=os.path.join(cfg.RESULT_PATH),\n",
    "        mobility_values_df=mobility_values_df,\n",
    "        rt_values_df=ms1scans,\n",
    "        random_seed=cfg.RANDOM_SEED,\n",
    "        #device = device_alpha\n",
    "    )\n",
    "    cfg.PREPARE_DICT = cfg_prepare_dict\n",
    "    cfg.DICT_PICKLE_PATH = dict_pickle_path\n",
    "cfg.dump(\n",
    "    stream=open(\n",
    "        os.path.join(cfg.RESULT_PATH, f\"config_{name_timestamp}.yaml\"),\n",
    "        \"w\",\n",
    "        encoding=\"utf-8\",\n",
    "    )\n",
    ")\n",
    "logging.info(\n",
    "    \"Finished dictionary preparation and saved config to %s\",\n",
    "    os.path.join(cfg.RESULT_PATH, f\"config_{name_timestamp}.yaml\"),\n",
    ")"
   ]
  },
  {
   "cell_type": "code",
   "execution_count": 33,
   "metadata": {},
   "outputs": [
    {
     "data": {
      "text/plain": [
       "0.8004218940734864"
      ]
     },
     "execution_count": 33,
     "metadata": {},
     "output_type": "execute_result"
    }
   ],
   "source": [
    "cfg.PREPARE_DICT.RT_TOL"
   ]
  },
  {
   "cell_type": "code",
   "execution_count": 34,
   "metadata": {},
   "outputs": [
    {
     "data": {
      "text/plain": [
       "0.046652341282818366"
      ]
     },
     "execution_count": 34,
     "metadata": {},
     "output_type": "execute_result"
    }
   ],
   "source": [
    "cfg.PREPARE_DICT.IM_TOL"
   ]
  },
  {
   "cell_type": "code",
   "execution_count": 27,
   "metadata": {},
   "outputs": [
    {
     "data": {
      "text/plain": [
       "Decoy\n",
       "False    89533\n",
       "True     89190\n",
       "Name: count, dtype: int64"
      ]
     },
     "execution_count": 27,
     "metadata": {},
     "output_type": "execute_result"
    }
   ],
   "source": [
    "maxquant_result_ref[\"Decoy\"].value_counts()"
   ]
  },
  {
   "cell_type": "code",
   "execution_count": 45,
   "metadata": {},
   "outputs": [
    {
     "data": {
      "text/plain": [
       "count    37428.000000\n",
       "mean        13.677540\n",
       "std          5.633527\n",
       "min          1.650897\n",
       "25%          9.296818\n",
       "50%         13.459262\n",
       "75%         17.779873\n",
       "max         28.151843\n",
       "Name: rt_pred, dtype: float64"
      ]
     },
     "execution_count": 45,
     "metadata": {},
     "output_type": "execute_result"
    },
    {
     "data": {
      "text/plain": [
       "0.7245102416217345"
      ]
     },
     "execution_count": 45,
     "metadata": {},
     "output_type": "execute_result"
    }
   ],
   "source": [
    "from utils.metrics import RT_metrics\n",
    "\n",
    "exp = maxquant_result_ref.loc[\n",
    "    (maxquant_result_ref[\"source\"] == \"exp\") & (maxquant_result_ref[\"Decoy\"] == 0), :\n",
    "]\n",
    "rt = RT_metrics(exp[\"Retention time\"], exp[\"rt_pred\"])\n",
    "exp[\"rt_pred\"].describe()\n",
    "rt.CalcDeltaRTwidth()"
   ]
  },
  {
   "cell_type": "code",
   "execution_count": 44,
   "metadata": {},
   "outputs": [
    {
     "data": {
      "text/plain": [
       "0.046269700063422764"
      ]
     },
     "execution_count": 44,
     "metadata": {},
     "output_type": "execute_result"
    }
   ],
   "source": [
    "rt = RT_metrics(exp[\"1/K0\"], exp[\"mobility_pred\"])\n",
    "rt.CalcDeltaRTwidth()"
   ]
  },
  {
   "cell_type": "code",
   "execution_count": 42,
   "metadata": {},
   "outputs": [
    {
     "data": {
      "text/html": [
       "<div>\n",
       "<style scoped>\n",
       "    .dataframe tbody tr th:only-of-type {\n",
       "        vertical-align: middle;\n",
       "    }\n",
       "\n",
       "    .dataframe tbody tr th {\n",
       "        vertical-align: top;\n",
       "    }\n",
       "\n",
       "    .dataframe thead th {\n",
       "        text-align: right;\n",
       "    }\n",
       "</style>\n",
       "<table border=\"1\" class=\"dataframe\">\n",
       "  <thead>\n",
       "    <tr style=\"text-align: right;\">\n",
       "      <th></th>\n",
       "      <th>1/K0</th>\n",
       "      <th>mobility_pred</th>\n",
       "    </tr>\n",
       "  </thead>\n",
       "  <tbody>\n",
       "    <tr>\n",
       "      <th>2</th>\n",
       "      <td>0.904578</td>\n",
       "      <td>0.894265</td>\n",
       "    </tr>\n",
       "    <tr>\n",
       "      <th>26</th>\n",
       "      <td>0.866691</td>\n",
       "      <td>0.884691</td>\n",
       "    </tr>\n",
       "    <tr>\n",
       "      <th>46</th>\n",
       "      <td>1.001167</td>\n",
       "      <td>0.997565</td>\n",
       "    </tr>\n",
       "    <tr>\n",
       "      <th>78</th>\n",
       "      <td>0.955962</td>\n",
       "      <td>0.971379</td>\n",
       "    </tr>\n",
       "    <tr>\n",
       "      <th>82</th>\n",
       "      <td>0.900036</td>\n",
       "      <td>0.874328</td>\n",
       "    </tr>\n",
       "    <tr>\n",
       "      <th>...</th>\n",
       "      <td>...</td>\n",
       "      <td>...</td>\n",
       "    </tr>\n",
       "    <tr>\n",
       "      <th>178608</th>\n",
       "      <td>1.118109</td>\n",
       "      <td>1.118839</td>\n",
       "    </tr>\n",
       "    <tr>\n",
       "      <th>178620</th>\n",
       "      <td>1.101668</td>\n",
       "      <td>1.119999</td>\n",
       "    </tr>\n",
       "    <tr>\n",
       "      <th>178621</th>\n",
       "      <td>1.284555</td>\n",
       "      <td>1.271698</td>\n",
       "    </tr>\n",
       "    <tr>\n",
       "      <th>178627</th>\n",
       "      <td>1.280119</td>\n",
       "      <td>1.280387</td>\n",
       "    </tr>\n",
       "    <tr>\n",
       "      <th>178634</th>\n",
       "      <td>1.240140</td>\n",
       "      <td>1.242168</td>\n",
       "    </tr>\n",
       "  </tbody>\n",
       "</table>\n",
       "<p>37428 rows × 2 columns</p>\n",
       "</div>"
      ],
      "text/plain": [
       "            1/K0  mobility_pred\n",
       "2       0.904578       0.894265\n",
       "26      0.866691       0.884691\n",
       "46      1.001167       0.997565\n",
       "78      0.955962       0.971379\n",
       "82      0.900036       0.874328\n",
       "...          ...            ...\n",
       "178608  1.118109       1.118839\n",
       "178620  1.101668       1.119999\n",
       "178621  1.284555       1.271698\n",
       "178627  1.280119       1.280387\n",
       "178634  1.240140       1.242168\n",
       "\n",
       "[37428 rows x 2 columns]"
      ]
     },
     "execution_count": 42,
     "metadata": {},
     "output_type": "execute_result"
    }
   ],
   "source": [
    "exp[[\"1/K0\", \"mobility_pred\"]]"
   ]
  },
  {
   "cell_type": "code",
   "execution_count": 5,
   "metadata": {},
   "outputs": [],
   "source": [
    "import pandas as pd\n",
    "\n",
    "previous_dict = pd.read_pickle(\n",
    "    \"/cmnfs/proj/ORIGINS/SWAPS_exp/tims_ramp_time/120min_libaray_100ms_20240824_221641_958349/maxquant_result_ref.pkl\"\n",
    ")"
   ]
  },
  {
   "cell_type": "code",
   "execution_count": 15,
   "metadata": {},
   "outputs": [
    {
     "data": {
      "text/plain": [
       "Decoy\n",
       "True     2753\n",
       "False    1851\n",
       "Name: count, dtype: int64"
      ]
     },
     "execution_count": 15,
     "metadata": {},
     "output_type": "execute_result"
    }
   ],
   "source": [
    "previous_dict.loc[previous_dict[\"IM_search_idx_right\"] <= 100, \"Decoy\"].value_counts()"
   ]
  },
  {
   "cell_type": "code",
   "execution_count": 25,
   "metadata": {},
   "outputs": [
    {
     "data": {
      "text/plain": [
       "331.0"
      ]
     },
     "execution_count": 25,
     "metadata": {},
     "output_type": "execute_result"
    },
    {
     "data": {
      "text/plain": [
       "580.0"
      ]
     },
     "execution_count": 25,
     "metadata": {},
     "output_type": "execute_result"
    },
    {
     "data": {
      "text/plain": [
       "337.0"
      ]
     },
     "execution_count": 25,
     "metadata": {},
     "output_type": "execute_result"
    }
   ],
   "source": [
    "previous_dict[\"Ion mobility length\"].quantile(0.99)\n",
    "previous_dict.loc[previous_dict[\"source\"] == \"exp\", \"Ion mobility length\"].quantile(\n",
    "    0.999\n",
    ")\n",
    "previous_dict.loc[previous_dict[\"source\"] == \"ref\", \"Ion mobility length\"].quantile(\n",
    "    0.9999\n",
    ")"
   ]
  },
  {
   "cell_type": "code",
   "execution_count": 20,
   "metadata": {},
   "outputs": [
    {
     "data": {
      "text/plain": [
       "397.0"
      ]
     },
     "execution_count": 20,
     "metadata": {},
     "output_type": "execute_result"
    }
   ],
   "source": []
  },
  {
   "cell_type": "code",
   "execution_count": 48,
   "metadata": {},
   "outputs": [
    {
     "data": {
      "text/plain": [
       "(180497, 2)"
      ]
     },
     "execution_count": 48,
     "metadata": {},
     "output_type": "execute_result"
    }
   ],
   "source": [
    "previous_dict[[\"Modified sequence\", \"Charge\"]].drop_duplicates().shape"
   ]
  },
  {
   "cell_type": "code",
   "execution_count": 54,
   "metadata": {},
   "outputs": [
    {
     "data": {
      "text/plain": [
       "68539"
      ]
     },
     "execution_count": 54,
     "metadata": {},
     "output_type": "execute_result"
    }
   ],
   "source": [
    "maxquant_result_ref[\"MS/MS scan number\"].nunique()"
   ]
  },
  {
   "cell_type": "code",
   "execution_count": 52,
   "metadata": {},
   "outputs": [
    {
     "data": {
      "text/plain": [
       "Index(['Sequence', 'Length', 'Modifications', 'Modified sequence',\n",
       "       'Oxidation (M) Probabilities', 'Oxidation (M) Score Diffs',\n",
       "       'Acetyl (Protein N-term)', 'Oxidation (M)', 'Missed cleavages',\n",
       "       'Proteins',\n",
       "       ...\n",
       "       'Time_minute_left_ref', 'MS1_frame_idx_left_ref',\n",
       "       'Time_minute_right_ref', 'MS1_frame_idx_right_ref', 'IsoMZ',\n",
       "       'IsoAbundance', 'mz_rank', 'mz_bin', 'mz_length', 'pept_batch_idx'],\n",
       "      dtype='object', length=120)"
      ]
     },
     "execution_count": 52,
     "metadata": {},
     "output_type": "execute_result"
    }
   ],
   "source": [
    "previous_dict.columns"
   ]
  },
  {
   "cell_type": "code",
   "execution_count": 53,
   "metadata": {},
   "outputs": [
    {
     "data": {
      "text/plain": [
       "37792"
      ]
     },
     "execution_count": 53,
     "metadata": {},
     "output_type": "execute_result"
    }
   ],
   "source": [
    "previous_dict[\"MS/MS scan numbers\"].nunique()"
   ]
  },
  {
   "cell_type": "code",
   "execution_count": 49,
   "metadata": {},
   "outputs": [
    {
     "data": {
      "text/plain": [
       "Series([], Name: count, dtype: int64)"
      ]
     },
     "execution_count": 49,
     "metadata": {},
     "output_type": "execute_result"
    }
   ],
   "source": [
    "previous_dict[\"Reverse\"].value_counts()"
   ]
  }
 ],
 "metadata": {
  "kernelspec": {
   "display_name": "base",
   "language": "python",
   "name": "python3"
  },
  "language_info": {
   "codemirror_mode": {
    "name": "ipython",
    "version": 3
   },
   "file_extension": ".py",
   "mimetype": "text/x-python",
   "name": "python",
   "nbconvert_exporter": "python",
   "pygments_lexer": "ipython3",
   "version": "3.10.12"
  },
  "orig_nbformat": 4
 },
 "nbformat": 4,
 "nbformat_minor": 2
}

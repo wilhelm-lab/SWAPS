{
 "cells": [
  {
   "cell_type": "markdown",
   "metadata": {},
   "source": [
    "This is an example notebook for CNN peak classification model with different input features (i.e. 3 dimension or 5 dimension or multi input model)"
   ]
  },
  {
   "cell_type": "code",
   "execution_count": 1,
   "metadata": {},
   "outputs": [],
   "source": [
    "import logging\n",
    "from IPython.core.interactiveshell import InteractiveShell\n",
    "\n",
    "InteractiveShell.ast_node_interactivity = \"all\"\n",
    "logging.basicConfig(\n",
    "    level=logging.INFO, format=\"%(asctime)s - %(name)s - %(levelname)s - %(message)s\"\n",
    ")\n",
    "%load_ext autoreload"
   ]
  },
  {
   "cell_type": "code",
   "execution_count": 2,
   "metadata": {},
   "outputs": [
    {
     "name": "stderr",
     "output_type": "stream",
     "text": [
      "2024-03-08 13:23:34,435 - numexpr.utils - INFO - Note: NumExpr detected 32 cores but \"NUMEXPR_MAX_THREADS\" not set, so enforcing safe limit of 8.\n",
      "2024-03-08 13:23:34,436 - numexpr.utils - INFO - NumExpr defaulting to 8 threads.\n"
     ]
    }
   ],
   "source": [
    "import pandas as pd\n",
    "import os\n",
    "import sys\n",
    "import numpy as np\n",
    "\n",
    "module_path = os.path.abspath(os.path.join(\"..\"))\n",
    "if module_path not in sys.path:\n",
    "    sys.path.append(module_path)"
   ]
  },
  {
   "cell_type": "markdown",
   "metadata": {},
   "source": [
    "# Load Data"
   ]
  },
  {
   "cell_type": "code",
   "execution_count": 3,
   "metadata": {},
   "outputs": [],
   "source": [
    "# experiment specific\n",
    "result_base_dir = \"collinear_BBM_647_P241_02_07_ssDDA_MIA_001_ScanByScan_RTtol1.0_threshold_missabthres0.5_convergence_NoIntercept_pred_PScosDist\""
   ]
  },
  {
   "cell_type": "code",
   "execution_count": 4,
   "metadata": {},
   "outputs": [],
   "source": [
    "# edit experiment specific data path and config\n",
    "import json\n",
    "\n",
    "result_parent_dir = \"/cmnfs/proj/ORIGINS/data/ecoli/ss/DDA/raw/msconvert/\"\n",
    "MS1Scans_NoArray_path = (\n",
    "    \"/cmnfs/proj/ORIGINS/data/ecoli/ss/DDA/raw/msconvert/\"\n",
    "    \"BBM_647_P241_02_07_ssDDA_MIA_001_MS1Scans_NoArray.csv\"\n",
    ")\n",
    "result_dir = os.path.join(result_parent_dir, result_base_dir)\n",
    "report_dir = os.path.join(result_dir, \"report\")\n",
    "with open(os.path.join(result_dir, \"param.json\"), mode=\"r\", encoding=\"utf-8\") as file:\n",
    "    config = json.load(file)\n",
    "output_file = os.path.join(result_dir, \"output\")  # filename\n",
    "maxquant_file_exp = config[\"MQ_exp_path\"]\n",
    "maxquant_file_ref = os.path.join(result_dir, \"maxquant_result_ref.pkl\")"
   ]
  },
  {
   "cell_type": "code",
   "execution_count": 5,
   "metadata": {},
   "outputs": [],
   "source": [
    "# Load data\n",
    "ms1scans_no_array = pd.read_csv(MS1Scans_NoArray_path)\n",
    "ms1scans_no_array[\"scan_number\"] = ms1scans_no_array.index.astype(int)\n",
    "maxquant_result_ref = pd.read_pickle(filepath_or_buffer=maxquant_file_ref)\n",
    "maxquant_result_ref.index = maxquant_result_ref[\"id\"]\n",
    "maxquant_result_exp = pd.read_csv(filepath_or_buffer=maxquant_file_exp, sep=\"\\t\")\n",
    "scan_record = pd.read_pickle(output_file + \"_scan_record.pkl\")\n",
    "sum_raw = pd.read_csv(os.path.join(result_dir, \"sum_raw.csv\"))\n",
    "sum_minima = pd.read_csv(os.path.join(result_dir, \"sum_minima.csv\"))\n",
    "sum_gaussian = pd.read_csv(os.path.join(result_dir, \"sum_gaussian.csv\"))\n",
    "sum_peak = pd.read_csv(os.path.join(result_dir, \"sum_peak.csv\"))\n",
    "peak_results = pd.read_csv(os.path.join(result_dir, \"peak_results.csv\"))\n",
    "peak_results_matched = pd.read_csv(os.path.join(result_dir, \"peak_results_matched.csv\"))"
   ]
  },
  {
   "cell_type": "markdown",
   "metadata": {},
   "source": [
    "# Exploratory analysis\n",
    "## Does RT search window covers true elution peak?"
   ]
  },
  {
   "cell_type": "code",
   "execution_count": 7,
   "metadata": {},
   "outputs": [],
   "source": [
    "%autoreload 2\n",
    "from result_analysis import result_analysis\n",
    "sbs_result = result_analysis.SBSResult(\n",
    "    maxquant_ref_df=maxquant_result_ref,\n",
    "    maxquant_exp_df=maxquant_result_exp,\n",
    "    sum_raw=sum_raw,\n",
    ")"
   ]
  },
  {
   "cell_type": "code",
   "execution_count": 8,
   "metadata": {},
   "outputs": [
    {
     "name": "stderr",
     "output_type": "stream",
     "text": [
      "2024-03-08 13:23:54,190 - result_analysis.compare_maxquant - INFO - RT overlap counts: full_overlap       17185\n",
      "no_overlap          1469\n",
      "partial_overlap      532\n",
      "Name: RT_overlap, dtype: int64\n"
     ]
    },
    {
     "data": {
      "image/png": "[encoded data removed]",
      "text/plain": [
       "<Figure size 640x480 with 1 Axes>"
      ]
     },
     "metadata": {},
     "output_type": "display_data"
    },
    {
     "name": "stderr",
     "output_type": "stream",
     "text": [
      "2024-03-08 13:23:55,215 - result_analysis.result_analysis - INFO - No filter_by_rt_overlap is specified, use all entries for plotting.\n",
      "2024-03-08 13:23:55,228 - result_analysis.result_analysis - INFO - Drop all duplicated pcm. 19186 -> 18753\n"
     ]
    }
   ],
   "source": [
    "sbs_result.compare_with_maxquant_exp_int(\n",
    "    filter_by_rt_overlap=None, handle_mul_exp_pcm=\"drop\", save_dir=None\n",
    ")"
   ]
  },
  {
   "cell_type": "code",
   "execution_count": 9,
   "metadata": {},
   "outputs": [],
   "source": [
    "merged_df = sbs_result.ref_exp_df_inner"
   ]
  },
  {
   "cell_type": "markdown",
   "metadata": {},
   "source": [
    "## Peak stats from activation peak extraction"
   ]
  },
  {
   "cell_type": "code",
   "execution_count": 10,
   "metadata": {},
   "outputs": [
    {
     "data": {
      "text/plain": [
       "False    63781\n",
       "True     18020\n",
       "Name: matched, dtype: int64"
      ]
     },
     "execution_count": 10,
     "metadata": {},
     "output_type": "execute_result"
    }
   ],
   "source": [
    "peak_results_matched.matched.value_counts(normalize=False)"
   ]
  },
  {
   "cell_type": "code",
   "execution_count": 12,
   "metadata": {},
   "outputs": [],
   "source": [
    "peak_results_matched[\"peak_intensity_auc_log\"] = np.round(\n",
    "    np.log10(peak_results_matched[\"peak_intensity_auc\"] + 1), 0\n",
    ")\n",
    "peak_results_matched[\"RT_diff_sum_round\"] = np.round(\n",
    "    peak_results_matched[\"RT_diff_sum\"], 1\n",
    ")"
   ]
  },
  {
   "cell_type": "code",
   "execution_count": 13,
   "metadata": {},
   "outputs": [
    {
     "name": "stderr",
     "output_type": "stream",
     "text": [
      "2024-03-08 13:24:02.946098: I tensorflow/core/platform/cpu_feature_guard.cc:182] This TensorFlow binary is optimized to use available CPU instructions in performance-critical operations.\n",
      "To enable the following instructions: AVX2 FMA, in other operations, rebuild TensorFlow with the appropriate compiler flags.\n",
      "2024-03-08 13:24:14.907980: W tensorflow/compiler/tf2tensorrt/utils/py_utils.cc:38] TF-TRT Warning: Could not find TensorRT\n",
      "2024-03-08 13:24:45.686388: W tensorflow/core/common_runtime/gpu/gpu_device.cc:1956] Cannot dlopen some GPU libraries. Please make sure the missing libraries mentioned above are installed properly if you would like to use GPU. Follow the guide at https://www.tensorflow.org/install/gpu for how to download and setup the required libraries for your platform.\n",
      "Skipping registering GPU devices...\n",
      "2024-03-08 13:24:47,101 - matplotlib.category - INFO - Using categorical units to plot a list of strings that are all parsable as floats or dates. If these strings should be plotted as numbers, cast to the appropriate data type before plotting.\n",
      "2024-03-08 13:24:47,145 - matplotlib.category - INFO - Using categorical units to plot a list of strings that are all parsable as floats or dates. If these strings should be plotted as numbers, cast to the appropriate data type before plotting.\n"
     ]
    }
   ],
   "source": [
    "%autoreload 2\n",
    "from postprocessing.peak_selection import report_peak_property_distr\n",
    "report_peak_property_distr(peak_results_matched, property_col=\"peak_width\", save_dir=report_dir)"
   ]
  },
  {
   "cell_type": "code",
   "execution_count": 14,
   "metadata": {},
   "outputs": [
    {
     "name": "stderr",
     "output_type": "stream",
     "text": [
      "2024-03-08 13:24:49,300 - matplotlib.category - INFO - Using categorical units to plot a list of strings that are all parsable as floats or dates. If these strings should be plotted as numbers, cast to the appropriate data type before plotting.\n",
      "2024-03-08 13:24:49,349 - matplotlib.category - INFO - Using categorical units to plot a list of strings that are all parsable as floats or dates. If these strings should be plotted as numbers, cast to the appropriate data type before plotting.\n"
     ]
    }
   ],
   "source": [
    "%autoreload 2\n",
    "from postprocessing.peak_selection import report_peak_property_distr\n",
    "report_peak_property_distr(peak_results_matched, property_col='peak_intensity_auc_log', save_dir=report_dir)"
   ]
  },
  {
   "cell_type": "markdown",
   "metadata": {},
   "source": [
    "# Data cleaning\n",
    "## Set peaks that is too far from true peak by time to be false"
   ]
  },
  {
   "cell_type": "code",
   "execution_count": 15,
   "metadata": {},
   "outputs": [],
   "source": [
    "# set peaks with larget RT_diff_sum to be false\n",
    "peak_results_matched.loc[\n",
    "    peak_results_matched[\"jaccard_similarity\"] < 0.5, \"matched\"\n",
    "] = False"
   ]
  },
  {
   "cell_type": "code",
   "execution_count": 16,
   "metadata": {},
   "outputs": [
    {
     "data": {
      "text/plain": [
       "count    16164.000000\n",
       "mean         0.035618\n",
       "std          0.032506\n",
       "min          0.009305\n",
       "25%          0.017161\n",
       "50%          0.018080\n",
       "75%          0.035005\n",
       "max          0.682609\n",
       "Name: RT_diff_sum, dtype: float64"
      ]
     },
     "execution_count": 16,
     "metadata": {},
     "output_type": "execute_result"
    }
   ],
   "source": [
    "peak_results_matched[peak_results_matched[\"matched\"]][\"RT_diff_sum\"].describe()"
   ]
  },
  {
   "cell_type": "markdown",
   "metadata": {},
   "source": [
    "# Data preprocessing\n",
    "peak_results mark the annotated data:\n",
    "- matched: binary classification task\n"
   ]
  },
  {
   "cell_type": "markdown",
   "metadata": {},
   "source": [
    "## Generate sequence and labels\n",
    "### Read all feature data"
   ]
  },
  {
   "cell_type": "code",
   "execution_count": 17,
   "metadata": {},
   "outputs": [],
   "source": [
    "# Load activation sequence\n",
    "activation = np.load(output_file + \"_activationByScanFromLasso.npy\")\n",
    "activation_df = pd.DataFrame(activation, index=maxquant_result_ref.id)"
   ]
  },
  {
   "cell_type": "code",
   "execution_count": 18,
   "metadata": {},
   "outputs": [],
   "source": [
    "# Load PS cosine distance\n",
    "cos_dist = np.load(output_file + \"_precursor_scan_CosDist.npy\")\n",
    "cos_dist_df = pd.DataFrame(cos_dist, index=maxquant_result_ref.id)"
   ]
  },
  {
   "cell_type": "code",
   "execution_count": 20,
   "metadata": {},
   "outputs": [],
   "source": [
    "# Load number of collinear sequences\n",
    "try:\n",
    "    n_collinear_precursor = np.load(\n",
    "        output_file + \"_n_collinear_precursor.npy\", allow_pickle=True\n",
    "    )\n",
    "    n_collinear_precursor_df = pd.DataFrame(\n",
    "        n_collinear_precursor, index=maxquant_result_ref.id\n",
    "    )\n",
    "except FileNotFoundError:\n",
    "    # if file not found, count number of collinear precursors\n",
    "    collinear_precursor = np.load(\n",
    "        output_file + \"_collinearPrecursors.npy\", allow_pickle=True\n",
    "    )\n",
    "\n",
    "    # Function to get length of list or 0\n",
    "    vectorized_length = np.vectorize(lambda x: len(x) if isinstance(x, list) else 0)\n",
    "\n",
    "    # Apply function to ndarray\n",
    "    n_collinear_precursor = vectorized_length(collinear_precursor)\n",
    "    np.save(output_file + \"_n_collinear_precursor.npy\", n_collinear_precursor)"
   ]
  },
  {
   "cell_type": "code",
   "execution_count": 21,
   "metadata": {},
   "outputs": [],
   "source": [
    "peak_results_matched_search_range = pd.merge(\n",
    "    left=peak_results_matched.reset_index(),\n",
    "    right=maxquant_result_ref[\n",
    "        [\"RT_search_left\", \"RT_search_right\", \"RT_search_center\"]\n",
    "    ],\n",
    "    right_index=True,\n",
    "    left_on=\"id\",\n",
    "    how=\"left\",\n",
    ")"
   ]
  },
  {
   "cell_type": "markdown",
   "metadata": {},
   "source": [
    "### Prepare sequence and label for each feature"
   ]
  },
  {
   "cell_type": "code",
   "execution_count": 22,
   "metadata": {},
   "outputs": [
    {
     "name": "stderr",
     "output_type": "stream",
     "text": [
      "2024-03-08 13:25:23,825 - postprocessing.peak_selection - INFO - Match time to scan for the peak results dataframe.\n",
      "2024-03-08 13:25:34,042 - postprocessing.peak_selection - INFO - Padded sequence shape: (81801, 361)\n",
      "2024-03-08 13:25:34,045 - postprocessing.peak_selection - INFO - Sequence shape: (81801, 361)\n",
      "2024-03-08 13:25:34,046 - postprocessing.peak_selection - INFO - Label shape: (81801,)\n"
     ]
    },
    {
     "data": {
      "text/plain": [
       "[<matplotlib.lines.Line2D at 0x7f94ef695510>]"
      ]
     },
     "execution_count": 22,
     "metadata": {},
     "output_type": "execute_result"
    },
    {
     "data": {
      "image/png": "[encoded data removed]",
      "text/plain": [
       "<Figure size 640x480 with 1 Axes>"
      ]
     },
     "metadata": {},
     "output_type": "display_data"
    }
   ],
   "source": [
    "import matplotlib.pyplot as plt\n",
    "from postprocessing.peak_selection import prepare_seq_and_label\n",
    "\n",
    "cos_dist_seq, cos_dist_label = prepare_seq_and_label(\n",
    "    peak_results=peak_results_matched_search_range,\n",
    "    activation_df=cos_dist_df,\n",
    "    data_unit=\"peak\",\n",
    "    ms1scans_no_array=ms1scans_no_array,\n",
    "    standardize=None,\n",
    "    pad=True,\n",
    "    log_intensity=False,\n",
    ")\n",
    "plt.plot(cos_dist_seq[1])"
   ]
  },
  {
   "cell_type": "code",
   "execution_count": 23,
   "metadata": {},
   "outputs": [],
   "source": [
    "scan_index = np.tile(activation_df.columns.values, (activation_df.shape[0], 1))\n",
    "scan_index_df = pd.DataFrame(\n",
    "    scan_index, index=activation_df.index, columns=activation_df.columns\n",
    ")\n",
    "scan_index_df = scan_index_df.astype(float)\n",
    "scan_index_seq, scan_index_label = prepare_seq_and_label(\n",
    "    peak_results=peak_results_matched_search_range,\n",
    "    activation_df=scan_index_df,\n",
    "    data_unit=\"peak\",\n",
    "    ms1scans_no_array=ms1scans_no_array,\n",
    "    standardize=None,\n",
    "    pad=True,\n",
    "    log_intensity=False,\n",
    ")"
   ]
  },
  {
   "cell_type": "code",
   "execution_count": 25,
   "metadata": {},
   "outputs": [
    {
     "name": "stderr",
     "output_type": "stream",
     "text": [
      "2024-03-07 14:49:57,609 - postprocessing.peak_selection - INFO - Padded sequence shape: (81801, 361)\n",
      "2024-03-07 14:49:57,612 - postprocessing.peak_selection - INFO - Sequence shape: (81801, 361)\n",
      "2024-03-07 14:49:57,613 - postprocessing.peak_selection - INFO - Label shape: (81801,)\n"
     ]
    },
    {
     "data": {
      "text/plain": [
       "[<matplotlib.lines.Line2D at 0x7f985db59de0>]"
      ]
     },
     "execution_count": 25,
     "metadata": {},
     "output_type": "execute_result"
    },
    {
     "data": {
      "image/png": "[encoded data removed]",
      "text/plain": [
       "<Figure size 640x480 with 1 Axes>"
      ]
     },
     "metadata": {},
     "output_type": "display_data"
    }
   ],
   "source": [
    "from utils.tools import match_time_to_scan\n",
    "\n",
    "maxquant_result_ref = match_time_to_scan(\n",
    "    df=maxquant_result_ref,\n",
    "    ms1scans_no_array=ms1scans_no_array,\n",
    "    time_cols=[\"RT_search_center\"],\n",
    ")\n",
    "rt_search_center_scan_df = pd.DataFrame(\n",
    "    index=activation_df.index, columns=activation_df.columns\n",
    ")\n",
    "rt_search_center_scan_df = rt_search_center_scan_df.apply(\n",
    "    lambda _: maxquant_result_ref[\"RT_search_center_scan\"]\n",
    ")\n",
    "rt_search_center_scan_df = rt_search_center_scan_df.astype(float)\n",
    "rt_search_center_scan_seq, rt_search_center_scan_label = prepare_seq_and_label(\n",
    "    peak_results=peak_results_matched_search_range,\n",
    "    activation_df=rt_search_center_scan_df,\n",
    "    data_unit=\"peak\",\n",
    "    ms1scans_no_array=ms1scans_no_array,\n",
    "    standardize=None,\n",
    "    pad=True,\n",
    "    log_intensity=False,\n",
    ")\n",
    "plt.plot(rt_search_center_scan_seq[0])"
   ]
  },
  {
   "cell_type": "code",
   "execution_count": 23,
   "metadata": {},
   "outputs": [
    {
     "name": "stderr",
     "output_type": "stream",
     "text": [
      "2024-03-08 13:27:06,055 - postprocessing.peak_selection - INFO - Padded sequence shape: (81801, 361)\n",
      "2024-03-08 13:27:06,056 - postprocessing.peak_selection - INFO - Sequence shape: (81801, 361)\n",
      "2024-03-08 13:27:06,057 - postprocessing.peak_selection - INFO - Label shape: (81801,)\n"
     ]
    }
   ],
   "source": [
    "n_collinear_precursor_df = n_collinear_precursor_df.astype(float)\n",
    "colliear_seq, _ = prepare_seq_and_label(\n",
    "    peak_results=peak_results_matched_search_range,\n",
    "    activation_df=n_collinear_precursor_df,\n",
    "    data_unit=\"peak\",\n",
    "    ms1scans_no_array=ms1scans_no_array,\n",
    "    standardize=None,\n",
    "    pad=True,\n",
    "    log_intensity=False,\n",
    ")"
   ]
  },
  {
   "cell_type": "code",
   "execution_count": 24,
   "metadata": {},
   "outputs": [
    {
     "name": "stderr",
     "output_type": "stream",
     "text": [
      "2024-03-08 13:27:25,785 - postprocessing.peak_selection - INFO - Padded sequence shape: (81801, 361)\n",
      "2024-03-08 13:27:25,788 - postprocessing.peak_selection - INFO - Sequence shape: (81801, 361)\n",
      "2024-03-08 13:27:25,789 - postprocessing.peak_selection - INFO - Label shape: (81801,)\n"
     ]
    },
    {
     "data": {
      "text/plain": [
       "[<matplotlib.lines.Line2D at 0x7f94ef650d30>]"
      ]
     },
     "execution_count": 24,
     "metadata": {},
     "output_type": "execute_result"
    },
    {
     "data": {
      "image/png": "[encoded data removed]",
      "text/plain": [
       "<Figure size 640x480 with 1 Axes>"
      ]
     },
     "metadata": {},
     "output_type": "display_data"
    }
   ],
   "source": [
    "peak_seq, peak_label = prepare_seq_and_label(\n",
    "    peak_results=peak_results_matched_search_range,\n",
    "    activation_df=activation_df,\n",
    "    data_unit=\"peak\",\n",
    "    ms1scans_no_array=ms1scans_no_array,\n",
    "    standardize=\"minmax\",\n",
    "    pad=True,\n",
    "    log_intensity=True,\n",
    ")\n",
    "plt.plot(peak_seq[0])"
   ]
  },
  {
   "cell_type": "markdown",
   "metadata": {},
   "source": [
    "### Stack all features together as input\n",
    "Choose what features to be incorporated: 3d or 5d input"
   ]
  },
  {
   "cell_type": "code",
   "execution_count": 25,
   "metadata": {},
   "outputs": [],
   "source": [
    "peak_seq_3d_input = np.dstack((peak_seq, cos_dist_seq, colliear_seq))"
   ]
  },
  {
   "cell_type": "code",
   "execution_count": null,
   "metadata": {},
   "outputs": [],
   "source": [
    "peak_seq_5d_input = np.dstack(\n",
    "    (peak_seq, cos_dist_seq, colliear_seq,\n",
    "     scan_index_seq, rt_search_center_scan_seq)\n",
    ")"
   ]
  },
  {
   "cell_type": "markdown",
   "metadata": {},
   "source": [
    "## (Optional) for multi-input model: genearte metadata"
   ]
  },
  {
   "cell_type": "code",
   "execution_count": null,
   "metadata": {},
   "outputs": [],
   "source": [
    "delta_rt = peak_results_matched_search_range[\"rt_search_center_diff\"].values\n",
    "metadata_input = delta_rt.reshape(-1, 1)"
   ]
  },
  {
   "cell_type": "code",
   "execution_count": null,
   "metadata": {},
   "outputs": [],
   "source": [
    "# min_max scale within each precursor\n",
    "from sklearn.preprocessing import MinMaxScaler\n",
    "\n",
    "# Group by 'id'\n",
    "grouped = peak_results_matched_search_range.groupby(\"id\")\n",
    "\n",
    "# Calculate group minimum and range\n",
    "group_min = grouped[\"rt_search_center_diff\"].transform(\"min\")\n",
    "group_range = grouped[\"rt_search_center_diff\"].transform(\"max\") - group_min"
   ]
  },
  {
   "cell_type": "code",
   "execution_count": null,
   "metadata": {},
   "outputs": [],
   "source": [
    "# Perform min-max scaling\n",
    "peak_results_matched_search_range[\"rt_search_center_diff_scaled\"] = (\n",
    "    peak_results_matched_search_range[\"rt_search_center_diff\"] - group_min\n",
    ") / group_range"
   ]
  },
  {
   "cell_type": "code",
   "execution_count": null,
   "metadata": {},
   "outputs": [],
   "source": [
    "peak_results_matched_search_range[\"rt_search_center_diff_scaled\"].fillna(\n",
    "    0, inplace=True\n",
    ")"
   ]
  },
  {
   "cell_type": "code",
   "execution_count": null,
   "metadata": {},
   "outputs": [
    {
     "data": {
      "text/plain": [
       "count    81801.000000\n",
       "mean         0.474221\n",
       "std          0.381141\n",
       "min          0.000000\n",
       "25%          0.064794\n",
       "50%          0.454340\n",
       "75%          0.858651\n",
       "max          1.000000\n",
       "Name: rt_search_center_diff_scaled, dtype: float64"
      ]
     },
     "metadata": {},
     "output_type": "display_data"
    }
   ],
   "source": [
    "peak_results_matched_search_range[\"rt_search_center_diff_scaled\"].describe()"
   ]
  },
  {
   "cell_type": "code",
   "execution_count": null,
   "metadata": {},
   "outputs": [
    {
     "data": {
      "text/html": [
       "<div>\n",
       "<style scoped>\n",
       "    .dataframe tbody tr th:only-of-type {\n",
       "        vertical-align: middle;\n",
       "    }\n",
       "\n",
       "    .dataframe tbody tr th {\n",
       "        vertical-align: top;\n",
       "    }\n",
       "\n",
       "    .dataframe thead th {\n",
       "        text-align: right;\n",
       "    }\n",
       "</style>\n",
       "<table border=\"1\" class=\"dataframe\">\n",
       "  <thead>\n",
       "    <tr style=\"text-align: right;\">\n",
       "      <th></th>\n",
       "      <th>id</th>\n",
       "      <th>rt_search_center_diff</th>\n",
       "      <th>rt_search_center_diff_scaled</th>\n",
       "    </tr>\n",
       "  </thead>\n",
       "  <tbody>\n",
       "    <tr>\n",
       "      <th>0</th>\n",
       "      <td>19</td>\n",
       "      <td>0.941114</td>\n",
       "      <td>1.000000</td>\n",
       "    </tr>\n",
       "    <tr>\n",
       "      <th>1</th>\n",
       "      <td>19</td>\n",
       "      <td>0.289034</td>\n",
       "      <td>0.000000</td>\n",
       "    </tr>\n",
       "    <tr>\n",
       "      <th>2</th>\n",
       "      <td>32</td>\n",
       "      <td>0.849468</td>\n",
       "      <td>0.837050</td>\n",
       "    </tr>\n",
       "    <tr>\n",
       "      <th>3</th>\n",
       "      <td>32</td>\n",
       "      <td>0.814868</td>\n",
       "      <td>0.797076</td>\n",
       "    </tr>\n",
       "    <tr>\n",
       "      <th>4</th>\n",
       "      <td>32</td>\n",
       "      <td>0.471413</td>\n",
       "      <td>0.400264</td>\n",
       "    </tr>\n",
       "    <tr>\n",
       "      <th>5</th>\n",
       "      <td>32</td>\n",
       "      <td>0.124970</td>\n",
       "      <td>0.000000</td>\n",
       "    </tr>\n",
       "    <tr>\n",
       "      <th>6</th>\n",
       "      <td>32</td>\n",
       "      <td>0.183751</td>\n",
       "      <td>0.067913</td>\n",
       "    </tr>\n",
       "    <tr>\n",
       "      <th>7</th>\n",
       "      <td>32</td>\n",
       "      <td>0.355877</td>\n",
       "      <td>0.266779</td>\n",
       "    </tr>\n",
       "    <tr>\n",
       "      <th>8</th>\n",
       "      <td>32</td>\n",
       "      <td>0.681120</td>\n",
       "      <td>0.642549</td>\n",
       "    </tr>\n",
       "    <tr>\n",
       "      <th>9</th>\n",
       "      <td>32</td>\n",
       "      <td>0.870063</td>\n",
       "      <td>0.860845</td>\n",
       "    </tr>\n",
       "    <tr>\n",
       "      <th>10</th>\n",
       "      <td>32</td>\n",
       "      <td>0.990507</td>\n",
       "      <td>1.000000</td>\n",
       "    </tr>\n",
       "    <tr>\n",
       "      <th>11</th>\n",
       "      <td>36</td>\n",
       "      <td>0.660451</td>\n",
       "      <td>0.845486</td>\n",
       "    </tr>\n",
       "    <tr>\n",
       "      <th>12</th>\n",
       "      <td>36</td>\n",
       "      <td>0.318942</td>\n",
       "      <td>0.401312</td>\n",
       "    </tr>\n",
       "    <tr>\n",
       "      <th>13</th>\n",
       "      <td>36</td>\n",
       "      <td>0.010389</td>\n",
       "      <td>0.000000</td>\n",
       "    </tr>\n",
       "    <tr>\n",
       "      <th>14</th>\n",
       "      <td>36</td>\n",
       "      <td>0.693656</td>\n",
       "      <td>0.888673</td>\n",
       "    </tr>\n",
       "    <tr>\n",
       "      <th>15</th>\n",
       "      <td>36</td>\n",
       "      <td>0.779251</td>\n",
       "      <td>1.000000</td>\n",
       "    </tr>\n",
       "    <tr>\n",
       "      <th>16</th>\n",
       "      <td>40</td>\n",
       "      <td>0.989094</td>\n",
       "      <td>1.000000</td>\n",
       "    </tr>\n",
       "    <tr>\n",
       "      <th>17</th>\n",
       "      <td>40</td>\n",
       "      <td>0.981812</td>\n",
       "      <td>0.991773</td>\n",
       "    </tr>\n",
       "    <tr>\n",
       "      <th>18</th>\n",
       "      <td>40</td>\n",
       "      <td>0.970775</td>\n",
       "      <td>0.979305</td>\n",
       "    </tr>\n",
       "    <tr>\n",
       "      <th>19</th>\n",
       "      <td>40</td>\n",
       "      <td>0.940838</td>\n",
       "      <td>0.945486</td>\n",
       "    </tr>\n",
       "    <tr>\n",
       "      <th>20</th>\n",
       "      <td>40</td>\n",
       "      <td>0.926001</td>\n",
       "      <td>0.928725</td>\n",
       "    </tr>\n",
       "  </tbody>\n",
       "</table>\n",
       "</div>"
      ],
      "text/plain": [
       "    id  rt_search_center_diff  rt_search_center_diff_scaled\n",
       "0   19               0.941114                      1.000000\n",
       "1   19               0.289034                      0.000000\n",
       "2   32               0.849468                      0.837050\n",
       "3   32               0.814868                      0.797076\n",
       "4   32               0.471413                      0.400264\n",
       "5   32               0.124970                      0.000000\n",
       "6   32               0.183751                      0.067913\n",
       "7   32               0.355877                      0.266779\n",
       "8   32               0.681120                      0.642549\n",
       "9   32               0.870063                      0.860845\n",
       "10  32               0.990507                      1.000000\n",
       "11  36               0.660451                      0.845486\n",
       "12  36               0.318942                      0.401312\n",
       "13  36               0.010389                      0.000000\n",
       "14  36               0.693656                      0.888673\n",
       "15  36               0.779251                      1.000000\n",
       "16  40               0.989094                      1.000000\n",
       "17  40               0.981812                      0.991773\n",
       "18  40               0.970775                      0.979305\n",
       "19  40               0.940838                      0.945486\n",
       "20  40               0.926001                      0.928725"
      ]
     },
     "metadata": {},
     "output_type": "display_data"
    }
   ],
   "source": [
    "peak_results_matched_search_range.loc[\n",
    "    0:20, [\"id\", \"rt_search_center_diff\", \"rt_search_center_diff_scaled\"]\n",
    "]"
   ]
  },
  {
   "cell_type": "code",
   "execution_count": null,
   "metadata": {},
   "outputs": [],
   "source": [
    "delta_rt = peak_results_matched_search_range[\"rt_search_center_diff_scaled\"].values\n",
    "metadata_input = delta_rt.reshape(-1, 1)"
   ]
  },
  {
   "cell_type": "markdown",
   "metadata": {},
   "source": [
    "## Split Data"
   ]
  },
  {
   "cell_type": "code",
   "execution_count": 116,
   "metadata": {},
   "outputs": [
    {
     "name": "stderr",
     "output_type": "stream",
     "text": [
      "2024-03-08 15:23:08,610 - postprocessing.peak_selection - INFO - Split data by precursor id.\n"
     ]
    }
   ],
   "source": [
    "from postprocessing.peak_selection import split_data\n",
    "\n",
    "(train_indices, val_indices, test_indices) = split_data(\n",
    "    seq=peak_seq_3d_input,\n",
    "    test_ratio=0.2,\n",
    "    val_ratio=0.1,\n",
    "    random_seed=42,\n",
    "    precursor_id=peak_results_matched_search_range.id,\n",
    ")\n",
    "peak_seq_train = peak_seq_3d_input[train_indices]\n",
    "peak_seq_test = peak_seq_3d_input[test_indices]\n",
    "peak_label_train = peak_label[train_indices]\n",
    "peak_label_test = peak_label[test_indices]\n",
    "metadata_input_train = metadata_input[train_indices]\n",
    "metadata_input_test = metadata_input[test_indices]\n",
    "metadata_input_val = metadata_input[val_indices]\n",
    "peak_seq_val = peak_seq_3d_input[val_indices]\n",
    "peak_label_val = peak_label[val_indices]"
   ]
  },
  {
   "cell_type": "code",
   "execution_count": 117,
   "metadata": {},
   "outputs": [],
   "source": [
    "train_neg = peak_label_train.shape[0] - peak_label_train.sum()"
   ]
  },
  {
   "cell_type": "code",
   "execution_count": 118,
   "metadata": {},
   "outputs": [
    {
     "data": {
      "text/plain": [
       "<matplotlib_venn._common.VennDiagram at 0x7f9380685c60>"
      ]
     },
     "execution_count": 118,
     "metadata": {},
     "output_type": "execute_result"
    },
    {
     "data": {
      "image/png": "[encoded data removed]",
      "text/plain": [
       "<Figure size 640x480 with 1 Axes>"
      ]
     },
     "metadata": {},
     "output_type": "display_data"
    }
   ],
   "source": [
    "# Validate splitting by precursor id\n",
    "from matplotlib_venn import venn3\n",
    "\n",
    "train_precursor = peak_results_matched_search_range.loc[train_indices, \"id\"]\n",
    "test_precursor = peak_results_matched_search_range.loc[test_indices, \"id\"]\n",
    "val_precursor = peak_results_matched_search_range.loc[val_indices, \"id\"]\n",
    "venn3(\n",
    "    subsets=(set(train_precursor), set(test_precursor), set(val_precursor)),\n",
    "    set_labels=(\"Train\", \"Test\", \"Val\"),\n",
    ")"
   ]
  },
  {
   "cell_type": "markdown",
   "metadata": {},
   "source": [
    "## Data Imbalance"
   ]
  },
  {
   "cell_type": "markdown",
   "metadata": {},
   "source": [
    "### calculate class bias"
   ]
  },
  {
   "cell_type": "code",
   "execution_count": null,
   "metadata": {},
   "outputs": [
    {
     "name": "stderr",
     "output_type": "stream",
     "text": [
      "2024-03-08 13:34:33,197 - postprocessing.peak_selection - INFO - Class distribution: 0    65637\n",
      "1    16164\n",
      "dtype: int64\n"
     ]
    }
   ],
   "source": [
    "from postprocessing.peak_selection import evaluate_class_distribution\n",
    "\n",
    "initial_bias, class_weight, initial_distr = evaluate_class_distribution(\n",
    "    peak_label)"
   ]
  },
  {
   "cell_type": "markdown",
   "metadata": {},
   "source": [
    "### rejection sampling to balance data"
   ]
  },
  {
   "cell_type": "code",
   "execution_count": 121,
   "metadata": {},
   "outputs": [],
   "source": [
    "# preparation of input dataset is done differently based on how the data is fed into the model\n",
    "import tensorflow as tf\n",
    "\n",
    "tf.random.set_seed(42)\n",
    "\n",
    "model = \"multi_input\"  # model = \"multi_input\" or \"cnn\"\n",
    "match model:\n",
    "    case \"multi_input\":\n",
    "\n",
    "        def multi_input_generator(peak_seq, metadata_input, peak_label):\n",
    "            def generator():\n",
    "                for peak, meta, label in zip(peak_seq, metadata_input, peak_label):\n",
    "                    yield {\"peak_seq\": peak, \"metadata\": meta}, label\n",
    "\n",
    "            dataset = tf.data.Dataset.from_generator(\n",
    "                generator,\n",
    "                output_types=(\n",
    "                    {\"peak_seq\": tf.float32, \"metadata\": tf.float32},\n",
    "                    tf.int32,\n",
    "                ),\n",
    "            )\n",
    "            return dataset\n",
    "\n",
    "        train_dataset = multi_input_generator(\n",
    "            peak_seq_train, metadata_input_train, peak_label_train\n",
    "        )\n",
    "        val_dataset = multi_input_generator(\n",
    "            peak_seq_val, metadata_input_val, peak_label_val\n",
    "        )\n",
    "        test_dataset = multi_input_generator(\n",
    "            peak_seq_test, metadata_input_test, peak_label_test\n",
    "        )\n",
    "    case \"cnn\":\n",
    "        # No multi_input\n",
    "        train_dataset = tf.data.Dataset.from_tensor_slices(\n",
    "            (peak_seq_train, peak_label_train)\n",
    "        )\n",
    "        val_dataset = tf.data.Dataset.from_tensor_slices(\n",
    "            (peak_seq_val, peak_label_val))\n",
    "        test_dataset = tf.data.Dataset.from_tensor_slices(\n",
    "            (peak_seq_test, peak_label_test)\n",
    "        )"
   ]
  },
  {
   "cell_type": "code",
   "execution_count": 122,
   "metadata": {},
   "outputs": [],
   "source": [
    "val_dataset_batch = val_dataset.batch(2048, drop_remainder=False)\n",
    "test_dataset_batch = test_dataset.batch(2048, drop_remainder=False)"
   ]
  },
  {
   "cell_type": "code",
   "execution_count": 123,
   "metadata": {},
   "outputs": [
    {
     "name": "stderr",
     "output_type": "stream",
     "text": [
      "2024-03-08 15:23:25.757494: I tensorflow/core/common_runtime/executor.cc:1197] [/device:CPU:0] (DEBUG INFO) Executor start aborting (this does not indicate an error and you can ignore this message): INVALID_ARGUMENT: You must feed a value for placeholder tensor 'Placeholder/_14' with dtype int32\n",
      "\t [[{{node Placeholder/_14}}]]\n",
      "2024-03-08 15:23:25.757959: I tensorflow/core/common_runtime/executor.cc:1197] [/device:CPU:0] (DEBUG INFO) Executor start aborting (this does not indicate an error and you can ignore this message): INVALID_ARGUMENT: You must feed a value for placeholder tensor 'Placeholder/_14' with dtype int32\n",
      "\t [[{{node Placeholder/_14}}]]\n",
      "Proportion of examples rejected by sampler is high: [0.802398503][0.802398503 0.197601497][0 1]\n",
      "Proportion of examples rejected by sampler is high: [0.802398503][0.802398503 0.197601497][0 1]\n",
      "Proportion of examples rejected by sampler is high: [0.802398503][0.802398503 0.197601497][0 1]\n",
      "Proportion of examples rejected by sampler is high: [0.802398503][0.802398503 0.197601497][0 1]\n",
      "Proportion of examples rejected by sampler is high: [0.802398503][0.802398503 0.197601497][0 1]\n",
      "Proportion of examples rejected by sampler is high: [0.802398503][0.802398503 0.197601497][0 1]\n",
      "Proportion of examples rejected by sampler is high: [0.802398503][0.802398503 0.197601497][0 1]\n",
      "Proportion of examples rejected by sampler is high: [0.802398503][0.802398503 0.197601497][0 1]\n",
      "Proportion of examples rejected by sampler is high: [0.802398503][0.802398503 0.197601497][0 1]\n",
      "Proportion of examples rejected by sampler is high: [0.802398503][0.802398503 0.197601497][0 1]\n"
     ]
    },
    {
     "name": "stdout",
     "output_type": "stream",
     "text": [
      "29929\n"
     ]
    },
    {
     "name": "stderr",
     "output_type": "stream",
     "text": [
      "2024-03-08 15:23:59.931003: I tensorflow/core/common_runtime/executor.cc:1197] [/device:CPU:0] (DEBUG INFO) Executor start aborting (this does not indicate an error and you can ignore this message): INVALID_ARGUMENT: You must feed a value for placeholder tensor 'Placeholder/_18' with dtype float and shape [2]\n",
      "\t [[{{node Placeholder/_18}}]]\n",
      "2024-03-08 15:23:59.931566: I tensorflow/core/common_runtime/executor.cc:1197] [/device:CPU:0] (DEBUG INFO) Executor start aborting (this does not indicate an error and you can ignore this message): INVALID_ARGUMENT: You must feed a value for placeholder tensor 'Placeholder/_14' with dtype int32\n",
      "\t [[{{node Placeholder/_14}}]]\n",
      "Proportion of examples rejected by sampler is high: [0.802398503][0.802398503 0.197601497][0 1]\n",
      "Proportion of examples rejected by sampler is high: [0.802398503][0.802398503 0.197601497][0 1]\n",
      "Proportion of examples rejected by sampler is high: [0.802398503][0.802398503 0.197601497][0 1]\n",
      "Proportion of examples rejected by sampler is high: [0.802398503][0.802398503 0.197601497][0 1]\n",
      "Proportion of examples rejected by sampler is high: [0.802398503][0.802398503 0.197601497][0 1]\n",
      "Proportion of examples rejected by sampler is high: [0.802398503][0.802398503 0.197601497][0 1]\n",
      "Proportion of examples rejected by sampler is high: [0.802398503][0.802398503 0.197601497][0 1]\n",
      "Proportion of examples rejected by sampler is high: [0.802398503][0.802398503 0.197601497][0 1]\n",
      "Proportion of examples rejected by sampler is high: [0.802398503][0.802398503 0.197601497][0 1]\n",
      "Proportion of examples rejected by sampler is high: [0.802398503][0.802398503 0.197601497][0 1]\n"
     ]
    },
    {
     "name": "stdout",
     "output_type": "stream",
     "text": [
      "0.4853515625\n"
     ]
    }
   ],
   "source": [
    "# Make dataset by rejection resampling\n",
    "train_dataset_balanced = train_dataset.rejection_resample(\n",
    "    class_func=lambda x, y: y,\n",
    "    target_dist=[0.5, 0.5],\n",
    "    initial_dist=initial_distr,\n",
    ")\n",
    "train_dataset_balanced = train_dataset_balanced.map(\n",
    "    lambda class_func_result, data: data\n",
    ")\n",
    "\n",
    "# sanitiy check\n",
    "print(len(list(train_dataset_balanced)))\n",
    "train_dataset_batch = train_dataset_balanced.batch(1024, drop_remainder=False)\n",
    "\n",
    "\n",
    "for features, label in train_dataset_batch.take(1):\n",
    "    print(label.numpy().mean())"
   ]
  },
  {
   "cell_type": "markdown",
   "metadata": {},
   "source": [
    "# Model building and training\n",
    "## set model config"
   ]
  },
  {
   "cell_type": "code",
   "execution_count": 124,
   "metadata": {},
   "outputs": [],
   "source": [
    "from postprocessing.peak_selection import make_cnn_model\n",
    "\n",
    "cnn_config = {\n",
    "    \"conv1_n_filters\": 32,\n",
    "    \"conv1_kernel_size\": 3,\n",
    "    \"conv1_strides\": 1,\n",
    "    \"conv2_n_filters\": 64,\n",
    "    \"conv2_kernel_size\": 3,\n",
    "    \"conv2_strides\": 1,\n",
    "    \"conv3_n_filters\": 128,\n",
    "    \"conv3_kernel_size\": 3,\n",
    "    \"conv3_strides\": 1,\n",
    "    \"dense1_n_units\": 128,\n",
    "    \"dense1_reg_rate\": None,\n",
    "    \"dense2_n_units\": 64,\n",
    "    \"dense2_reg_rate\": None,\n",
    "    \"dense3_n_units\": 32,\n",
    "    \"dense3_reg_rate\": None,\n",
    "    \"dropout_rate\": 0.0,\n",
    "    \"learning_rate\": 0.01,\n",
    "    \"metadata_input_shape\": metadata_input_train.shape[1],\n",
    "    \"peak_seq_features\": peak_seq_train.shape[2],\n",
    "    \"peak_seq_maxlen\": peak_seq_train.shape[1],\n",
    "}"
   ]
  },
  {
   "cell_type": "code",
   "execution_count": 125,
   "metadata": {},
   "outputs": [
    {
     "name": "stdout",
     "output_type": "stream",
     "text": [
      "Epoch 1/150\n"
     ]
    },
    {
     "name": "stderr",
     "output_type": "stream",
     "text": [
      "2024-03-08 15:24:05.941391: I tensorflow/core/common_runtime/executor.cc:1197] [/device:CPU:0] (DEBUG INFO) Executor start aborting (this does not indicate an error and you can ignore this message): INVALID_ARGUMENT: You must feed a value for placeholder tensor 'Placeholder/_18' with dtype float and shape [2]\n",
      "\t [[{{node Placeholder/_18}}]]\n",
      "2024-03-08 15:24:05.941894: I tensorflow/core/common_runtime/executor.cc:1197] [/device:CPU:0] (DEBUG INFO) Executor start aborting (this does not indicate an error and you can ignore this message): INVALID_ARGUMENT: You must feed a value for placeholder tensor 'Placeholder/_18' with dtype float and shape [2]\n",
      "\t [[{{node Placeholder/_18}}]]\n",
      "Proportion of examples rejected by sampler is high: [0.802398503][0.802398503 0.197601497][0 1]\n",
      "Proportion of examples rejected by sampler is high: [0.802398503][0.802398503 0.197601497][0 1]\n",
      "Proportion of examples rejected by sampler is high: [0.802398503][0.802398503 0.197601497][0 1]\n",
      "Proportion of examples rejected by sampler is high: [0.802398503][0.802398503 0.197601497][0 1]\n",
      "Proportion of examples rejected by sampler is high: [0.802398503][0.802398503 0.197601497][0 1]\n",
      "Proportion of examples rejected by sampler is high: [0.802398503][0.802398503 0.197601497][0 1]\n",
      "Proportion of examples rejected by sampler is high: [0.802398503][0.802398503 0.197601497][0 1]\n",
      "Proportion of examples rejected by sampler is high: [0.802398503][0.802398503 0.197601497][0 1]\n",
      "Proportion of examples rejected by sampler is high: [0.802398503][0.802398503 0.197601497][0 1]\n",
      "Proportion of examples rejected by sampler is high: [0.802398503][0.802398503 0.197601497][0 1]\n"
     ]
    },
    {
     "name": "stdout",
     "output_type": "stream",
     "text": [
      "     30/Unknown - 30s 890ms/step - loss: 1.1625 - cross entropy: 0.6369 - Brier score: 0.2208 - tp: 9679.0000 - fp: 4759.0000 - tn: 10159.0000 - fn: 5332.0000 - accuracy: 0.6628 - precision: 0.6704 - recall: 0.6448 - auc: 0.7049 - prc: 0.7001"
     ]
    },
    {
     "name": "stderr",
     "output_type": "stream",
     "text": [
      "2024-03-08 15:24:36.409925: I tensorflow/core/common_runtime/executor.cc:1197] [/device:CPU:0] (DEBUG INFO) Executor start aborting (this does not indicate an error and you can ignore this message): INVALID_ARGUMENT: You must feed a value for placeholder tensor 'Placeholder/_0' with dtype int32\n",
      "\t [[{{node Placeholder/_0}}]]\n"
     ]
    },
    {
     "name": "stdout",
     "output_type": "stream",
     "text": [
      "30/30 [==============================] - 34s 1s/step - loss: 1.1625 - cross entropy: 0.6369 - Brier score: 0.2208 - tp: 9679.0000 - fp: 4759.0000 - tn: 10159.0000 - fn: 5332.0000 - accuracy: 0.6628 - precision: 0.6704 - recall: 0.6448 - auc: 0.7049 - prc: 0.7001 - val_loss: 0.6280 - val_cross entropy: 0.5349 - val_Brier score: 0.1658 - val_tp: 1217.0000 - val_fp: 1269.0000 - val_tn: 5277.0000 - val_fn: 377.0000 - val_accuracy: 0.7978 - val_precision: 0.4895 - val_recall: 0.7635 - val_auc: 0.8466 - val_prc: 0.4846 - lr: 0.0100\n",
      "Epoch 2/150\n"
     ]
    },
    {
     "name": "stderr",
     "output_type": "stream",
     "text": [
      "Proportion of examples rejected by sampler is high: [0.802398503][0.802398503 0.197601497][0 1]\n",
      "Proportion of examples rejected by sampler is high: [0.802398503][0.802398503 0.197601497][0 1]\n",
      "Proportion of examples rejected by sampler is high: [0.802398503][0.802398503 0.197601497][0 1]\n",
      "Proportion of examples rejected by sampler is high: [0.802398503][0.802398503 0.197601497][0 1]\n",
      "Proportion of examples rejected by sampler is high: [0.802398503][0.802398503 0.197601497][0 1]\n",
      "Proportion of examples rejected by sampler is high: [0.802398503][0.802398503 0.197601497][0 1]\n",
      "Proportion of examples rejected by sampler is high: [0.802398503][0.802398503 0.197601497][0 1]\n",
      "Proportion of examples rejected by sampler is high: [0.802398503][0.802398503 0.197601497][0 1]\n",
      "Proportion of examples rejected by sampler is high: [0.802398503][0.802398503 0.197601497][0 1]\n",
      "Proportion of examples rejected by sampler is high: [0.802398503][0.802398503 0.197601497][0 1]\n"
     ]
    },
    {
     "name": "stdout",
     "output_type": "stream",
     "text": [
      "30/30 [==============================] - 29s 959ms/step - loss: 0.5446 - cross entropy: 0.4828 - Brier score: 0.1507 - tp: 12408.0000 - fp: 3433.0000 - tn: 11485.0000 - fn: 2603.0000 - accuracy: 0.7983 - precision: 0.7833 - recall: 0.8266 - auc: 0.8618 - prc: 0.8075 - val_loss: 0.4065 - val_cross entropy: 0.3493 - val_Brier score: 0.1074 - val_tp: 1193.0000 - val_fp: 877.0000 - val_tn: 5669.0000 - val_fn: 401.0000 - val_accuracy: 0.8430 - val_precision: 0.5763 - val_recall: 0.7484 - val_auc: 0.9011 - val_prc: 0.6035 - lr: 0.0100\n",
      "Epoch 3/150\n"
     ]
    },
    {
     "name": "stderr",
     "output_type": "stream",
     "text": [
      "Proportion of examples rejected by sampler is high: [0.802398503][0.802398503 0.197601497][0 1]\n",
      "Proportion of examples rejected by sampler is high: [0.802398503][0.802398503 0.197601497][0 1]\n",
      "Proportion of examples rejected by sampler is high: [0.802398503][0.802398503 0.197601497][0 1]\n",
      "Proportion of examples rejected by sampler is high: [0.802398503][0.802398503 0.197601497][0 1]\n",
      "Proportion of examples rejected by sampler is high: [0.802398503][0.802398503 0.197601497][0 1]\n",
      "Proportion of examples rejected by sampler is high: [0.802398503][0.802398503 0.197601497][0 1]\n",
      "Proportion of examples rejected by sampler is high: [0.802398503][0.802398503 0.197601497][0 1]\n",
      "Proportion of examples rejected by sampler is high: [0.802398503][0.802398503 0.197601497][0 1]\n",
      "Proportion of examples rejected by sampler is high: [0.802398503][0.802398503 0.197601497][0 1]\n",
      "Proportion of examples rejected by sampler is high: [0.802398503][0.802398503 0.197601497][0 1]\n"
     ]
    },
    {
     "name": "stdout",
     "output_type": "stream",
     "text": [
      "30/30 [==============================] - 28s 925ms/step - loss: 0.4343 - cross entropy: 0.3787 - Brier score: 0.1143 - tp: 13311.0000 - fp: 2823.0000 - tn: 12095.0000 - fn: 1700.0000 - accuracy: 0.8489 - precision: 0.8250 - recall: 0.8867 - auc: 0.9071 - prc: 0.8636 - val_loss: 0.3538 - val_cross entropy: 0.3048 - val_Brier score: 0.0902 - val_tp: 1109.0000 - val_fp: 520.0000 - val_tn: 6026.0000 - val_fn: 485.0000 - val_accuracy: 0.8765 - val_precision: 0.6808 - val_recall: 0.6957 - val_auc: 0.9253 - val_prc: 0.6739 - lr: 0.0100\n",
      "Epoch 4/150\n"
     ]
    },
    {
     "name": "stderr",
     "output_type": "stream",
     "text": [
      "Proportion of examples rejected by sampler is high: [0.802398503][0.802398503 0.197601497][0 1]\n",
      "Proportion of examples rejected by sampler is high: [0.802398503][0.802398503 0.197601497][0 1]\n",
      "Proportion of examples rejected by sampler is high: [0.802398503][0.802398503 0.197601497][0 1]\n",
      "Proportion of examples rejected by sampler is high: [0.802398503][0.802398503 0.197601497][0 1]\n",
      "Proportion of examples rejected by sampler is high: [0.802398503][0.802398503 0.197601497][0 1]\n",
      "Proportion of examples rejected by sampler is high: [0.802398503][0.802398503 0.197601497][0 1]\n",
      "Proportion of examples rejected by sampler is high: [0.802398503][0.802398503 0.197601497][0 1]\n",
      "Proportion of examples rejected by sampler is high: [0.802398503][0.802398503 0.197601497][0 1]\n",
      "Proportion of examples rejected by sampler is high: [0.802398503][0.802398503 0.197601497][0 1]\n",
      "Proportion of examples rejected by sampler is high: [0.802398503][0.802398503 0.197601497][0 1]\n"
     ]
    },
    {
     "name": "stdout",
     "output_type": "stream",
     "text": [
      "30/30 [==============================] - 28s 924ms/step - loss: 0.3906 - cross entropy: 0.3447 - Brier score: 0.1030 - tp: 13538.0000 - fp: 2608.0000 - tn: 12310.0000 - fn: 1473.0000 - accuracy: 0.8636 - precision: 0.8385 - recall: 0.9019 - auc: 0.9207 - prc: 0.8830 - val_loss: 0.3403 - val_cross entropy: 0.2980 - val_Brier score: 0.0890 - val_tp: 1219.0000 - val_fp: 613.0000 - val_tn: 5933.0000 - val_fn: 375.0000 - val_accuracy: 0.8786 - val_precision: 0.6654 - val_recall: 0.7647 - val_auc: 0.9303 - val_prc: 0.6852 - lr: 0.0100\n",
      "Epoch 5/150\n"
     ]
    },
    {
     "name": "stderr",
     "output_type": "stream",
     "text": [
      "Proportion of examples rejected by sampler is high: [0.802398503][0.802398503 0.197601497][0 1]\n",
      "Proportion of examples rejected by sampler is high: [0.802398503][0.802398503 0.197601497][0 1]\n",
      "Proportion of examples rejected by sampler is high: [0.802398503][0.802398503 0.197601497][0 1]\n",
      "Proportion of examples rejected by sampler is high: [0.802398503][0.802398503 0.197601497][0 1]\n",
      "Proportion of examples rejected by sampler is high: [0.802398503][0.802398503 0.197601497][0 1]\n",
      "Proportion of examples rejected by sampler is high: [0.802398503][0.802398503 0.197601497][0 1]\n",
      "Proportion of examples rejected by sampler is high: [0.802398503][0.802398503 0.197601497][0 1]\n",
      "Proportion of examples rejected by sampler is high: [0.802398503][0.802398503 0.197601497][0 1]\n",
      "Proportion of examples rejected by sampler is high: [0.802398503][0.802398503 0.197601497][0 1]\n",
      "Proportion of examples rejected by sampler is high: [0.802398503][0.802398503 0.197601497][0 1]\n"
     ]
    },
    {
     "name": "stdout",
     "output_type": "stream",
     "text": [
      "30/30 [==============================] - 29s 944ms/step - loss: 0.3681 - cross entropy: 0.3267 - Brier score: 0.0982 - tp: 13612.0000 - fp: 2534.0000 - tn: 12384.0000 - fn: 1399.0000 - accuracy: 0.8686 - precision: 0.8431 - recall: 0.9068 - auc: 0.9276 - prc: 0.8938 - val_loss: 0.3304 - val_cross entropy: 0.2912 - val_Brier score: 0.0890 - val_tp: 1319.0000 - val_fp: 731.0000 - val_tn: 5815.0000 - val_fn: 275.0000 - val_accuracy: 0.8764 - val_precision: 0.6434 - val_recall: 0.8275 - val_auc: 0.9348 - val_prc: 0.6957 - lr: 0.0100\n",
      "Epoch 6/150\n"
     ]
    },
    {
     "name": "stderr",
     "output_type": "stream",
     "text": [
      "Proportion of examples rejected by sampler is high: [0.802398503][0.802398503 0.197601497][0 1]\n",
      "Proportion of examples rejected by sampler is high: [0.802398503][0.802398503 0.197601497][0 1]\n",
      "Proportion of examples rejected by sampler is high: [0.802398503][0.802398503 0.197601497][0 1]\n",
      "Proportion of examples rejected by sampler is high: [0.802398503][0.802398503 0.197601497][0 1]\n",
      "Proportion of examples rejected by sampler is high: [0.802398503][0.802398503 0.197601497][0 1]\n",
      "Proportion of examples rejected by sampler is high: [0.802398503][0.802398503 0.197601497][0 1]\n",
      "Proportion of examples rejected by sampler is high: [0.802398503][0.802398503 0.197601497][0 1]\n",
      "Proportion of examples rejected by sampler is high: [0.802398503][0.802398503 0.197601497][0 1]\n",
      "Proportion of examples rejected by sampler is high: [0.802398503][0.802398503 0.197601497][0 1]\n",
      "Proportion of examples rejected by sampler is high: [0.802398503][0.802398503 0.197601497][0 1]\n"
     ]
    },
    {
     "name": "stdout",
     "output_type": "stream",
     "text": [
      "30/30 [==============================] - 29s 950ms/step - loss: 0.3569 - cross entropy: 0.3195 - Brier score: 0.0964 - tp: 13661.0000 - fp: 2557.0000 - tn: 12361.0000 - fn: 1350.0000 - accuracy: 0.8695 - precision: 0.8423 - recall: 0.9101 - auc: 0.9309 - prc: 0.8999 - val_loss: 0.3033 - val_cross entropy: 0.2673 - val_Brier score: 0.0822 - val_tp: 1297.0000 - val_fp: 654.0000 - val_tn: 5892.0000 - val_fn: 297.0000 - val_accuracy: 0.8832 - val_precision: 0.6648 - val_recall: 0.8137 - val_auc: 0.9384 - val_prc: 0.7107 - lr: 0.0100\n",
      "Epoch 7/150\n"
     ]
    },
    {
     "name": "stderr",
     "output_type": "stream",
     "text": [
      "Proportion of examples rejected by sampler is high: [0.802398503][0.802398503 0.197601497][0 1]\n",
      "Proportion of examples rejected by sampler is high: [0.802398503][0.802398503 0.197601497][0 1]\n",
      "Proportion of examples rejected by sampler is high: [0.802398503][0.802398503 0.197601497][0 1]\n",
      "Proportion of examples rejected by sampler is high: [0.802398503][0.802398503 0.197601497][0 1]\n",
      "Proportion of examples rejected by sampler is high: [0.802398503][0.802398503 0.197601497][0 1]\n",
      "Proportion of examples rejected by sampler is high: [0.802398503][0.802398503 0.197601497][0 1]\n",
      "Proportion of examples rejected by sampler is high: [0.802398503][0.802398503 0.197601497][0 1]\n",
      "Proportion of examples rejected by sampler is high: [0.802398503][0.802398503 0.197601497][0 1]\n",
      "Proportion of examples rejected by sampler is high: [0.802398503][0.802398503 0.197601497][0 1]\n",
      "Proportion of examples rejected by sampler is high: [0.802398503][0.802398503 0.197601497][0 1]\n"
     ]
    },
    {
     "name": "stdout",
     "output_type": "stream",
     "text": [
      "30/30 [==============================] - 28s 941ms/step - loss: 0.3540 - cross entropy: 0.3188 - Brier score: 0.0965 - tp: 13652.0000 - fp: 2555.0000 - tn: 12363.0000 - fn: 1359.0000 - accuracy: 0.8692 - precision: 0.8424 - recall: 0.9095 - auc: 0.9307 - prc: 0.8995 - val_loss: 0.3437 - val_cross entropy: 0.3077 - val_Brier score: 0.0951 - val_tp: 1427.0000 - val_fp: 903.0000 - val_tn: 5643.0000 - val_fn: 167.0000 - val_accuracy: 0.8686 - val_precision: 0.6124 - val_recall: 0.8952 - val_auc: 0.9402 - val_prc: 0.7127 - lr: 0.0100\n",
      "Epoch 8/150\n"
     ]
    },
    {
     "name": "stderr",
     "output_type": "stream",
     "text": [
      "Proportion of examples rejected by sampler is high: [0.802398503][0.802398503 0.197601497][0 1]\n",
      "Proportion of examples rejected by sampler is high: [0.802398503][0.802398503 0.197601497][0 1]\n",
      "Proportion of examples rejected by sampler is high: [0.802398503][0.802398503 0.197601497][0 1]\n",
      "Proportion of examples rejected by sampler is high: [0.802398503][0.802398503 0.197601497][0 1]\n",
      "Proportion of examples rejected by sampler is high: [0.802398503][0.802398503 0.197601497][0 1]\n",
      "Proportion of examples rejected by sampler is high: [0.802398503][0.802398503 0.197601497][0 1]\n",
      "Proportion of examples rejected by sampler is high: [0.802398503][0.802398503 0.197601497][0 1]\n",
      "Proportion of examples rejected by sampler is high: [0.802398503][0.802398503 0.197601497][0 1]\n",
      "Proportion of examples rejected by sampler is high: [0.802398503][0.802398503 0.197601497][0 1]\n",
      "Proportion of examples rejected by sampler is high: [0.802398503][0.802398503 0.197601497][0 1]\n"
     ]
    },
    {
     "name": "stdout",
     "output_type": "stream",
     "text": [
      "30/30 [==============================] - 28s 914ms/step - loss: 0.3435 - cross entropy: 0.3097 - Brier score: 0.0937 - tp: 13724.0000 - fp: 2520.0000 - tn: 12398.0000 - fn: 1287.0000 - accuracy: 0.8728 - precision: 0.8449 - recall: 0.9143 - auc: 0.9349 - prc: 0.9055 - val_loss: 0.3149 - val_cross entropy: 0.2815 - val_Brier score: 0.0877 - val_tp: 1398.0000 - val_fp: 818.0000 - val_tn: 5728.0000 - val_fn: 196.0000 - val_accuracy: 0.8754 - val_precision: 0.6309 - val_recall: 0.8770 - val_auc: 0.9419 - val_prc: 0.7207 - lr: 0.0100\n",
      "Epoch 9/150\n"
     ]
    },
    {
     "name": "stderr",
     "output_type": "stream",
     "text": [
      "Proportion of examples rejected by sampler is high: [0.802398503][0.802398503 0.197601497][0 1]\n",
      "Proportion of examples rejected by sampler is high: [0.802398503][0.802398503 0.197601497][0 1]\n",
      "Proportion of examples rejected by sampler is high: [0.802398503][0.802398503 0.197601497][0 1]\n",
      "Proportion of examples rejected by sampler is high: [0.802398503][0.802398503 0.197601497][0 1]\n",
      "Proportion of examples rejected by sampler is high: [0.802398503][0.802398503 0.197601497][0 1]\n",
      "Proportion of examples rejected by sampler is high: [0.802398503][0.802398503 0.197601497][0 1]\n",
      "Proportion of examples rejected by sampler is high: [0.802398503][0.802398503 0.197601497][0 1]\n",
      "Proportion of examples rejected by sampler is high: [0.802398503][0.802398503 0.197601497][0 1]\n",
      "Proportion of examples rejected by sampler is high: [0.802398503][0.802398503 0.197601497][0 1]\n",
      "Proportion of examples rejected by sampler is high: [0.802398503][0.802398503 0.197601497][0 1]\n"
     ]
    },
    {
     "name": "stdout",
     "output_type": "stream",
     "text": [
      "30/30 [==============================] - 29s 957ms/step - loss: 0.3419 - cross entropy: 0.3088 - Brier score: 0.0935 - tp: 13738.0000 - fp: 2509.0000 - tn: 12409.0000 - fn: 1273.0000 - accuracy: 0.8736 - precision: 0.8456 - recall: 0.9152 - auc: 0.9351 - prc: 0.9061 - val_loss: 0.3270 - val_cross entropy: 0.2937 - val_Brier score: 0.0916 - val_tp: 1421.0000 - val_fp: 870.0000 - val_tn: 5676.0000 - val_fn: 173.0000 - val_accuracy: 0.8719 - val_precision: 0.6203 - val_recall: 0.8915 - val_auc: 0.9424 - val_prc: 0.7221 - lr: 0.0100\n",
      "Epoch 10/150\n"
     ]
    },
    {
     "name": "stderr",
     "output_type": "stream",
     "text": [
      "Proportion of examples rejected by sampler is high: [0.802398503][0.802398503 0.197601497][0 1]\n",
      "Proportion of examples rejected by sampler is high: [0.802398503][0.802398503 0.197601497][0 1]\n",
      "Proportion of examples rejected by sampler is high: [0.802398503][0.802398503 0.197601497][0 1]\n",
      "Proportion of examples rejected by sampler is high: [0.802398503][0.802398503 0.197601497][0 1]\n",
      "Proportion of examples rejected by sampler is high: [0.802398503][0.802398503 0.197601497][0 1]\n",
      "Proportion of examples rejected by sampler is high: [0.802398503][0.802398503 0.197601497][0 1]\n",
      "Proportion of examples rejected by sampler is high: [0.802398503][0.802398503 0.197601497][0 1]\n",
      "Proportion of examples rejected by sampler is high: [0.802398503][0.802398503 0.197601497][0 1]\n",
      "Proportion of examples rejected by sampler is high: [0.802398503][0.802398503 0.197601497][0 1]\n",
      "Proportion of examples rejected by sampler is high: [0.802398503][0.802398503 0.197601497][0 1]\n"
     ]
    },
    {
     "name": "stdout",
     "output_type": "stream",
     "text": [
      "30/30 [==============================] - 29s 958ms/step - loss: 0.3292 - cross entropy: 0.2968 - Brier score: 0.0894 - tp: 13780.0000 - fp: 2423.0000 - tn: 12495.0000 - fn: 1231.0000 - accuracy: 0.8779 - precision: 0.8505 - recall: 0.9180 - auc: 0.9407 - prc: 0.9147 - val_loss: 0.3549 - val_cross entropy: 0.3229 - val_Brier score: 0.1020 - val_tp: 1474.0000 - val_fp: 1108.0000 - val_tn: 5438.0000 - val_fn: 120.0000 - val_accuracy: 0.8491 - val_precision: 0.5709 - val_recall: 0.9247 - val_auc: 0.9429 - val_prc: 0.7245 - lr: 1.0000e-03\n",
      "Epoch 11/150\n"
     ]
    },
    {
     "name": "stderr",
     "output_type": "stream",
     "text": [
      "Proportion of examples rejected by sampler is high: [0.802398503][0.802398503 0.197601497][0 1]\n",
      "Proportion of examples rejected by sampler is high: [0.802398503][0.802398503 0.197601497][0 1]\n",
      "Proportion of examples rejected by sampler is high: [0.802398503][0.802398503 0.197601497][0 1]\n",
      "Proportion of examples rejected by sampler is high: [0.802398503][0.802398503 0.197601497][0 1]\n",
      "Proportion of examples rejected by sampler is high: [0.802398503][0.802398503 0.197601497][0 1]\n",
      "Proportion of examples rejected by sampler is high: [0.802398503][0.802398503 0.197601497][0 1]\n",
      "Proportion of examples rejected by sampler is high: [0.802398503][0.802398503 0.197601497][0 1]\n",
      "Proportion of examples rejected by sampler is high: [0.802398503][0.802398503 0.197601497][0 1]\n",
      "Proportion of examples rejected by sampler is high: [0.802398503][0.802398503 0.197601497][0 1]\n",
      "Proportion of examples rejected by sampler is high: [0.802398503][0.802398503 0.197601497][0 1]\n"
     ]
    },
    {
     "name": "stdout",
     "output_type": "stream",
     "text": [
      "30/30 [==============================] - ETA: 0s - loss: 0.3284 - cross entropy: 0.2964 - Brier score: 0.0896 - tp: 13807.0000 - fp: 2457.0000 - tn: 12461.0000 - fn: 1204.0000 - accuracy: 0.8777 - precision: 0.8489 - recall: 0.9198 - auc: 0.9408 - prc: 0.9153Restoring model weights from the end of the best epoch: 6.\n",
      "30/30 [==============================] - 28s 935ms/step - loss: 0.3284 - cross entropy: 0.2964 - Brier score: 0.0896 - tp: 13807.0000 - fp: 2457.0000 - tn: 12461.0000 - fn: 1204.0000 - accuracy: 0.8777 - precision: 0.8489 - recall: 0.9198 - auc: 0.9408 - prc: 0.9153 - val_loss: 0.3581 - val_cross entropy: 0.3263 - val_Brier score: 0.1035 - val_tp: 1484.0000 - val_fp: 1133.0000 - val_tn: 5413.0000 - val_fn: 110.0000 - val_accuracy: 0.8473 - val_precision: 0.5671 - val_recall: 0.9310 - val_auc: 0.9434 - val_prc: 0.7266 - lr: 1.0000e-03\n",
      "Epoch 11: early stopping\n"
     ]
    }
   ],
   "source": [
    "match model:\n",
    "    case \"cnn\":\n",
    "        cnn_model = make_cnn_model(config=cnn_config, output_bias=None)\n",
    "        epochs = 1\n",
    "        lr_callback = tf.keras.callbacks.ReduceLROnPlateau(\n",
    "            monitor=\"val_loss\", factor=0.1, patience=3, min_lr=0.0001\n",
    "        )\n",
    "\n",
    "        early_stopping = tf.keras.callbacks.EarlyStopping(\n",
    "            monitor=\"val_loss\",\n",
    "            verbose=1,\n",
    "            patience=5,\n",
    "            mode=\"min\",\n",
    "            restore_best_weights=True,\n",
    "        )\n",
    "        history = cnn_model.fit(\n",
    "            train_dataset_batch,\n",
    "            epochs=epochs,\n",
    "            validation_data=val_dataset_batch,\n",
    "            callbacks=[early_stopping, lr_callback],\n",
    "            # class_weight=class_weight,\n",
    "        )\n",
    "    case \"multi_input\":\n",
    "        from postprocessing.peak_selection import make_multi_input_model\n",
    "\n",
    "        multi_cnn_model = make_multi_input_model(\n",
    "            config=cnn_config, output_bias=None)\n",
    "        # plot_model(multi_cnn_model, to_file=\"multi_cnn_model.png\", show_shapes=True)\n",
    "        epochs = 150\n",
    "        lr_callback = tf.keras.callbacks.ReduceLROnPlateau(\n",
    "            monitor=\"val_loss\", factor=0.1, patience=3, min_lr=0.0001\n",
    "        )\n",
    "\n",
    "        early_stopping = tf.keras.callbacks.EarlyStopping(\n",
    "            monitor=\"val_loss\",\n",
    "            verbose=1,\n",
    "            patience=5,\n",
    "            mode=\"min\",\n",
    "            restore_best_weights=True,\n",
    "        )\n",
    "        history = multi_cnn_model.fit(\n",
    "            train_dataset_batch,\n",
    "            epochs=epochs,\n",
    "            validation_data=val_dataset_batch,\n",
    "            callbacks=[early_stopping, lr_callback],\n",
    "            # class_weight=class_weight,\n",
    "        )"
   ]
  },
  {
   "cell_type": "code",
   "execution_count": 173,
   "metadata": {},
   "outputs": [
    {
     "name": "stdout",
     "output_type": "stream",
     "text": [
      "Epoch 1/150\n"
     ]
    },
    {
     "name": "stderr",
     "output_type": "stream",
     "text": [
      "Proportion of examples rejected by sampler is high: [0.802398503][0.802398503 0.197601497][0 1]\n",
      "Proportion of examples rejected by sampler is high: [0.802398503][0.802398503 0.197601497][0 1]\n",
      "Proportion of examples rejected by sampler is high: [0.802398503][0.802398503 0.197601497][0 1]\n",
      "Proportion of examples rejected by sampler is high: [0.802398503][0.802398503 0.197601497][0 1]\n",
      "Proportion of examples rejected by sampler is high: [0.802398503][0.802398503 0.197601497][0 1]\n",
      "Proportion of examples rejected by sampler is high: [0.802398503][0.802398503 0.197601497][0 1]\n",
      "Proportion of examples rejected by sampler is high: [0.802398503][0.802398503 0.197601497][0 1]\n",
      "Proportion of examples rejected by sampler is high: [0.802398503][0.802398503 0.197601497][0 1]\n",
      "Proportion of examples rejected by sampler is high: [0.802398503][0.802398503 0.197601497][0 1]\n",
      "Proportion of examples rejected by sampler is high: [0.802398503][0.802398503 0.197601497][0 1]\n"
     ]
    },
    {
     "name": "stdout",
     "output_type": "stream",
     "text": [
      "30/30 [==============================] - 28s 938ms/step - loss: 0.3213 - cross entropy: 0.2897 - Brier score: 0.0883 - tp: 13755.0000 - fp: 2380.0000 - tn: 12538.0000 - fn: 1256.0000 - accuracy: 0.8785 - precision: 0.8525 - recall: 0.9163 - auc: 0.9441 - prc: 0.9242 - val_loss: 0.3495 - val_cross entropy: 0.3181 - val_Brier score: 0.1014 - val_tp: 1478.0000 - val_fp: 1102.0000 - val_tn: 5444.0000 - val_fn: 116.0000 - val_accuracy: 0.8504 - val_precision: 0.5729 - val_recall: 0.9272 - val_auc: 0.9451 - val_prc: 0.7392 - lr: 1.0000e-04\n",
      "Epoch 2/150\n"
     ]
    },
    {
     "name": "stderr",
     "output_type": "stream",
     "text": [
      "Proportion of examples rejected by sampler is high: [0.802398503][0.802398503 0.197601497][0 1]\n",
      "Proportion of examples rejected by sampler is high: [0.802398503][0.802398503 0.197601497][0 1]\n",
      "Proportion of examples rejected by sampler is high: [0.802398503][0.802398503 0.197601497][0 1]\n",
      "Proportion of examples rejected by sampler is high: [0.802398503][0.802398503 0.197601497][0 1]\n",
      "Proportion of examples rejected by sampler is high: [0.802398503][0.802398503 0.197601497][0 1]\n",
      "Proportion of examples rejected by sampler is high: [0.802398503][0.802398503 0.197601497][0 1]\n",
      "Proportion of examples rejected by sampler is high: [0.802398503][0.802398503 0.197601497][0 1]\n",
      "Proportion of examples rejected by sampler is high: [0.802398503][0.802398503 0.197601497][0 1]\n",
      "Proportion of examples rejected by sampler is high: [0.802398503][0.802398503 0.197601497][0 1]\n",
      "Proportion of examples rejected by sampler is high: [0.802398503][0.802398503 0.197601497][0 1]\n"
     ]
    },
    {
     "name": "stdout",
     "output_type": "stream",
     "text": [
      "30/30 [==============================] - 28s 936ms/step - loss: 0.3205 - cross entropy: 0.2891 - Brier score: 0.0880 - tp: 13837.0000 - fp: 2433.0000 - tn: 12485.0000 - fn: 1174.0000 - accuracy: 0.8795 - precision: 0.8505 - recall: 0.9218 - auc: 0.9446 - prc: 0.9254 - val_loss: 0.3479 - val_cross entropy: 0.3166 - val_Brier score: 0.1009 - val_tp: 1479.0000 - val_fp: 1099.0000 - val_tn: 5447.0000 - val_fn: 115.0000 - val_accuracy: 0.8509 - val_precision: 0.5737 - val_recall: 0.9279 - val_auc: 0.9452 - val_prc: 0.7399 - lr: 1.0000e-04\n",
      "Epoch 3/150\n"
     ]
    },
    {
     "name": "stderr",
     "output_type": "stream",
     "text": [
      "Proportion of examples rejected by sampler is high: [0.802398503][0.802398503 0.197601497][0 1]\n",
      "Proportion of examples rejected by sampler is high: [0.802398503][0.802398503 0.197601497][0 1]\n",
      "Proportion of examples rejected by sampler is high: [0.802398503][0.802398503 0.197601497][0 1]\n",
      "Proportion of examples rejected by sampler is high: [0.802398503][0.802398503 0.197601497][0 1]\n",
      "Proportion of examples rejected by sampler is high: [0.802398503][0.802398503 0.197601497][0 1]\n",
      "Proportion of examples rejected by sampler is high: [0.802398503][0.802398503 0.197601497][0 1]\n",
      "Proportion of examples rejected by sampler is high: [0.802398503][0.802398503 0.197601497][0 1]\n",
      "Proportion of examples rejected by sampler is high: [0.802398503][0.802398503 0.197601497][0 1]\n",
      "Proportion of examples rejected by sampler is high: [0.802398503][0.802398503 0.197601497][0 1]\n",
      "Proportion of examples rejected by sampler is high: [0.802398503][0.802398503 0.197601497][0 1]\n"
     ]
    },
    {
     "name": "stdout",
     "output_type": "stream",
     "text": [
      "30/30 [==============================] - 28s 933ms/step - loss: 0.3205 - cross entropy: 0.2891 - Brier score: 0.0880 - tp: 13857.0000 - fp: 2452.0000 - tn: 12466.0000 - fn: 1154.0000 - accuracy: 0.8795 - precision: 0.8497 - recall: 0.9231 - auc: 0.9446 - prc: 0.9253 - val_loss: 0.3461 - val_cross entropy: 0.3149 - val_Brier score: 0.1002 - val_tp: 1473.0000 - val_fp: 1086.0000 - val_tn: 5460.0000 - val_fn: 121.0000 - val_accuracy: 0.8517 - val_precision: 0.5756 - val_recall: 0.9241 - val_auc: 0.9453 - val_prc: 0.7402 - lr: 1.0000e-04\n",
      "Epoch 4/150\n"
     ]
    },
    {
     "name": "stderr",
     "output_type": "stream",
     "text": [
      "Proportion of examples rejected by sampler is high: [0.802398503][0.802398503 0.197601497][0 1]\n",
      "Proportion of examples rejected by sampler is high: [0.802398503][0.802398503 0.197601497][0 1]\n",
      "Proportion of examples rejected by sampler is high: [0.802398503][0.802398503 0.197601497][0 1]\n",
      "Proportion of examples rejected by sampler is high: [0.802398503][0.802398503 0.197601497][0 1]\n",
      "Proportion of examples rejected by sampler is high: [0.802398503][0.802398503 0.197601497][0 1]\n",
      "Proportion of examples rejected by sampler is high: [0.802398503][0.802398503 0.197601497][0 1]\n",
      "Proportion of examples rejected by sampler is high: [0.802398503][0.802398503 0.197601497][0 1]\n",
      "Proportion of examples rejected by sampler is high: [0.802398503][0.802398503 0.197601497][0 1]\n",
      "Proportion of examples rejected by sampler is high: [0.802398503][0.802398503 0.197601497][0 1]\n",
      "Proportion of examples rejected by sampler is high: [0.802398503][0.802398503 0.197601497][0 1]\n"
     ]
    },
    {
     "name": "stdout",
     "output_type": "stream",
     "text": [
      "30/30 [==============================] - 29s 950ms/step - loss: 0.3204 - cross entropy: 0.2890 - Brier score: 0.0879 - tp: 13852.0000 - fp: 2450.0000 - tn: 12468.0000 - fn: 1159.0000 - accuracy: 0.8794 - precision: 0.8497 - recall: 0.9228 - auc: 0.9446 - prc: 0.9253 - val_loss: 0.3463 - val_cross entropy: 0.3150 - val_Brier score: 0.1003 - val_tp: 1473.0000 - val_fp: 1087.0000 - val_tn: 5459.0000 - val_fn: 121.0000 - val_accuracy: 0.8516 - val_precision: 0.5754 - val_recall: 0.9241 - val_auc: 0.9453 - val_prc: 0.7398 - lr: 1.0000e-04\n",
      "Epoch 5/150\n"
     ]
    },
    {
     "name": "stderr",
     "output_type": "stream",
     "text": [
      "Proportion of examples rejected by sampler is high: [0.802398503][0.802398503 0.197601497][0 1]\n",
      "Proportion of examples rejected by sampler is high: [0.802398503][0.802398503 0.197601497][0 1]\n",
      "Proportion of examples rejected by sampler is high: [0.802398503][0.802398503 0.197601497][0 1]\n",
      "Proportion of examples rejected by sampler is high: [0.802398503][0.802398503 0.197601497][0 1]\n",
      "Proportion of examples rejected by sampler is high: [0.802398503][0.802398503 0.197601497][0 1]\n",
      "Proportion of examples rejected by sampler is high: [0.802398503][0.802398503 0.197601497][0 1]\n",
      "Proportion of examples rejected by sampler is high: [0.802398503][0.802398503 0.197601497][0 1]\n",
      "Proportion of examples rejected by sampler is high: [0.802398503][0.802398503 0.197601497][0 1]\n",
      "Proportion of examples rejected by sampler is high: [0.802398503][0.802398503 0.197601497][0 1]\n",
      "Proportion of examples rejected by sampler is high: [0.802398503][0.802398503 0.197601497][0 1]\n"
     ]
    },
    {
     "name": "stdout",
     "output_type": "stream",
     "text": [
      "30/30 [==============================] - 29s 954ms/step - loss: 0.3203 - cross entropy: 0.2890 - Brier score: 0.0879 - tp: 13852.0000 - fp: 2447.0000 - tn: 12471.0000 - fn: 1159.0000 - accuracy: 0.8795 - precision: 0.8499 - recall: 0.9228 - auc: 0.9446 - prc: 0.9253 - val_loss: 0.3465 - val_cross entropy: 0.3153 - val_Brier score: 0.1004 - val_tp: 1473.0000 - val_fp: 1088.0000 - val_tn: 5458.0000 - val_fn: 121.0000 - val_accuracy: 0.8515 - val_precision: 0.5752 - val_recall: 0.9241 - val_auc: 0.9453 - val_prc: 0.7398 - lr: 1.0000e-04\n",
      "Epoch 6/150\n"
     ]
    },
    {
     "name": "stderr",
     "output_type": "stream",
     "text": [
      "Proportion of examples rejected by sampler is high: [0.802398503][0.802398503 0.197601497][0 1]\n",
      "Proportion of examples rejected by sampler is high: [0.802398503][0.802398503 0.197601497][0 1]\n",
      "Proportion of examples rejected by sampler is high: [0.802398503][0.802398503 0.197601497][0 1]\n",
      "Proportion of examples rejected by sampler is high: [0.802398503][0.802398503 0.197601497][0 1]\n",
      "Proportion of examples rejected by sampler is high: [0.802398503][0.802398503 0.197601497][0 1]\n",
      "Proportion of examples rejected by sampler is high: [0.802398503][0.802398503 0.197601497][0 1]\n",
      "Proportion of examples rejected by sampler is high: [0.802398503][0.802398503 0.197601497][0 1]\n",
      "Proportion of examples rejected by sampler is high: [0.802398503][0.802398503 0.197601497][0 1]\n",
      "Proportion of examples rejected by sampler is high: [0.802398503][0.802398503 0.197601497][0 1]\n",
      "Proportion of examples rejected by sampler is high: [0.802398503][0.802398503 0.197601497][0 1]\n"
     ]
    },
    {
     "name": "stdout",
     "output_type": "stream",
     "text": [
      "30/30 [==============================] - 28s 928ms/step - loss: 0.3202 - cross entropy: 0.2889 - Brier score: 0.0879 - tp: 13854.0000 - fp: 2449.0000 - tn: 12469.0000 - fn: 1157.0000 - accuracy: 0.8795 - precision: 0.8498 - recall: 0.9229 - auc: 0.9446 - prc: 0.9255 - val_loss: 0.3466 - val_cross entropy: 0.3154 - val_Brier score: 0.1004 - val_tp: 1475.0000 - val_fp: 1089.0000 - val_tn: 5457.0000 - val_fn: 119.0000 - val_accuracy: 0.8516 - val_precision: 0.5753 - val_recall: 0.9253 - val_auc: 0.9453 - val_prc: 0.7401 - lr: 1.0000e-04\n",
      "Epoch 7/150\n"
     ]
    },
    {
     "name": "stderr",
     "output_type": "stream",
     "text": [
      "Proportion of examples rejected by sampler is high: [0.802398503][0.802398503 0.197601497][0 1]\n",
      "Proportion of examples rejected by sampler is high: [0.802398503][0.802398503 0.197601497][0 1]\n",
      "Proportion of examples rejected by sampler is high: [0.802398503][0.802398503 0.197601497][0 1]\n",
      "Proportion of examples rejected by sampler is high: [0.802398503][0.802398503 0.197601497][0 1]\n",
      "Proportion of examples rejected by sampler is high: [0.802398503][0.802398503 0.197601497][0 1]\n",
      "Proportion of examples rejected by sampler is high: [0.802398503][0.802398503 0.197601497][0 1]\n",
      "Proportion of examples rejected by sampler is high: [0.802398503][0.802398503 0.197601497][0 1]\n",
      "Proportion of examples rejected by sampler is high: [0.802398503][0.802398503 0.197601497][0 1]\n",
      "Proportion of examples rejected by sampler is high: [0.802398503][0.802398503 0.197601497][0 1]\n",
      "Proportion of examples rejected by sampler is high: [0.802398503][0.802398503 0.197601497][0 1]\n"
     ]
    },
    {
     "name": "stdout",
     "output_type": "stream",
     "text": [
      "30/30 [==============================] - 28s 935ms/step - loss: 0.3198 - cross entropy: 0.2885 - Brier score: 0.0878 - tp: 13951.0000 - fp: 2516.0000 - tn: 12402.0000 - fn: 1060.0000 - accuracy: 0.8805 - precision: 0.8472 - recall: 0.9294 - auc: 0.9448 - prc: 0.9256 - val_loss: 0.3430 - val_cross entropy: 0.3118 - val_Brier score: 0.0992 - val_tp: 1468.0000 - val_fp: 1071.0000 - val_tn: 5475.0000 - val_fn: 126.0000 - val_accuracy: 0.8529 - val_precision: 0.5782 - val_recall: 0.9210 - val_auc: 0.9454 - val_prc: 0.7413 - lr: 1.0000e-05\n",
      "Epoch 8/150\n"
     ]
    },
    {
     "name": "stderr",
     "output_type": "stream",
     "text": [
      "Proportion of examples rejected by sampler is high: [0.802398503][0.802398503 0.197601497][0 1]\n",
      "Proportion of examples rejected by sampler is high: [0.802398503][0.802398503 0.197601497][0 1]\n",
      "Proportion of examples rejected by sampler is high: [0.802398503][0.802398503 0.197601497][0 1]\n",
      "Proportion of examples rejected by sampler is high: [0.802398503][0.802398503 0.197601497][0 1]\n",
      "Proportion of examples rejected by sampler is high: [0.802398503][0.802398503 0.197601497][0 1]\n",
      "Proportion of examples rejected by sampler is high: [0.802398503][0.802398503 0.197601497][0 1]\n",
      "Proportion of examples rejected by sampler is high: [0.802398503][0.802398503 0.197601497][0 1]\n",
      "Proportion of examples rejected by sampler is high: [0.802398503][0.802398503 0.197601497][0 1]\n",
      "Proportion of examples rejected by sampler is high: [0.802398503][0.802398503 0.197601497][0 1]\n",
      "Proportion of examples rejected by sampler is high: [0.802398503][0.802398503 0.197601497][0 1]\n"
     ]
    },
    {
     "name": "stdout",
     "output_type": "stream",
     "text": [
      "30/30 [==============================] - 28s 939ms/step - loss: 0.3197 - cross entropy: 0.2884 - Brier score: 0.0877 - tp: 13895.0000 - fp: 2479.0000 - tn: 12439.0000 - fn: 1116.0000 - accuracy: 0.8799 - precision: 0.8486 - recall: 0.9257 - auc: 0.9449 - prc: 0.9258 - val_loss: 0.3401 - val_cross entropy: 0.3089 - val_Brier score: 0.0982 - val_tp: 1464.0000 - val_fp: 1053.0000 - val_tn: 5493.0000 - val_fn: 130.0000 - val_accuracy: 0.8547 - val_precision: 0.5816 - val_recall: 0.9184 - val_auc: 0.9454 - val_prc: 0.7414 - lr: 1.0000e-05\n",
      "Epoch 9/150\n"
     ]
    },
    {
     "name": "stderr",
     "output_type": "stream",
     "text": [
      "Proportion of examples rejected by sampler is high: [0.802398503][0.802398503 0.197601497][0 1]\n",
      "Proportion of examples rejected by sampler is high: [0.802398503][0.802398503 0.197601497][0 1]\n",
      "Proportion of examples rejected by sampler is high: [0.802398503][0.802398503 0.197601497][0 1]\n",
      "Proportion of examples rejected by sampler is high: [0.802398503][0.802398503 0.197601497][0 1]\n",
      "Proportion of examples rejected by sampler is high: [0.802398503][0.802398503 0.197601497][0 1]\n",
      "Proportion of examples rejected by sampler is high: [0.802398503][0.802398503 0.197601497][0 1]\n",
      "Proportion of examples rejected by sampler is high: [0.802398503][0.802398503 0.197601497][0 1]\n",
      "Proportion of examples rejected by sampler is high: [0.802398503][0.802398503 0.197601497][0 1]\n",
      "Proportion of examples rejected by sampler is high: [0.802398503][0.802398503 0.197601497][0 1]\n",
      "Proportion of examples rejected by sampler is high: [0.802398503][0.802398503 0.197601497][0 1]\n"
     ]
    },
    {
     "name": "stdout",
     "output_type": "stream",
     "text": [
      "30/30 [==============================] - 29s 946ms/step - loss: 0.3197 - cross entropy: 0.2883 - Brier score: 0.0877 - tp: 13872.0000 - fp: 2451.0000 - tn: 12467.0000 - fn: 1139.0000 - accuracy: 0.8800 - precision: 0.8498 - recall: 0.9241 - auc: 0.9449 - prc: 0.9261 - val_loss: 0.3390 - val_cross entropy: 0.3078 - val_Brier score: 0.0978 - val_tp: 1462.0000 - val_fp: 1050.0000 - val_tn: 5496.0000 - val_fn: 132.0000 - val_accuracy: 0.8548 - val_precision: 0.5820 - val_recall: 0.9172 - val_auc: 0.9455 - val_prc: 0.7421 - lr: 1.0000e-05\n",
      "Epoch 10/150\n"
     ]
    },
    {
     "name": "stderr",
     "output_type": "stream",
     "text": [
      "Proportion of examples rejected by sampler is high: [0.802398503][0.802398503 0.197601497][0 1]\n",
      "Proportion of examples rejected by sampler is high: [0.802398503][0.802398503 0.197601497][0 1]\n",
      "Proportion of examples rejected by sampler is high: [0.802398503][0.802398503 0.197601497][0 1]\n",
      "Proportion of examples rejected by sampler is high: [0.802398503][0.802398503 0.197601497][0 1]\n",
      "Proportion of examples rejected by sampler is high: [0.802398503][0.802398503 0.197601497][0 1]\n",
      "Proportion of examples rejected by sampler is high: [0.802398503][0.802398503 0.197601497][0 1]\n",
      "Proportion of examples rejected by sampler is high: [0.802398503][0.802398503 0.197601497][0 1]\n",
      "Proportion of examples rejected by sampler is high: [0.802398503][0.802398503 0.197601497][0 1]\n",
      "Proportion of examples rejected by sampler is high: [0.802398503][0.802398503 0.197601497][0 1]\n",
      "Proportion of examples rejected by sampler is high: [0.802398503][0.802398503 0.197601497][0 1]\n"
     ]
    },
    {
     "name": "stdout",
     "output_type": "stream",
     "text": [
      "30/30 [==============================] - 29s 945ms/step - loss: 0.3196 - cross entropy: 0.2883 - Brier score: 0.0877 - tp: 13864.0000 - fp: 2444.0000 - tn: 12474.0000 - fn: 1147.0000 - accuracy: 0.8800 - precision: 0.8501 - recall: 0.9236 - auc: 0.9450 - prc: 0.9262 - val_loss: 0.3387 - val_cross entropy: 0.3075 - val_Brier score: 0.0977 - val_tp: 1462.0000 - val_fp: 1049.0000 - val_tn: 5497.0000 - val_fn: 132.0000 - val_accuracy: 0.8549 - val_precision: 0.5822 - val_recall: 0.9172 - val_auc: 0.9454 - val_prc: 0.7419 - lr: 1.0000e-05\n",
      "Epoch 11/150\n"
     ]
    },
    {
     "name": "stderr",
     "output_type": "stream",
     "text": [
      "Proportion of examples rejected by sampler is high: [0.802398503][0.802398503 0.197601497][0 1]\n",
      "Proportion of examples rejected by sampler is high: [0.802398503][0.802398503 0.197601497][0 1]\n",
      "Proportion of examples rejected by sampler is high: [0.802398503][0.802398503 0.197601497][0 1]\n",
      "Proportion of examples rejected by sampler is high: [0.802398503][0.802398503 0.197601497][0 1]\n",
      "Proportion of examples rejected by sampler is high: [0.802398503][0.802398503 0.197601497][0 1]\n",
      "Proportion of examples rejected by sampler is high: [0.802398503][0.802398503 0.197601497][0 1]\n",
      "Proportion of examples rejected by sampler is high: [0.802398503][0.802398503 0.197601497][0 1]\n",
      "Proportion of examples rejected by sampler is high: [0.802398503][0.802398503 0.197601497][0 1]\n",
      "Proportion of examples rejected by sampler is high: [0.802398503][0.802398503 0.197601497][0 1]\n",
      "Proportion of examples rejected by sampler is high: [0.802398503][0.802398503 0.197601497][0 1]\n"
     ]
    },
    {
     "name": "stdout",
     "output_type": "stream",
     "text": [
      "30/30 [==============================] - 28s 915ms/step - loss: 0.3196 - cross entropy: 0.2883 - Brier score: 0.0877 - tp: 13863.0000 - fp: 2440.0000 - tn: 12478.0000 - fn: 1148.0000 - accuracy: 0.8801 - precision: 0.8503 - recall: 0.9235 - auc: 0.9450 - prc: 0.9262 - val_loss: 0.3386 - val_cross entropy: 0.3074 - val_Brier score: 0.0977 - val_tp: 1462.0000 - val_fp: 1048.0000 - val_tn: 5498.0000 - val_fn: 132.0000 - val_accuracy: 0.8550 - val_precision: 0.5825 - val_recall: 0.9172 - val_auc: 0.9454 - val_prc: 0.7420 - lr: 1.0000e-05\n",
      "Epoch 12/150\n"
     ]
    },
    {
     "name": "stderr",
     "output_type": "stream",
     "text": [
      "Proportion of examples rejected by sampler is high: [0.802398503][0.802398503 0.197601497][0 1]\n",
      "Proportion of examples rejected by sampler is high: [0.802398503][0.802398503 0.197601497][0 1]\n",
      "Proportion of examples rejected by sampler is high: [0.802398503][0.802398503 0.197601497][0 1]\n",
      "Proportion of examples rejected by sampler is high: [0.802398503][0.802398503 0.197601497][0 1]\n",
      "Proportion of examples rejected by sampler is high: [0.802398503][0.802398503 0.197601497][0 1]\n",
      "Proportion of examples rejected by sampler is high: [0.802398503][0.802398503 0.197601497][0 1]\n",
      "Proportion of examples rejected by sampler is high: [0.802398503][0.802398503 0.197601497][0 1]\n",
      "Proportion of examples rejected by sampler is high: [0.802398503][0.802398503 0.197601497][0 1]\n",
      "Proportion of examples rejected by sampler is high: [0.802398503][0.802398503 0.197601497][0 1]\n",
      "Proportion of examples rejected by sampler is high: [0.802398503][0.802398503 0.197601497][0 1]\n"
     ]
    },
    {
     "name": "stdout",
     "output_type": "stream",
     "text": [
      "30/30 [==============================] - 28s 920ms/step - loss: 0.3196 - cross entropy: 0.2883 - Brier score: 0.0877 - tp: 13861.0000 - fp: 2437.0000 - tn: 12481.0000 - fn: 1150.0000 - accuracy: 0.8801 - precision: 0.8505 - recall: 0.9234 - auc: 0.9450 - prc: 0.9262 - val_loss: 0.3386 - val_cross entropy: 0.3074 - val_Brier score: 0.0977 - val_tp: 1462.0000 - val_fp: 1047.0000 - val_tn: 5499.0000 - val_fn: 132.0000 - val_accuracy: 0.8552 - val_precision: 0.5827 - val_recall: 0.9172 - val_auc: 0.9454 - val_prc: 0.7418 - lr: 1.0000e-05\n",
      "Epoch 13/150\n"
     ]
    },
    {
     "name": "stderr",
     "output_type": "stream",
     "text": [
      "Proportion of examples rejected by sampler is high: [0.802398503][0.802398503 0.197601497][0 1]\n",
      "Proportion of examples rejected by sampler is high: [0.802398503][0.802398503 0.197601497][0 1]\n",
      "Proportion of examples rejected by sampler is high: [0.802398503][0.802398503 0.197601497][0 1]\n",
      "Proportion of examples rejected by sampler is high: [0.802398503][0.802398503 0.197601497][0 1]\n",
      "Proportion of examples rejected by sampler is high: [0.802398503][0.802398503 0.197601497][0 1]\n",
      "Proportion of examples rejected by sampler is high: [0.802398503][0.802398503 0.197601497][0 1]\n",
      "Proportion of examples rejected by sampler is high: [0.802398503][0.802398503 0.197601497][0 1]\n",
      "Proportion of examples rejected by sampler is high: [0.802398503][0.802398503 0.197601497][0 1]\n",
      "Proportion of examples rejected by sampler is high: [0.802398503][0.802398503 0.197601497][0 1]\n",
      "Proportion of examples rejected by sampler is high: [0.802398503][0.802398503 0.197601497][0 1]\n"
     ]
    },
    {
     "name": "stdout",
     "output_type": "stream",
     "text": [
      "30/30 [==============================] - 28s 930ms/step - loss: 0.3196 - cross entropy: 0.2883 - Brier score: 0.0877 - tp: 13861.0000 - fp: 2437.0000 - tn: 12481.0000 - fn: 1150.0000 - accuracy: 0.8801 - precision: 0.8505 - recall: 0.9234 - auc: 0.9450 - prc: 0.9261 - val_loss: 0.3386 - val_cross entropy: 0.3074 - val_Brier score: 0.0977 - val_tp: 1462.0000 - val_fp: 1047.0000 - val_tn: 5499.0000 - val_fn: 132.0000 - val_accuracy: 0.8552 - val_precision: 0.5827 - val_recall: 0.9172 - val_auc: 0.9454 - val_prc: 0.7417 - lr: 1.0000e-05\n",
      "Epoch 14/150\n"
     ]
    },
    {
     "name": "stderr",
     "output_type": "stream",
     "text": [
      "Proportion of examples rejected by sampler is high: [0.802398503][0.802398503 0.197601497][0 1]\n",
      "Proportion of examples rejected by sampler is high: [0.802398503][0.802398503 0.197601497][0 1]\n",
      "Proportion of examples rejected by sampler is high: [0.802398503][0.802398503 0.197601497][0 1]\n",
      "Proportion of examples rejected by sampler is high: [0.802398503][0.802398503 0.197601497][0 1]\n",
      "Proportion of examples rejected by sampler is high: [0.802398503][0.802398503 0.197601497][0 1]\n",
      "Proportion of examples rejected by sampler is high: [0.802398503][0.802398503 0.197601497][0 1]\n",
      "Proportion of examples rejected by sampler is high: [0.802398503][0.802398503 0.197601497][0 1]\n",
      "Proportion of examples rejected by sampler is high: [0.802398503][0.802398503 0.197601497][0 1]\n",
      "Proportion of examples rejected by sampler is high: [0.802398503][0.802398503 0.197601497][0 1]\n",
      "Proportion of examples rejected by sampler is high: [0.802398503][0.802398503 0.197601497][0 1]\n"
     ]
    },
    {
     "name": "stdout",
     "output_type": "stream",
     "text": [
      "30/30 [==============================] - 29s 952ms/step - loss: 0.3196 - cross entropy: 0.2883 - Brier score: 0.0877 - tp: 13861.0000 - fp: 2436.0000 - tn: 12482.0000 - fn: 1150.0000 - accuracy: 0.8802 - precision: 0.8505 - recall: 0.9234 - auc: 0.9450 - prc: 0.9261 - val_loss: 0.3386 - val_cross entropy: 0.3074 - val_Brier score: 0.0977 - val_tp: 1462.0000 - val_fp: 1047.0000 - val_tn: 5499.0000 - val_fn: 132.0000 - val_accuracy: 0.8552 - val_precision: 0.5827 - val_recall: 0.9172 - val_auc: 0.9454 - val_prc: 0.7418 - lr: 1.0000e-05\n",
      "Epoch 15/150\n"
     ]
    },
    {
     "name": "stderr",
     "output_type": "stream",
     "text": [
      "Proportion of examples rejected by sampler is high: [0.802398503][0.802398503 0.197601497][0 1]\n",
      "Proportion of examples rejected by sampler is high: [0.802398503][0.802398503 0.197601497][0 1]\n",
      "Proportion of examples rejected by sampler is high: [0.802398503][0.802398503 0.197601497][0 1]\n",
      "Proportion of examples rejected by sampler is high: [0.802398503][0.802398503 0.197601497][0 1]\n",
      "Proportion of examples rejected by sampler is high: [0.802398503][0.802398503 0.197601497][0 1]\n",
      "Proportion of examples rejected by sampler is high: [0.802398503][0.802398503 0.197601497][0 1]\n",
      "Proportion of examples rejected by sampler is high: [0.802398503][0.802398503 0.197601497][0 1]\n",
      "Proportion of examples rejected by sampler is high: [0.802398503][0.802398503 0.197601497][0 1]\n",
      "Proportion of examples rejected by sampler is high: [0.802398503][0.802398503 0.197601497][0 1]\n",
      "Proportion of examples rejected by sampler is high: [0.802398503][0.802398503 0.197601497][0 1]\n"
     ]
    },
    {
     "name": "stdout",
     "output_type": "stream",
     "text": [
      "30/30 [==============================] - 28s 936ms/step - loss: 0.3196 - cross entropy: 0.2882 - Brier score: 0.0877 - tp: 13867.0000 - fp: 2437.0000 - tn: 12481.0000 - fn: 1144.0000 - accuracy: 0.8804 - precision: 0.8505 - recall: 0.9238 - auc: 0.9450 - prc: 0.9261 - val_loss: 0.3385 - val_cross entropy: 0.3073 - val_Brier score: 0.0976 - val_tp: 1462.0000 - val_fp: 1047.0000 - val_tn: 5499.0000 - val_fn: 132.0000 - val_accuracy: 0.8552 - val_precision: 0.5827 - val_recall: 0.9172 - val_auc: 0.9454 - val_prc: 0.7418 - lr: 1.0000e-06\n",
      "Epoch 16/150\n"
     ]
    },
    {
     "name": "stderr",
     "output_type": "stream",
     "text": [
      "Proportion of examples rejected by sampler is high: [0.802398503][0.802398503 0.197601497][0 1]\n",
      "Proportion of examples rejected by sampler is high: [0.802398503][0.802398503 0.197601497][0 1]\n",
      "Proportion of examples rejected by sampler is high: [0.802398503][0.802398503 0.197601497][0 1]\n",
      "Proportion of examples rejected by sampler is high: [0.802398503][0.802398503 0.197601497][0 1]\n",
      "Proportion of examples rejected by sampler is high: [0.802398503][0.802398503 0.197601497][0 1]\n",
      "Proportion of examples rejected by sampler is high: [0.802398503][0.802398503 0.197601497][0 1]\n",
      "Proportion of examples rejected by sampler is high: [0.802398503][0.802398503 0.197601497][0 1]\n",
      "Proportion of examples rejected by sampler is high: [0.802398503][0.802398503 0.197601497][0 1]\n",
      "Proportion of examples rejected by sampler is high: [0.802398503][0.802398503 0.197601497][0 1]\n",
      "Proportion of examples rejected by sampler is high: [0.802398503][0.802398503 0.197601497][0 1]\n"
     ]
    },
    {
     "name": "stdout",
     "output_type": "stream",
     "text": [
      "30/30 [==============================] - 29s 962ms/step - loss: 0.3196 - cross entropy: 0.2882 - Brier score: 0.0877 - tp: 13867.0000 - fp: 2437.0000 - tn: 12481.0000 - fn: 1144.0000 - accuracy: 0.8804 - precision: 0.8505 - recall: 0.9238 - auc: 0.9450 - prc: 0.9261 - val_loss: 0.3385 - val_cross entropy: 0.3073 - val_Brier score: 0.0976 - val_tp: 1462.0000 - val_fp: 1046.0000 - val_tn: 5500.0000 - val_fn: 132.0000 - val_accuracy: 0.8553 - val_precision: 0.5829 - val_recall: 0.9172 - val_auc: 0.9454 - val_prc: 0.7418 - lr: 1.0000e-06\n",
      "Epoch 17/150\n"
     ]
    },
    {
     "name": "stderr",
     "output_type": "stream",
     "text": [
      "Proportion of examples rejected by sampler is high: [0.802398503][0.802398503 0.197601497][0 1]\n",
      "Proportion of examples rejected by sampler is high: [0.802398503][0.802398503 0.197601497][0 1]\n",
      "Proportion of examples rejected by sampler is high: [0.802398503][0.802398503 0.197601497][0 1]\n",
      "Proportion of examples rejected by sampler is high: [0.802398503][0.802398503 0.197601497][0 1]\n",
      "Proportion of examples rejected by sampler is high: [0.802398503][0.802398503 0.197601497][0 1]\n",
      "Proportion of examples rejected by sampler is high: [0.802398503][0.802398503 0.197601497][0 1]\n",
      "Proportion of examples rejected by sampler is high: [0.802398503][0.802398503 0.197601497][0 1]\n",
      "Proportion of examples rejected by sampler is high: [0.802398503][0.802398503 0.197601497][0 1]\n",
      "Proportion of examples rejected by sampler is high: [0.802398503][0.802398503 0.197601497][0 1]\n",
      "Proportion of examples rejected by sampler is high: [0.802398503][0.802398503 0.197601497][0 1]\n"
     ]
    },
    {
     "name": "stdout",
     "output_type": "stream",
     "text": [
      "30/30 [==============================] - 28s 937ms/step - loss: 0.3196 - cross entropy: 0.2882 - Brier score: 0.0877 - tp: 13867.0000 - fp: 2436.0000 - tn: 12482.0000 - fn: 1144.0000 - accuracy: 0.8804 - precision: 0.8506 - recall: 0.9238 - auc: 0.9450 - prc: 0.9261 - val_loss: 0.3385 - val_cross entropy: 0.3073 - val_Brier score: 0.0976 - val_tp: 1462.0000 - val_fp: 1046.0000 - val_tn: 5500.0000 - val_fn: 132.0000 - val_accuracy: 0.8553 - val_precision: 0.5829 - val_recall: 0.9172 - val_auc: 0.9454 - val_prc: 0.7418 - lr: 1.0000e-06\n",
      "Epoch 18/150\n"
     ]
    },
    {
     "name": "stderr",
     "output_type": "stream",
     "text": [
      "Proportion of examples rejected by sampler is high: [0.802398503][0.802398503 0.197601497][0 1]\n",
      "Proportion of examples rejected by sampler is high: [0.802398503][0.802398503 0.197601497][0 1]\n",
      "Proportion of examples rejected by sampler is high: [0.802398503][0.802398503 0.197601497][0 1]\n",
      "Proportion of examples rejected by sampler is high: [0.802398503][0.802398503 0.197601497][0 1]\n",
      "Proportion of examples rejected by sampler is high: [0.802398503][0.802398503 0.197601497][0 1]\n",
      "Proportion of examples rejected by sampler is high: [0.802398503][0.802398503 0.197601497][0 1]\n",
      "Proportion of examples rejected by sampler is high: [0.802398503][0.802398503 0.197601497][0 1]\n",
      "Proportion of examples rejected by sampler is high: [0.802398503][0.802398503 0.197601497][0 1]\n",
      "Proportion of examples rejected by sampler is high: [0.802398503][0.802398503 0.197601497][0 1]\n",
      "Proportion of examples rejected by sampler is high: [0.802398503][0.802398503 0.197601497][0 1]\n"
     ]
    },
    {
     "name": "stdout",
     "output_type": "stream",
     "text": [
      "30/30 [==============================] - 28s 935ms/step - loss: 0.3196 - cross entropy: 0.2882 - Brier score: 0.0877 - tp: 13867.0000 - fp: 2436.0000 - tn: 12482.0000 - fn: 1144.0000 - accuracy: 0.8804 - precision: 0.8506 - recall: 0.9238 - auc: 0.9450 - prc: 0.9261 - val_loss: 0.3385 - val_cross entropy: 0.3073 - val_Brier score: 0.0976 - val_tp: 1462.0000 - val_fp: 1046.0000 - val_tn: 5500.0000 - val_fn: 132.0000 - val_accuracy: 0.8553 - val_precision: 0.5829 - val_recall: 0.9172 - val_auc: 0.9454 - val_prc: 0.7418 - lr: 1.0000e-06\n",
      "Epoch 19/150\n"
     ]
    },
    {
     "name": "stderr",
     "output_type": "stream",
     "text": [
      "Proportion of examples rejected by sampler is high: [0.802398503][0.802398503 0.197601497][0 1]\n",
      "Proportion of examples rejected by sampler is high: [0.802398503][0.802398503 0.197601497][0 1]\n",
      "Proportion of examples rejected by sampler is high: [0.802398503][0.802398503 0.197601497][0 1]\n",
      "Proportion of examples rejected by sampler is high: [0.802398503][0.802398503 0.197601497][0 1]\n",
      "Proportion of examples rejected by sampler is high: [0.802398503][0.802398503 0.197601497][0 1]\n",
      "Proportion of examples rejected by sampler is high: [0.802398503][0.802398503 0.197601497][0 1]\n",
      "Proportion of examples rejected by sampler is high: [0.802398503][0.802398503 0.197601497][0 1]\n",
      "Proportion of examples rejected by sampler is high: [0.802398503][0.802398503 0.197601497][0 1]\n",
      "Proportion of examples rejected by sampler is high: [0.802398503][0.802398503 0.197601497][0 1]\n",
      "Proportion of examples rejected by sampler is high: [0.802398503][0.802398503 0.197601497][0 1]\n"
     ]
    },
    {
     "name": "stdout",
     "output_type": "stream",
     "text": [
      "30/30 [==============================] - 28s 930ms/step - loss: 0.3196 - cross entropy: 0.2882 - Brier score: 0.0877 - tp: 13867.0000 - fp: 2436.0000 - tn: 12482.0000 - fn: 1144.0000 - accuracy: 0.8804 - precision: 0.8506 - recall: 0.9238 - auc: 0.9450 - prc: 0.9261 - val_loss: 0.3384 - val_cross entropy: 0.3072 - val_Brier score: 0.0976 - val_tp: 1462.0000 - val_fp: 1046.0000 - val_tn: 5500.0000 - val_fn: 132.0000 - val_accuracy: 0.8553 - val_precision: 0.5829 - val_recall: 0.9172 - val_auc: 0.9454 - val_prc: 0.7418 - lr: 1.0000e-06\n",
      "Epoch 20/150\n"
     ]
    },
    {
     "name": "stderr",
     "output_type": "stream",
     "text": [
      "Proportion of examples rejected by sampler is high: [0.802398503][0.802398503 0.197601497][0 1]\n",
      "Proportion of examples rejected by sampler is high: [0.802398503][0.802398503 0.197601497][0 1]\n",
      "Proportion of examples rejected by sampler is high: [0.802398503][0.802398503 0.197601497][0 1]\n",
      "Proportion of examples rejected by sampler is high: [0.802398503][0.802398503 0.197601497][0 1]\n",
      "Proportion of examples rejected by sampler is high: [0.802398503][0.802398503 0.197601497][0 1]\n",
      "Proportion of examples rejected by sampler is high: [0.802398503][0.802398503 0.197601497][0 1]\n",
      "Proportion of examples rejected by sampler is high: [0.802398503][0.802398503 0.197601497][0 1]\n",
      "Proportion of examples rejected by sampler is high: [0.802398503][0.802398503 0.197601497][0 1]\n",
      "Proportion of examples rejected by sampler is high: [0.802398503][0.802398503 0.197601497][0 1]\n",
      "Proportion of examples rejected by sampler is high: [0.802398503][0.802398503 0.197601497][0 1]\n"
     ]
    },
    {
     "name": "stdout",
     "output_type": "stream",
     "text": [
      "30/30 [==============================] - 28s 934ms/step - loss: 0.3196 - cross entropy: 0.2882 - Brier score: 0.0877 - tp: 13867.0000 - fp: 2435.0000 - tn: 12483.0000 - fn: 1144.0000 - accuracy: 0.8804 - precision: 0.8506 - recall: 0.9238 - auc: 0.9450 - prc: 0.9261 - val_loss: 0.3384 - val_cross entropy: 0.3072 - val_Brier score: 0.0976 - val_tp: 1462.0000 - val_fp: 1046.0000 - val_tn: 5500.0000 - val_fn: 132.0000 - val_accuracy: 0.8553 - val_precision: 0.5829 - val_recall: 0.9172 - val_auc: 0.9454 - val_prc: 0.7418 - lr: 1.0000e-06\n",
      "Epoch 21/150\n"
     ]
    },
    {
     "name": "stderr",
     "output_type": "stream",
     "text": [
      "Proportion of examples rejected by sampler is high: [0.802398503][0.802398503 0.197601497][0 1]\n",
      "Proportion of examples rejected by sampler is high: [0.802398503][0.802398503 0.197601497][0 1]\n",
      "Proportion of examples rejected by sampler is high: [0.802398503][0.802398503 0.197601497][0 1]\n",
      "Proportion of examples rejected by sampler is high: [0.802398503][0.802398503 0.197601497][0 1]\n",
      "Proportion of examples rejected by sampler is high: [0.802398503][0.802398503 0.197601497][0 1]\n",
      "Proportion of examples rejected by sampler is high: [0.802398503][0.802398503 0.197601497][0 1]\n",
      "Proportion of examples rejected by sampler is high: [0.802398503][0.802398503 0.197601497][0 1]\n",
      "Proportion of examples rejected by sampler is high: [0.802398503][0.802398503 0.197601497][0 1]\n",
      "Proportion of examples rejected by sampler is high: [0.802398503][0.802398503 0.197601497][0 1]\n",
      "Proportion of examples rejected by sampler is high: [0.802398503][0.802398503 0.197601497][0 1]\n"
     ]
    },
    {
     "name": "stdout",
     "output_type": "stream",
     "text": [
      "30/30 [==============================] - 28s 930ms/step - loss: 0.3196 - cross entropy: 0.2882 - Brier score: 0.0877 - tp: 13866.0000 - fp: 2434.0000 - tn: 12484.0000 - fn: 1145.0000 - accuracy: 0.8804 - precision: 0.8507 - recall: 0.9237 - auc: 0.9450 - prc: 0.9261 - val_loss: 0.3384 - val_cross entropy: 0.3072 - val_Brier score: 0.0976 - val_tp: 1462.0000 - val_fp: 1046.0000 - val_tn: 5500.0000 - val_fn: 132.0000 - val_accuracy: 0.8553 - val_precision: 0.5829 - val_recall: 0.9172 - val_auc: 0.9454 - val_prc: 0.7418 - lr: 1.0000e-06\n",
      "Epoch 22/150\n"
     ]
    },
    {
     "name": "stderr",
     "output_type": "stream",
     "text": [
      "Proportion of examples rejected by sampler is high: [0.802398503][0.802398503 0.197601497][0 1]\n",
      "Proportion of examples rejected by sampler is high: [0.802398503][0.802398503 0.197601497][0 1]\n",
      "Proportion of examples rejected by sampler is high: [0.802398503][0.802398503 0.197601497][0 1]\n",
      "Proportion of examples rejected by sampler is high: [0.802398503][0.802398503 0.197601497][0 1]\n",
      "Proportion of examples rejected by sampler is high: [0.802398503][0.802398503 0.197601497][0 1]\n",
      "Proportion of examples rejected by sampler is high: [0.802398503][0.802398503 0.197601497][0 1]\n",
      "Proportion of examples rejected by sampler is high: [0.802398503][0.802398503 0.197601497][0 1]\n",
      "Proportion of examples rejected by sampler is high: [0.802398503][0.802398503 0.197601497][0 1]\n",
      "Proportion of examples rejected by sampler is high: [0.802398503][0.802398503 0.197601497][0 1]\n",
      "Proportion of examples rejected by sampler is high: [0.802398503][0.802398503 0.197601497][0 1]\n"
     ]
    },
    {
     "name": "stdout",
     "output_type": "stream",
     "text": [
      "30/30 [==============================] - 28s 909ms/step - loss: 0.3196 - cross entropy: 0.2882 - Brier score: 0.0877 - tp: 13866.0000 - fp: 2434.0000 - tn: 12484.0000 - fn: 1145.0000 - accuracy: 0.8804 - precision: 0.8507 - recall: 0.9237 - auc: 0.9450 - prc: 0.9261 - val_loss: 0.3384 - val_cross entropy: 0.3072 - val_Brier score: 0.0976 - val_tp: 1462.0000 - val_fp: 1046.0000 - val_tn: 5500.0000 - val_fn: 132.0000 - val_accuracy: 0.8553 - val_precision: 0.5829 - val_recall: 0.9172 - val_auc: 0.9454 - val_prc: 0.7418 - lr: 1.0000e-06\n",
      "Epoch 23/150\n"
     ]
    },
    {
     "name": "stderr",
     "output_type": "stream",
     "text": [
      "Proportion of examples rejected by sampler is high: [0.802398503][0.802398503 0.197601497][0 1]\n",
      "Proportion of examples rejected by sampler is high: [0.802398503][0.802398503 0.197601497][0 1]\n",
      "Proportion of examples rejected by sampler is high: [0.802398503][0.802398503 0.197601497][0 1]\n",
      "Proportion of examples rejected by sampler is high: [0.802398503][0.802398503 0.197601497][0 1]\n",
      "Proportion of examples rejected by sampler is high: [0.802398503][0.802398503 0.197601497][0 1]\n",
      "Proportion of examples rejected by sampler is high: [0.802398503][0.802398503 0.197601497][0 1]\n",
      "Proportion of examples rejected by sampler is high: [0.802398503][0.802398503 0.197601497][0 1]\n",
      "Proportion of examples rejected by sampler is high: [0.802398503][0.802398503 0.197601497][0 1]\n",
      "Proportion of examples rejected by sampler is high: [0.802398503][0.802398503 0.197601497][0 1]\n",
      "Proportion of examples rejected by sampler is high: [0.802398503][0.802398503 0.197601497][0 1]\n"
     ]
    },
    {
     "name": "stdout",
     "output_type": "stream",
     "text": [
      "30/30 [==============================] - 28s 930ms/step - loss: 0.3196 - cross entropy: 0.2882 - Brier score: 0.0877 - tp: 13866.0000 - fp: 2434.0000 - tn: 12484.0000 - fn: 1145.0000 - accuracy: 0.8804 - precision: 0.8507 - recall: 0.9237 - auc: 0.9450 - prc: 0.9261 - val_loss: 0.3384 - val_cross entropy: 0.3072 - val_Brier score: 0.0976 - val_tp: 1462.0000 - val_fp: 1046.0000 - val_tn: 5500.0000 - val_fn: 132.0000 - val_accuracy: 0.8553 - val_precision: 0.5829 - val_recall: 0.9172 - val_auc: 0.9454 - val_prc: 0.7418 - lr: 1.0000e-06\n",
      "Epoch 24/150\n"
     ]
    },
    {
     "name": "stderr",
     "output_type": "stream",
     "text": [
      "Proportion of examples rejected by sampler is high: [0.802398503][0.802398503 0.197601497][0 1]\n",
      "Proportion of examples rejected by sampler is high: [0.802398503][0.802398503 0.197601497][0 1]\n",
      "Proportion of examples rejected by sampler is high: [0.802398503][0.802398503 0.197601497][0 1]\n",
      "Proportion of examples rejected by sampler is high: [0.802398503][0.802398503 0.197601497][0 1]\n",
      "Proportion of examples rejected by sampler is high: [0.802398503][0.802398503 0.197601497][0 1]\n",
      "Proportion of examples rejected by sampler is high: [0.802398503][0.802398503 0.197601497][0 1]\n",
      "Proportion of examples rejected by sampler is high: [0.802398503][0.802398503 0.197601497][0 1]\n",
      "Proportion of examples rejected by sampler is high: [0.802398503][0.802398503 0.197601497][0 1]\n",
      "Proportion of examples rejected by sampler is high: [0.802398503][0.802398503 0.197601497][0 1]\n",
      "Proportion of examples rejected by sampler is high: [0.802398503][0.802398503 0.197601497][0 1]\n"
     ]
    },
    {
     "name": "stdout",
     "output_type": "stream",
     "text": [
      "30/30 [==============================] - 28s 922ms/step - loss: 0.3196 - cross entropy: 0.2882 - Brier score: 0.0877 - tp: 13866.0000 - fp: 2434.0000 - tn: 12484.0000 - fn: 1145.0000 - accuracy: 0.8804 - precision: 0.8507 - recall: 0.9237 - auc: 0.9450 - prc: 0.9261 - val_loss: 0.3383 - val_cross entropy: 0.3071 - val_Brier score: 0.0976 - val_tp: 1462.0000 - val_fp: 1046.0000 - val_tn: 5500.0000 - val_fn: 132.0000 - val_accuracy: 0.8553 - val_precision: 0.5829 - val_recall: 0.9172 - val_auc: 0.9454 - val_prc: 0.7418 - lr: 1.0000e-06\n",
      "Epoch 25/150\n"
     ]
    },
    {
     "name": "stderr",
     "output_type": "stream",
     "text": [
      "Proportion of examples rejected by sampler is high: [0.802398503][0.802398503 0.197601497][0 1]\n",
      "Proportion of examples rejected by sampler is high: [0.802398503][0.802398503 0.197601497][0 1]\n",
      "Proportion of examples rejected by sampler is high: [0.802398503][0.802398503 0.197601497][0 1]\n",
      "Proportion of examples rejected by sampler is high: [0.802398503][0.802398503 0.197601497][0 1]\n",
      "Proportion of examples rejected by sampler is high: [0.802398503][0.802398503 0.197601497][0 1]\n",
      "Proportion of examples rejected by sampler is high: [0.802398503][0.802398503 0.197601497][0 1]\n",
      "Proportion of examples rejected by sampler is high: [0.802398503][0.802398503 0.197601497][0 1]\n",
      "Proportion of examples rejected by sampler is high: [0.802398503][0.802398503 0.197601497][0 1]\n",
      "Proportion of examples rejected by sampler is high: [0.802398503][0.802398503 0.197601497][0 1]\n",
      "Proportion of examples rejected by sampler is high: [0.802398503][0.802398503 0.197601497][0 1]\n"
     ]
    },
    {
     "name": "stdout",
     "output_type": "stream",
     "text": [
      "30/30 [==============================] - 28s 929ms/step - loss: 0.3196 - cross entropy: 0.2882 - Brier score: 0.0877 - tp: 13866.0000 - fp: 2434.0000 - tn: 12484.0000 - fn: 1145.0000 - accuracy: 0.8804 - precision: 0.8507 - recall: 0.9237 - auc: 0.9450 - prc: 0.9261 - val_loss: 0.3383 - val_cross entropy: 0.3071 - val_Brier score: 0.0976 - val_tp: 1462.0000 - val_fp: 1045.0000 - val_tn: 5501.0000 - val_fn: 132.0000 - val_accuracy: 0.8554 - val_precision: 0.5832 - val_recall: 0.9172 - val_auc: 0.9454 - val_prc: 0.7418 - lr: 1.0000e-06\n",
      "Epoch 26/150\n"
     ]
    },
    {
     "name": "stderr",
     "output_type": "stream",
     "text": [
      "Proportion of examples rejected by sampler is high: [0.802398503][0.802398503 0.197601497][0 1]\n",
      "Proportion of examples rejected by sampler is high: [0.802398503][0.802398503 0.197601497][0 1]\n",
      "Proportion of examples rejected by sampler is high: [0.802398503][0.802398503 0.197601497][0 1]\n",
      "Proportion of examples rejected by sampler is high: [0.802398503][0.802398503 0.197601497][0 1]\n",
      "Proportion of examples rejected by sampler is high: [0.802398503][0.802398503 0.197601497][0 1]\n",
      "Proportion of examples rejected by sampler is high: [0.802398503][0.802398503 0.197601497][0 1]\n",
      "Proportion of examples rejected by sampler is high: [0.802398503][0.802398503 0.197601497][0 1]\n",
      "Proportion of examples rejected by sampler is high: [0.802398503][0.802398503 0.197601497][0 1]\n",
      "Proportion of examples rejected by sampler is high: [0.802398503][0.802398503 0.197601497][0 1]\n",
      "Proportion of examples rejected by sampler is high: [0.802398503][0.802398503 0.197601497][0 1]\n"
     ]
    },
    {
     "name": "stdout",
     "output_type": "stream",
     "text": [
      "30/30 [==============================] - 29s 956ms/step - loss: 0.3196 - cross entropy: 0.2882 - Brier score: 0.0877 - tp: 13865.0000 - fp: 2434.0000 - tn: 12484.0000 - fn: 1146.0000 - accuracy: 0.8804 - precision: 0.8507 - recall: 0.9237 - auc: 0.9450 - prc: 0.9261 - val_loss: 0.3383 - val_cross entropy: 0.3071 - val_Brier score: 0.0976 - val_tp: 1462.0000 - val_fp: 1045.0000 - val_tn: 5501.0000 - val_fn: 132.0000 - val_accuracy: 0.8554 - val_precision: 0.5832 - val_recall: 0.9172 - val_auc: 0.9454 - val_prc: 0.7418 - lr: 1.0000e-06\n",
      "Epoch 27/150\n"
     ]
    },
    {
     "name": "stderr",
     "output_type": "stream",
     "text": [
      "Proportion of examples rejected by sampler is high: [0.802398503][0.802398503 0.197601497][0 1]\n",
      "Proportion of examples rejected by sampler is high: [0.802398503][0.802398503 0.197601497][0 1]\n",
      "Proportion of examples rejected by sampler is high: [0.802398503][0.802398503 0.197601497][0 1]\n",
      "Proportion of examples rejected by sampler is high: [0.802398503][0.802398503 0.197601497][0 1]\n",
      "Proportion of examples rejected by sampler is high: [0.802398503][0.802398503 0.197601497][0 1]\n",
      "Proportion of examples rejected by sampler is high: [0.802398503][0.802398503 0.197601497][0 1]\n",
      "Proportion of examples rejected by sampler is high: [0.802398503][0.802398503 0.197601497][0 1]\n",
      "Proportion of examples rejected by sampler is high: [0.802398503][0.802398503 0.197601497][0 1]\n",
      "Proportion of examples rejected by sampler is high: [0.802398503][0.802398503 0.197601497][0 1]\n",
      "Proportion of examples rejected by sampler is high: [0.802398503][0.802398503 0.197601497][0 1]\n"
     ]
    },
    {
     "name": "stdout",
     "output_type": "stream",
     "text": [
      "30/30 [==============================] - 29s 947ms/step - loss: 0.3195 - cross entropy: 0.2882 - Brier score: 0.0877 - tp: 13864.0000 - fp: 2434.0000 - tn: 12484.0000 - fn: 1147.0000 - accuracy: 0.8804 - precision: 0.8507 - recall: 0.9236 - auc: 0.9450 - prc: 0.9261 - val_loss: 0.3383 - val_cross entropy: 0.3071 - val_Brier score: 0.0976 - val_tp: 1462.0000 - val_fp: 1045.0000 - val_tn: 5501.0000 - val_fn: 132.0000 - val_accuracy: 0.8554 - val_precision: 0.5832 - val_recall: 0.9172 - val_auc: 0.9454 - val_prc: 0.7418 - lr: 1.0000e-06\n",
      "Epoch 28/150\n"
     ]
    },
    {
     "name": "stderr",
     "output_type": "stream",
     "text": [
      "Proportion of examples rejected by sampler is high: [0.802398503][0.802398503 0.197601497][0 1]\n",
      "Proportion of examples rejected by sampler is high: [0.802398503][0.802398503 0.197601497][0 1]\n",
      "Proportion of examples rejected by sampler is high: [0.802398503][0.802398503 0.197601497][0 1]\n",
      "Proportion of examples rejected by sampler is high: [0.802398503][0.802398503 0.197601497][0 1]\n",
      "Proportion of examples rejected by sampler is high: [0.802398503][0.802398503 0.197601497][0 1]\n",
      "Proportion of examples rejected by sampler is high: [0.802398503][0.802398503 0.197601497][0 1]\n",
      "Proportion of examples rejected by sampler is high: [0.802398503][0.802398503 0.197601497][0 1]\n",
      "Proportion of examples rejected by sampler is high: [0.802398503][0.802398503 0.197601497][0 1]\n",
      "Proportion of examples rejected by sampler is high: [0.802398503][0.802398503 0.197601497][0 1]\n",
      "Proportion of examples rejected by sampler is high: [0.802398503][0.802398503 0.197601497][0 1]\n"
     ]
    },
    {
     "name": "stdout",
     "output_type": "stream",
     "text": [
      "30/30 [==============================] - 28s 924ms/step - loss: 0.3195 - cross entropy: 0.2882 - Brier score: 0.0877 - tp: 13864.0000 - fp: 2434.0000 - tn: 12484.0000 - fn: 1147.0000 - accuracy: 0.8804 - precision: 0.8507 - recall: 0.9236 - auc: 0.9450 - prc: 0.9261 - val_loss: 0.3383 - val_cross entropy: 0.3071 - val_Brier score: 0.0976 - val_tp: 1462.0000 - val_fp: 1045.0000 - val_tn: 5501.0000 - val_fn: 132.0000 - val_accuracy: 0.8554 - val_precision: 0.5832 - val_recall: 0.9172 - val_auc: 0.9455 - val_prc: 0.7418 - lr: 1.0000e-06\n",
      "Epoch 29/150\n"
     ]
    },
    {
     "name": "stderr",
     "output_type": "stream",
     "text": [
      "Proportion of examples rejected by sampler is high: [0.802398503][0.802398503 0.197601497][0 1]\n",
      "Proportion of examples rejected by sampler is high: [0.802398503][0.802398503 0.197601497][0 1]\n",
      "Proportion of examples rejected by sampler is high: [0.802398503][0.802398503 0.197601497][0 1]\n",
      "Proportion of examples rejected by sampler is high: [0.802398503][0.802398503 0.197601497][0 1]\n",
      "Proportion of examples rejected by sampler is high: [0.802398503][0.802398503 0.197601497][0 1]\n",
      "Proportion of examples rejected by sampler is high: [0.802398503][0.802398503 0.197601497][0 1]\n",
      "Proportion of examples rejected by sampler is high: [0.802398503][0.802398503 0.197601497][0 1]\n",
      "Proportion of examples rejected by sampler is high: [0.802398503][0.802398503 0.197601497][0 1]\n",
      "Proportion of examples rejected by sampler is high: [0.802398503][0.802398503 0.197601497][0 1]\n",
      "Proportion of examples rejected by sampler is high: [0.802398503][0.802398503 0.197601497][0 1]\n"
     ]
    },
    {
     "name": "stdout",
     "output_type": "stream",
     "text": [
      "30/30 [==============================] - 28s 933ms/step - loss: 0.3195 - cross entropy: 0.2882 - Brier score: 0.0877 - tp: 13863.0000 - fp: 2434.0000 - tn: 12484.0000 - fn: 1148.0000 - accuracy: 0.8803 - precision: 0.8506 - recall: 0.9235 - auc: 0.9450 - prc: 0.9261 - val_loss: 0.3383 - val_cross entropy: 0.3071 - val_Brier score: 0.0976 - val_tp: 1462.0000 - val_fp: 1045.0000 - val_tn: 5501.0000 - val_fn: 132.0000 - val_accuracy: 0.8554 - val_precision: 0.5832 - val_recall: 0.9172 - val_auc: 0.9455 - val_prc: 0.7418 - lr: 1.0000e-06\n",
      "Epoch 30/150\n"
     ]
    },
    {
     "name": "stderr",
     "output_type": "stream",
     "text": [
      "Proportion of examples rejected by sampler is high: [0.802398503][0.802398503 0.197601497][0 1]\n",
      "Proportion of examples rejected by sampler is high: [0.802398503][0.802398503 0.197601497][0 1]\n",
      "Proportion of examples rejected by sampler is high: [0.802398503][0.802398503 0.197601497][0 1]\n",
      "Proportion of examples rejected by sampler is high: [0.802398503][0.802398503 0.197601497][0 1]\n",
      "Proportion of examples rejected by sampler is high: [0.802398503][0.802398503 0.197601497][0 1]\n",
      "Proportion of examples rejected by sampler is high: [0.802398503][0.802398503 0.197601497][0 1]\n",
      "Proportion of examples rejected by sampler is high: [0.802398503][0.802398503 0.197601497][0 1]\n",
      "Proportion of examples rejected by sampler is high: [0.802398503][0.802398503 0.197601497][0 1]\n",
      "Proportion of examples rejected by sampler is high: [0.802398503][0.802398503 0.197601497][0 1]\n",
      "Proportion of examples rejected by sampler is high: [0.802398503][0.802398503 0.197601497][0 1]\n"
     ]
    },
    {
     "name": "stdout",
     "output_type": "stream",
     "text": [
      "30/30 [==============================] - 29s 947ms/step - loss: 0.3195 - cross entropy: 0.2882 - Brier score: 0.0877 - tp: 13863.0000 - fp: 2434.0000 - tn: 12484.0000 - fn: 1148.0000 - accuracy: 0.8803 - precision: 0.8506 - recall: 0.9235 - auc: 0.9450 - prc: 0.9261 - val_loss: 0.3383 - val_cross entropy: 0.3071 - val_Brier score: 0.0976 - val_tp: 1462.0000 - val_fp: 1045.0000 - val_tn: 5501.0000 - val_fn: 132.0000 - val_accuracy: 0.8554 - val_precision: 0.5832 - val_recall: 0.9172 - val_auc: 0.9455 - val_prc: 0.7418 - lr: 1.0000e-06\n",
      "Epoch 31/150\n"
     ]
    },
    {
     "name": "stderr",
     "output_type": "stream",
     "text": [
      "Proportion of examples rejected by sampler is high: [0.802398503][0.802398503 0.197601497][0 1]\n",
      "Proportion of examples rejected by sampler is high: [0.802398503][0.802398503 0.197601497][0 1]\n",
      "Proportion of examples rejected by sampler is high: [0.802398503][0.802398503 0.197601497][0 1]\n",
      "Proportion of examples rejected by sampler is high: [0.802398503][0.802398503 0.197601497][0 1]\n",
      "Proportion of examples rejected by sampler is high: [0.802398503][0.802398503 0.197601497][0 1]\n",
      "Proportion of examples rejected by sampler is high: [0.802398503][0.802398503 0.197601497][0 1]\n",
      "Proportion of examples rejected by sampler is high: [0.802398503][0.802398503 0.197601497][0 1]\n",
      "Proportion of examples rejected by sampler is high: [0.802398503][0.802398503 0.197601497][0 1]\n",
      "Proportion of examples rejected by sampler is high: [0.802398503][0.802398503 0.197601497][0 1]\n",
      "Proportion of examples rejected by sampler is high: [0.802398503][0.802398503 0.197601497][0 1]\n"
     ]
    },
    {
     "name": "stdout",
     "output_type": "stream",
     "text": [
      "30/30 [==============================] - 27s 900ms/step - loss: 0.3195 - cross entropy: 0.2882 - Brier score: 0.0877 - tp: 13863.0000 - fp: 2434.0000 - tn: 12484.0000 - fn: 1148.0000 - accuracy: 0.8803 - precision: 0.8506 - recall: 0.9235 - auc: 0.9450 - prc: 0.9261 - val_loss: 0.3383 - val_cross entropy: 0.3071 - val_Brier score: 0.0976 - val_tp: 1462.0000 - val_fp: 1045.0000 - val_tn: 5501.0000 - val_fn: 132.0000 - val_accuracy: 0.8554 - val_precision: 0.5832 - val_recall: 0.9172 - val_auc: 0.9455 - val_prc: 0.7418 - lr: 1.0000e-06\n",
      "Epoch 32/150\n"
     ]
    },
    {
     "name": "stderr",
     "output_type": "stream",
     "text": [
      "Proportion of examples rejected by sampler is high: [0.802398503][0.802398503 0.197601497][0 1]\n",
      "Proportion of examples rejected by sampler is high: [0.802398503][0.802398503 0.197601497][0 1]\n",
      "Proportion of examples rejected by sampler is high: [0.802398503][0.802398503 0.197601497][0 1]\n",
      "Proportion of examples rejected by sampler is high: [0.802398503][0.802398503 0.197601497][0 1]\n",
      "Proportion of examples rejected by sampler is high: [0.802398503][0.802398503 0.197601497][0 1]\n",
      "Proportion of examples rejected by sampler is high: [0.802398503][0.802398503 0.197601497][0 1]\n",
      "Proportion of examples rejected by sampler is high: [0.802398503][0.802398503 0.197601497][0 1]\n",
      "Proportion of examples rejected by sampler is high: [0.802398503][0.802398503 0.197601497][0 1]\n",
      "Proportion of examples rejected by sampler is high: [0.802398503][0.802398503 0.197601497][0 1]\n",
      "Proportion of examples rejected by sampler is high: [0.802398503][0.802398503 0.197601497][0 1]\n"
     ]
    },
    {
     "name": "stdout",
     "output_type": "stream",
     "text": [
      "30/30 [==============================] - 28s 924ms/step - loss: 0.3195 - cross entropy: 0.2882 - Brier score: 0.0877 - tp: 13863.0000 - fp: 2434.0000 - tn: 12484.0000 - fn: 1148.0000 - accuracy: 0.8803 - precision: 0.8506 - recall: 0.9235 - auc: 0.9450 - prc: 0.9261 - val_loss: 0.3383 - val_cross entropy: 0.3071 - val_Brier score: 0.0976 - val_tp: 1462.0000 - val_fp: 1045.0000 - val_tn: 5501.0000 - val_fn: 132.0000 - val_accuracy: 0.8554 - val_precision: 0.5832 - val_recall: 0.9172 - val_auc: 0.9455 - val_prc: 0.7418 - lr: 1.0000e-06\n",
      "Epoch 33/150\n"
     ]
    },
    {
     "name": "stderr",
     "output_type": "stream",
     "text": [
      "Proportion of examples rejected by sampler is high: [0.802398503][0.802398503 0.197601497][0 1]\n",
      "Proportion of examples rejected by sampler is high: [0.802398503][0.802398503 0.197601497][0 1]\n",
      "Proportion of examples rejected by sampler is high: [0.802398503][0.802398503 0.197601497][0 1]\n",
      "Proportion of examples rejected by sampler is high: [0.802398503][0.802398503 0.197601497][0 1]\n",
      "Proportion of examples rejected by sampler is high: [0.802398503][0.802398503 0.197601497][0 1]\n",
      "Proportion of examples rejected by sampler is high: [0.802398503][0.802398503 0.197601497][0 1]\n",
      "Proportion of examples rejected by sampler is high: [0.802398503][0.802398503 0.197601497][0 1]\n",
      "Proportion of examples rejected by sampler is high: [0.802398503][0.802398503 0.197601497][0 1]\n",
      "Proportion of examples rejected by sampler is high: [0.802398503][0.802398503 0.197601497][0 1]\n",
      "Proportion of examples rejected by sampler is high: [0.802398503][0.802398503 0.197601497][0 1]\n"
     ]
    },
    {
     "name": "stdout",
     "output_type": "stream",
     "text": [
      "30/30 [==============================] - 29s 960ms/step - loss: 0.3195 - cross entropy: 0.2882 - Brier score: 0.0877 - tp: 13862.0000 - fp: 2434.0000 - tn: 12484.0000 - fn: 1149.0000 - accuracy: 0.8803 - precision: 0.8506 - recall: 0.9235 - auc: 0.9450 - prc: 0.9261 - val_loss: 0.3383 - val_cross entropy: 0.3071 - val_Brier score: 0.0975 - val_tp: 1462.0000 - val_fp: 1045.0000 - val_tn: 5501.0000 - val_fn: 132.0000 - val_accuracy: 0.8554 - val_precision: 0.5832 - val_recall: 0.9172 - val_auc: 0.9455 - val_prc: 0.7419 - lr: 1.0000e-06\n",
      "Epoch 34/150\n"
     ]
    },
    {
     "name": "stderr",
     "output_type": "stream",
     "text": [
      "Proportion of examples rejected by sampler is high: [0.802398503][0.802398503 0.197601497][0 1]\n",
      "Proportion of examples rejected by sampler is high: [0.802398503][0.802398503 0.197601497][0 1]\n",
      "Proportion of examples rejected by sampler is high: [0.802398503][0.802398503 0.197601497][0 1]\n",
      "Proportion of examples rejected by sampler is high: [0.802398503][0.802398503 0.197601497][0 1]\n",
      "Proportion of examples rejected by sampler is high: [0.802398503][0.802398503 0.197601497][0 1]\n",
      "Proportion of examples rejected by sampler is high: [0.802398503][0.802398503 0.197601497][0 1]\n",
      "Proportion of examples rejected by sampler is high: [0.802398503][0.802398503 0.197601497][0 1]\n",
      "Proportion of examples rejected by sampler is high: [0.802398503][0.802398503 0.197601497][0 1]\n",
      "Proportion of examples rejected by sampler is high: [0.802398503][0.802398503 0.197601497][0 1]\n",
      "Proportion of examples rejected by sampler is high: [0.802398503][0.802398503 0.197601497][0 1]\n"
     ]
    },
    {
     "name": "stdout",
     "output_type": "stream",
     "text": [
      "30/30 [==============================] - 28s 934ms/step - loss: 0.3195 - cross entropy: 0.2882 - Brier score: 0.0877 - tp: 13862.0000 - fp: 2434.0000 - tn: 12484.0000 - fn: 1149.0000 - accuracy: 0.8803 - precision: 0.8506 - recall: 0.9235 - auc: 0.9450 - prc: 0.9262 - val_loss: 0.3383 - val_cross entropy: 0.3071 - val_Brier score: 0.0975 - val_tp: 1462.0000 - val_fp: 1045.0000 - val_tn: 5501.0000 - val_fn: 132.0000 - val_accuracy: 0.8554 - val_precision: 0.5832 - val_recall: 0.9172 - val_auc: 0.9455 - val_prc: 0.7419 - lr: 1.0000e-06\n",
      "Epoch 35/150\n"
     ]
    },
    {
     "name": "stderr",
     "output_type": "stream",
     "text": [
      "Proportion of examples rejected by sampler is high: [0.802398503][0.802398503 0.197601497][0 1]\n",
      "Proportion of examples rejected by sampler is high: [0.802398503][0.802398503 0.197601497][0 1]\n",
      "Proportion of examples rejected by sampler is high: [0.802398503][0.802398503 0.197601497][0 1]\n",
      "Proportion of examples rejected by sampler is high: [0.802398503][0.802398503 0.197601497][0 1]\n",
      "Proportion of examples rejected by sampler is high: [0.802398503][0.802398503 0.197601497][0 1]\n",
      "Proportion of examples rejected by sampler is high: [0.802398503][0.802398503 0.197601497][0 1]\n",
      "Proportion of examples rejected by sampler is high: [0.802398503][0.802398503 0.197601497][0 1]\n",
      "Proportion of examples rejected by sampler is high: [0.802398503][0.802398503 0.197601497][0 1]\n",
      "Proportion of examples rejected by sampler is high: [0.802398503][0.802398503 0.197601497][0 1]\n",
      "Proportion of examples rejected by sampler is high: [0.802398503][0.802398503 0.197601497][0 1]\n"
     ]
    },
    {
     "name": "stdout",
     "output_type": "stream",
     "text": [
      "30/30 [==============================] - 29s 954ms/step - loss: 0.3195 - cross entropy: 0.2882 - Brier score: 0.0877 - tp: 13862.0000 - fp: 2434.0000 - tn: 12484.0000 - fn: 1149.0000 - accuracy: 0.8803 - precision: 0.8506 - recall: 0.9235 - auc: 0.9450 - prc: 0.9262 - val_loss: 0.3383 - val_cross entropy: 0.3071 - val_Brier score: 0.0975 - val_tp: 1462.0000 - val_fp: 1045.0000 - val_tn: 5501.0000 - val_fn: 132.0000 - val_accuracy: 0.8554 - val_precision: 0.5832 - val_recall: 0.9172 - val_auc: 0.9455 - val_prc: 0.7419 - lr: 1.0000e-06\n",
      "Epoch 36/150\n"
     ]
    },
    {
     "name": "stderr",
     "output_type": "stream",
     "text": [
      "Proportion of examples rejected by sampler is high: [0.802398503][0.802398503 0.197601497][0 1]\n",
      "Proportion of examples rejected by sampler is high: [0.802398503][0.802398503 0.197601497][0 1]\n",
      "Proportion of examples rejected by sampler is high: [0.802398503][0.802398503 0.197601497][0 1]\n",
      "Proportion of examples rejected by sampler is high: [0.802398503][0.802398503 0.197601497][0 1]\n",
      "Proportion of examples rejected by sampler is high: [0.802398503][0.802398503 0.197601497][0 1]\n",
      "Proportion of examples rejected by sampler is high: [0.802398503][0.802398503 0.197601497][0 1]\n",
      "Proportion of examples rejected by sampler is high: [0.802398503][0.802398503 0.197601497][0 1]\n",
      "Proportion of examples rejected by sampler is high: [0.802398503][0.802398503 0.197601497][0 1]\n",
      "Proportion of examples rejected by sampler is high: [0.802398503][0.802398503 0.197601497][0 1]\n",
      "Proportion of examples rejected by sampler is high: [0.802398503][0.802398503 0.197601497][0 1]\n"
     ]
    },
    {
     "name": "stdout",
     "output_type": "stream",
     "text": [
      "30/30 [==============================] - 28s 927ms/step - loss: 0.3195 - cross entropy: 0.2882 - Brier score: 0.0877 - tp: 13862.0000 - fp: 2434.0000 - tn: 12484.0000 - fn: 1149.0000 - accuracy: 0.8803 - precision: 0.8506 - recall: 0.9235 - auc: 0.9450 - prc: 0.9262 - val_loss: 0.3383 - val_cross entropy: 0.3070 - val_Brier score: 0.0975 - val_tp: 1462.0000 - val_fp: 1045.0000 - val_tn: 5501.0000 - val_fn: 132.0000 - val_accuracy: 0.8554 - val_precision: 0.5832 - val_recall: 0.9172 - val_auc: 0.9455 - val_prc: 0.7419 - lr: 1.0000e-06\n",
      "Epoch 37/150\n"
     ]
    },
    {
     "name": "stderr",
     "output_type": "stream",
     "text": [
      "Proportion of examples rejected by sampler is high: [0.802398503][0.802398503 0.197601497][0 1]\n",
      "Proportion of examples rejected by sampler is high: [0.802398503][0.802398503 0.197601497][0 1]\n",
      "Proportion of examples rejected by sampler is high: [0.802398503][0.802398503 0.197601497][0 1]\n",
      "Proportion of examples rejected by sampler is high: [0.802398503][0.802398503 0.197601497][0 1]\n",
      "Proportion of examples rejected by sampler is high: [0.802398503][0.802398503 0.197601497][0 1]\n",
      "Proportion of examples rejected by sampler is high: [0.802398503][0.802398503 0.197601497][0 1]\n",
      "Proportion of examples rejected by sampler is high: [0.802398503][0.802398503 0.197601497][0 1]\n",
      "Proportion of examples rejected by sampler is high: [0.802398503][0.802398503 0.197601497][0 1]\n",
      "Proportion of examples rejected by sampler is high: [0.802398503][0.802398503 0.197601497][0 1]\n",
      "Proportion of examples rejected by sampler is high: [0.802398503][0.802398503 0.197601497][0 1]\n"
     ]
    },
    {
     "name": "stdout",
     "output_type": "stream",
     "text": [
      "30/30 [==============================] - 28s 917ms/step - loss: 0.3195 - cross entropy: 0.2882 - Brier score: 0.0877 - tp: 13862.0000 - fp: 2434.0000 - tn: 12484.0000 - fn: 1149.0000 - accuracy: 0.8803 - precision: 0.8506 - recall: 0.9235 - auc: 0.9450 - prc: 0.9262 - val_loss: 0.3382 - val_cross entropy: 0.3070 - val_Brier score: 0.0975 - val_tp: 1462.0000 - val_fp: 1045.0000 - val_tn: 5501.0000 - val_fn: 132.0000 - val_accuracy: 0.8554 - val_precision: 0.5832 - val_recall: 0.9172 - val_auc: 0.9455 - val_prc: 0.7419 - lr: 1.0000e-06\n",
      "Epoch 38/150\n"
     ]
    },
    {
     "name": "stderr",
     "output_type": "stream",
     "text": [
      "Proportion of examples rejected by sampler is high: [0.802398503][0.802398503 0.197601497][0 1]\n",
      "Proportion of examples rejected by sampler is high: [0.802398503][0.802398503 0.197601497][0 1]\n",
      "Proportion of examples rejected by sampler is high: [0.802398503][0.802398503 0.197601497][0 1]\n",
      "Proportion of examples rejected by sampler is high: [0.802398503][0.802398503 0.197601497][0 1]\n",
      "Proportion of examples rejected by sampler is high: [0.802398503][0.802398503 0.197601497][0 1]\n",
      "Proportion of examples rejected by sampler is high: [0.802398503][0.802398503 0.197601497][0 1]\n",
      "Proportion of examples rejected by sampler is high: [0.802398503][0.802398503 0.197601497][0 1]\n",
      "Proportion of examples rejected by sampler is high: [0.802398503][0.802398503 0.197601497][0 1]\n",
      "Proportion of examples rejected by sampler is high: [0.802398503][0.802398503 0.197601497][0 1]\n",
      "Proportion of examples rejected by sampler is high: [0.802398503][0.802398503 0.197601497][0 1]\n"
     ]
    },
    {
     "name": "stdout",
     "output_type": "stream",
     "text": [
      "30/30 [==============================] - 29s 946ms/step - loss: 0.3195 - cross entropy: 0.2882 - Brier score: 0.0877 - tp: 13862.0000 - fp: 2433.0000 - tn: 12485.0000 - fn: 1149.0000 - accuracy: 0.8803 - precision: 0.8507 - recall: 0.9235 - auc: 0.9450 - prc: 0.9262 - val_loss: 0.3382 - val_cross entropy: 0.3070 - val_Brier score: 0.0975 - val_tp: 1462.0000 - val_fp: 1045.0000 - val_tn: 5501.0000 - val_fn: 132.0000 - val_accuracy: 0.8554 - val_precision: 0.5832 - val_recall: 0.9172 - val_auc: 0.9455 - val_prc: 0.7419 - lr: 1.0000e-06\n",
      "Epoch 39/150\n"
     ]
    },
    {
     "name": "stderr",
     "output_type": "stream",
     "text": [
      "Proportion of examples rejected by sampler is high: [0.802398503][0.802398503 0.197601497][0 1]\n",
      "Proportion of examples rejected by sampler is high: [0.802398503][0.802398503 0.197601497][0 1]\n",
      "Proportion of examples rejected by sampler is high: [0.802398503][0.802398503 0.197601497][0 1]\n",
      "Proportion of examples rejected by sampler is high: [0.802398503][0.802398503 0.197601497][0 1]\n",
      "Proportion of examples rejected by sampler is high: [0.802398503][0.802398503 0.197601497][0 1]\n",
      "Proportion of examples rejected by sampler is high: [0.802398503][0.802398503 0.197601497][0 1]\n",
      "Proportion of examples rejected by sampler is high: [0.802398503][0.802398503 0.197601497][0 1]\n",
      "Proportion of examples rejected by sampler is high: [0.802398503][0.802398503 0.197601497][0 1]\n",
      "Proportion of examples rejected by sampler is high: [0.802398503][0.802398503 0.197601497][0 1]\n",
      "Proportion of examples rejected by sampler is high: [0.802398503][0.802398503 0.197601497][0 1]\n"
     ]
    },
    {
     "name": "stdout",
     "output_type": "stream",
     "text": [
      "30/30 [==============================] - 28s 929ms/step - loss: 0.3195 - cross entropy: 0.2882 - Brier score: 0.0877 - tp: 13862.0000 - fp: 2433.0000 - tn: 12485.0000 - fn: 1149.0000 - accuracy: 0.8803 - precision: 0.8507 - recall: 0.9235 - auc: 0.9450 - prc: 0.9262 - val_loss: 0.3382 - val_cross entropy: 0.3070 - val_Brier score: 0.0975 - val_tp: 1462.0000 - val_fp: 1045.0000 - val_tn: 5501.0000 - val_fn: 132.0000 - val_accuracy: 0.8554 - val_precision: 0.5832 - val_recall: 0.9172 - val_auc: 0.9455 - val_prc: 0.7419 - lr: 1.0000e-06\n",
      "Epoch 40/150\n"
     ]
    },
    {
     "name": "stderr",
     "output_type": "stream",
     "text": [
      "Proportion of examples rejected by sampler is high: [0.802398503][0.802398503 0.197601497][0 1]\n",
      "Proportion of examples rejected by sampler is high: [0.802398503][0.802398503 0.197601497][0 1]\n",
      "Proportion of examples rejected by sampler is high: [0.802398503][0.802398503 0.197601497][0 1]\n",
      "Proportion of examples rejected by sampler is high: [0.802398503][0.802398503 0.197601497][0 1]\n",
      "Proportion of examples rejected by sampler is high: [0.802398503][0.802398503 0.197601497][0 1]\n",
      "Proportion of examples rejected by sampler is high: [0.802398503][0.802398503 0.197601497][0 1]\n",
      "Proportion of examples rejected by sampler is high: [0.802398503][0.802398503 0.197601497][0 1]\n",
      "Proportion of examples rejected by sampler is high: [0.802398503][0.802398503 0.197601497][0 1]\n",
      "Proportion of examples rejected by sampler is high: [0.802398503][0.802398503 0.197601497][0 1]\n",
      "Proportion of examples rejected by sampler is high: [0.802398503][0.802398503 0.197601497][0 1]\n"
     ]
    },
    {
     "name": "stdout",
     "output_type": "stream",
     "text": [
      "30/30 [==============================] - 28s 931ms/step - loss: 0.3195 - cross entropy: 0.2882 - Brier score: 0.0877 - tp: 13862.0000 - fp: 2433.0000 - tn: 12485.0000 - fn: 1149.0000 - accuracy: 0.8803 - precision: 0.8507 - recall: 0.9235 - auc: 0.9450 - prc: 0.9262 - val_loss: 0.3382 - val_cross entropy: 0.3070 - val_Brier score: 0.0975 - val_tp: 1462.0000 - val_fp: 1045.0000 - val_tn: 5501.0000 - val_fn: 132.0000 - val_accuracy: 0.8554 - val_precision: 0.5832 - val_recall: 0.9172 - val_auc: 0.9455 - val_prc: 0.7419 - lr: 1.0000e-06\n",
      "Epoch 41/150\n"
     ]
    },
    {
     "name": "stderr",
     "output_type": "stream",
     "text": [
      "Proportion of examples rejected by sampler is high: [0.802398503][0.802398503 0.197601497][0 1]\n",
      "Proportion of examples rejected by sampler is high: [0.802398503][0.802398503 0.197601497][0 1]\n",
      "Proportion of examples rejected by sampler is high: [0.802398503][0.802398503 0.197601497][0 1]\n",
      "Proportion of examples rejected by sampler is high: [0.802398503][0.802398503 0.197601497][0 1]\n",
      "Proportion of examples rejected by sampler is high: [0.802398503][0.802398503 0.197601497][0 1]\n",
      "Proportion of examples rejected by sampler is high: [0.802398503][0.802398503 0.197601497][0 1]\n",
      "Proportion of examples rejected by sampler is high: [0.802398503][0.802398503 0.197601497][0 1]\n",
      "Proportion of examples rejected by sampler is high: [0.802398503][0.802398503 0.197601497][0 1]\n",
      "Proportion of examples rejected by sampler is high: [0.802398503][0.802398503 0.197601497][0 1]\n",
      "Proportion of examples rejected by sampler is high: [0.802398503][0.802398503 0.197601497][0 1]\n"
     ]
    },
    {
     "name": "stdout",
     "output_type": "stream",
     "text": [
      "30/30 [==============================] - 29s 950ms/step - loss: 0.3195 - cross entropy: 0.2882 - Brier score: 0.0877 - tp: 13862.0000 - fp: 2433.0000 - tn: 12485.0000 - fn: 1149.0000 - accuracy: 0.8803 - precision: 0.8507 - recall: 0.9235 - auc: 0.9450 - prc: 0.9262 - val_loss: 0.3382 - val_cross entropy: 0.3070 - val_Brier score: 0.0975 - val_tp: 1462.0000 - val_fp: 1045.0000 - val_tn: 5501.0000 - val_fn: 132.0000 - val_accuracy: 0.8554 - val_precision: 0.5832 - val_recall: 0.9172 - val_auc: 0.9455 - val_prc: 0.7417 - lr: 1.0000e-06\n",
      "Epoch 42/150\n"
     ]
    },
    {
     "name": "stderr",
     "output_type": "stream",
     "text": [
      "Proportion of examples rejected by sampler is high: [0.802398503][0.802398503 0.197601497][0 1]\n",
      "Proportion of examples rejected by sampler is high: [0.802398503][0.802398503 0.197601497][0 1]\n",
      "Proportion of examples rejected by sampler is high: [0.802398503][0.802398503 0.197601497][0 1]\n",
      "Proportion of examples rejected by sampler is high: [0.802398503][0.802398503 0.197601497][0 1]\n",
      "Proportion of examples rejected by sampler is high: [0.802398503][0.802398503 0.197601497][0 1]\n",
      "Proportion of examples rejected by sampler is high: [0.802398503][0.802398503 0.197601497][0 1]\n",
      "Proportion of examples rejected by sampler is high: [0.802398503][0.802398503 0.197601497][0 1]\n",
      "Proportion of examples rejected by sampler is high: [0.802398503][0.802398503 0.197601497][0 1]\n",
      "Proportion of examples rejected by sampler is high: [0.802398503][0.802398503 0.197601497][0 1]\n",
      "Proportion of examples rejected by sampler is high: [0.802398503][0.802398503 0.197601497][0 1]\n"
     ]
    },
    {
     "name": "stdout",
     "output_type": "stream",
     "text": [
      "30/30 [==============================] - 28s 911ms/step - loss: 0.3195 - cross entropy: 0.2882 - Brier score: 0.0877 - tp: 13862.0000 - fp: 2433.0000 - tn: 12485.0000 - fn: 1149.0000 - accuracy: 0.8803 - precision: 0.8507 - recall: 0.9235 - auc: 0.9450 - prc: 0.9262 - val_loss: 0.3382 - val_cross entropy: 0.3070 - val_Brier score: 0.0975 - val_tp: 1462.0000 - val_fp: 1045.0000 - val_tn: 5501.0000 - val_fn: 132.0000 - val_accuracy: 0.8554 - val_precision: 0.5832 - val_recall: 0.9172 - val_auc: 0.9455 - val_prc: 0.7417 - lr: 1.0000e-06\n",
      "Epoch 43/150\n"
     ]
    },
    {
     "name": "stderr",
     "output_type": "stream",
     "text": [
      "Proportion of examples rejected by sampler is high: [0.802398503][0.802398503 0.197601497][0 1]\n",
      "Proportion of examples rejected by sampler is high: [0.802398503][0.802398503 0.197601497][0 1]\n",
      "Proportion of examples rejected by sampler is high: [0.802398503][0.802398503 0.197601497][0 1]\n",
      "Proportion of examples rejected by sampler is high: [0.802398503][0.802398503 0.197601497][0 1]\n",
      "Proportion of examples rejected by sampler is high: [0.802398503][0.802398503 0.197601497][0 1]\n",
      "Proportion of examples rejected by sampler is high: [0.802398503][0.802398503 0.197601497][0 1]\n",
      "Proportion of examples rejected by sampler is high: [0.802398503][0.802398503 0.197601497][0 1]\n",
      "Proportion of examples rejected by sampler is high: [0.802398503][0.802398503 0.197601497][0 1]\n",
      "Proportion of examples rejected by sampler is high: [0.802398503][0.802398503 0.197601497][0 1]\n",
      "Proportion of examples rejected by sampler is high: [0.802398503][0.802398503 0.197601497][0 1]\n"
     ]
    },
    {
     "name": "stdout",
     "output_type": "stream",
     "text": [
      "30/30 [==============================] - 29s 956ms/step - loss: 0.3195 - cross entropy: 0.2882 - Brier score: 0.0877 - tp: 13862.0000 - fp: 2433.0000 - tn: 12485.0000 - fn: 1149.0000 - accuracy: 0.8803 - precision: 0.8507 - recall: 0.9235 - auc: 0.9450 - prc: 0.9262 - val_loss: 0.3382 - val_cross entropy: 0.3070 - val_Brier score: 0.0975 - val_tp: 1462.0000 - val_fp: 1045.0000 - val_tn: 5501.0000 - val_fn: 132.0000 - val_accuracy: 0.8554 - val_precision: 0.5832 - val_recall: 0.9172 - val_auc: 0.9455 - val_prc: 0.7417 - lr: 1.0000e-06\n",
      "Epoch 44/150\n"
     ]
    },
    {
     "name": "stderr",
     "output_type": "stream",
     "text": [
      "Proportion of examples rejected by sampler is high: [0.802398503][0.802398503 0.197601497][0 1]\n",
      "Proportion of examples rejected by sampler is high: [0.802398503][0.802398503 0.197601497][0 1]\n",
      "Proportion of examples rejected by sampler is high: [0.802398503][0.802398503 0.197601497][0 1]\n",
      "Proportion of examples rejected by sampler is high: [0.802398503][0.802398503 0.197601497][0 1]\n",
      "Proportion of examples rejected by sampler is high: [0.802398503][0.802398503 0.197601497][0 1]\n",
      "Proportion of examples rejected by sampler is high: [0.802398503][0.802398503 0.197601497][0 1]\n",
      "Proportion of examples rejected by sampler is high: [0.802398503][0.802398503 0.197601497][0 1]\n",
      "Proportion of examples rejected by sampler is high: [0.802398503][0.802398503 0.197601497][0 1]\n",
      "Proportion of examples rejected by sampler is high: [0.802398503][0.802398503 0.197601497][0 1]\n",
      "Proportion of examples rejected by sampler is high: [0.802398503][0.802398503 0.197601497][0 1]\n"
     ]
    },
    {
     "name": "stdout",
     "output_type": "stream",
     "text": [
      "30/30 [==============================] - 29s 955ms/step - loss: 0.3195 - cross entropy: 0.2882 - Brier score: 0.0877 - tp: 13862.0000 - fp: 2433.0000 - tn: 12485.0000 - fn: 1149.0000 - accuracy: 0.8803 - precision: 0.8507 - recall: 0.9235 - auc: 0.9450 - prc: 0.9261 - val_loss: 0.3382 - val_cross entropy: 0.3070 - val_Brier score: 0.0975 - val_tp: 1462.0000 - val_fp: 1045.0000 - val_tn: 5501.0000 - val_fn: 132.0000 - val_accuracy: 0.8554 - val_precision: 0.5832 - val_recall: 0.9172 - val_auc: 0.9455 - val_prc: 0.7417 - lr: 1.0000e-06\n",
      "Epoch 45/150\n"
     ]
    },
    {
     "name": "stderr",
     "output_type": "stream",
     "text": [
      "Proportion of examples rejected by sampler is high: [0.802398503][0.802398503 0.197601497][0 1]\n",
      "Proportion of examples rejected by sampler is high: [0.802398503][0.802398503 0.197601497][0 1]\n",
      "Proportion of examples rejected by sampler is high: [0.802398503][0.802398503 0.197601497][0 1]\n",
      "Proportion of examples rejected by sampler is high: [0.802398503][0.802398503 0.197601497][0 1]\n",
      "Proportion of examples rejected by sampler is high: [0.802398503][0.802398503 0.197601497][0 1]\n",
      "Proportion of examples rejected by sampler is high: [0.802398503][0.802398503 0.197601497][0 1]\n",
      "Proportion of examples rejected by sampler is high: [0.802398503][0.802398503 0.197601497][0 1]\n",
      "Proportion of examples rejected by sampler is high: [0.802398503][0.802398503 0.197601497][0 1]\n",
      "Proportion of examples rejected by sampler is high: [0.802398503][0.802398503 0.197601497][0 1]\n",
      "Proportion of examples rejected by sampler is high: [0.802398503][0.802398503 0.197601497][0 1]\n"
     ]
    },
    {
     "name": "stdout",
     "output_type": "stream",
     "text": [
      "30/30 [==============================] - 28s 925ms/step - loss: 0.3195 - cross entropy: 0.2882 - Brier score: 0.0877 - tp: 13862.0000 - fp: 2433.0000 - tn: 12485.0000 - fn: 1149.0000 - accuracy: 0.8803 - precision: 0.8507 - recall: 0.9235 - auc: 0.9450 - prc: 0.9261 - val_loss: 0.3382 - val_cross entropy: 0.3070 - val_Brier score: 0.0975 - val_tp: 1462.0000 - val_fp: 1045.0000 - val_tn: 5501.0000 - val_fn: 132.0000 - val_accuracy: 0.8554 - val_precision: 0.5832 - val_recall: 0.9172 - val_auc: 0.9455 - val_prc: 0.7417 - lr: 1.0000e-06\n",
      "Epoch 46/150\n"
     ]
    },
    {
     "name": "stderr",
     "output_type": "stream",
     "text": [
      "Proportion of examples rejected by sampler is high: [0.802398503][0.802398503 0.197601497][0 1]\n",
      "Proportion of examples rejected by sampler is high: [0.802398503][0.802398503 0.197601497][0 1]\n",
      "Proportion of examples rejected by sampler is high: [0.802398503][0.802398503 0.197601497][0 1]\n",
      "Proportion of examples rejected by sampler is high: [0.802398503][0.802398503 0.197601497][0 1]\n",
      "Proportion of examples rejected by sampler is high: [0.802398503][0.802398503 0.197601497][0 1]\n",
      "Proportion of examples rejected by sampler is high: [0.802398503][0.802398503 0.197601497][0 1]\n",
      "Proportion of examples rejected by sampler is high: [0.802398503][0.802398503 0.197601497][0 1]\n",
      "Proportion of examples rejected by sampler is high: [0.802398503][0.802398503 0.197601497][0 1]\n",
      "Proportion of examples rejected by sampler is high: [0.802398503][0.802398503 0.197601497][0 1]\n",
      "Proportion of examples rejected by sampler is high: [0.802398503][0.802398503 0.197601497][0 1]\n"
     ]
    },
    {
     "name": "stdout",
     "output_type": "stream",
     "text": [
      "30/30 [==============================] - 28s 936ms/step - loss: 0.3195 - cross entropy: 0.2882 - Brier score: 0.0877 - tp: 13862.0000 - fp: 2433.0000 - tn: 12485.0000 - fn: 1149.0000 - accuracy: 0.8803 - precision: 0.8507 - recall: 0.9235 - auc: 0.9450 - prc: 0.9261 - val_loss: 0.3382 - val_cross entropy: 0.3070 - val_Brier score: 0.0975 - val_tp: 1462.0000 - val_fp: 1045.0000 - val_tn: 5501.0000 - val_fn: 132.0000 - val_accuracy: 0.8554 - val_precision: 0.5832 - val_recall: 0.9172 - val_auc: 0.9455 - val_prc: 0.7417 - lr: 1.0000e-06\n",
      "Epoch 47/150\n"
     ]
    },
    {
     "name": "stderr",
     "output_type": "stream",
     "text": [
      "Proportion of examples rejected by sampler is high: [0.802398503][0.802398503 0.197601497][0 1]\n",
      "Proportion of examples rejected by sampler is high: [0.802398503][0.802398503 0.197601497][0 1]\n",
      "Proportion of examples rejected by sampler is high: [0.802398503][0.802398503 0.197601497][0 1]\n",
      "Proportion of examples rejected by sampler is high: [0.802398503][0.802398503 0.197601497][0 1]\n",
      "Proportion of examples rejected by sampler is high: [0.802398503][0.802398503 0.197601497][0 1]\n",
      "Proportion of examples rejected by sampler is high: [0.802398503][0.802398503 0.197601497][0 1]\n",
      "Proportion of examples rejected by sampler is high: [0.802398503][0.802398503 0.197601497][0 1]\n",
      "Proportion of examples rejected by sampler is high: [0.802398503][0.802398503 0.197601497][0 1]\n",
      "Proportion of examples rejected by sampler is high: [0.802398503][0.802398503 0.197601497][0 1]\n",
      "Proportion of examples rejected by sampler is high: [0.802398503][0.802398503 0.197601497][0 1]\n"
     ]
    },
    {
     "name": "stdout",
     "output_type": "stream",
     "text": [
      "30/30 [==============================] - 28s 927ms/step - loss: 0.3195 - cross entropy: 0.2882 - Brier score: 0.0877 - tp: 13862.0000 - fp: 2433.0000 - tn: 12485.0000 - fn: 1149.0000 - accuracy: 0.8803 - precision: 0.8507 - recall: 0.9235 - auc: 0.9450 - prc: 0.9261 - val_loss: 0.3382 - val_cross entropy: 0.3070 - val_Brier score: 0.0975 - val_tp: 1462.0000 - val_fp: 1045.0000 - val_tn: 5501.0000 - val_fn: 132.0000 - val_accuracy: 0.8554 - val_precision: 0.5832 - val_recall: 0.9172 - val_auc: 0.9455 - val_prc: 0.7417 - lr: 1.0000e-06\n",
      "Epoch 48/150\n"
     ]
    },
    {
     "name": "stderr",
     "output_type": "stream",
     "text": [
      "Proportion of examples rejected by sampler is high: [0.802398503][0.802398503 0.197601497][0 1]\n",
      "Proportion of examples rejected by sampler is high: [0.802398503][0.802398503 0.197601497][0 1]\n",
      "Proportion of examples rejected by sampler is high: [0.802398503][0.802398503 0.197601497][0 1]\n",
      "Proportion of examples rejected by sampler is high: [0.802398503][0.802398503 0.197601497][0 1]\n",
      "Proportion of examples rejected by sampler is high: [0.802398503][0.802398503 0.197601497][0 1]\n",
      "Proportion of examples rejected by sampler is high: [0.802398503][0.802398503 0.197601497][0 1]\n",
      "Proportion of examples rejected by sampler is high: [0.802398503][0.802398503 0.197601497][0 1]\n",
      "Proportion of examples rejected by sampler is high: [0.802398503][0.802398503 0.197601497][0 1]\n",
      "Proportion of examples rejected by sampler is high: [0.802398503][0.802398503 0.197601497][0 1]\n",
      "Proportion of examples rejected by sampler is high: [0.802398503][0.802398503 0.197601497][0 1]\n"
     ]
    },
    {
     "name": "stdout",
     "output_type": "stream",
     "text": [
      "30/30 [==============================] - 28s 934ms/step - loss: 0.3195 - cross entropy: 0.2882 - Brier score: 0.0877 - tp: 13862.0000 - fp: 2433.0000 - tn: 12485.0000 - fn: 1149.0000 - accuracy: 0.8803 - precision: 0.8507 - recall: 0.9235 - auc: 0.9450 - prc: 0.9262 - val_loss: 0.3382 - val_cross entropy: 0.3070 - val_Brier score: 0.0975 - val_tp: 1462.0000 - val_fp: 1045.0000 - val_tn: 5501.0000 - val_fn: 132.0000 - val_accuracy: 0.8554 - val_precision: 0.5832 - val_recall: 0.9172 - val_auc: 0.9455 - val_prc: 0.7418 - lr: 1.0000e-06\n",
      "Epoch 49/150\n"
     ]
    },
    {
     "name": "stderr",
     "output_type": "stream",
     "text": [
      "Proportion of examples rejected by sampler is high: [0.802398503][0.802398503 0.197601497][0 1]\n",
      "Proportion of examples rejected by sampler is high: [0.802398503][0.802398503 0.197601497][0 1]\n",
      "Proportion of examples rejected by sampler is high: [0.802398503][0.802398503 0.197601497][0 1]\n",
      "Proportion of examples rejected by sampler is high: [0.802398503][0.802398503 0.197601497][0 1]\n",
      "Proportion of examples rejected by sampler is high: [0.802398503][0.802398503 0.197601497][0 1]\n",
      "Proportion of examples rejected by sampler is high: [0.802398503][0.802398503 0.197601497][0 1]\n",
      "Proportion of examples rejected by sampler is high: [0.802398503][0.802398503 0.197601497][0 1]\n",
      "Proportion of examples rejected by sampler is high: [0.802398503][0.802398503 0.197601497][0 1]\n",
      "Proportion of examples rejected by sampler is high: [0.802398503][0.802398503 0.197601497][0 1]\n",
      "Proportion of examples rejected by sampler is high: [0.802398503][0.802398503 0.197601497][0 1]\n"
     ]
    },
    {
     "name": "stdout",
     "output_type": "stream",
     "text": [
      "30/30 [==============================] - 29s 945ms/step - loss: 0.3195 - cross entropy: 0.2882 - Brier score: 0.0877 - tp: 13862.0000 - fp: 2433.0000 - tn: 12485.0000 - fn: 1149.0000 - accuracy: 0.8803 - precision: 0.8507 - recall: 0.9235 - auc: 0.9450 - prc: 0.9262 - val_loss: 0.3382 - val_cross entropy: 0.3070 - val_Brier score: 0.0975 - val_tp: 1462.0000 - val_fp: 1045.0000 - val_tn: 5501.0000 - val_fn: 132.0000 - val_accuracy: 0.8554 - val_precision: 0.5832 - val_recall: 0.9172 - val_auc: 0.9455 - val_prc: 0.7417 - lr: 1.0000e-06\n",
      "Epoch 50/150\n"
     ]
    },
    {
     "name": "stderr",
     "output_type": "stream",
     "text": [
      "Proportion of examples rejected by sampler is high: [0.802398503][0.802398503 0.197601497][0 1]\n",
      "Proportion of examples rejected by sampler is high: [0.802398503][0.802398503 0.197601497][0 1]\n",
      "Proportion of examples rejected by sampler is high: [0.802398503][0.802398503 0.197601497][0 1]\n",
      "Proportion of examples rejected by sampler is high: [0.802398503][0.802398503 0.197601497][0 1]\n",
      "Proportion of examples rejected by sampler is high: [0.802398503][0.802398503 0.197601497][0 1]\n",
      "Proportion of examples rejected by sampler is high: [0.802398503][0.802398503 0.197601497][0 1]\n",
      "Proportion of examples rejected by sampler is high: [0.802398503][0.802398503 0.197601497][0 1]\n",
      "Proportion of examples rejected by sampler is high: [0.802398503][0.802398503 0.197601497][0 1]\n",
      "Proportion of examples rejected by sampler is high: [0.802398503][0.802398503 0.197601497][0 1]\n",
      "Proportion of examples rejected by sampler is high: [0.802398503][0.802398503 0.197601497][0 1]\n"
     ]
    },
    {
     "name": "stdout",
     "output_type": "stream",
     "text": [
      "30/30 [==============================] - 28s 924ms/step - loss: 0.3195 - cross entropy: 0.2882 - Brier score: 0.0877 - tp: 13862.0000 - fp: 2433.0000 - tn: 12485.0000 - fn: 1149.0000 - accuracy: 0.8803 - precision: 0.8507 - recall: 0.9235 - auc: 0.9450 - prc: 0.9262 - val_loss: 0.3382 - val_cross entropy: 0.3070 - val_Brier score: 0.0975 - val_tp: 1462.0000 - val_fp: 1045.0000 - val_tn: 5501.0000 - val_fn: 132.0000 - val_accuracy: 0.8554 - val_precision: 0.5832 - val_recall: 0.9172 - val_auc: 0.9455 - val_prc: 0.7418 - lr: 1.0000e-06\n",
      "Epoch 51/150\n"
     ]
    },
    {
     "name": "stderr",
     "output_type": "stream",
     "text": [
      "Proportion of examples rejected by sampler is high: [0.802398503][0.802398503 0.197601497][0 1]\n",
      "Proportion of examples rejected by sampler is high: [0.802398503][0.802398503 0.197601497][0 1]\n",
      "Proportion of examples rejected by sampler is high: [0.802398503][0.802398503 0.197601497][0 1]\n",
      "Proportion of examples rejected by sampler is high: [0.802398503][0.802398503 0.197601497][0 1]\n",
      "Proportion of examples rejected by sampler is high: [0.802398503][0.802398503 0.197601497][0 1]\n",
      "Proportion of examples rejected by sampler is high: [0.802398503][0.802398503 0.197601497][0 1]\n",
      "Proportion of examples rejected by sampler is high: [0.802398503][0.802398503 0.197601497][0 1]\n",
      "Proportion of examples rejected by sampler is high: [0.802398503][0.802398503 0.197601497][0 1]\n",
      "Proportion of examples rejected by sampler is high: [0.802398503][0.802398503 0.197601497][0 1]\n",
      "Proportion of examples rejected by sampler is high: [0.802398503][0.802398503 0.197601497][0 1]\n"
     ]
    },
    {
     "name": "stdout",
     "output_type": "stream",
     "text": [
      "30/30 [==============================] - 29s 944ms/step - loss: 0.3195 - cross entropy: 0.2882 - Brier score: 0.0877 - tp: 13862.0000 - fp: 2433.0000 - tn: 12485.0000 - fn: 1149.0000 - accuracy: 0.8803 - precision: 0.8507 - recall: 0.9235 - auc: 0.9450 - prc: 0.9262 - val_loss: 0.3382 - val_cross entropy: 0.3070 - val_Brier score: 0.0975 - val_tp: 1462.0000 - val_fp: 1044.0000 - val_tn: 5502.0000 - val_fn: 132.0000 - val_accuracy: 0.8555 - val_precision: 0.5834 - val_recall: 0.9172 - val_auc: 0.9455 - val_prc: 0.7418 - lr: 1.0000e-06\n",
      "Epoch 52/150\n"
     ]
    },
    {
     "name": "stderr",
     "output_type": "stream",
     "text": [
      "Proportion of examples rejected by sampler is high: [0.802398503][0.802398503 0.197601497][0 1]\n",
      "Proportion of examples rejected by sampler is high: [0.802398503][0.802398503 0.197601497][0 1]\n",
      "Proportion of examples rejected by sampler is high: [0.802398503][0.802398503 0.197601497][0 1]\n",
      "Proportion of examples rejected by sampler is high: [0.802398503][0.802398503 0.197601497][0 1]\n",
      "Proportion of examples rejected by sampler is high: [0.802398503][0.802398503 0.197601497][0 1]\n",
      "Proportion of examples rejected by sampler is high: [0.802398503][0.802398503 0.197601497][0 1]\n",
      "Proportion of examples rejected by sampler is high: [0.802398503][0.802398503 0.197601497][0 1]\n",
      "Proportion of examples rejected by sampler is high: [0.802398503][0.802398503 0.197601497][0 1]\n",
      "Proportion of examples rejected by sampler is high: [0.802398503][0.802398503 0.197601497][0 1]\n",
      "Proportion of examples rejected by sampler is high: [0.802398503][0.802398503 0.197601497][0 1]\n"
     ]
    },
    {
     "name": "stdout",
     "output_type": "stream",
     "text": [
      "30/30 [==============================] - 29s 954ms/step - loss: 0.3195 - cross entropy: 0.2882 - Brier score: 0.0877 - tp: 13862.0000 - fp: 2433.0000 - tn: 12485.0000 - fn: 1149.0000 - accuracy: 0.8803 - precision: 0.8507 - recall: 0.9235 - auc: 0.9450 - prc: 0.9262 - val_loss: 0.3382 - val_cross entropy: 0.3070 - val_Brier score: 0.0975 - val_tp: 1462.0000 - val_fp: 1044.0000 - val_tn: 5502.0000 - val_fn: 132.0000 - val_accuracy: 0.8555 - val_precision: 0.5834 - val_recall: 0.9172 - val_auc: 0.9455 - val_prc: 0.7418 - lr: 1.0000e-06\n",
      "Epoch 53/150\n"
     ]
    },
    {
     "name": "stderr",
     "output_type": "stream",
     "text": [
      "Proportion of examples rejected by sampler is high: [0.802398503][0.802398503 0.197601497][0 1]\n",
      "Proportion of examples rejected by sampler is high: [0.802398503][0.802398503 0.197601497][0 1]\n",
      "Proportion of examples rejected by sampler is high: [0.802398503][0.802398503 0.197601497][0 1]\n",
      "Proportion of examples rejected by sampler is high: [0.802398503][0.802398503 0.197601497][0 1]\n",
      "Proportion of examples rejected by sampler is high: [0.802398503][0.802398503 0.197601497][0 1]\n",
      "Proportion of examples rejected by sampler is high: [0.802398503][0.802398503 0.197601497][0 1]\n",
      "Proportion of examples rejected by sampler is high: [0.802398503][0.802398503 0.197601497][0 1]\n",
      "Proportion of examples rejected by sampler is high: [0.802398503][0.802398503 0.197601497][0 1]\n",
      "Proportion of examples rejected by sampler is high: [0.802398503][0.802398503 0.197601497][0 1]\n",
      "Proportion of examples rejected by sampler is high: [0.802398503][0.802398503 0.197601497][0 1]\n"
     ]
    },
    {
     "name": "stdout",
     "output_type": "stream",
     "text": [
      "30/30 [==============================] - 29s 948ms/step - loss: 0.3195 - cross entropy: 0.2882 - Brier score: 0.0877 - tp: 13862.0000 - fp: 2433.0000 - tn: 12485.0000 - fn: 1149.0000 - accuracy: 0.8803 - precision: 0.8507 - recall: 0.9235 - auc: 0.9450 - prc: 0.9262 - val_loss: 0.3382 - val_cross entropy: 0.3070 - val_Brier score: 0.0975 - val_tp: 1462.0000 - val_fp: 1044.0000 - val_tn: 5502.0000 - val_fn: 132.0000 - val_accuracy: 0.8555 - val_precision: 0.5834 - val_recall: 0.9172 - val_auc: 0.9455 - val_prc: 0.7418 - lr: 1.0000e-06\n",
      "Epoch 54/150\n"
     ]
    },
    {
     "name": "stderr",
     "output_type": "stream",
     "text": [
      "Proportion of examples rejected by sampler is high: [0.802398503][0.802398503 0.197601497][0 1]\n",
      "Proportion of examples rejected by sampler is high: [0.802398503][0.802398503 0.197601497][0 1]\n",
      "Proportion of examples rejected by sampler is high: [0.802398503][0.802398503 0.197601497][0 1]\n",
      "Proportion of examples rejected by sampler is high: [0.802398503][0.802398503 0.197601497][0 1]\n",
      "Proportion of examples rejected by sampler is high: [0.802398503][0.802398503 0.197601497][0 1]\n",
      "Proportion of examples rejected by sampler is high: [0.802398503][0.802398503 0.197601497][0 1]\n",
      "Proportion of examples rejected by sampler is high: [0.802398503][0.802398503 0.197601497][0 1]\n",
      "Proportion of examples rejected by sampler is high: [0.802398503][0.802398503 0.197601497][0 1]\n",
      "Proportion of examples rejected by sampler is high: [0.802398503][0.802398503 0.197601497][0 1]\n",
      "Proportion of examples rejected by sampler is high: [0.802398503][0.802398503 0.197601497][0 1]\n"
     ]
    },
    {
     "name": "stdout",
     "output_type": "stream",
     "text": [
      "30/30 [==============================] - 28s 937ms/step - loss: 0.3195 - cross entropy: 0.2882 - Brier score: 0.0877 - tp: 13862.0000 - fp: 2433.0000 - tn: 12485.0000 - fn: 1149.0000 - accuracy: 0.8803 - precision: 0.8507 - recall: 0.9235 - auc: 0.9450 - prc: 0.9262 - val_loss: 0.3382 - val_cross entropy: 0.3070 - val_Brier score: 0.0975 - val_tp: 1462.0000 - val_fp: 1044.0000 - val_tn: 5502.0000 - val_fn: 132.0000 - val_accuracy: 0.8555 - val_precision: 0.5834 - val_recall: 0.9172 - val_auc: 0.9455 - val_prc: 0.7418 - lr: 1.0000e-06\n",
      "Epoch 55/150\n"
     ]
    },
    {
     "name": "stderr",
     "output_type": "stream",
     "text": [
      "Proportion of examples rejected by sampler is high: [0.802398503][0.802398503 0.197601497][0 1]\n",
      "Proportion of examples rejected by sampler is high: [0.802398503][0.802398503 0.197601497][0 1]\n",
      "Proportion of examples rejected by sampler is high: [0.802398503][0.802398503 0.197601497][0 1]\n",
      "Proportion of examples rejected by sampler is high: [0.802398503][0.802398503 0.197601497][0 1]\n",
      "Proportion of examples rejected by sampler is high: [0.802398503][0.802398503 0.197601497][0 1]\n",
      "Proportion of examples rejected by sampler is high: [0.802398503][0.802398503 0.197601497][0 1]\n",
      "Proportion of examples rejected by sampler is high: [0.802398503][0.802398503 0.197601497][0 1]\n",
      "Proportion of examples rejected by sampler is high: [0.802398503][0.802398503 0.197601497][0 1]\n",
      "Proportion of examples rejected by sampler is high: [0.802398503][0.802398503 0.197601497][0 1]\n",
      "Proportion of examples rejected by sampler is high: [0.802398503][0.802398503 0.197601497][0 1]\n"
     ]
    },
    {
     "name": "stdout",
     "output_type": "stream",
     "text": [
      "30/30 [==============================] - 28s 936ms/step - loss: 0.3195 - cross entropy: 0.2882 - Brier score: 0.0877 - tp: 13862.0000 - fp: 2433.0000 - tn: 12485.0000 - fn: 1149.0000 - accuracy: 0.8803 - precision: 0.8507 - recall: 0.9235 - auc: 0.9450 - prc: 0.9262 - val_loss: 0.3382 - val_cross entropy: 0.3070 - val_Brier score: 0.0975 - val_tp: 1462.0000 - val_fp: 1044.0000 - val_tn: 5502.0000 - val_fn: 132.0000 - val_accuracy: 0.8555 - val_precision: 0.5834 - val_recall: 0.9172 - val_auc: 0.9455 - val_prc: 0.7418 - lr: 1.0000e-06\n",
      "Epoch 56/150\n"
     ]
    },
    {
     "name": "stderr",
     "output_type": "stream",
     "text": [
      "Proportion of examples rejected by sampler is high: [0.802398503][0.802398503 0.197601497][0 1]\n",
      "Proportion of examples rejected by sampler is high: [0.802398503][0.802398503 0.197601497][0 1]\n",
      "Proportion of examples rejected by sampler is high: [0.802398503][0.802398503 0.197601497][0 1]\n",
      "Proportion of examples rejected by sampler is high: [0.802398503][0.802398503 0.197601497][0 1]\n",
      "Proportion of examples rejected by sampler is high: [0.802398503][0.802398503 0.197601497][0 1]\n",
      "Proportion of examples rejected by sampler is high: [0.802398503][0.802398503 0.197601497][0 1]\n",
      "Proportion of examples rejected by sampler is high: [0.802398503][0.802398503 0.197601497][0 1]\n",
      "Proportion of examples rejected by sampler is high: [0.802398503][0.802398503 0.197601497][0 1]\n",
      "Proportion of examples rejected by sampler is high: [0.802398503][0.802398503 0.197601497][0 1]\n",
      "Proportion of examples rejected by sampler is high: [0.802398503][0.802398503 0.197601497][0 1]\n"
     ]
    },
    {
     "name": "stdout",
     "output_type": "stream",
     "text": [
      "30/30 [==============================] - 29s 944ms/step - loss: 0.3195 - cross entropy: 0.2882 - Brier score: 0.0877 - tp: 13862.0000 - fp: 2433.0000 - tn: 12485.0000 - fn: 1149.0000 - accuracy: 0.8803 - precision: 0.8507 - recall: 0.9235 - auc: 0.9450 - prc: 0.9262 - val_loss: 0.3382 - val_cross entropy: 0.3070 - val_Brier score: 0.0975 - val_tp: 1462.0000 - val_fp: 1044.0000 - val_tn: 5502.0000 - val_fn: 132.0000 - val_accuracy: 0.8555 - val_precision: 0.5834 - val_recall: 0.9172 - val_auc: 0.9455 - val_prc: 0.7418 - lr: 1.0000e-06\n",
      "Epoch 57/150\n"
     ]
    },
    {
     "name": "stderr",
     "output_type": "stream",
     "text": [
      "Proportion of examples rejected by sampler is high: [0.802398503][0.802398503 0.197601497][0 1]\n",
      "Proportion of examples rejected by sampler is high: [0.802398503][0.802398503 0.197601497][0 1]\n",
      "Proportion of examples rejected by sampler is high: [0.802398503][0.802398503 0.197601497][0 1]\n",
      "Proportion of examples rejected by sampler is high: [0.802398503][0.802398503 0.197601497][0 1]\n",
      "Proportion of examples rejected by sampler is high: [0.802398503][0.802398503 0.197601497][0 1]\n",
      "Proportion of examples rejected by sampler is high: [0.802398503][0.802398503 0.197601497][0 1]\n",
      "Proportion of examples rejected by sampler is high: [0.802398503][0.802398503 0.197601497][0 1]\n",
      "Proportion of examples rejected by sampler is high: [0.802398503][0.802398503 0.197601497][0 1]\n",
      "Proportion of examples rejected by sampler is high: [0.802398503][0.802398503 0.197601497][0 1]\n",
      "Proportion of examples rejected by sampler is high: [0.802398503][0.802398503 0.197601497][0 1]\n"
     ]
    },
    {
     "name": "stdout",
     "output_type": "stream",
     "text": [
      "30/30 [==============================] - 28s 922ms/step - loss: 0.3195 - cross entropy: 0.2882 - Brier score: 0.0877 - tp: 13862.0000 - fp: 2433.0000 - tn: 12485.0000 - fn: 1149.0000 - accuracy: 0.8803 - precision: 0.8507 - recall: 0.9235 - auc: 0.9450 - prc: 0.9262 - val_loss: 0.3382 - val_cross entropy: 0.3070 - val_Brier score: 0.0975 - val_tp: 1462.0000 - val_fp: 1044.0000 - val_tn: 5502.0000 - val_fn: 132.0000 - val_accuracy: 0.8555 - val_precision: 0.5834 - val_recall: 0.9172 - val_auc: 0.9455 - val_prc: 0.7418 - lr: 1.0000e-06\n",
      "Epoch 58/150\n"
     ]
    },
    {
     "name": "stderr",
     "output_type": "stream",
     "text": [
      "Proportion of examples rejected by sampler is high: [0.802398503][0.802398503 0.197601497][0 1]\n",
      "Proportion of examples rejected by sampler is high: [0.802398503][0.802398503 0.197601497][0 1]\n",
      "Proportion of examples rejected by sampler is high: [0.802398503][0.802398503 0.197601497][0 1]\n",
      "Proportion of examples rejected by sampler is high: [0.802398503][0.802398503 0.197601497][0 1]\n",
      "Proportion of examples rejected by sampler is high: [0.802398503][0.802398503 0.197601497][0 1]\n",
      "Proportion of examples rejected by sampler is high: [0.802398503][0.802398503 0.197601497][0 1]\n",
      "Proportion of examples rejected by sampler is high: [0.802398503][0.802398503 0.197601497][0 1]\n",
      "Proportion of examples rejected by sampler is high: [0.802398503][0.802398503 0.197601497][0 1]\n",
      "Proportion of examples rejected by sampler is high: [0.802398503][0.802398503 0.197601497][0 1]\n",
      "Proportion of examples rejected by sampler is high: [0.802398503][0.802398503 0.197601497][0 1]\n"
     ]
    },
    {
     "name": "stdout",
     "output_type": "stream",
     "text": [
      "30/30 [==============================] - 29s 945ms/step - loss: 0.3195 - cross entropy: 0.2882 - Brier score: 0.0877 - tp: 13862.0000 - fp: 2433.0000 - tn: 12485.0000 - fn: 1149.0000 - accuracy: 0.8803 - precision: 0.8507 - recall: 0.9235 - auc: 0.9450 - prc: 0.9262 - val_loss: 0.3382 - val_cross entropy: 0.3070 - val_Brier score: 0.0975 - val_tp: 1462.0000 - val_fp: 1044.0000 - val_tn: 5502.0000 - val_fn: 132.0000 - val_accuracy: 0.8555 - val_precision: 0.5834 - val_recall: 0.9172 - val_auc: 0.9455 - val_prc: 0.7418 - lr: 1.0000e-06\n",
      "Epoch 59/150\n"
     ]
    },
    {
     "name": "stderr",
     "output_type": "stream",
     "text": [
      "Proportion of examples rejected by sampler is high: [0.802398503][0.802398503 0.197601497][0 1]\n",
      "Proportion of examples rejected by sampler is high: [0.802398503][0.802398503 0.197601497][0 1]\n",
      "Proportion of examples rejected by sampler is high: [0.802398503][0.802398503 0.197601497][0 1]\n",
      "Proportion of examples rejected by sampler is high: [0.802398503][0.802398503 0.197601497][0 1]\n",
      "Proportion of examples rejected by sampler is high: [0.802398503][0.802398503 0.197601497][0 1]\n",
      "Proportion of examples rejected by sampler is high: [0.802398503][0.802398503 0.197601497][0 1]\n",
      "Proportion of examples rejected by sampler is high: [0.802398503][0.802398503 0.197601497][0 1]\n",
      "Proportion of examples rejected by sampler is high: [0.802398503][0.802398503 0.197601497][0 1]\n",
      "Proportion of examples rejected by sampler is high: [0.802398503][0.802398503 0.197601497][0 1]\n",
      "Proportion of examples rejected by sampler is high: [0.802398503][0.802398503 0.197601497][0 1]\n"
     ]
    },
    {
     "name": "stdout",
     "output_type": "stream",
     "text": [
      "30/30 [==============================] - 28s 923ms/step - loss: 0.3195 - cross entropy: 0.2882 - Brier score: 0.0877 - tp: 13862.0000 - fp: 2433.0000 - tn: 12485.0000 - fn: 1149.0000 - accuracy: 0.8803 - precision: 0.8507 - recall: 0.9235 - auc: 0.9450 - prc: 0.9262 - val_loss: 0.3382 - val_cross entropy: 0.3070 - val_Brier score: 0.0975 - val_tp: 1462.0000 - val_fp: 1044.0000 - val_tn: 5502.0000 - val_fn: 132.0000 - val_accuracy: 0.8555 - val_precision: 0.5834 - val_recall: 0.9172 - val_auc: 0.9455 - val_prc: 0.7418 - lr: 1.0000e-06\n",
      "Epoch 60/150\n"
     ]
    },
    {
     "name": "stderr",
     "output_type": "stream",
     "text": [
      "Proportion of examples rejected by sampler is high: [0.802398503][0.802398503 0.197601497][0 1]\n",
      "Proportion of examples rejected by sampler is high: [0.802398503][0.802398503 0.197601497][0 1]\n",
      "Proportion of examples rejected by sampler is high: [0.802398503][0.802398503 0.197601497][0 1]\n",
      "Proportion of examples rejected by sampler is high: [0.802398503][0.802398503 0.197601497][0 1]\n",
      "Proportion of examples rejected by sampler is high: [0.802398503][0.802398503 0.197601497][0 1]\n",
      "Proportion of examples rejected by sampler is high: [0.802398503][0.802398503 0.197601497][0 1]\n",
      "Proportion of examples rejected by sampler is high: [0.802398503][0.802398503 0.197601497][0 1]\n",
      "Proportion of examples rejected by sampler is high: [0.802398503][0.802398503 0.197601497][0 1]\n",
      "Proportion of examples rejected by sampler is high: [0.802398503][0.802398503 0.197601497][0 1]\n",
      "Proportion of examples rejected by sampler is high: [0.802398503][0.802398503 0.197601497][0 1]\n"
     ]
    },
    {
     "name": "stdout",
     "output_type": "stream",
     "text": [
      "30/30 [==============================] - ETA: 0s - loss: 0.3195 - cross entropy: 0.2882 - Brier score: 0.0877 - tp: 13862.0000 - fp: 2433.0000 - tn: 12485.0000 - fn: 1149.0000 - accuracy: 0.8803 - precision: 0.8507 - recall: 0.9235 - auc: 0.9450 - prc: 0.9262Restoring model weights from the end of the best epoch: 55.\n",
      "30/30 [==============================] - 28s 925ms/step - loss: 0.3195 - cross entropy: 0.2882 - Brier score: 0.0877 - tp: 13862.0000 - fp: 2433.0000 - tn: 12485.0000 - fn: 1149.0000 - accuracy: 0.8803 - precision: 0.8507 - recall: 0.9235 - auc: 0.9450 - prc: 0.9262 - val_loss: 0.3382 - val_cross entropy: 0.3070 - val_Brier score: 0.0975 - val_tp: 1462.0000 - val_fp: 1044.0000 - val_tn: 5502.0000 - val_fn: 132.0000 - val_accuracy: 0.8555 - val_precision: 0.5834 - val_recall: 0.9172 - val_auc: 0.9455 - val_prc: 0.7418 - lr: 1.0000e-06\n",
      "Epoch 60: early stopping\n"
     ]
    }
   ],
   "source": [
    "# if desired, resume traing with new learning rate setting\n",
    "epochs = 150\n",
    "lr_callback = tf.keras.callbacks.ReduceLROnPlateau(\n",
    "    monitor=\"val_loss\", factor=0.1, patience=3, min_lr=0.000001\n",
    ")\n",
    "\n",
    "early_stopping = tf.keras.callbacks.EarlyStopping(\n",
    "    monitor=\"val_loss\", verbose=1, patience=5, mode=\"min\", restore_best_weights=True\n",
    ")\n",
    "history_newlr = multi_cnn_model.fit(\n",
    "    train_dataset_batch,\n",
    "    epochs=epochs,\n",
    "    validation_data=val_dataset_batch,\n",
    "    callbacks=[early_stopping, lr_callback],\n",
    "    # class_weight=class_weight,\n",
    ")"
   ]
  },
  {
   "cell_type": "markdown",
   "metadata": {},
   "source": [
    "## save model"
   ]
  },
  {
   "cell_type": "code",
   "execution_count": 126,
   "metadata": {},
   "outputs": [],
   "source": [
    "# specify peak_selection_result_path\n",
    "peak_selection_result_dir = os.path.join(\n",
    "    report_dir, \"peak_selection_3d_input_delta_rt_scaled\"\n",
    ")\n",
    "os.makedirs(peak_selection_result_dir, exist_ok=True)"
   ]
  },
  {
   "cell_type": "code",
   "execution_count": 172,
   "metadata": {},
   "outputs": [
    {
     "data": {
      "text/plain": [
       "[<matplotlib.lines.Line2D at 0x7f91a1abd510>]"
      ]
     },
     "execution_count": 172,
     "metadata": {},
     "output_type": "execute_result"
    },
    {
     "data": {
      "text/plain": [
       "[<matplotlib.lines.Line2D at 0x7f91a1abebc0>]"
      ]
     },
     "execution_count": 172,
     "metadata": {},
     "output_type": "execute_result"
    },
    {
     "data": {
      "text/plain": [
       "<matplotlib.legend.Legend at 0x7f91a1ad70a0>"
      ]
     },
     "execution_count": 172,
     "metadata": {},
     "output_type": "execute_result"
    },
    {
     "data": {
      "image/png": "[encoded data removed]",
      "text/plain": [
       "<Figure size 640x480 with 1 Axes>"
      ]
     },
     "metadata": {},
     "output_type": "display_data"
    },
    {
     "data": {
      "text/plain": [
       "<Figure size 640x480 with 0 Axes>"
      ]
     },
     "metadata": {},
     "output_type": "display_data"
    }
   ],
   "source": [
    "plt.plot(history_newlr.history[\"prc\"], label=\"training prc\")\n",
    "plt.plot(history_newlr.history[\"val_prc\"], label=\"validation prc\")\n",
    "plt.legend()\n",
    "plt.show()\n",
    "plt.savefig(os.path.join(peak_selection_result_dir, \"train_val_prc.png\"))"
   ]
  },
  {
   "cell_type": "code",
   "execution_count": 152,
   "metadata": {},
   "outputs": [],
   "source": [
    "match model:\n",
    "    case \"cnn\":\n",
    "        cnn_model.save(\n",
    "            os.path.join(peak_selection_result_dir,\n",
    "                         \"peak_cnn_log_int_cos_dist.keras\")\n",
    "        )\n",
    "    case \"multi_input\":\n",
    "        multi_cnn_model.save(\n",
    "            os.path.join(peak_selection_result_dir,\n",
    "                         \"peak_cnn_log_int_cos_dist.keras\")\n",
    "        )"
   ]
  },
  {
   "cell_type": "markdown",
   "metadata": {},
   "source": [
    "# Result Evaluation \n",
    "## on testset"
   ]
  },
  {
   "cell_type": "code",
   "execution_count": 153,
   "metadata": {},
   "outputs": [],
   "source": [
    "cnn_model = tf.keras.models.load_model(\n",
    "    os.path.join(peak_selection_result_dir, \"peak_cnn_log_int_cos_dist.keras\")\n",
    ")"
   ]
  },
  {
   "cell_type": "code",
   "execution_count": 154,
   "metadata": {},
   "outputs": [
    {
     "name": "stdout",
     "output_type": "stream",
     "text": [
      "8/8 [==============================] - 3s 333ms/step\n"
     ]
    }
   ],
   "source": [
    "from postprocessing.peak_selection import (\n",
    "    produce_pred_df,\n",
    "    plot_pred_distr,\n",
    "    evaluate_id_based_cls,\n",
    ")\n",
    "\n",
    "df_test = produce_pred_df(\n",
    "    model=multi_cnn_model,\n",
    "    data=test_dataset_batch,\n",
    "    label=peak_label_test,\n",
    "    precursor_id=peak_results_matched_search_range[\"id\"],\n",
    "    data_idx=test_indices,\n",
    ")\n",
    "plot_pred_distr(df_test, peak_selection_result_dir, \"log_test_cos_dist\")"
   ]
  },
  {
   "cell_type": "code",
   "execution_count": 155,
   "metadata": {},
   "outputs": [
    {
     "name": "stdout",
     "output_type": "stream",
     "text": [
      "Number of precursors without ground truth: 354\n",
      "Accuracy for top 1 peaks: 0.8416\n"
     ]
    }
   ],
   "source": [
    "# plot_pred_distr(df_test, peak_selection_result_dir, \"log_test_cos_dist\")\n",
    "df_test_filtered = evaluate_id_based_cls(df_test, top_n=1)"
   ]
  },
  {
   "cell_type": "code",
   "execution_count": 156,
   "metadata": {},
   "outputs": [
    {
     "data": {
      "text/plain": [
       "<Axes: >"
      ]
     },
     "execution_count": 156,
     "metadata": {},
     "output_type": "execute_result"
    },
    {
     "data": {
      "image/png": "[encoded data removed]",
      "text/plain": [
       "<Figure size 640x480 with 1 Axes>"
      ]
     },
     "metadata": {},
     "output_type": "display_data"
    }
   ],
   "source": [
    "df_test.loc[df_test[\"y_true\"] == 1, \"y_pred_prob\"].hist(\n",
    "    cumulative=True, density=1, bins=10\n",
    ")"
   ]
  },
  {
   "cell_type": "code",
   "execution_count": 157,
   "metadata": {},
   "outputs": [
    {
     "name": "stdout",
     "output_type": "stream",
     "text": [
      "4/4 [==============================] - 2s 346ms/step\n"
     ]
    }
   ],
   "source": [
    "df_val = produce_pred_df(\n",
    "    model=cnn_model,\n",
    "    data=val_dataset_batch,\n",
    "    label=peak_label_val,\n",
    "    precursor_id=peak_results_matched_search_range[\"id\"],\n",
    "    data_idx=val_indices,\n",
    ")\n",
    "plot_pred_distr(df_val, peak_selection_result_dir, \"log_val_cos_dist\")"
   ]
  },
  {
   "cell_type": "code",
   "execution_count": 158,
   "metadata": {},
   "outputs": [
    {
     "name": "stderr",
     "output_type": "stream",
     "text": [
      "2024-03-08 15:59:36.154039: I tensorflow/core/common_runtime/executor.cc:1197] [/device:CPU:0] (DEBUG INFO) Executor start aborting (this does not indicate an error and you can ignore this message): INVALID_ARGUMENT: You must feed a value for placeholder tensor 'Placeholder/_0' with dtype int32\n",
      "\t [[{{node Placeholder/_0}}]]\n"
     ]
    },
    {
     "name": "stdout",
     "output_type": "stream",
     "text": [
      "29/29 [==============================] - 10s 350ms/step\n"
     ]
    }
   ],
   "source": [
    "df_train = produce_pred_df(\n",
    "    model=cnn_model,\n",
    "    data=train_dataset.batch(2048, drop_remainder=False),\n",
    "    label=peak_label_train,\n",
    "    precursor_id=peak_results_matched_search_range[\"id\"],\n",
    "    data_idx=train_indices,\n",
    ")\n",
    "plot_pred_distr(df_train, peak_selection_result_dir, \"log_train_cos_dist\")"
   ]
  },
  {
   "cell_type": "markdown",
   "metadata": {},
   "source": [
    "## precursor specific trouble shooting"
   ]
  },
  {
   "cell_type": "code",
   "execution_count": 159,
   "metadata": {},
   "outputs": [],
   "source": [
    "false_cls = df_test_filtered[df_test_filtered.y_true == 0].precursor_id\n",
    "true_cls = df_test_filtered[df_test_filtered.y_true == 1].precursor_id"
   ]
  },
  {
   "cell_type": "code",
   "execution_count": 160,
   "metadata": {},
   "outputs": [],
   "source": [
    "from postprocessing.peak_selection import plot_activation_and_score\n",
    "\n",
    "for id in true_cls[0:10]:\n",
    "    plot_activation_and_score(\n",
    "        peak_results=peak_results_matched_search_range,\n",
    "        df_test=df_test,\n",
    "        activation=activation_df,\n",
    "        cos_dist=cos_dist_df,\n",
    "        precursor_id=id,\n",
    "        save_dir=os.path.join(peak_selection_result_dir,\n",
    "                              \"activation_log\", \"true\"),\n",
    "    )\n",
    "for id in false_cls[0:10]:\n",
    "    plot_activation_and_score(\n",
    "        peak_results=peak_results_matched_search_range,\n",
    "        df_test=df_test,\n",
    "        activation=activation_df,\n",
    "        cos_dist=cos_dist_df,\n",
    "        precursor_id=id,\n",
    "        save_dir=os.path.join(peak_selection_result_dir,\n",
    "                              \"activation_log\", \"false\"),\n",
    "    )"
   ]
  },
  {
   "cell_type": "markdown",
   "metadata": {},
   "source": [
    "## Full prediction"
   ]
  },
  {
   "cell_type": "code",
   "execution_count": 161,
   "metadata": {},
   "outputs": [],
   "source": [
    "# For multi input model\n",
    "dataset = multi_input_generator(\n",
    "    peak_seq=peak_seq_3d_input, metadata_input=metadata_input, peak_label=peak_label\n",
    ").batch(2048, drop_remainder=False)"
   ]
  },
  {
   "cell_type": "code",
   "execution_count": 162,
   "metadata": {},
   "outputs": [
    {
     "name": "stderr",
     "output_type": "stream",
     "text": [
      "2024-03-08 16:00:18.034442: I tensorflow/core/common_runtime/executor.cc:1197] [/device:CPU:0] (DEBUG INFO) Executor start aborting (this does not indicate an error and you can ignore this message): INVALID_ARGUMENT: You must feed a value for placeholder tensor 'Placeholder/_0' with dtype int32\n",
      "\t [[{{node Placeholder/_0}}]]\n"
     ]
    },
    {
     "name": "stdout",
     "output_type": "stream",
     "text": [
      "40/40 [==============================] - 14s 338ms/step\n"
     ]
    }
   ],
   "source": [
    "from postprocessing.peak_selection import (\n",
    "    produce_pred_df,\n",
    "    get_top_n_scored_peaks_by_precursor,\n",
    ")\n",
    "\n",
    "\n",
    "pred_df = produce_pred_df(\n",
    "    model=multi_cnn_model,\n",
    "    data=dataset,\n",
    "    precursor_id=peak_results_matched_search_range.id,\n",
    "    data_idx=peak_results_matched_search_range.index,\n",
    ")\n",
    "\n",
    "peak_results_matched_search_range_pred_score = peak_results_matched_search_range.copy()\n",
    "peak_results_matched_search_range_pred_score[\"pred_score\"] = pred_df[\"y_pred_prob\"]\n",
    "pred_df.to_csv(os.path.join(peak_selection_result_dir, \"pred_df.csv\"))\n",
    "peak_results_matched_search_range_pred_score.to_csv(\n",
    "    os.path.join(\n",
    "        peak_selection_result_dir, \"peak_results_matched_search_range_pred_score.csv\"\n",
    "    )\n",
    ")"
   ]
  },
  {
   "cell_type": "code",
   "execution_count": 163,
   "metadata": {},
   "outputs": [],
   "source": [
    "peak_results_matched_search_range_filtered = (\n",
    "    peak_results_matched_search_range_pred_score[\n",
    "        peak_results_matched_search_range_pred_score[\"pred_score\"] >= 0.0\n",
    "    ]\n",
    ")"
   ]
  },
  {
   "cell_type": "markdown",
   "metadata": {},
   "source": [
    "## Compare quant"
   ]
  },
  {
   "cell_type": "code",
   "execution_count": 166,
   "metadata": {},
   "outputs": [
    {
     "data": {
      "text/plain": [
       "True     0.754855\n",
       "False    0.245145\n",
       "Name: matched, dtype: float64"
      ]
     },
     "execution_count": 166,
     "metadata": {},
     "output_type": "execute_result"
    }
   ],
   "source": [
    "from postprocessing.peak_selection import get_top_n_scored_peaks_by_precursor\n",
    "\n",
    "top_1_peak = get_top_n_scored_peaks_by_precursor(\n",
    "    peak_results_matched_search_range_pred_score,\n",
    "    top_n=1,\n",
    "    id_col=\"id\",\n",
    "    score_col=\"pred_score\",\n",
    ")\n",
    "top_1_peak.matched.value_counts(normalize=True)"
   ]
  },
  {
   "cell_type": "code",
   "execution_count": 167,
   "metadata": {},
   "outputs": [
    {
     "data": {
      "text/plain": [
       "<Axes: >"
      ]
     },
     "execution_count": 167,
     "metadata": {},
     "output_type": "execute_result"
    },
    {
     "data": {
      "text/plain": [
       "AUCActivationPeakCls    18020\n",
       "dtype: int64"
      ]
     },
     "execution_count": 167,
     "metadata": {},
     "output_type": "execute_result"
    },
    {
     "data": {
      "image/png": "[encoded data removed]",
      "text/plain": [
       "<Figure size 640x480 with 1 Axes>"
      ]
     },
     "metadata": {},
     "output_type": "display_data"
    }
   ],
   "source": [
    "from postprocessing.peak_selection import filter_and_aggregate_intensity\n",
    "\n",
    "sum_peak_cls = filter_and_aggregate_intensity(\n",
    "    top_1_peak, threshold=0.0, by_matched=False\n",
    ")\n",
    "np.log10(sum_peak_cls.peak_intensity_auc + 1).hist()\n",
    "\n",
    "sum_peak_cls_aligned = (\n",
    "    pd.merge(\n",
    "        left=maxquant_result_ref[[\"id\"]],\n",
    "        right=sum_peak_cls,\n",
    "        left_index=True,\n",
    "        right_on=\"id\",\n",
    "        how=\"left\",\n",
    "    )\n",
    "    .drop([\"id\", \"id_x\", \"id_y\"], axis=1)\n",
    "    .rename(columns={\"peak_intensity_auc\": \"AUCActivationPeakCls\"})\n",
    ")\n",
    "sum_peak_cls_aligned.to_csv(os.path.join(peak_selection_result_dir, \"sum_peak_cls.csv\"))\n",
    "sum_peak_cls_aligned[sum_peak_cls_aligned > 0].count()"
   ]
  },
  {
   "cell_type": "code",
   "execution_count": 168,
   "metadata": {},
   "outputs": [
    {
     "name": "stderr",
     "output_type": "stream",
     "text": [
      "2024-03-08 16:01:36,891 - result_analysis.compare_maxquant - INFO - RT overlap counts: full_overlap       17185\n",
      "no_overlap          1469\n",
      "partial_overlap      532\n",
      "Name: RT_overlap, dtype: int64\n",
      "2024-03-08 16:01:37,106 - result_analysis.compare_maxquant - INFO - Removing 2001 entries with RT_overlap ['full_overlap'], 17185 entries left.\n",
      "2024-03-08 16:01:37,112 - result_analysis.result_analysis - INFO - Drop all duplicated pcm. 17185 -> 17009\n"
     ]
    },
    {
     "name": "stdout",
     "output_type": "stream",
     "text": [
      "Data:  Intensity_log AUCActivationPeakCls_log , slope =  0.842 , intercept =  -0.322 , PearsonR =  0.795 , SpearmanR =  0.781\n"
     ]
    }
   ],
   "source": [
    "from result_analysis.result_analysis import SBSResult\n",
    "\n",
    "sbs_result = SBSResult(\n",
    "    maxquant_ref_df=maxquant_result_ref,\n",
    "    maxquant_exp_df=maxquant_result_exp,\n",
    "    sum_peak=sum_peak_cls_aligned,\n",
    "    # sum_raw=sum_peak,\n",
    ")\n",
    "sbs_result.compare_with_maxquant_exp_int(\n",
    "    filter_by_rt_overlap=[\"full_overlap\"],\n",
    "    handle_mul_exp_pcm=\"drop\",\n",
    "    save_dir=peak_selection_result_dir,\n",
    ")\n",
    "sbs_result.plot_intensity_corr(\n",
    "    inf_col=\"AUCActivationPeakCls\",\n",
    "    save_dir=peak_selection_result_dir,\n",
    "    interactive=False,\n",
    "    contour=False,\n",
    "    hover_data=[\"id\"],\n",
    ")"
   ]
  },
  {
   "cell_type": "code",
   "execution_count": 169,
   "metadata": {},
   "outputs": [
    {
     "name": "stderr",
     "output_type": "stream",
     "text": [
      "/cmnfs/proj/ORIGINS/protMSD/maxquant/ScanByScan/result_analysis/result_analysis.py:370: SettingWithCopyWarning: \n",
      "A value is trying to be set on a copy of a slice from a DataFrame.\n",
      "Try using .loc[row_indexer,col_indexer] = value instead\n",
      "\n",
      "See the caveats in the documentation: https://pandas.pydata.org/pandas-docs/stable/user_guide/indexing.html#returning-a-view-versus-a-copy\n",
      "  self.ref_df_non_zero[\"precursor\"] = self.ref_df_non_zero[\n",
      "/cmnfs/home/z.xiao/miniconda3/envs/sbs/lib/python3.10/site-packages/matplotlib_venn/_venn3.py:117: UserWarning: Bad circle positioning\n",
      "  warnings.warn(\"Bad circle positioning\")\n"
     ]
    }
   ],
   "source": [
    "sbs_result.plot_overlap_with_MQ(show_ref=True, save_dir=peak_selection_result_dir)"
   ]
  }
 ],
 "metadata": {
  "kernelspec": {
   "display_name": "base",
   "language": "python",
   "name": "python3"
  },
  "language_info": {
   "codemirror_mode": {
    "name": "ipython",
    "version": 3
   },
   "file_extension": ".py",
   "mimetype": "text/x-python",
   "name": "python",
   "nbconvert_exporter": "python",
   "pygments_lexer": "ipython3",
   "version": "3.10.12"
  },
  "orig_nbformat": 4
 },
 "nbformat": 4,
 "nbformat_minor": 2
}

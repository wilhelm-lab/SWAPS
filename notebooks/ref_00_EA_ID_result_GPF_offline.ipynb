{
 "cells": [
  {
   "cell_type": "markdown",
   "metadata": {},
   "source": [
    "# Comparison offline and GPF"
   ]
  },
  {
   "cell_type": "code",
   "execution_count": 1,
   "metadata": {},
   "outputs": [],
   "source": [
    "from importlib import reload\n",
    "from IPython.core.interactiveshell import InteractiveShell\n",
    "InteractiveShell.ast_node_interactivity = \"all\""
   ]
  },
  {
   "cell_type": "code",
   "execution_count": 2,
   "metadata": {},
   "outputs": [],
   "source": [
    "import numpy as np\n",
    "import matplotlib.pyplot as plt\n",
    "import pandas as pd\n",
    "import os, sys\n",
    "module_path = os.path.abspath(os.path.join('..'))\n",
    "if module_path not in sys.path:\n",
    "    sys.path.append(module_path)"
   ]
  },
  {
   "cell_type": "code",
   "execution_count": 3,
   "metadata": {},
   "outputs": [],
   "source": [
    "offline_modpept_path = '/mnt/cmnfs/proj/ORIGINS/data/ecoli/HpHRP/MQ/100FDR_PSM/combined/txt/modificationSpecificPeptides.txt'\n",
    "offline_modpept = pd.read_csv(offline_modpept_path,\n",
    "                               sep='\\t')\n",
    "offline_msscan_path = '/mnt/cmnfs/proj/ORIGINS/data/ecoli/HpHRP/MQ/100FDR_PSM/combined/txt/msScans.txt'\n",
    "offline_msscan = pd.read_csv(offline_msscan_path,\n",
    "                               sep='\\t')\n",
    "offline_evidence_path = '/mnt/cmnfs/proj/ORIGINS/data/ecoli/HpHRP/MQ/100FDR_PSM/combined/txt/evidence.txt'\n",
    "offline_evidence = pd.read_csv(offline_evidence_path,\n",
    "                               sep='\\t')"
   ]
  },
  {
   "cell_type": "code",
   "execution_count": 3,
   "metadata": {},
   "outputs": [
    {
     "name": "stderr",
     "output_type": "stream",
     "text": [
      "/tmp/ipykernel_11484/3427630283.py:8: DtypeWarning: Columns (52) have mixed types. Specify dtype option on import or set low_memory=False.\n",
      "  offline_evidence = pd.read_csv(offline_evidence_path,\n"
     ]
    }
   ],
   "source": [
    "offline_modpept_path = '/mnt/cmnfs/proj/ORIGINS/data/ecoli/HpHRP/MQ/combined/txt/modificationSpecificPeptides.txt'\n",
    "offline_modpept = pd.read_csv(offline_modpept_path,\n",
    "                               sep='\\t')\n",
    "offline_msscan_path = '/mnt/cmnfs/proj/ORIGINS/data/ecoli/HpHRP/MQ/combined/txt/msScans.txt'\n",
    "offline_msscan = pd.read_csv(offline_msscan_path,\n",
    "                               sep='\\t')\n",
    "offline_evidence_path = '/mnt/cmnfs/proj/ORIGINS/data/ecoli/HpHRP/MQ/combined/txt/evidence.txt'\n",
    "offline_evidence = pd.read_csv(offline_evidence_path,\n",
    "                               sep='\\t')"
   ]
  },
  {
   "cell_type": "code",
   "execution_count": 4,
   "metadata": {},
   "outputs": [],
   "source": [
    "GPF_modpept_path = '/mnt/cmnfs/proj/ORIGINS/data/ecoli/GPF/MQ/standard/combined/txt/modificationSpecificPeptides.txt'\n",
    "GPF_modpept = pd.read_csv(GPF_modpept_path,\n",
    "                               sep='\\t')\n",
    "GPF_modpept['ModPept'] = GPF_modpept['Sequence']+GPF_modpept['Modifications']\n",
    "GPF_msscan_path = '/mnt/cmnfs/proj/ORIGINS/data/ecoli/GPF/MQ/standard/combined/txt/msScans.txt'\n",
    "GPF_msscan = pd.read_csv(GPF_msscan_path,\n",
    "                               sep='\\t')\n",
    "GPF_evidence_path = '/mnt/cmnfs/proj/ORIGINS/data/ecoli/GPF/MQ/standard/combined/txt/evidence.txt'\n",
    "GPF_evidence = pd.read_csv(GPF_evidence_path,\n",
    "                               sep='\\t')"
   ]
  },
  {
   "cell_type": "code",
   "execution_count": 5,
   "metadata": {},
   "outputs": [],
   "source": [
    "DDA_modpept_path = '/mnt/cmnfs/proj/ORIGINS/data/ecoli/ss/DDA/MQ/combined/txt/modificationSpecificPeptides.txt'\n",
    "DDA_modpept = pd.read_csv(DDA_modpept_path,\n",
    "                               sep='\\t')\n",
    "DDA_modpept['ModPept'] = DDA_modpept['Sequence']+DDA_modpept['Modifications']\n",
    "DDA_msscan_path = '/mnt/cmnfs/proj/ORIGINS/data/ecoli/ss/DDA/MQ/combined/txt/msScans.txt'\n",
    "DDA_msscan = pd.read_csv(DDA_msscan_path,\n",
    "                               sep='\\t')\n",
    "DDA_evidence_path = '/mnt/cmnfs/proj/ORIGINS/data/ecoli/ss/DDA/MQ/combined/txt/evidence.txt'\n",
    "DDA_evidence = pd.read_csv(DDA_evidence_path,\n",
    "                               sep='\\t')"
   ]
  },
  {
   "cell_type": "markdown",
   "metadata": {},
   "source": [
    "# ID counts"
   ]
  },
  {
   "cell_type": "code",
   "execution_count": 6,
   "metadata": {},
   "outputs": [
    {
     "data": {
      "text/plain": [
       "<matplotlib_venn._common.VennDiagram at 0x7f3079e59ae0>"
      ]
     },
     "execution_count": 6,
     "metadata": {},
     "output_type": "execute_result"
    },
    {
     "data": {
      "image/png": "[encoded data removed]",
      "text/plain": [
       "<Figure size 640x480 with 1 Axes>"
      ]
     },
     "metadata": {},
     "output_type": "display_data"
    }
   ],
   "source": [
    "from matplotlib_venn import venn3\n",
    "venn3([set(offline_evidence[\"Modified sequence\"].to_list()),\n",
    "       set(DDA_evidence[\"Modified sequence\"].to_list()),\n",
    "       set(GPF_evidence['Modified sequence'])],\n",
    "           set_labels=(\"offline\",\"DDA\",\"GPF\"))"
   ]
  },
  {
   "cell_type": "markdown",
   "metadata": {},
   "source": [
    "# Isotope pattern similarity"
   ]
  },
  {
   "cell_type": "code",
   "execution_count": 10,
   "metadata": {},
   "outputs": [],
   "source": [
    "maxquant_file_dict = '/mnt/cmnfs/proj/ORIGINS/data/ecoli/HpHRP/MQ/combined/txt/evidence_1_transfer_RT_pred_filtered_withIso.pkl'\n",
    "maxquant_result_dict = pd.read_pickle(maxquant_file_dict)"
   ]
  },
  {
   "cell_type": "code",
   "execution_count": 11,
   "metadata": {},
   "outputs": [],
   "source": [
    "maxquant_result_dict = maxquant_result_dict.groupby(['Modified sequence']).first().reset_index()"
   ]
  },
  {
   "cell_type": "code",
   "execution_count": null,
   "metadata": {},
   "outputs": [],
   "source": [
    "from optimization.dictionary import GetNumHighCorrFeatures\n",
    "AsDict = maxquant_result_dict[['']]"
   ]
  }
 ],
 "metadata": {
  "kernelspec": {
   "display_name": "py310",
   "language": "python",
   "name": "python3"
  },
  "language_info": {
   "codemirror_mode": {
    "name": "ipython",
    "version": 3
   },
   "file_extension": ".py",
   "mimetype": "text/x-python",
   "name": "python",
   "nbconvert_exporter": "python",
   "pygments_lexer": "ipython3",
   "version": "3.10.12"
  }
 },
 "nbformat": 4,
 "nbformat_minor": 2
}

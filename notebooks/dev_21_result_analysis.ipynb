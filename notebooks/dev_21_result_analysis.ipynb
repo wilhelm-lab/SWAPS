{
 "cells": [
  {
   "cell_type": "code",
   "execution_count": 1,
   "metadata": {},
   "outputs": [],
   "source": [
    "from importlib import reload\n",
    "from IPython.core.interactiveshell import InteractiveShell\n",
    "InteractiveShell.ast_node_interactivity = \"all\""
   ]
  },
  {
   "cell_type": "code",
   "execution_count": 2,
   "metadata": {},
   "outputs": [],
   "source": [
    "import pandas as pd\n",
    "import numpy as np\n",
    "import os\n",
    "import pickle\n",
    "import sys\n",
    "module_path = os.path.abspath(os.path.join('..'))\n",
    "if module_path not in sys.path:\n",
    "    sys.path.append(module_path)"
   ]
  },
  {
   "cell_type": "markdown",
   "metadata": {},
   "source": [
    "# Load Data"
   ]
  },
  {
   "cell_type": "code",
   "execution_count": 5,
   "metadata": {},
   "outputs": [],
   "source": [
    "# Global data\n",
    "maxquant_file_dict = '/mnt/cmnfs/proj/ORIGINS/data/ecoli/HpHRP/MQ/combined/txt/evidence_1_transfer_RT_pred_filtered_withIso.pkl' # path to MaxQuant results (evidence.txt) of the same RAW file, used for constructing reference dictionary\n",
    "maxquant_file_exp = '/mnt/cmnfs/proj/ORIGINS/data/ecoli/ss/DDA/MQ/combined/txt/evidence_1.txt'\n",
    "MS1Scans_NoArray = '/mnt/cmnfs/proj/ORIGINS/data/protMSD/GCF_profile/MS1Scans_NoArray.csv'\n",
    "# experiment specific\n",
    "result_dir = '/mnt/cmnfs/proj/ORIGINS/data/ecoli/ss/DDA/raw/msconvert/BBM_647_P241_02_07_ssDDA_MIA_001_ScanByScan_RTtol1.0_MZtol0.0_condpeakRange_alpha0.0_abthres0.001_missabthres0.5_convergence_NoIntercept_pred'\n",
    "#result_dir = '/mnt/cmnfs/proj/ORIGINS/data/protMSD/GCF_profile/msconvert_profile_ScanByScan_RTtol1.0_MZtol0.0_condpeakRange_alpha0.0_abthres0.001_missabthres0.5_convergence_NoIntercept_pred'\n",
    "basename = os.path.basename(result_dir)\n",
    "output_file = os.path.join(result_dir, basename + '_output') #filename"
   ]
  },
  {
   "cell_type": "code",
   "execution_count": 9,
   "metadata": {},
   "outputs": [],
   "source": [
    "# Load maxquant result (reference)\n",
    "Maxquant_result_dict = pd.read_pickle(filepath_or_buffer=maxquant_file_dict)\n",
    "Maxquant_result_exp = pd.read_csv(filepath_or_buffer=maxquant_file_exp, sep='\\t')\n",
    "activation = np.load(output_file+'_activationByScanFromLasso.npy')\n",
    "refit_activation_minima = np.load(output_file+'_activationMinima.npy')\n",
    "sum_minima = pd.read_csv(os.path.join(result_dir, 'sum_minima.csv'))\n",
    "refit_activation_gaussian = np.load(output_file+'_activationGaussian.npy')\n",
    "sum_gaussian = pd.read_csv(os.path.join(result_dir, 'sum_gaussian.csv'))\n",
    "scan_record = pd.read_pickle(output_file+'_scan_record.pkl')\n",
    "MS1Scans_NoArray = pd.read_csv(MS1Scans_NoArray)\n"
   ]
  },
  {
   "cell_type": "code",
   "execution_count": 5,
   "metadata": {},
   "outputs": [],
   "source": [
    "# Make result directory\n",
    "report_dir = os.path.join(result_dir, 'report')\n",
    "if not os.path.exists(report_dir):\n",
    "    os.makedirs(report_dir)\n",
    "    os.makedirs(os.path.join(report_dir, 'activation'))"
   ]
  },
  {
   "cell_type": "code",
   "execution_count": 6,
   "metadata": {},
   "outputs": [],
   "source": [
    "precursors = Maxquant_result_dict.groupby(['Modified sequence', 'Leading proteins', 'Charge'])['Retention time'].count()"
   ]
  },
  {
   "cell_type": "markdown",
   "metadata": {},
   "source": [
    "# Statistics"
   ]
  },
  {
   "cell_type": "code",
   "execution_count": 7,
   "metadata": {},
   "outputs": [
    {
     "data": {
      "text/plain": [
       "Index(['Sequence', 'Length', 'Modifications', 'Modified sequence',\n",
       "       'Oxidation (M) Probabilities', 'Oxidation (M) Score Diffs',\n",
       "       'Acetyl (Protein N-term)', 'Oxidation (M)', 'Missed cleavages',\n",
       "       'Proteins', 'Leading proteins', 'Leading razor protein', 'Type',\n",
       "       'Raw file', 'Experiment', 'MS/MS m/z', 'Charge', 'm/z', 'Mass',\n",
       "       'Resolution', 'Uncalibrated - Calibrated m/z [ppm]',\n",
       "       'Uncalibrated - Calibrated m/z [Da]', 'Mass error [ppm]',\n",
       "       'Mass error [Da]', 'Uncalibrated mass error [ppm]',\n",
       "       'Uncalibrated mass error [Da]', 'Max intensity m/z 0', 'Retention time',\n",
       "       'Retention length', 'Calibrated retention time',\n",
       "       'Calibrated retention time start', 'Calibrated retention time finish',\n",
       "       'Retention time calibration', 'Match time difference',\n",
       "       'Match m/z difference', 'Match q-value', 'Match score',\n",
       "       'Number of data points', 'Number of scans', 'Number of isotopic peaks',\n",
       "       'PIF', 'Fraction of total spectrum', 'Base peak fraction', 'PEP',\n",
       "       'MS/MS count', 'MS/MS scan number', 'Score', 'Delta score',\n",
       "       'Combinatorics', 'Intensity', 'Reverse', 'Potential contaminant', 'id',\n",
       "       'Protein group IDs', 'Peptide ID', 'Mod. peptide ID', 'MS/MS IDs',\n",
       "       'Best MS/MS', 'AIF MS/MS IDs', 'Oxidation (M) site IDs'],\n",
       "      dtype='object')"
      ]
     },
     "execution_count": 7,
     "metadata": {},
     "output_type": "execute_result"
    }
   ],
   "source": [
    "Maxquant_result_dict.columns"
   ]
  },
  {
   "cell_type": "code",
   "execution_count": 18,
   "metadata": {},
   "outputs": [
    {
     "data": {
      "text/plain": [
       "<module 'result_analysis.result_analysis' from '/mnt/cmnfs/proj/ORIGINS/protMSD/maxquant/ScanByScan/result_analysis/result_analysis.py'>"
      ]
     },
     "execution_count": 18,
     "metadata": {},
     "output_type": "execute_result"
    },
    {
     "name": "stdout",
     "output_type": "stream",
     "text": [
      "Data:  Intensity_log SumActivation_log , slope =  0.117 , intercept =  7.233 , PearsonR =  0.122 , SpearmanR =  0.08\n"
     ]
    },
    {
     "ename": "KeyboardInterrupt",
     "evalue": "",
     "output_type": "error",
     "traceback": [
      "\u001b[0;31m---------------------------------------------------------------------------\u001b[0m",
      "\u001b[0;31mKeyboardInterrupt\u001b[0m                         Traceback (most recent call last)",
      "\u001b[1;32m/mnt/cmnfs/proj/ORIGINS/protMSD/maxquant/ScanByScan/notebooks/ref_21_result_analysis.ipynb Cell 10\u001b[0m line \u001b[0;36m7\n\u001b[1;32m      <a href='vscode-notebook-cell:/mnt/cmnfs/proj/ORIGINS/protMSD/maxquant/ScanByScan/notebooks/ref_21_result_analysis.ipynb#X12sZmlsZQ%3D%3D?line=4'>5</a>\u001b[0m Maxquant_result_dict[\u001b[39m'\u001b[39m\u001b[39mAUCActivation_Gaussian\u001b[39m\u001b[39m'\u001b[39m] \u001b[39m=\u001b[39m sum_gaussian[\u001b[39m'\u001b[39m\u001b[39mAUCAcitvationGaussianKernel\u001b[39m\u001b[39m'\u001b[39m]\n\u001b[1;32m      <a href='vscode-notebook-cell:/mnt/cmnfs/proj/ORIGINS/protMSD/maxquant/ScanByScan/notebooks/ref_21_result_analysis.ipynb#X12sZmlsZQ%3D%3D?line=5'>6</a>\u001b[0m \u001b[39m#Maxquant_result_filtered = post_processing.TransformAndFilter(Maxquant_result=Maxquant_result)\u001b[39;00m\n\u001b[0;32m----> <a href='vscode-notebook-cell:/mnt/cmnfs/proj/ORIGINS/protMSD/maxquant/ScanByScan/notebooks/ref_21_result_analysis.ipynb#X12sZmlsZQ%3D%3D?line=6'>7</a>\u001b[0m RegIntensity, AbsResidue, valid_idx \u001b[39m=\u001b[39m PlotCorr(Maxquant_result_dict[\u001b[39m'\u001b[39;49m\u001b[39mIntensity\u001b[39;49m\u001b[39m'\u001b[39;49m], \n\u001b[1;32m      <a href='vscode-notebook-cell:/mnt/cmnfs/proj/ORIGINS/protMSD/maxquant/ScanByScan/notebooks/ref_21_result_analysis.ipynb#X12sZmlsZQ%3D%3D?line=7'>8</a>\u001b[0m                                                Maxquant_result_dict[\u001b[39m'\u001b[39;49m\u001b[39mSumActivation\u001b[39;49m\u001b[39m'\u001b[39;49m],\n\u001b[1;32m      <a href='vscode-notebook-cell:/mnt/cmnfs/proj/ORIGINS/protMSD/maxquant/ScanByScan/notebooks/ref_21_result_analysis.ipynb#X12sZmlsZQ%3D%3D?line=8'>9</a>\u001b[0m                                                interactive\u001b[39m=\u001b[39;49m\u001b[39mFalse\u001b[39;49;00m, \n\u001b[1;32m     <a href='vscode-notebook-cell:/mnt/cmnfs/proj/ORIGINS/protMSD/maxquant/ScanByScan/notebooks/ref_21_result_analysis.ipynb#X12sZmlsZQ%3D%3D?line=9'>10</a>\u001b[0m                                                data \u001b[39m=\u001b[39;49m Maxquant_result_dict)\n\u001b[1;32m     <a href='vscode-notebook-cell:/mnt/cmnfs/proj/ORIGINS/protMSD/maxquant/ScanByScan/notebooks/ref_21_result_analysis.ipynb#X12sZmlsZQ%3D%3D?line=10'>11</a>\u001b[0m Maxquant_result_filtered \u001b[39m=\u001b[39m pd\u001b[39m.\u001b[39mDataFrame({\u001b[39m'\u001b[39m\u001b[39mRegressionIntensity\u001b[39m\u001b[39m'\u001b[39m: RegIntensity, \u001b[39m'\u001b[39m\u001b[39mAbsResidue\u001b[39m\u001b[39m'\u001b[39m:AbsResidue})\n\u001b[1;32m     <a href='vscode-notebook-cell:/mnt/cmnfs/proj/ORIGINS/protMSD/maxquant/ScanByScan/notebooks/ref_21_result_analysis.ipynb#X12sZmlsZQ%3D%3D?line=11'>12</a>\u001b[0m Maxquant_result_filtered \u001b[39m=\u001b[39m pd\u001b[39m.\u001b[39mconcat([Maxquant_result_dict\u001b[39m.\u001b[39mloc[valid_idx[\u001b[39m0\u001b[39m], [\u001b[39m'\u001b[39m\u001b[39mid\u001b[39m\u001b[39m'\u001b[39m, \u001b[39m'\u001b[39m\u001b[39mSequence\u001b[39m\u001b[39m'\u001b[39m, \u001b[39m'\u001b[39m\u001b[39mLength\u001b[39m\u001b[39m'\u001b[39m, \u001b[39m'\u001b[39m\u001b[39mModifications\u001b[39m\u001b[39m'\u001b[39m, \u001b[39m'\u001b[39m\u001b[39mModified sequence\u001b[39m\u001b[39m'\u001b[39m,\u001b[39m'\u001b[39m\u001b[39mIntensity\u001b[39m\u001b[39m'\u001b[39m]], Maxquant_result_filtered], axis\u001b[39m=\u001b[39m\u001b[39m1\u001b[39m)\n",
      "File \u001b[0;32m/mnt/cmnfs/proj/ORIGINS/protMSD/maxquant/ScanByScan/result_analysis/result_analysis.py:165\u001b[0m, in \u001b[0;36mPlotCorr\u001b[0;34m(ReferenceIntensity, SumActivation, data, filter_thres, interactive, show_diag, color, hover_data, save_dir)\u001b[0m\n\u001b[1;32m    156\u001b[0m \u001b[39mdef\u001b[39;00m \u001b[39mPlotCorr\u001b[39m(ReferenceIntensity, \n\u001b[1;32m    157\u001b[0m              SumActivation, \n\u001b[1;32m    158\u001b[0m              data \u001b[39m=\u001b[39m \u001b[39mNone\u001b[39;00m,\n\u001b[0;32m   (...)\u001b[0m\n\u001b[1;32m    163\u001b[0m              hover_data:Union[\u001b[39mNone\u001b[39;00m, List] \u001b[39m=\u001b[39m [\u001b[39m'\u001b[39m\u001b[39mModified sequence\u001b[39m\u001b[39m'\u001b[39m, \u001b[39m'\u001b[39m\u001b[39mLeading proteins\u001b[39m\u001b[39m'\u001b[39m, \u001b[39m'\u001b[39m\u001b[39mCharge\u001b[39m\u001b[39m'\u001b[39m, \u001b[39m'\u001b[39m\u001b[39mid\u001b[39m\u001b[39m'\u001b[39m],\n\u001b[1;32m    164\u001b[0m              save_dir:Union[\u001b[39mNone\u001b[39;00m, \u001b[39mstr\u001b[39m] \u001b[39m=\u001b[39m \u001b[39mNone\u001b[39;00m):\n\u001b[0;32m--> 165\u001b[0m     RegressionIntensity, AbsResidue, valid_idx \u001b[39m=\u001b[39m plot_scatter(x\u001b[39m=\u001b[39;49mReferenceIntensity,\n\u001b[1;32m    166\u001b[0m                                                               y\u001b[39m=\u001b[39;49mSumActivation,\n\u001b[1;32m    167\u001b[0m                                                               log_x\u001b[39m=\u001b[39;49m\u001b[39mTrue\u001b[39;49;00m,\n\u001b[1;32m    168\u001b[0m                                                               log_y\u001b[39m=\u001b[39;49m\u001b[39mTrue\u001b[39;49;00m,\n\u001b[1;32m    169\u001b[0m                                                               data\u001b[39m=\u001b[39;49mdata,\n\u001b[1;32m    170\u001b[0m                                                               filter_thres\u001b[39m=\u001b[39;49mfilter_thres,\n\u001b[1;32m    171\u001b[0m                                                               interactive\u001b[39m=\u001b[39;49minteractive,\n\u001b[1;32m    172\u001b[0m                                                               hover_data\u001b[39m=\u001b[39;49mhover_data,\n\u001b[1;32m    173\u001b[0m                                                               show_diag\u001b[39m=\u001b[39;49mshow_diag,\n\u001b[1;32m    174\u001b[0m                                                               color\u001b[39m=\u001b[39;49mcolor,\n\u001b[1;32m    175\u001b[0m                                                               title \u001b[39m=\u001b[39;49m \u001b[39m'\u001b[39;49m\u001b[39mCorr. of Quant. Results \u001b[39;49m\u001b[39m'\u001b[39;49m,\n\u001b[1;32m    176\u001b[0m                                                               save_dir\u001b[39m=\u001b[39;49msave_dir,\n\u001b[1;32m    177\u001b[0m                                                               x_label\u001b[39m=\u001b[39;49m\u001b[39m'\u001b[39;49m\u001b[39mReference (log)\u001b[39;49m\u001b[39m'\u001b[39;49m,\n\u001b[1;32m    178\u001b[0m                                                               y_label\u001b[39m=\u001b[39;49m\u001b[39m'\u001b[39;49m\u001b[39mInfered (log)\u001b[39;49m\u001b[39m'\u001b[39;49m)\n\u001b[1;32m    179\u001b[0m     \u001b[39mreturn\u001b[39;00m RegressionIntensity, AbsResidue, valid_idx\n",
      "File \u001b[0;32m/mnt/cmnfs/proj/ORIGINS/protMSD/maxquant/ScanByScan/utils/plot.py:71\u001b[0m, in \u001b[0;36mplot_scatter\u001b[0;34m(x, y, log_x, log_y, data, filter_thres, interactive, hover_data, color, show_diag, show_conf, save_dir, x_label, y_label, title)\u001b[0m\n\u001b[1;32m     69\u001b[0m \u001b[39mif\u001b[39;00m color \u001b[39mis\u001b[39;00m \u001b[39mNone\u001b[39;00m:\n\u001b[1;32m     70\u001b[0m     xy \u001b[39m=\u001b[39m np\u001b[39m.\u001b[39mvstack([x_log, y_log])\n\u001b[0;32m---> 71\u001b[0m     color \u001b[39m=\u001b[39m stats\u001b[39m.\u001b[39;49mgaussian_kde(xy)(xy)\n\u001b[1;32m     72\u001b[0m \u001b[39melse\u001b[39;00m:\n\u001b[1;32m     73\u001b[0m     color \u001b[39m=\u001b[39m color\u001b[39m.\u001b[39mvalues[valid_idx]\n",
      "File \u001b[0;32m~/miniconda3/envs/py310/lib/python3.10/site-packages/scipy/stats/_kde.py:268\u001b[0m, in \u001b[0;36mgaussian_kde.evaluate\u001b[0;34m(self, points)\u001b[0m\n\u001b[1;32m    265\u001b[0m         \u001b[39mraise\u001b[39;00m \u001b[39mValueError\u001b[39;00m(msg)\n\u001b[1;32m    267\u001b[0m output_dtype, spec \u001b[39m=\u001b[39m _get_output_dtype(\u001b[39mself\u001b[39m\u001b[39m.\u001b[39mcovariance, points)\n\u001b[0;32m--> 268\u001b[0m result \u001b[39m=\u001b[39m gaussian_kernel_estimate[spec](\n\u001b[1;32m    269\u001b[0m     \u001b[39mself\u001b[39;49m\u001b[39m.\u001b[39;49mdataset\u001b[39m.\u001b[39;49mT, \u001b[39mself\u001b[39;49m\u001b[39m.\u001b[39;49mweights[:, \u001b[39mNone\u001b[39;49;00m],\n\u001b[1;32m    270\u001b[0m     points\u001b[39m.\u001b[39;49mT, \u001b[39mself\u001b[39;49m\u001b[39m.\u001b[39;49mcho_cov, output_dtype)\n\u001b[1;32m    272\u001b[0m \u001b[39mreturn\u001b[39;00m result[:, \u001b[39m0\u001b[39m]\n",
      "\u001b[0;31mKeyboardInterrupt\u001b[0m: "
     ]
    }
   ],
   "source": [
    "import result_analysis.result_analysis\n",
    "reload(result_analysis.result_analysis)\n",
    "from result_analysis.result_analysis import PlotCorr\n",
    "Maxquant_result_dict['SumActivation'] = activation.sum(axis = 1)\n",
    "Maxquant_result_dict['AUCActivation_Gaussian'] = sum_gaussian['AUCAcitvationGaussianKernel']\n",
    "#Maxquant_result_filtered = post_processing.TransformAndFilter(Maxquant_result=Maxquant_result)\n",
    "RegIntensity, AbsResidue, valid_idx = PlotCorr(Maxquant_result_dict['Intensity'], \n",
    "                                               Maxquant_result_dict['SumActivation'],\n",
    "                                               interactive=False, \n",
    "                                               data = Maxquant_result_dict)\n",
    "Maxquant_result_filtered = pd.DataFrame({'RegressionIntensity': RegIntensity, 'AbsResidue':AbsResidue})\n",
    "Maxquant_result_filtered = pd.concat([Maxquant_result_dict.loc[valid_idx[0], ['id', 'Sequence', 'Length', 'Modifications', 'Modified sequence','Intensity']], Maxquant_result_filtered], axis=1)\n",
    "Maxquant_result_filtered['IntensityLog'] = np.log10(Maxquant_result_filtered['Intensity'])\n",
    "Accurate50_idx = Maxquant_result_filtered['AbsResidue'].nsmallest(50).index\n",
    "Inaccurate50_idx = Maxquant_result_filtered['AbsResidue'].nlargest(50).index"
   ]
  },
  {
   "cell_type": "code",
   "execution_count": 19,
   "metadata": {},
   "outputs": [
    {
     "data": {
      "text/plain": [
       "<module 'result_analysis.result_analysis' from '/mnt/cmnfs/proj/ORIGINS/protMSD/maxquant/ScanByScan/result_analysis/result_analysis.py'>"
      ]
     },
     "execution_count": 19,
     "metadata": {},
     "output_type": "execute_result"
    },
    {
     "ename": "",
     "evalue": "",
     "output_type": "error",
     "traceback": [
      "\u001b[1;31mThe Kernel crashed while executing code in the the current cell or a previous cell. Please review the code in the cell(s) to identify a possible cause of the failure. Click <a href='https://aka.ms/vscodeJupyterKernelCrash'>here</a> for more info. View Jupyter <a href='command:jupyter.viewOutput'>log</a> for further details."
     ]
    }
   ],
   "source": [
    "import result_analysis.result_analysis\n",
    "reload(result_analysis.result_analysis)\n",
    "from result_analysis.result_analysis import compare_act_sum_with_MQ\n",
    "MQ_final = compare_act_sum_with_MQ(MQ_dict=Maxquant_result_dict,\n",
    "                                   MQ_exp=Maxquant_result_exp,\n",
    "                                   RT_tol=1.0)"
   ]
  },
  {
   "cell_type": "markdown",
   "metadata": {},
   "source": [
    "# SBS and MQ Elution(RT) comparison"
   ]
  },
  {
   "cell_type": "code",
   "execution_count": 27,
   "metadata": {},
   "outputs": [
    {
     "data": {
      "text/plain": [
       "<module 'result_analysis.result_analysis' from '/mnt/cmnfs/proj/ORIGINS/protMSD/maxquant/ScanByScan/result_analysis/result_analysis.py'>"
      ]
     },
     "execution_count": 27,
     "metadata": {},
     "output_type": "execute_result"
    },
    {
     "name": "stderr",
     "output_type": "stream",
     "text": [
      "/tmp/ipykernel_27132/522126409.py:10: SettingWithCopyWarning: \n",
      "A value is trying to be set on a copy of a slice from a DataFrame\n",
      "\n",
      "See the caveats in the documentation: https://pandas.pydata.org/pandas-docs/stable/user_guide/indexing.html#returning-a-view-versus-a-copy\n",
      "  MQElutionScan.sort_values(by = 'Calibrated retention time start', inplace=True)\n"
     ]
    }
   ],
   "source": [
    "import result_analysis.result_analysis\n",
    "reload(result_analysis.result_analysis)\n",
    "from result_analysis.result_analysis import FindStartAndEndScan\n",
    "ElutionScan = FindStartAndEndScan(activation=activation)\n",
    "MS1Scans_NoArray['Scan Index'] = MS1Scans_NoArray.index\n",
    "MQElutionScan = Maxquant_result_dict[['id','Modified sequence', 'Charge', 'Retention length', \\\n",
    "    'Calibrated retention time start', 'Calibrated retention time finish', \\\n",
    "        'Number of data points', 'Number of scans', 'Number of isotopic peaks',\\\n",
    "             'Intensity', 'AUCActivation_Gaussian']]\n",
    "MQElutionScan.sort_values(by = 'Calibrated retention time start', inplace=True)\n",
    "MQElutionScan= pd.merge_asof(left=MQElutionScan, right=MS1Scans_NoArray[['starttime', 'Scan Index']], \\\n",
    "    left_on='Calibrated retention time start', right_on='starttime', direction='nearest')\n",
    "MQElutionScan.sort_values(by = 'Calibrated retention time finish', inplace=True)\n",
    "MQElutionScan= pd.merge_asof(left=MQElutionScan, right=MS1Scans_NoArray[['starttime', 'Scan Index']], \\\n",
    "    left_on='Calibrated retention time finish', right_on='starttime', direction='nearest', suffixes=['_start_MQ', '_end_MQ'])\n",
    "MQElutionScan['CountScan_MQ'] = MQElutionScan['Scan Index_end_MQ']-MQElutionScan['Scan Index_start_MQ']+1\n",
    "ElutionScan = pd.merge(left=ElutionScan, right=MQElutionScan)\n",
    "ElutionScan['MQ_SBS_diff'] = ElutionScan['CountScan_MQ']-ElutionScan['CountScan_SBS']\n",
    "ElutionScan['MQ_SBS_start_diff'] = ElutionScan['Scan Index_start_MQ'] - ElutionScan['Scan Index_start_SBS']\n",
    "ElutionScan['MQ_SBS_end_diff'] = ElutionScan['Scan Index_end_MQ'] - ElutionScan['Scan Index_end_SBS']"
   ]
  },
  {
   "cell_type": "code",
   "execution_count": 29,
   "metadata": {},
   "outputs": [
    {
     "name": "stdout",
     "output_type": "stream",
     "text": [
      "Data:  Intensity_log AUCActivation_Gaussian_log , slope =  0.92 , intercept =  -0.315 , PearsonR =  0.813 , SpearmanR =  0.812\n"
     ]
    },
    {
     "data": {
      "image/png": "[encoded data removed]",
      "text/plain": [
       "<Figure size 640x480 with 1 Axes>"
      ]
     },
     "metadata": {},
     "output_type": "display_data"
    },
    {
     "data": {
      "text/plain": [
       "(array([6.09291904, 7.6067549 , 7.27448721, ..., 6.08379386, 7.01468229,\n",
       "        6.05554934]),\n",
       " array([0.09478726, 0.08914836, 0.10194525, ..., 0.14158101, 1.62334872,\n",
       "        0.29464599]),\n",
       " (array([   0,    1,    2, ..., 4945, 4946, 4947]),))"
      ]
     },
     "execution_count": 29,
     "metadata": {},
     "output_type": "execute_result"
    }
   ],
   "source": [
    "ElutionScan_filtered = ElutionScan[(abs(ElutionScan['MQ_SBS_start_diff'])<=10)]\n",
    "PlotCorr(ElutionScan_filtered['Intensity'], \n",
    "                                               ElutionScan_filtered['AUCActivation_Gaussian'],\n",
    "                                               interactive=False, \n",
    "                                               data = ElutionScan_filtered)"
   ]
  },
  {
   "cell_type": "code",
   "execution_count": 20,
   "metadata": {},
   "outputs": [
    {
     "data": {
      "text/plain": [
       "count    15131.000000\n",
       "mean        15.201969\n",
       "std        158.183104\n",
       "min      -2032.000000\n",
       "25%        -18.000000\n",
       "50%         -1.000000\n",
       "75%         43.000000\n",
       "max       2519.000000\n",
       "Name: MQ_SBS_start_diff, dtype: float64"
      ]
     },
     "execution_count": 20,
     "metadata": {},
     "output_type": "execute_result"
    },
    {
     "data": {
      "text/plain": [
       "count    15131.000000\n",
       "mean         0.041174\n",
       "std        159.956517\n",
       "min      -2014.000000\n",
       "25%        -50.000000\n",
       "50%          0.000000\n",
       "75%         12.000000\n",
       "max       2452.000000\n",
       "Name: MQ_SBS_end_diff, dtype: float64"
      ]
     },
     "execution_count": 20,
     "metadata": {},
     "output_type": "execute_result"
    }
   ],
   "source": [
    "ElutionScan['MQ_SBS_start_diff'].describe()\n",
    "ElutionScan['MQ_SBS_end_diff'].describe()"
   ]
  },
  {
   "cell_type": "code",
   "execution_count": 10,
   "metadata": {},
   "outputs": [
    {
     "data": {
      "text/plain": [
       "count    13564.000000\n",
       "mean       -17.646859\n",
       "std         28.656715\n",
       "min       -154.000000\n",
       "25%        -41.000000\n",
       "50%        -13.000000\n",
       "75%          5.000000\n",
       "max        241.000000\n",
       "Name: MQ_SBS_diff, dtype: float64"
      ]
     },
     "execution_count": 10,
     "metadata": {},
     "output_type": "execute_result"
    },
    {
     "data": {
      "text/plain": [
       "<Axes: >"
      ]
     },
     "execution_count": 10,
     "metadata": {},
     "output_type": "execute_result"
    },
    {
     "data": {
      "text/plain": [
       "Text(0.5, 0, 'Elution Scan Count MQ - Elution Scan Count SBS')"
      ]
     },
     "execution_count": 10,
     "metadata": {},
     "output_type": "execute_result"
    },
    {
     "data": {
      "text/plain": [
       "Text(0, 0.5, 'count')"
      ]
     },
     "execution_count": 10,
     "metadata": {},
     "output_type": "execute_result"
    },
    {
     "data": {
      "image/png": "[encoded data removed]",
      "text/plain": [
       "<Figure size 640x480 with 1 Axes>"
      ]
     },
     "metadata": {},
     "output_type": "display_data"
    }
   ],
   "source": [
    "import matplotlib.pyplot as plt\n",
    "ElutionScan = ElutionScan.dropna(subset=['Intensity'])\n",
    "ElutionScan['MQ_SBS_diff'].describe()\n",
    "ElutionScan['MQ_SBS_diff'].hist(bins=31)\n",
    "plt.xlabel('Elution Scan Count MQ - Elution Scan Count SBS')\n",
    "plt.ylabel('count')"
   ]
  },
  {
   "cell_type": "markdown",
   "metadata": {},
   "source": [
    "# Alphas"
   ]
  },
  {
   "cell_type": "code",
   "execution_count": 65,
   "metadata": {},
   "outputs": [
    {
     "data": {
      "text/plain": [
       "<module 'result_analysis.result_analysis' from '/mnt/cmnfs/proj/ORIGINS/protMSD/maxquant/ScanByScan/result_analysis/result_analysis.py'>"
      ]
     },
     "execution_count": 65,
     "metadata": {},
     "output_type": "execute_result"
    },
    {
     "name": "stdout",
     "output_type": "stream",
     "text": [
      "Alpha range:  [1.e-05 1.e-04 1.e-03 0.e+00 1.e-02 1.e-01 1.e+00 1.e+01] , replacing all zeros with 1.0000000000000002e-06\n"
     ]
    },
    {
     "data": {
      "image/png": "[encoded data removed]",
      "text/plain": [
       "<Figure size 640x480 with 1 Axes>"
      ]
     },
     "metadata": {},
     "output_type": "display_data"
    }
   ],
   "source": [
    "import result_analysis.result_analysis\n",
    "reload(result_analysis.result_analysis)\n",
    "from result_analysis.result_analysis import plot_alphas_across_scan\n",
    "plot_alphas_across_scan(NonEmptyScans=NonEmptyScans,\n",
    "                        EmptyScans=emptyScans,\n",
    "                        x='Time')"
   ]
  },
  {
   "cell_type": "markdown",
   "metadata": {},
   "source": [
    "# Batch Correlation and Report"
   ]
  },
  {
   "cell_type": "code",
   "execution_count": 39,
   "metadata": {},
   "outputs": [
    {
     "data": {
      "text/plain": [
       "<module 'utils.plot' from '/mnt/cmnfs/proj/ORIGINS/protMSD/maxquant/ScanByScan/utils/plot.py'>"
      ]
     },
     "execution_count": 39,
     "metadata": {},
     "output_type": "execute_result"
    },
    {
     "data": {
      "text/plain": [
       "<module 'result_analysis.result_analysis' from '/mnt/cmnfs/proj/ORIGINS/protMSD/maxquant/ScanByScan/result_analysis/result_analysis.py'>"
      ]
     },
     "execution_count": 39,
     "metadata": {},
     "output_type": "execute_result"
    },
    {
     "name": "stdout",
     "output_type": "stream",
     "text": [
      "SumActivationLocalMinima\n",
      "Data:  Intensity_log SumActivationLocalMinima_log , slope =  0.969 , intercept =  1.033 , PearsonR =  0.901 , SpearmanR =  0.889\n",
      "AUCAcitvationLocalMinima\n",
      "Data:  Intensity_log AUCAcitvationLocalMinima_log , slope =  0.961 , intercept =  -0.515 , PearsonR =  0.902 , SpearmanR =  0.889\n",
      "TRPZActivationLocalMinima\n",
      "Data:  Intensity_log TRPZActivationLocalMinima_log , slope =  0.961 , intercept =  -0.515 , PearsonR =  0.902 , SpearmanR =  0.889\n",
      "SumActivationGaussianKernel\n",
      "Data:  Intensity_log SumActivationGaussianKernel_log , slope =  0.975 , intercept =  0.92 , PearsonR =  0.906 , SpearmanR =  0.895\n",
      "AUCAcitvationGaussianKernel\n",
      "Data:  Intensity_log AUCAcitvationGaussianKernel_log , slope =  0.966 , intercept =  -0.627 , PearsonR =  0.908 , SpearmanR =  0.895\n",
      "TRPZActivationGaussianKernel\n",
      "Data:  Intensity_log TRPZActivationGaussianKernel_log , slope =  0.966 , intercept =  -0.627 , PearsonR =  0.908 , SpearmanR =  0.895\n",
      "SumActivation\n",
      "Data:  Intensity_log SumActivation_log , slope =  0.974 , intercept =  0.92 , PearsonR =  0.906 , SpearmanR =  0.894\n"
     ]
    }
   ],
   "source": [
    "import utils.plot\n",
    "reload(utils.plot)\n",
    "import result_analysis.result_analysis\n",
    "reload(result_analysis.result_analysis)\n",
    "from result_analysis.result_analysis import PlotCorr\n",
    "for sum_col in [sum_minima.iloc[:, 0], sum_minima.iloc[:, 1], sum_minima.iloc[:, 2], \n",
    "                sum_gaussian.iloc[:, 0], sum_gaussian.iloc[:, 1], sum_gaussian.iloc[:, 2], \n",
    "                Maxquant_result_dict['SumActivation']]:\n",
    "    print(sum_col.name)\n",
    "    _, _, _ = PlotCorr(Maxquant_result_dict['Intensity'], \n",
    "                       sum_col, \n",
    "                       data = None,\n",
    "                       save_dir=report_dir)\n"
   ]
  },
  {
   "cell_type": "code",
   "execution_count": 62,
   "metadata": {},
   "outputs": [
    {
     "name": "stdout",
     "output_type": "stream",
     "text": [
      "-------------- Intensity -----------------\n",
      "Non zero intensity in Intensity = 17477\n",
      "-------------- SumActivation -----------------\n",
      "Non zero intensity in SumActivation = 19418\n",
      "-------------- SumActivationGaussianKernel -----------------\n",
      "Non zero intensity in SumActivationGaussianKernel = 19418\n",
      "-------------- AUCAcitvationGaussianKernel -----------------\n",
      "Non zero intensity in AUCAcitvationGaussianKernel = 19418\n",
      "-------------- SumActivationLocalMinima -----------------\n",
      "Non zero intensity in SumActivationLocalMinima = 19418\n",
      "-------------- AUCAcitvationLocalMinima -----------------\n",
      "Non zero intensity in AUCAcitvationLocalMinima = 19418\n",
      "--------------Empty Scans-----------------\n",
      "Emptry Scans time distribution:\n",
      "count    724.000000\n",
      "mean      16.376719\n",
      "std       34.606065\n",
      "min        0.002775\n",
      "25%        0.423449\n",
      "50%        0.847510\n",
      "75%        1.382445\n",
      "max       92.998972\n",
      "Name: Time, dtype: float64\n",
      "--------------Non Empty Scans-----------------\n",
      "Non Emptry Scans reconstruction cosine distance distribution:\n",
      "Column  Loss does not exist!\n",
      "-------------- Cosine Dist -----------------\n",
      "count    3907.000000\n",
      "mean        0.193765\n",
      "std         0.257707\n",
      "min         0.000067\n",
      "25%         0.024146\n",
      "50%         0.081412\n",
      "75%         0.244099\n",
      "max         0.996061\n",
      "Name: Cosine Dist, dtype: float64\n",
      "-------------- n_CandidateByRT -----------------\n",
      "count    3907.000000\n",
      "mean      259.377272\n",
      "std        95.185442\n",
      "min        73.000000\n",
      "25%       242.000000\n",
      "50%       242.000000\n",
      "75%       242.000000\n",
      "max       851.000000\n",
      "Name: n_CandidateByRT, dtype: float64\n",
      "-------------- n_filteredCandidate -----------------\n",
      "count    3907.000000\n",
      "mean       96.743537\n",
      "std        38.431968\n",
      "min         2.000000\n",
      "25%        74.000000\n",
      "50%       103.000000\n",
      "75%       125.000000\n",
      "max       189.000000\n",
      "Name: n_filteredCandidate, dtype: float64\n",
      "-------------- preservedRatio -----------------\n",
      "count    3907.000000\n",
      "mean        0.398017\n",
      "std         0.162423\n",
      "min         0.002941\n",
      "25%         0.305785\n",
      "50%         0.425620\n",
      "75%         0.516529\n",
      "max         0.780992\n",
      "Name: preservedRatio, dtype: float64\n",
      "-------------- IntensityExplained -----------------\n",
      "count    3907.000000\n",
      "mean        7.987611\n",
      "std        42.927754\n",
      "min         1.038033\n",
      "25%         1.517817\n",
      "50%         2.854567\n",
      "75%         4.222285\n",
      "max      1156.278721\n",
      "Name: IntensityExplained, dtype: float64\n",
      "Column  PeaksExplained does not exist!\n"
     ]
    }
   ],
   "source": [
    "from result_analysis.result_analysis import GenerateResultReport\n",
    "NonEmptyScans = GenerateResultReport(emptyScans= emptyScans, \n",
    "                                     NonEmptyScans=NonEmptyScans,\n",
    "                                     intensity_cols=[Maxquant_result_dict['Intensity'],\n",
    "                                                    Maxquant_result_dict['SumActivation'], \n",
    "                                                    sum_gaussiadf_percentage_change[\"Change\"]n.iloc[:, 0],\n",
    "                                                    sum_gaussian.iloc[:, 1],\n",
    "                                                    sum_minima.iloc[:, 0],\n",
    "                                                    sum_minima.iloc[:, 1]\n",
    "                                                    ],\n",
    "                                     save_dir=report_dir)"
   ]
  },
  {
   "cell_type": "markdown",
   "metadata": {},
   "source": [
    "### Plot Activation"
   ]
  },
  {
   "cell_type": "code",
   "execution_count": 67,
   "metadata": {},
   "outputs": [],
   "source": [
    "from result_analysis.result_analysis import PlotActivation\n",
    "for idx in Accurate50_idx:\n",
    "    _ = PlotActivation(MaxquantEntry=Maxquant_result_dict.iloc[idx, :], \n",
    "                                   PrecursorTimeProfiles=[activation[idx, :], refit_activation_minima[idx, :], refit_activation_gaussian[idx, :]],\n",
    "                                   PrecursorTimeProfileLabels=['None', 'LocalMinima', 'Gaussian'],\n",
    "                                   MS1ScansNoArrary=MS1Scans_NoArray, \n",
    "                                   save_dir=os.path.join(report_dir, 'activation', 'accurate'))\n",
    "for idx in Inaccurate50_idx:\n",
    "    _ = PlotActivation(MaxquantEntry=Maxquant_result_dict.iloc[idx, :], \n",
    "                                   PrecursorTimeProfiles=[activation[idx, :], refit_activation_minima[idx, :], refit_activation_gaussian[idx, :]],\n",
    "                                   PrecursorTimeProfileLabels=['None', 'LocalMinima', 'Gaussian'],\n",
    "                                   MS1ScansNoArrary=MS1Scans_NoArray, \n",
    "                                   save_dir=os.path.join(report_dir, 'activation', 'inaccurate'))"
   ]
  },
  {
   "cell_type": "markdown",
   "metadata": {},
   "source": [
    "### Precursor specific trouble shooting"
   ]
  },
  {
   "cell_type": "code",
   "execution_count": 6,
   "metadata": {},
   "outputs": [],
   "source": [
    "# Load MS1 scans from pkl or mzml file\n",
    "msconvert_file = '/mnt/cmnfs/proj/ORIGINs/protMSD/GCF_profile/msconvert_profile.mzML' # path to the data input in mzML format, containing only MS1 level data\n",
    "with open(msconvert_file[:-5]+'.pkl', 'rb') as f:\n",
    "    MS1Scans = pickle.load(f)"
   ]
  },
  {
   "cell_type": "code",
   "execution_count": 27,
   "metadata": {},
   "outputs": [
    {
     "data": {
      "text/plain": [
       "<module 'utility' from '/mnt/cmnfs/proj/ORIGINS/protMSD/maxquant/ScanByScan/utility.py'>"
      ]
     },
     "execution_count": 27,
     "metadata": {},
     "output_type": "execute_result"
    }
   ],
   "source": [
    "from optimization.dictionary import CalcModpeptIsopattern\n",
    "Maxquant_result_dict['IsoMZ'], Maxquant_result_dict['IsoAbundance'] = zip(*Maxquant_result_dict.apply(lambda row: CalcModpeptIsopattern(modpept=row['Modified sequence'], \n",
    "                                                                                                     charge=row['Charge'], ab_thres = 0.001), axis=1))\n"
   ]
  },
  {
   "cell_type": "code",
   "execution_count": 28,
   "metadata": {},
   "outputs": [
    {
     "name": "stdout",
     "output_type": "stream",
     "text": [
      "Precursor  18083 eluted at  76.242 , corresponding scan index  3829 with scan time  76.2416156238556\n"
     ]
    },
    {
     "data": {
      "image/png": "[encoded data removed]",
      "text/plain": [
       "<Figure size 640x480 with 2 Axes>"
      ]
     },
     "metadata": {},
     "output_type": "display_data"
    },
    {
     "data": {
      "text/html": [
       "<div>\n",
       "<style scoped>\n",
       "    .dataframe tbody tr th:only-of-type {\n",
       "        vertical-align: middle;\n",
       "    }\n",
       "\n",
       "    .dataframe tbody tr th {\n",
       "        vertical-align: top;\n",
       "    }\n",
       "\n",
       "    .dataframe thead th {\n",
       "        text-align: right;\n",
       "    }\n",
       "</style>\n",
       "<table border=\"1\" class=\"dataframe\">\n",
       "  <thead>\n",
       "    <tr style=\"text-align: right;\">\n",
       "      <th></th>\n",
       "      <th>apex_mzidx</th>\n",
       "      <th>apex_mz</th>\n",
       "      <th>start_mzidx</th>\n",
       "      <th>start_mz</th>\n",
       "      <th>end_mzidx</th>\n",
       "      <th>end_mz</th>\n",
       "      <th>peak_width</th>\n",
       "      <th>peak_height</th>\n",
       "      <th>peak_intensity_sum</th>\n",
       "    </tr>\n",
       "  </thead>\n",
       "  <tbody>\n",
       "    <tr>\n",
       "      <th>0</th>\n",
       "      <td>7</td>\n",
       "      <td>1006.007087</td>\n",
       "      <td>4</td>\n",
       "      <td>1005.978361</td>\n",
       "      <td>9</td>\n",
       "      <td>1006.026239</td>\n",
       "      <td>0.047878</td>\n",
       "      <td>302067.40625</td>\n",
       "      <td>4.906113e+06</td>\n",
       "    </tr>\n",
       "    <tr>\n",
       "      <th>1</th>\n",
       "      <td>20</td>\n",
       "      <td>1006.505206</td>\n",
       "      <td>18</td>\n",
       "      <td>1006.486040</td>\n",
       "      <td>23</td>\n",
       "      <td>1006.533955</td>\n",
       "      <td>0.047914</td>\n",
       "      <td>321781.87500</td>\n",
       "      <td>5.505740e+06</td>\n",
       "    </tr>\n",
       "  </tbody>\n",
       "</table>\n",
       "</div>"
      ],
      "text/plain": [
       "   apex_mzidx      apex_mz  start_mzidx     start_mz  end_mzidx       end_mz  \\\n",
       "0           7  1006.007087            4  1005.978361          9  1006.026239   \n",
       "1          20  1006.505206           18  1006.486040         23  1006.533955   \n",
       "\n",
       "   peak_width   peak_height  peak_intensity_sum  \n",
       "0    0.047878  302067.40625        4.906113e+06  \n",
       "1    0.047914  321781.87500        5.505740e+06  "
      ]
     },
     "execution_count": 28,
     "metadata": {},
     "output_type": "execute_result"
    }
   ],
   "source": [
    "from result_analysis.result_analysis import PlotIsoPatternAndScan\n",
    "PlotIsoPatternAndScan(MS1Scans=MS1Scans, \n",
    "                              Maxquant_result=Maxquant_result_dict, \n",
    "                              scan_idx = None, \n",
    "                              precursor_idx=18083, \n",
    "                              log_intensity=False)"
   ]
  },
  {
   "cell_type": "code",
   "execution_count": 29,
   "metadata": {},
   "outputs": [
    {
     "data": {
      "text/plain": [
       "<module 'utility' from '/mnt/cmnfs/proj/ORIGINS/protMSD/maxquant/ScanByScan/utility.py'>"
      ]
     },
     "execution_count": 29,
     "metadata": {},
     "output_type": "execute_result"
    },
    {
     "name": "stdout",
     "output_type": "stream",
     "text": [
      "Cosine distance of non zero entries in prediction: 0.00980649186033511\n",
      "Intensity Explained: 0.0434\n",
      "Peaks Explained: 0.4591\n"
     ]
    },
    {
     "data": {
      "image/png": "[encoded data removed]",
      "text/plain": [
       "<Figure size 640x480 with 2 Axes>"
      ]
     },
     "metadata": {},
     "output_type": "display_data"
    }
   ],
   "source": [
    "from optimization.dictionary import ConstructDict\n",
    "from result_analysis.result_analysis import PlotTrueAndPredict\n",
    "alignment = []\n",
    "scan_idx = 3830\n",
    "RT_tol = 1\n",
    "alpha = 10\n",
    "# example: generate dictionary for candidate in one scan\n",
    "OneScan = MS1Scans.iloc[scan_idx, :]\n",
    "CandidatePrecursorsByRT = Maxquant_result_dict.loc[(Maxquant_result_dict['Calibrated retention time start']-RT_tol <= OneScan['starttime']) & \\\n",
    "        (Maxquant_result_dict['Calibrated retention time finish']+RT_tol>= OneScan['starttime'])]\n",
    "if CandidatePrecursorsByRT.shape[0] > 0:\n",
    "    CandidateDict, CandidatePrecursorsByRT, alignment, IsotopeNotObs, y_true, peak_results = ConstructDict(CandidatePrecursorsByRT, OneScan, method = 'peakRange')\n",
    "    filteredPrecursorIdx = np.array(CandidateDict.columns[0:], dtype=int)\n",
    "    if CandidateDict.shape[1] > 1:\n",
    "        activationByScan, lossByScan, scoreByScan, pred, IntensityExplained, peaksExplained = utility.CalcPrecursorQuant(CandidateDict, y_true, filteredPrecursorIdx=filteredPrecursorIdx, alpha=alpha)\n",
    "        activation[filteredPrecursorIdx, scan_idx] = activationByScan\n",
    "        #non_empty_scans.append((scan_idx, OneScan['starttime'], lossByScan, scoreByScan, CandidatePrecursorsByRT.index, filteredPrecursorIdx))\n",
    "        #ScanProcessRecords[scan_idx] = {'alignment':alignment}\n",
    "        PlotTrueAndPredict(x = CandidateDict.index, prediction=pred, true=y_true['intensity'], log = True)\n",
    "        print('Cosine distance of non zero entries in prediction:', scoreByScan)\n",
    "        print('Intensity Explained:', np.round(IntensityExplained, 4))\n",
    "        print('Peaks Explained:', np.round(peaksExplained, 4))\n",
    "    else:\n",
    "        print('Scan number, start time ', scan_idx, OneScan['starttime'], 'does not have valid candidate.')\n",
    "        #empty_scans.append((scan_idx, OneScan['starttime'], 'No valid candidate after isotope pattern matching.'))\n",
    "\n",
    "else:\n",
    "        print('Scan number, start time ', scan_idx, OneScan['starttime'], 'does not have valid candidate.')\n",
    "        #empty_scans.append((scan_idx, OneScan['starttime'], 'No valid candidate by RT'))\n"
   ]
  },
  {
   "cell_type": "code",
   "execution_count": 30,
   "metadata": {},
   "outputs": [
    {
     "data": {
      "text/plain": [
       "0.5232761444636144"
      ]
     },
     "execution_count": 30,
     "metadata": {},
     "output_type": "execute_result"
    },
    {
     "data": {
      "text/plain": [
       "0.4490588887347563"
      ]
     },
     "execution_count": 30,
     "metadata": {},
     "output_type": "execute_result"
    }
   ],
   "source": [
    "alignment[303]['abundance'].sum()\n",
    "IsotopeNotObs[303]['abundance'].sum()"
   ]
  },
  {
   "cell_type": "code",
   "execution_count": 32,
   "metadata": {},
   "outputs": [
    {
     "data": {
      "text/plain": [
       "0.9723350331983707"
      ]
     },
     "execution_count": 32,
     "metadata": {},
     "output_type": "execute_result"
    }
   ],
   "source": [
    "Maxquant_result_dict.loc[11557, 'IsoAbundance'].sum()"
   ]
  },
  {
   "cell_type": "code",
   "execution_count": 33,
   "metadata": {},
   "outputs": [
    {
     "data": {
      "text/plain": [
       "array([9769022.28253018])"
      ]
     },
     "execution_count": 33,
     "metadata": {},
     "output_type": "execute_result"
    }
   ],
   "source": [
    "idx = np.where(filteredPrecursorIdx == 18082)\n",
    "activationByScan[idx]"
   ]
  },
  {
   "cell_type": "code",
   "execution_count": 17,
   "metadata": {},
   "outputs": [
    {
     "data": {
      "text/html": [
       "<div>\n",
       "<style scoped>\n",
       "    .dataframe tbody tr th:only-of-type {\n",
       "        vertical-align: middle;\n",
       "    }\n",
       "\n",
       "    .dataframe tbody tr th {\n",
       "        vertical-align: top;\n",
       "    }\n",
       "\n",
       "    .dataframe thead th {\n",
       "        text-align: right;\n",
       "    }\n",
       "</style>\n",
       "<table border=\"1\" class=\"dataframe\">\n",
       "  <thead>\n",
       "    <tr style=\"text-align: right;\">\n",
       "      <th></th>\n",
       "      <th>Modified sequence</th>\n",
       "      <th>Charge</th>\n",
       "      <th>Retention time</th>\n",
       "      <th>Intensity</th>\n",
       "      <th>m/z</th>\n",
       "    </tr>\n",
       "  </thead>\n",
       "  <tbody>\n",
       "    <tr>\n",
       "      <th>18083</th>\n",
       "      <td>_VNQIGTLTETFEAIEM(ox)AK_</td>\n",
       "      <td>2</td>\n",
       "      <td>76.242</td>\n",
       "      <td>27290000.0</td>\n",
       "      <td>1006.00626</td>\n",
       "    </tr>\n",
       "    <tr>\n",
       "      <th>18082</th>\n",
       "      <td>_VNQIGTLTETFEAIEM(ox)AK_</td>\n",
       "      <td>2</td>\n",
       "      <td>75.905</td>\n",
       "      <td>NaN</td>\n",
       "      <td>1006.00626</td>\n",
       "    </tr>\n",
       "  </tbody>\n",
       "</table>\n",
       "</div>"
      ],
      "text/plain": [
       "              Modified sequence  Charge  Retention time   Intensity  \\\n",
       "18083  _VNQIGTLTETFEAIEM(ox)AK_       2          76.242  27290000.0   \n",
       "18082  _VNQIGTLTETFEAIEM(ox)AK_       2          75.905         NaN   \n",
       "\n",
       "              m/z  \n",
       "18083  1006.00626  \n",
       "18082  1006.00626  "
      ]
     },
     "execution_count": 17,
     "metadata": {},
     "output_type": "execute_result"
    },
    {
     "data": {
      "text/plain": [
       "OrderedDict([('C', 99), ('H', 162), ('N', 24), ('O', 32), ('S', 1)])"
      ]
     },
     "execution_count": 17,
     "metadata": {},
     "output_type": "execute_result"
    },
    {
     "data": {
      "text/plain": [
       "OrderedDict([('C', 99), ('H', 162), ('N', 24), ('O', 32), ('S', 1)])"
      ]
     },
     "execution_count": 17,
     "metadata": {},
     "output_type": "execute_result"
    }
   ],
   "source": [
    "import IsoSpecPy as iso\n",
    "pair = [18083, 18082]\n",
    "Maxquant_result_dict.loc[pair, ['Modified sequence', 'Charge','Retention time', 'Intensity', 'm/z']]\n",
    "iso.ParseFASTA(Maxquant_result_dict.loc[pair[0], 'Modified sequence'])\n",
    "iso.ParseFASTA(Maxquant_result_dict.loc[pair[1], 'Modified sequence'])"
   ]
  },
  {
   "cell_type": "code",
   "execution_count": 122,
   "metadata": {},
   "outputs": [
    {
     "data": {
      "text/html": [
       "<div>\n",
       "<style scoped>\n",
       "    .dataframe tbody tr th:only-of-type {\n",
       "        vertical-align: middle;\n",
       "    }\n",
       "\n",
       "    .dataframe tbody tr th {\n",
       "        vertical-align: top;\n",
       "    }\n",
       "\n",
       "    .dataframe thead th {\n",
       "        text-align: right;\n",
       "    }\n",
       "</style>\n",
       "<table border=\"1\" class=\"dataframe\">\n",
       "  <thead>\n",
       "    <tr style=\"text-align: right;\">\n",
       "      <th></th>\n",
       "      <th>Modified sequence</th>\n",
       "      <th>Charge</th>\n",
       "      <th>Retention time</th>\n",
       "      <th>Intensity</th>\n",
       "      <th>m/z</th>\n",
       "    </tr>\n",
       "  </thead>\n",
       "  <tbody>\n",
       "    <tr>\n",
       "      <th>738</th>\n",
       "      <td>_AISVDELQK_</td>\n",
       "      <td>2</td>\n",
       "      <td>21.921</td>\n",
       "      <td>26158000.0</td>\n",
       "      <td>501.776939</td>\n",
       "    </tr>\n",
       "    <tr>\n",
       "      <th>10695</th>\n",
       "      <td>_LGLENVETK_</td>\n",
       "      <td>2</td>\n",
       "      <td>21.921</td>\n",
       "      <td>26158000.0</td>\n",
       "      <td>501.776939</td>\n",
       "    </tr>\n",
       "  </tbody>\n",
       "</table>\n",
       "</div>"
      ],
      "text/plain": [
       "      Modified sequence  Charge  Retention time   Intensity         m/z\n",
       "738         _AISVDELQK_       2          21.921  26158000.0  501.776939\n",
       "10695       _LGLENVETK_       2          21.921  26158000.0  501.776939"
      ]
     },
     "execution_count": 122,
     "metadata": {},
     "output_type": "execute_result"
    },
    {
     "data": {
      "text/plain": [
       "OrderedDict([('C', 43), ('H', 73), ('N', 11), ('O', 15), ('S', 0)])"
      ]
     },
     "execution_count": 122,
     "metadata": {},
     "output_type": "execute_result"
    },
    {
     "data": {
      "text/plain": [
       "OrderedDict([('C', 43), ('H', 73), ('N', 11), ('O', 15), ('S', 0)])"
      ]
     },
     "execution_count": 122,
     "metadata": {},
     "output_type": "execute_result"
    }
   ],
   "source": [
    "import IsoSpecPy as iso\n",
    "Maxquant_result_dict.loc[[738, 10695], ['Modified sequence', 'Charge','Retention time', 'Intensity', 'm/z']]\n",
    "iso.ParseFASTA(Maxquant_result_dict.loc[738, 'Modified sequence'])\n",
    "iso.ParseFASTA(Maxquant_result_dict.loc[10695, 'Modified sequence'])"
   ]
  },
  {
   "cell_type": "code",
   "execution_count": 121,
   "metadata": {},
   "outputs": [
    {
     "data": {
      "text/html": [
       "<div>\n",
       "<style scoped>\n",
       "    .dataframe tbody tr th:only-of-type {\n",
       "        vertical-align: middle;\n",
       "    }\n",
       "\n",
       "    .dataframe tbody tr th {\n",
       "        vertical-align: top;\n",
       "    }\n",
       "\n",
       "    .dataframe thead th {\n",
       "        text-align: right;\n",
       "    }\n",
       "</style>\n",
       "<table border=\"1\" class=\"dataframe\">\n",
       "  <thead>\n",
       "    <tr style=\"text-align: right;\">\n",
       "      <th></th>\n",
       "      <th>Modified sequence</th>\n",
       "      <th>Charge</th>\n",
       "      <th>Retention time</th>\n",
       "      <th>Intensity</th>\n",
       "      <th>m/z</th>\n",
       "    </tr>\n",
       "  </thead>\n",
       "  <tbody>\n",
       "    <tr>\n",
       "      <th>15879</th>\n",
       "      <td>_TDLINAVAEASSLSK_</td>\n",
       "      <td>2</td>\n",
       "      <td>70.373</td>\n",
       "      <td>20798000.0</td>\n",
       "      <td>759.904128</td>\n",
       "    </tr>\n",
       "    <tr>\n",
       "      <th>12747</th>\n",
       "      <td>_NIFSDPLTIEEIK_</td>\n",
       "      <td>2</td>\n",
       "      <td>70.373</td>\n",
       "      <td>20798000.0</td>\n",
       "      <td>759.906139</td>\n",
       "    </tr>\n",
       "  </tbody>\n",
       "</table>\n",
       "</div>"
      ],
      "text/plain": [
       "       Modified sequence  Charge  Retention time   Intensity         m/z\n",
       "15879  _TDLINAVAEASSLSK_       2          70.373  20798000.0  759.904128\n",
       "12747    _NIFSDPLTIEEIK_       2          70.373  20798000.0  759.906139"
      ]
     },
     "execution_count": 121,
     "metadata": {},
     "output_type": "execute_result"
    },
    {
     "data": {
      "text/plain": [
       "OrderedDict([('C', 64), ('H', 109), ('N', 17), ('O', 24), ('S', 0)])"
      ]
     },
     "execution_count": 121,
     "metadata": {},
     "output_type": "execute_result"
    },
    {
     "data": {
      "text/plain": [
       "OrderedDict([('C', 69), ('H', 109), ('N', 15), ('O', 22), ('S', 0)])"
      ]
     },
     "execution_count": 121,
     "metadata": {},
     "output_type": "execute_result"
    }
   ],
   "source": [
    "pair = [15879, 12747]\n",
    "Maxquant_result_dict.loc[pair, ['Modified sequence', 'Charge','Retention time', 'Intensity', 'm/z']]\n",
    "iso.ParseFASTA(Maxquant_result_dict.loc[pair[0], 'Modified sequence'])\n",
    "iso.ParseFASTA(Maxquant_result_dict.loc[pair[1], 'Modified sequence'])"
   ]
  },
  {
   "cell_type": "code",
   "execution_count": 127,
   "metadata": {},
   "outputs": [
    {
     "data": {
      "text/html": [
       "<div>\n",
       "<style scoped>\n",
       "    .dataframe tbody tr th:only-of-type {\n",
       "        vertical-align: middle;\n",
       "    }\n",
       "\n",
       "    .dataframe tbody tr th {\n",
       "        vertical-align: top;\n",
       "    }\n",
       "\n",
       "    .dataframe thead th {\n",
       "        text-align: right;\n",
       "    }\n",
       "</style>\n",
       "<table border=\"1\" class=\"dataframe\">\n",
       "  <thead>\n",
       "    <tr style=\"text-align: right;\">\n",
       "      <th></th>\n",
       "      <th>Modified sequence</th>\n",
       "      <th>Charge</th>\n",
       "      <th>Retention time</th>\n",
       "      <th>Intensity</th>\n",
       "      <th>m/z</th>\n",
       "    </tr>\n",
       "  </thead>\n",
       "  <tbody>\n",
       "    <tr>\n",
       "      <th>3772</th>\n",
       "      <td>_EHGAVFIIGIGDALR_</td>\n",
       "      <td>3</td>\n",
       "      <td>62.458</td>\n",
       "      <td>7362600.0</td>\n",
       "      <td>523.291219</td>\n",
       "    </tr>\n",
       "    <tr>\n",
       "      <th>3774</th>\n",
       "      <td>_EHGAVFIIGIGDALR_</td>\n",
       "      <td>3</td>\n",
       "      <td>62.330</td>\n",
       "      <td>NaN</td>\n",
       "      <td>523.291219</td>\n",
       "    </tr>\n",
       "  </tbody>\n",
       "</table>\n",
       "</div>"
      ],
      "text/plain": [
       "      Modified sequence  Charge  Retention time  Intensity         m/z\n",
       "3772  _EHGAVFIIGIGDALR_       3          62.458  7362600.0  523.291219\n",
       "3774  _EHGAVFIIGIGDALR_       3          62.330        NaN  523.291219"
      ]
     },
     "execution_count": 127,
     "metadata": {},
     "output_type": "execute_result"
    },
    {
     "data": {
      "text/plain": [
       "OrderedDict([('C', 71), ('H', 112), ('N', 20), ('O', 19), ('S', 0)])"
      ]
     },
     "execution_count": 127,
     "metadata": {},
     "output_type": "execute_result"
    },
    {
     "data": {
      "text/plain": [
       "OrderedDict([('C', 71), ('H', 112), ('N', 20), ('O', 19), ('S', 0)])"
      ]
     },
     "execution_count": 127,
     "metadata": {},
     "output_type": "execute_result"
    }
   ],
   "source": [
    "pair = [3772, 3774]\n",
    "Maxquant_result_dict.loc[pair, ['Modified sequence', 'Charge','Retention time', 'Intensity', 'm/z']]\n",
    "iso.ParseFASTA(Maxquant_result_dict.loc[pair[0], 'Modified sequence'])\n",
    "iso.ParseFASTA(Maxquant_result_dict.loc[pair[1], 'Modified sequence'])"
   ]
  },
  {
   "cell_type": "code",
   "execution_count": 128,
   "metadata": {},
   "outputs": [
    {
     "data": {
      "text/html": [
       "<div>\n",
       "<style scoped>\n",
       "    .dataframe tbody tr th:only-of-type {\n",
       "        vertical-align: middle;\n",
       "    }\n",
       "\n",
       "    .dataframe tbody tr th {\n",
       "        vertical-align: top;\n",
       "    }\n",
       "\n",
       "    .dataframe thead th {\n",
       "        text-align: right;\n",
       "    }\n",
       "</style>\n",
       "<table border=\"1\" class=\"dataframe\">\n",
       "  <thead>\n",
       "    <tr style=\"text-align: right;\">\n",
       "      <th></th>\n",
       "      <th>Modified sequence</th>\n",
       "      <th>Charge</th>\n",
       "      <th>Retention time</th>\n",
       "      <th>Intensity</th>\n",
       "      <th>m/z</th>\n",
       "    </tr>\n",
       "  </thead>\n",
       "  <tbody>\n",
       "    <tr>\n",
       "      <th>15120</th>\n",
       "      <td>_SLAEQNVILCFASGR_</td>\n",
       "      <td>2</td>\n",
       "      <td>62.377</td>\n",
       "      <td>8509700.0</td>\n",
       "      <td>832.924871</td>\n",
       "    </tr>\n",
       "    <tr>\n",
       "      <th>14965</th>\n",
       "      <td>_SIAAFAIHQFFQER_</td>\n",
       "      <td>2</td>\n",
       "      <td>62.060</td>\n",
       "      <td>NaN</td>\n",
       "      <td>832.930814</td>\n",
       "    </tr>\n",
       "  </tbody>\n",
       "</table>\n",
       "</div>"
      ],
      "text/plain": [
       "       Modified sequence  Charge  Retention time  Intensity         m/z\n",
       "15120  _SLAEQNVILCFASGR_       2          62.377  8509700.0  832.924871\n",
       "14965   _SIAAFAIHQFFQER_       2          62.060        NaN  832.930814"
      ]
     },
     "execution_count": 128,
     "metadata": {},
     "output_type": "execute_result"
    },
    {
     "data": {
      "text/plain": [
       "OrderedDict([('C', 69), ('H', 112), ('N', 20), ('O', 21), ('S', 1)])"
      ]
     },
     "execution_count": 128,
     "metadata": {},
     "output_type": "execute_result"
    },
    {
     "data": {
      "text/plain": [
       "OrderedDict([('C', 78), ('H', 111), ('N', 21), ('O', 19), ('S', 0)])"
      ]
     },
     "execution_count": 128,
     "metadata": {},
     "output_type": "execute_result"
    }
   ],
   "source": [
    "pair = [15120, 14965]\n",
    "Maxquant_result_dict.loc[pair, ['Modified sequence', 'Charge','Retention time', 'Intensity', 'm/z']]\n",
    "iso.ParseFASTA(Maxquant_result_dict.loc[pair[0], 'Modified sequence'])\n",
    "iso.ParseFASTA(Maxquant_result_dict.loc[pair[1], 'Modified sequence'])"
   ]
  },
  {
   "cell_type": "code",
   "execution_count": 129,
   "metadata": {},
   "outputs": [],
   "source": [
    "for idx in [738, 10695]+[15120, 14965]+[3772, 3774]+[15879, 12747]:\n",
    "    _ = postprocessing.post_processing.PlotActivation(MaxquantEntry=Maxquant_result_dict.iloc[idx, :], \n",
    "                                    PrecursorTimeProfiles=[activation[idx, :], refit_activation_minima[idx, :], refit_activation_gaussian[idx, :]],\n",
    "                                    PrecursorTimeProfileLabels=['None', 'LocalMinima', 'Gaussian'],\n",
    "                                    MS1ScansNoArrary=MS1Scans_NoArray, \n",
    "                                    save_dir=os.path.join(report_dir, 'activation', 'outliers'))"
   ]
  }
 ],
 "metadata": {
  "kernelspec": {
   "display_name": "base",
   "language": "python",
   "name": "python3"
  },
  "language_info": {
   "codemirror_mode": {
    "name": "ipython",
    "version": 3
   },
   "file_extension": ".py",
   "mimetype": "text/x-python",
   "name": "python",
   "nbconvert_exporter": "python",
   "pygments_lexer": "ipython3",
   "version": "3.10.12"
  },
  "orig_nbformat": 4
 },
 "nbformat": 4,
 "nbformat_minor": 2
}

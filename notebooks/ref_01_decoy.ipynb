{
 "cells": [
  {
   "cell_type": "code",
   "execution_count": 2,
   "metadata": {},
   "outputs": [],
   "source": [
    "# Notebook settings\n",
    "from importlib import reload\n",
    "from IPython.core.interactiveshell import InteractiveShell\n",
    "InteractiveShell.ast_node_interactivity = \"all\"\n",
    "\n",
    "import logging\n",
    "logging.basicConfig(level=logging.DEBUG, format='%(asctime)s - %(name)s - %(levelname)s - %(message)s')"
   ]
  },
  {
   "cell_type": "code",
   "execution_count": 3,
   "metadata": {},
   "outputs": [
    {
     "name": "stderr",
     "output_type": "stream",
     "text": [
      "2023-11-29 15:22:34,792 - numexpr.utils - INFO - Note: NumExpr detected 12 cores but \"NUMEXPR_MAX_THREADS\" not set, so enforcing safe limit of 8.\n",
      "2023-11-29 15:22:34,794 - numexpr.utils - INFO - NumExpr defaulting to 8 threads.\n"
     ]
    }
   ],
   "source": [
    "# Default\n",
    "import os\n",
    "import urllib.request\n",
    "import sys\n",
    "module_path = os.path.abspath('/mnt/cmnfs/proj/ORIGINS/protMSD/maxquant/ScanByScan/')\n",
    "if module_path not in sys.path:\n",
    "    sys.path.append(module_path)\n",
    "import pandas as pd\n",
    "import numpy as np"
   ]
  },
  {
   "cell_type": "markdown",
   "metadata": {},
   "source": [
    "# Import data"
   ]
  },
  {
   "cell_type": "code",
   "execution_count": 4,
   "metadata": {},
   "outputs": [],
   "source": [
    "maxquant_peptide = '/mnt/cmnfs/proj/ORIGINS/data/ecoli/HpHRP/MQ/1FDR/combined/txt/peptides.txt'"
   ]
  },
  {
   "cell_type": "code",
   "execution_count": 5,
   "metadata": {},
   "outputs": [],
   "source": [
    "peptide = pd.read_csv(maxquant_peptide,\n",
    "                      sep='\\t')"
   ]
  },
  {
   "cell_type": "code",
   "execution_count": 6,
   "metadata": {},
   "outputs": [
    {
     "data": {
      "text/plain": [
       "Index(['Sequence', 'N-term cleavage window', 'C-term cleavage window',\n",
       "       'Amino acid before', 'First amino acid', 'Second amino acid',\n",
       "       'Second last amino acid', 'Last amino acid', 'Amino acid after',\n",
       "       'A Count', 'R Count', 'N Count', 'D Count', 'C Count', 'Q Count',\n",
       "       'E Count', 'G Count', 'H Count', 'I Count', 'L Count', 'K Count',\n",
       "       'M Count', 'F Count', 'P Count', 'S Count', 'T Count', 'W Count',\n",
       "       'Y Count', 'V Count', 'U Count', 'O Count', 'Length',\n",
       "       'Missed cleavages', 'Mass', 'Proteins', 'Leading razor protein',\n",
       "       'Start position', 'End position', 'Gene names', 'Protein names',\n",
       "       'Unique (Groups)', 'Unique (Proteins)', 'Charges', 'PEP', 'Score',\n",
       "       'Fraction Average', 'Fraction Std. Dev.', 'Fraction 1', 'Fraction 2',\n",
       "       'Fraction 3', 'Fraction 4', 'Fraction 5', 'Fraction 6', 'Fraction 7',\n",
       "       'Fraction 8', 'Fraction 9', 'Fraction 10', 'Fraction 11', 'Fraction 12',\n",
       "       'Fraction 13', 'Fraction 14', 'Fraction 15', 'Fraction 16',\n",
       "       'Fraction 17', 'Fraction 18', 'Fraction 19', 'Fraction 20',\n",
       "       'Fraction 21', 'Fraction 22', 'Fraction 23', 'Fraction 24',\n",
       "       'Fraction 25', 'Fraction 26', 'Fraction 27', 'Fraction 28',\n",
       "       'Fraction 29', 'Fraction 30', 'Fraction 31', 'Fraction 32',\n",
       "       'Experiment hphrp', 'Intensity', 'Intensity hphrp', 'Reverse',\n",
       "       'Potential contaminant', 'id', 'Protein group IDs', 'Mod. peptide IDs',\n",
       "       'Evidence IDs', 'MS/MS IDs', 'Best MS/MS', 'Oxidation (M) site IDs',\n",
       "       'MS/MS Count'],\n",
       "      dtype='object')"
      ]
     },
     "execution_count": 6,
     "metadata": {},
     "output_type": "execute_result"
    }
   ],
   "source": [
    "peptide.columns"
   ]
  },
  {
   "cell_type": "markdown",
   "metadata": {},
   "source": [
    "# Generate decoy"
   ]
  },
  {
   "cell_type": "code",
   "execution_count": 7,
   "metadata": {},
   "outputs": [],
   "source": [
    "from utils.tools import write_df_to_fasta\n",
    "write_df_to_fasta(df=peptide,\n",
    "                  id_col='id',\n",
    "                  seq_col='Sequence',\n",
    "                  fasta_path='/mnt/cmnfs/proj/ORIGINS/data/ecoli/HpHRP/MQ/1FDR/MQ_unique_peptide.fasta')"
   ]
  },
  {
   "cell_type": "code",
   "execution_count": 8,
   "metadata": {},
   "outputs": [
    {
     "name": "stdout",
     "output_type": "stream",
     "text": [
      "proteins:44615\n",
      "target peptides:44615\n",
      "decoy peptides:44615\n",
      "#intersection:3\n",
      "0 have no alternative peptide\n",
      "final decoy peptides:44615\n"
     ]
    }
   ],
   "source": [
    "!decoypyrat -c '' -o '/mnt/cmnfs/proj/ORIGINS/data/ecoli/HpHRP/MQ/1FDR/MQ_unique_peptide_decoy.fasta' /mnt/cmnfs/proj/ORIGINS/data/ecoli/HpHRP/MQ/1FDR/MQ_unique_peptide.fasta"
   ]
  },
  {
   "cell_type": "code",
   "execution_count": 21,
   "metadata": {},
   "outputs": [],
   "source": [
    "from utils.tools import write_fasta_to_df\n",
    "decoy = write_fasta_to_df('/mnt/cmnfs/proj/ORIGINS/data/ecoli/HpHRP/MQ/1FDR/MQ_unique_peptide_decoy.fasta')\n",
    "decoy = decoy.rename('seq')\n",
    "decoy = pd.DataFrame(decoy)\n",
    "decoy['id'] = peptide['id']\n",
    "decoy['modifications'] = ''"
   ]
  },
  {
   "cell_type": "markdown",
   "metadata": {},
   "source": [
    "# RT evaluation"
   ]
  },
  {
   "cell_type": "code",
   "execution_count": 22,
   "metadata": {},
   "outputs": [
    {
     "name": "stderr",
     "output_type": "stream",
     "text": [
      "2023-11-29 15:34:19,581 - deeplc.deeplc - DEBUG - Extracting features for the CNN model ...\n",
      "2023-11-29 15:34:19,584 - deeplc.deeplc - DEBUG - prepare feature extraction\n",
      "2023-11-29 15:34:19,585 - deeplc.deeplc - DEBUG - start feature extraction\n",
      "2023-11-29 15:34:19,585 - deeplc.feat_extractor - DEBUG - Extracting CNN features\n",
      "2023-11-29 15:34:24,554 - deeplc.feat_extractor - DEBUG - Time to calculate all features: 4.968592643737793 seconds\n",
      "2023-11-29 15:34:24,558 - deeplc.deeplc - DEBUG - got feature extraction results\n",
      "2023-11-29 15:34:25,338 - h5py._conv - DEBUG - Creating converter from 3 to 5\n"
     ]
    },
    {
     "name": "stdout",
     "output_type": "stream",
     "text": [
      "44/44 [==============================] - 23s 509ms/step\n",
      "44/44 [==============================] - 28s 624ms/step\n",
      "44/44 [==============================] - 30s 685ms/step\n"
     ]
    }
   ],
   "source": [
    "import pickle\n",
    "model_path = '/mnt/cmnfs/proj/ORIGINS/data/ecoli/ss/DDA/MQ/combined/txt/evidence_1_transfer.pkl'\n",
    "with open(model_path, 'rb') as inp:\n",
    "    dlc_reload = pickle.load(inp)\n",
    "decoy['pred'] = dlc_reload.make_preds(seq_df = decoy)"
   ]
  },
  {
   "cell_type": "code",
   "execution_count": 23,
   "metadata": {},
   "outputs": [
    {
     "name": "stderr",
     "output_type": "stream",
     "text": [
      "2023-11-29 15:36:20,937 - deeplc.deeplc - DEBUG - Extracting features for the CNN model ...\n",
      "2023-11-29 15:36:20,938 - deeplc.deeplc - DEBUG - prepare feature extraction\n",
      "2023-11-29 15:36:20,938 - deeplc.deeplc - DEBUG - start feature extraction\n",
      "2023-11-29 15:36:20,938 - deeplc.feat_extractor - DEBUG - Extracting CNN features\n",
      "2023-11-29 15:36:23,050 - deeplc.feat_extractor - DEBUG - Time to calculate all features: 2.111332654953003 seconds\n",
      "2023-11-29 15:36:23,051 - deeplc.deeplc - DEBUG - got feature extraction results\n"
     ]
    },
    {
     "name": "stdout",
     "output_type": "stream",
     "text": [
      "44/44 [==============================] - 21s 453ms/step\n",
      "44/44 [==============================] - 27s 619ms/step\n",
      "44/44 [==============================] - 25s 557ms/step\n"
     ]
    }
   ],
   "source": [
    "target = peptide[['id', 'Sequence']]\n",
    "target['modifications'] = ''\n",
    "target = target.rename(columns = {'Sequence':'seq'})\n",
    "target['pred'] = dlc_reload.make_preds(seq_df = target)"
   ]
  },
  {
   "cell_type": "code",
   "execution_count": 39,
   "metadata": {},
   "outputs": [],
   "source": [
    "TD_compare = pd.merge(left = target, right=decoy,\n",
    "                       on=['id'],\n",
    "                       how = 'inner',\n",
    "                       suffixes = ['_target', '_decoy'])\n",
    "TD_compare['RT_diff'] = abs(TD_compare['pred_target']-TD_compare['pred_decoy'])\n"
   ]
  },
  {
   "cell_type": "code",
   "execution_count": 41,
   "metadata": {},
   "outputs": [
    {
     "data": {
      "text/plain": [
       "<Axes: >"
      ]
     },
     "execution_count": 41,
     "metadata": {},
     "output_type": "execute_result"
    },
    {
     "data": {
      "text/plain": [
       "count    44615.000000\n",
       "mean         1.677495\n",
       "std          1.429124\n",
       "min          0.000103\n",
       "25%          0.547754\n",
       "50%          1.302497\n",
       "75%          2.450627\n",
       "max          9.946386\n",
       "Name: RT_diff, dtype: float64"
      ]
     },
     "execution_count": 41,
     "metadata": {},
     "output_type": "execute_result"
    },
    {
     "data": {
      "text/plain": [
       "<matplotlib.collections.LineCollection at 0x7f21f5053d30>"
      ]
     },
     "execution_count": 41,
     "metadata": {},
     "output_type": "execute_result"
    },
    {
     "data": {
      "image/png": "[encoded data removed]",
      "text/plain": [
       "<Figure size 640x480 with 1 Axes>"
      ]
     },
     "metadata": {},
     "output_type": "display_data"
    }
   ],
   "source": [
    "import matplotlib.pyplot as plt\n",
    "TD_compare['RT_diff'].hist(bins=20)\n",
    "TD_compare['RT_diff'].describe()\n",
    "plt.vlines(x=[0, 1], ymax=10000, ymin=0, colors='r')"
   ]
  }
 ],
 "metadata": {
  "kernelspec": {
   "display_name": "py310",
   "language": "python",
   "name": "python3"
  },
  "language_info": {
   "codemirror_mode": {
    "name": "ipython",
    "version": 3
   },
   "file_extension": ".py",
   "mimetype": "text/x-python",
   "name": "python",
   "nbconvert_exporter": "python",
   "pygments_lexer": "ipython3",
   "version": "3.10.12"
  }
 },
 "nbformat": 4,
 "nbformat_minor": 2
}
